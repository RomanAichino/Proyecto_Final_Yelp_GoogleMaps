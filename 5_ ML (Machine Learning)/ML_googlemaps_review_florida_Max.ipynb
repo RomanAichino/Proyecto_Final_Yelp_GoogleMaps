{
  "nbformat": 4,
  "nbformat_minor": 0,
  "metadata": {
    "colab": {
      "provenance": []
    },
    "kernelspec": {
      "name": "python3",
      "display_name": "Python 3"
    },
    "language_info": {
      "name": "python"
    }
  },
  "cells": [
    {
      "cell_type": "markdown",
      "source": [
        "# **Análisis de Sentimiento y Modelos de Clasificación para Determinar su Generalización en Googlemaps**"
      ],
      "metadata": {
        "id": "-34FpGIUg16N"
      }
    },
    {
      "cell_type": "markdown",
      "source": [
        "# **I. Análisis de Sentimiento con VADER**"
      ],
      "metadata": {
        "id": "TkFVHiEISQi6"
      }
    },
    {
      "cell_type": "markdown",
      "source": [
        "# **I.1 Cargamos datasets y exploramos las columnas de los mismos**"
      ],
      "metadata": {
        "id": "B3XQTNdWSX23"
      }
    },
    {
      "cell_type": "code",
      "execution_count": 278,
      "metadata": {
        "id": "U7bLb-oIl7Am"
      },
      "outputs": [],
      "source": [
        "import pandas as pd\n",
        "import numpy as np\n",
        "import matplotlib.pyplot as plt\n",
        "import seaborn as sns\n",
        "\n",
        "plt.style.use('ggplot')\n",
        "\n",
        "import nltk"
      ]
    },
    {
      "cell_type": "code",
      "source": [
        "from google.colab import drive\n",
        "drive.mount('/content/drive')"
      ],
      "metadata": {
        "colab": {
          "base_uri": "https://localhost:8080/"
        },
        "id": "V1lH2coNb2D-",
        "outputId": "6fff125c-020d-4fae-9b5f-648b49e557dd"
      },
      "execution_count": 279,
      "outputs": [
        {
          "output_type": "stream",
          "name": "stdout",
          "text": [
            "Drive already mounted at /content/drive; to attempt to forcibly remount, call drive.mount(\"/content/drive\", force_remount=True).\n"
          ]
        }
      ]
    },
    {
      "cell_type": "code",
      "source": [
        "df = pd.read_csv('/content/drive/MyDrive/Otros/googlemaps_review_florida.csv', lineterminator='\\n')"
      ],
      "metadata": {
        "id": "fSKHVF2Ul_Av"
      },
      "execution_count": 280,
      "outputs": []
    },
    {
      "cell_type": "code",
      "source": [
        "df.iloc[0]"
      ],
      "metadata": {
        "colab": {
          "base_uri": "https://localhost:8080/"
        },
        "id": "KHL5lW8FmPwm",
        "outputId": "a9e2682f-af25-44a6-8cee-6f2f0b08bec9"
      },
      "execution_count": 281,
      "outputs": [
        {
          "output_type": "execute_result",
          "data": {
            "text/plain": [
              "Unnamed: 0                                                    0\n",
              "user_id                                 101471856155148713984.0\n",
              "name                                            Julie A. Gerber\n",
              "Date                                                 2021-08-03\n",
              "Hour                                            15:07:30.740000\n",
              "rating                                                        1\n",
              "text          Update: Their “reply” to my review amounted to...\n",
              "pics                                                         No\n",
              "gmap_id                   0x8893863ea87bd5dd:0x9383ebf973e74abb\n",
              "resp_text     Thank you for the feedback. We would like to w...\n",
              "resp_time                            2021-07-23 12:19:59.532000\n",
              "Name: 0, dtype: object"
            ]
          },
          "metadata": {},
          "execution_count": 281
        }
      ]
    },
    {
      "cell_type": "code",
      "source": [
        "df.shape"
      ],
      "metadata": {
        "colab": {
          "base_uri": "https://localhost:8080/"
        },
        "id": "DBq57DY8nNh3",
        "outputId": "a6f613c7-6a39-413a-9001-e6051248954e"
      },
      "execution_count": 282,
      "outputs": [
        {
          "output_type": "execute_result",
          "data": {
            "text/plain": [
              "(2730604, 11)"
            ]
          },
          "metadata": {},
          "execution_count": 282
        }
      ]
    },
    {
      "cell_type": "code",
      "source": [
        "df['text'].iloc[0]"
      ],
      "metadata": {
        "colab": {
          "base_uri": "https://localhost:8080/",
          "height": 123
        },
        "id": "vm-necqlmV9Y",
        "outputId": "33ef1cf9-e923-42a3-b230-ae322ce86581"
      },
      "execution_count": 283,
      "outputs": [
        {
          "output_type": "execute_result",
          "data": {
            "text/plain": [
              "'Update: Their “reply” to my review amounted to nothing. They never followed up with me. This doctor has left me without medication and not enough time to find a new doctor and get my prescriptions refilled because I came down with COVID. I have been abandoned with no recourse. I will be calling the state to file a complaint and will not drop this. Having to reschedule two to three appointments (appointments were not back to back as I was accused) over the course of two years (with more than twenty four hours notice) is NOT grounds to abandon your patients. I’m still fuming over the male at the front desk who laughed like a hyena when I questioned why I was being dropped. Steer clear of this place.\\n\\nUPDATE: I followed their link and submitted report. I’ll update here if anything comes from it. Forgot to mention, I was told I missed three appointments in a row by the laughing man on staff. It isn’t true. I missed one because I had been sick and needed labs done before my appointment. I had just seen the doctor and was given new meds at my previous appointment.  I had an appointment already scheduled for September and while I’m waiting on refills, they instead cancel me and remove me as a patient.\\n\\nLove the doctor but was cancelled  as a patient after calling in to reschedule three (only two with this doctor-one was with previous doctor) appointments (they were not consecutive appointments, and I always called in advance so they could fill the spot) so they have now cancelled my next appointment and refuse to fill my meds. No one notified me. So much for all my family going to one doctor. I now get to move myself, my mom, and my husband to another office. Office manager guy repeatedly  laughed at me when I called to question what happened. As a nurse, his behavior was rude and unprofessional. I loved this doctor and his nurse. It’s a shame I’m punished for doing what I thought was right….. one cancelled for being extremely sick, one because my son was in ICU, and a third because my mom had surgery and I couldn’t leave her…. But they were notified well in advance. I’m angry.'"
            ],
            "application/vnd.google.colaboratory.intrinsic+json": {
              "type": "string"
            }
          },
          "metadata": {},
          "execution_count": 283
        }
      ]
    },
    {
      "cell_type": "code",
      "source": [
        "df_b = pd.read_csv('/content/drive/MyDrive/Otros/googlemaps_metadata_sitios_florida.csv')"
      ],
      "metadata": {
        "id": "IxnAQ14bnc3_"
      },
      "execution_count": 284,
      "outputs": []
    },
    {
      "cell_type": "code",
      "source": [
        "df_b.iloc[0]"
      ],
      "metadata": {
        "colab": {
          "base_uri": "https://localhost:8080/"
        },
        "id": "S4QVQoe9nmwI",
        "outputId": "f673bd19-8ce9-4240-e33d-80d2774fc9fa"
      },
      "execution_count": 285,
      "outputs": [
        {
          "output_type": "execute_result",
          "data": {
            "text/plain": [
              "name                                              Cape Seafood Shack\n",
              "address            Cape Seafood Shack, 603 Del Prado Blvd S, Cape...\n",
              "gmap_id                        0x88db4147b1d9e6f3:0x943dbd10a92ba1b1\n",
              "description                                                      NaN\n",
              "latitude                                                   26.641377\n",
              "longitude                                                 -81.940545\n",
              "category                                                  Restaurant\n",
              "avg_rating                                                       5.0\n",
              "num_of_reviews                                                     1\n",
              "price                                                             $$\n",
              "hours                                                            NaN\n",
              "state                                                            NaN\n",
              "city                                                      Cape Coral\n",
              "states                                                            FL\n",
              "postal_code                                                  33990.0\n",
              "Service options                                    Dine-in, Delivery\n",
              "Popular for                                                      NaN\n",
              "Accessibility      Wheelchair accessible entrance, Wheelchair acc...\n",
              "Offerings                                               Comfort food\n",
              "Dining options                                         Lunch, Dinner\n",
              "Crowd                                                            NaN\n",
              "Atmosphere                                                    Casual\n",
              "Amenities                                              Good for kids\n",
              "Thursday                                                         NaN\n",
              "Friday                                                           NaN\n",
              "Saturday                                                         NaN\n",
              "Sunday                                                           NaN\n",
              "Monday                                                           NaN\n",
              "Tuesday                                                          NaN\n",
              "Wednesday                                                        NaN\n",
              "Name: 0, dtype: object"
            ]
          },
          "metadata": {},
          "execution_count": 285
        }
      ]
    },
    {
      "cell_type": "code",
      "source": [
        "df_b.shape"
      ],
      "metadata": {
        "colab": {
          "base_uri": "https://localhost:8080/"
        },
        "id": "mNXmQ1GVnu7P",
        "outputId": "fd5a0442-6fef-41db-b905-a985a959164b"
      },
      "execution_count": 286,
      "outputs": [
        {
          "output_type": "execute_result",
          "data": {
            "text/plain": [
              "(6363, 30)"
            ]
          },
          "metadata": {},
          "execution_count": 286
        }
      ]
    },
    {
      "cell_type": "code",
      "source": [
        "df_ml = df.merge(df_b, on='gmap_id')"
      ],
      "metadata": {
        "id": "PpvAaPsLn4Td"
      },
      "execution_count": 287,
      "outputs": []
    },
    {
      "cell_type": "code",
      "source": [
        "df_ml.shape"
      ],
      "metadata": {
        "colab": {
          "base_uri": "https://localhost:8080/"
        },
        "id": "Em9wYw8doFZP",
        "outputId": "6511376d-88b6-4630-dc8f-8fbbef7c2d98"
      },
      "execution_count": 288,
      "outputs": [
        {
          "output_type": "execute_result",
          "data": {
            "text/plain": [
              "(124750, 40)"
            ]
          },
          "metadata": {},
          "execution_count": 288
        }
      ]
    },
    {
      "cell_type": "code",
      "source": [
        "df_ml.dropna()\n",
        "df_ml.drop_duplicates()"
      ],
      "metadata": {
        "colab": {
          "base_uri": "https://localhost:8080/",
          "height": 1000
        },
        "id": "c-nU6pnYoJLv",
        "outputId": "6600c4eb-5372-43d2-d87a-414995f432b4"
      },
      "execution_count": 289,
      "outputs": [
        {
          "output_type": "execute_result",
          "data": {
            "text/plain": [
              "        Unnamed: 0       user_id            name_x        Date  \\\n",
              "0              514  1.130683e+20     Edwin Ashurst  2018-09-17   \n",
              "1              515  1.059416e+20   Douglas Gummere  2018-09-20   \n",
              "2              516  1.098577e+20      David Powell  2018-08-22   \n",
              "3              517  1.147377e+20  Hillary Hutchins  2019-04-17   \n",
              "4              518  1.089870e+20        Ajay patel  2019-05-20   \n",
              "...            ...           ...               ...         ...   \n",
              "124745     2833496  1.111539e+20          Monica B  2021-03-03   \n",
              "124746     2833497  1.058293e+20   Latonshia Smith  2021-03-05   \n",
              "124747     2833498  1.148710e+20    Alexander Dunn  2021-05-16   \n",
              "124748     2833499  1.154891e+20          ACT Tech  2021-05-05   \n",
              "124749     2833500  1.129407e+20    Kimberly Simon  2021-01-17   \n",
              "\n",
              "                   Hour  rating  \\\n",
              "0       14:51:08.022000       5   \n",
              "1       00:12:47.631000       1   \n",
              "2       11:13:16.392000       5   \n",
              "3       01:25:32.274000       5   \n",
              "4       22:42:50.993000       5   \n",
              "...                 ...     ...   \n",
              "124745  20:13:41.415000       3   \n",
              "124746  00:57:10.109000       5   \n",
              "124747  14:50:59.168000       5   \n",
              "124748  19:18:41.459000       5   \n",
              "124749  02:22:40.573000       5   \n",
              "\n",
              "                                                     text pics  \\\n",
              "0       The salads were lackluster though with well wr...   No   \n",
              "1       Love this place. Great little restaurant, with...   No   \n",
              "2       A classy restaurant to match the charm of the ...   No   \n",
              "3                          Great atmosphere and good food   No   \n",
              "4                                               Good food   No   \n",
              "...                                                   ...  ...   \n",
              "124745  Really good prices and variety to choose from,...   Si   \n",
              "124746  I have tried a few things and everything I got...   No   \n",
              "124747      Greatest of restaurants, good place to eat!!!   No   \n",
              "124748                      Great food, staff is amazing.   No   \n",
              "124749                             Everything was great!!   No   \n",
              "\n",
              "                                      gmap_id  \\\n",
              "0       0x8894b5a7a7909725:0xe4687299fd288188   \n",
              "1       0x8894b5a7a7909725:0xe4687299fd288188   \n",
              "2       0x8894b5a7a7909725:0xe4687299fd288188   \n",
              "3       0x8894b5a7a7909725:0xe4687299fd288188   \n",
              "4       0x8894b5a7a7909725:0xe4687299fd288188   \n",
              "...                                       ...   \n",
              "124745   0x88dd6d2bdb3f72d3:0xedb51d8cd0bb01d   \n",
              "124746   0x88dd6d2bdb3f72d3:0xedb51d8cd0bb01d   \n",
              "124747   0x88dd6d2bdb3f72d3:0xedb51d8cd0bb01d   \n",
              "124748   0x88dd6d2bdb3f72d3:0xedb51d8cd0bb01d   \n",
              "124749   0x88dd6d2bdb3f72d3:0xedb51d8cd0bb01d   \n",
              "\n",
              "                                                resp_text  ...  \\\n",
              "0                                                     NaN  ...   \n",
              "1                                                     NaN  ...   \n",
              "2                                                     NaN  ...   \n",
              "3                                                     NaN  ...   \n",
              "4                                                     NaN  ...   \n",
              "...                                                   ...  ...   \n",
              "124745  Monica B,\\nI'm glad your son enjoyed his burge...  ...   \n",
              "124746                                                NaN  ...   \n",
              "124747                                                NaN  ...   \n",
              "124748                                                NaN  ...   \n",
              "124749                                                NaN  ...   \n",
              "\n",
              "                          Crowd Atmosphere      Amenities Thursday  Friday  \\\n",
              "0                           NaN        NaN            NaN    5–9PM  5–10PM   \n",
              "1                           NaN        NaN            NaN    5–9PM  5–10PM   \n",
              "2                           NaN        NaN            NaN    5–9PM  5–10PM   \n",
              "3                           NaN        NaN            NaN    5–9PM  5–10PM   \n",
              "4                           NaN        NaN            NaN    5–9PM  5–10PM   \n",
              "...                         ...        ...            ...      ...     ...   \n",
              "124745  Family-friendly, Groups     Casual  Good for kids   12–9PM  12–9PM   \n",
              "124746  Family-friendly, Groups     Casual  Good for kids   12–9PM  12–9PM   \n",
              "124747  Family-friendly, Groups     Casual  Good for kids   12–9PM  12–9PM   \n",
              "124748  Family-friendly, Groups     Casual  Good for kids   12–9PM  12–9PM   \n",
              "124749  Family-friendly, Groups     Casual  Good for kids   12–9PM  12–9PM   \n",
              "\n",
              "        Saturday  Sunday  Monday  Tuesday Wednesday  \n",
              "0         5–10PM   5–9PM  Closed   Closed     5–9PM  \n",
              "1         5–10PM   5–9PM  Closed   Closed     5–9PM  \n",
              "2         5–10PM   5–9PM  Closed   Closed     5–9PM  \n",
              "3         5–10PM   5–9PM  Closed   Closed     5–9PM  \n",
              "4         5–10PM   5–9PM  Closed   Closed     5–9PM  \n",
              "...          ...     ...     ...      ...       ...  \n",
              "124745    12–9PM  12–9PM  Closed   12–9PM    12–9PM  \n",
              "124746    12–9PM  12–9PM  Closed   12–9PM    12–9PM  \n",
              "124747    12–9PM  12–9PM  Closed   12–9PM    12–9PM  \n",
              "124748    12–9PM  12–9PM  Closed   12–9PM    12–9PM  \n",
              "124749    12–9PM  12–9PM  Closed   12–9PM    12–9PM  \n",
              "\n",
              "[124750 rows x 40 columns]"
            ],
            "text/html": [
              "\n",
              "  <div id=\"df-15ec7049-4ce7-46be-a2f0-f32978414964\" class=\"colab-df-container\">\n",
              "    <div>\n",
              "<style scoped>\n",
              "    .dataframe tbody tr th:only-of-type {\n",
              "        vertical-align: middle;\n",
              "    }\n",
              "\n",
              "    .dataframe tbody tr th {\n",
              "        vertical-align: top;\n",
              "    }\n",
              "\n",
              "    .dataframe thead th {\n",
              "        text-align: right;\n",
              "    }\n",
              "</style>\n",
              "<table border=\"1\" class=\"dataframe\">\n",
              "  <thead>\n",
              "    <tr style=\"text-align: right;\">\n",
              "      <th></th>\n",
              "      <th>Unnamed: 0</th>\n",
              "      <th>user_id</th>\n",
              "      <th>name_x</th>\n",
              "      <th>Date</th>\n",
              "      <th>Hour</th>\n",
              "      <th>rating</th>\n",
              "      <th>text</th>\n",
              "      <th>pics</th>\n",
              "      <th>gmap_id</th>\n",
              "      <th>resp_text</th>\n",
              "      <th>...</th>\n",
              "      <th>Crowd</th>\n",
              "      <th>Atmosphere</th>\n",
              "      <th>Amenities</th>\n",
              "      <th>Thursday</th>\n",
              "      <th>Friday</th>\n",
              "      <th>Saturday</th>\n",
              "      <th>Sunday</th>\n",
              "      <th>Monday</th>\n",
              "      <th>Tuesday</th>\n",
              "      <th>Wednesday</th>\n",
              "    </tr>\n",
              "  </thead>\n",
              "  <tbody>\n",
              "    <tr>\n",
              "      <th>0</th>\n",
              "      <td>514</td>\n",
              "      <td>1.130683e+20</td>\n",
              "      <td>Edwin Ashurst</td>\n",
              "      <td>2018-09-17</td>\n",
              "      <td>14:51:08.022000</td>\n",
              "      <td>5</td>\n",
              "      <td>The salads were lackluster though with well wr...</td>\n",
              "      <td>No</td>\n",
              "      <td>0x8894b5a7a7909725:0xe4687299fd288188</td>\n",
              "      <td>NaN</td>\n",
              "      <td>...</td>\n",
              "      <td>NaN</td>\n",
              "      <td>NaN</td>\n",
              "      <td>NaN</td>\n",
              "      <td>5–9PM</td>\n",
              "      <td>5–10PM</td>\n",
              "      <td>5–10PM</td>\n",
              "      <td>5–9PM</td>\n",
              "      <td>Closed</td>\n",
              "      <td>Closed</td>\n",
              "      <td>5–9PM</td>\n",
              "    </tr>\n",
              "    <tr>\n",
              "      <th>1</th>\n",
              "      <td>515</td>\n",
              "      <td>1.059416e+20</td>\n",
              "      <td>Douglas Gummere</td>\n",
              "      <td>2018-09-20</td>\n",
              "      <td>00:12:47.631000</td>\n",
              "      <td>1</td>\n",
              "      <td>Love this place. Great little restaurant, with...</td>\n",
              "      <td>No</td>\n",
              "      <td>0x8894b5a7a7909725:0xe4687299fd288188</td>\n",
              "      <td>NaN</td>\n",
              "      <td>...</td>\n",
              "      <td>NaN</td>\n",
              "      <td>NaN</td>\n",
              "      <td>NaN</td>\n",
              "      <td>5–9PM</td>\n",
              "      <td>5–10PM</td>\n",
              "      <td>5–10PM</td>\n",
              "      <td>5–9PM</td>\n",
              "      <td>Closed</td>\n",
              "      <td>Closed</td>\n",
              "      <td>5–9PM</td>\n",
              "    </tr>\n",
              "    <tr>\n",
              "      <th>2</th>\n",
              "      <td>516</td>\n",
              "      <td>1.098577e+20</td>\n",
              "      <td>David Powell</td>\n",
              "      <td>2018-08-22</td>\n",
              "      <td>11:13:16.392000</td>\n",
              "      <td>5</td>\n",
              "      <td>A classy restaurant to match the charm of the ...</td>\n",
              "      <td>No</td>\n",
              "      <td>0x8894b5a7a7909725:0xe4687299fd288188</td>\n",
              "      <td>NaN</td>\n",
              "      <td>...</td>\n",
              "      <td>NaN</td>\n",
              "      <td>NaN</td>\n",
              "      <td>NaN</td>\n",
              "      <td>5–9PM</td>\n",
              "      <td>5–10PM</td>\n",
              "      <td>5–10PM</td>\n",
              "      <td>5–9PM</td>\n",
              "      <td>Closed</td>\n",
              "      <td>Closed</td>\n",
              "      <td>5–9PM</td>\n",
              "    </tr>\n",
              "    <tr>\n",
              "      <th>3</th>\n",
              "      <td>517</td>\n",
              "      <td>1.147377e+20</td>\n",
              "      <td>Hillary Hutchins</td>\n",
              "      <td>2019-04-17</td>\n",
              "      <td>01:25:32.274000</td>\n",
              "      <td>5</td>\n",
              "      <td>Great atmosphere and good food</td>\n",
              "      <td>No</td>\n",
              "      <td>0x8894b5a7a7909725:0xe4687299fd288188</td>\n",
              "      <td>NaN</td>\n",
              "      <td>...</td>\n",
              "      <td>NaN</td>\n",
              "      <td>NaN</td>\n",
              "      <td>NaN</td>\n",
              "      <td>5–9PM</td>\n",
              "      <td>5–10PM</td>\n",
              "      <td>5–10PM</td>\n",
              "      <td>5–9PM</td>\n",
              "      <td>Closed</td>\n",
              "      <td>Closed</td>\n",
              "      <td>5–9PM</td>\n",
              "    </tr>\n",
              "    <tr>\n",
              "      <th>4</th>\n",
              "      <td>518</td>\n",
              "      <td>1.089870e+20</td>\n",
              "      <td>Ajay patel</td>\n",
              "      <td>2019-05-20</td>\n",
              "      <td>22:42:50.993000</td>\n",
              "      <td>5</td>\n",
              "      <td>Good food</td>\n",
              "      <td>No</td>\n",
              "      <td>0x8894b5a7a7909725:0xe4687299fd288188</td>\n",
              "      <td>NaN</td>\n",
              "      <td>...</td>\n",
              "      <td>NaN</td>\n",
              "      <td>NaN</td>\n",
              "      <td>NaN</td>\n",
              "      <td>5–9PM</td>\n",
              "      <td>5–10PM</td>\n",
              "      <td>5–10PM</td>\n",
              "      <td>5–9PM</td>\n",
              "      <td>Closed</td>\n",
              "      <td>Closed</td>\n",
              "      <td>5–9PM</td>\n",
              "    </tr>\n",
              "    <tr>\n",
              "      <th>...</th>\n",
              "      <td>...</td>\n",
              "      <td>...</td>\n",
              "      <td>...</td>\n",
              "      <td>...</td>\n",
              "      <td>...</td>\n",
              "      <td>...</td>\n",
              "      <td>...</td>\n",
              "      <td>...</td>\n",
              "      <td>...</td>\n",
              "      <td>...</td>\n",
              "      <td>...</td>\n",
              "      <td>...</td>\n",
              "      <td>...</td>\n",
              "      <td>...</td>\n",
              "      <td>...</td>\n",
              "      <td>...</td>\n",
              "      <td>...</td>\n",
              "      <td>...</td>\n",
              "      <td>...</td>\n",
              "      <td>...</td>\n",
              "      <td>...</td>\n",
              "    </tr>\n",
              "    <tr>\n",
              "      <th>124745</th>\n",
              "      <td>2833496</td>\n",
              "      <td>1.111539e+20</td>\n",
              "      <td>Monica B</td>\n",
              "      <td>2021-03-03</td>\n",
              "      <td>20:13:41.415000</td>\n",
              "      <td>3</td>\n",
              "      <td>Really good prices and variety to choose from,...</td>\n",
              "      <td>Si</td>\n",
              "      <td>0x88dd6d2bdb3f72d3:0xedb51d8cd0bb01d</td>\n",
              "      <td>Monica B,\\nI'm glad your son enjoyed his burge...</td>\n",
              "      <td>...</td>\n",
              "      <td>Family-friendly, Groups</td>\n",
              "      <td>Casual</td>\n",
              "      <td>Good for kids</td>\n",
              "      <td>12–9PM</td>\n",
              "      <td>12–9PM</td>\n",
              "      <td>12–9PM</td>\n",
              "      <td>12–9PM</td>\n",
              "      <td>Closed</td>\n",
              "      <td>12–9PM</td>\n",
              "      <td>12–9PM</td>\n",
              "    </tr>\n",
              "    <tr>\n",
              "      <th>124746</th>\n",
              "      <td>2833497</td>\n",
              "      <td>1.058293e+20</td>\n",
              "      <td>Latonshia Smith</td>\n",
              "      <td>2021-03-05</td>\n",
              "      <td>00:57:10.109000</td>\n",
              "      <td>5</td>\n",
              "      <td>I have tried a few things and everything I got...</td>\n",
              "      <td>No</td>\n",
              "      <td>0x88dd6d2bdb3f72d3:0xedb51d8cd0bb01d</td>\n",
              "      <td>NaN</td>\n",
              "      <td>...</td>\n",
              "      <td>Family-friendly, Groups</td>\n",
              "      <td>Casual</td>\n",
              "      <td>Good for kids</td>\n",
              "      <td>12–9PM</td>\n",
              "      <td>12–9PM</td>\n",
              "      <td>12–9PM</td>\n",
              "      <td>12–9PM</td>\n",
              "      <td>Closed</td>\n",
              "      <td>12–9PM</td>\n",
              "      <td>12–9PM</td>\n",
              "    </tr>\n",
              "    <tr>\n",
              "      <th>124747</th>\n",
              "      <td>2833498</td>\n",
              "      <td>1.148710e+20</td>\n",
              "      <td>Alexander Dunn</td>\n",
              "      <td>2021-05-16</td>\n",
              "      <td>14:50:59.168000</td>\n",
              "      <td>5</td>\n",
              "      <td>Greatest of restaurants, good place to eat!!!</td>\n",
              "      <td>No</td>\n",
              "      <td>0x88dd6d2bdb3f72d3:0xedb51d8cd0bb01d</td>\n",
              "      <td>NaN</td>\n",
              "      <td>...</td>\n",
              "      <td>Family-friendly, Groups</td>\n",
              "      <td>Casual</td>\n",
              "      <td>Good for kids</td>\n",
              "      <td>12–9PM</td>\n",
              "      <td>12–9PM</td>\n",
              "      <td>12–9PM</td>\n",
              "      <td>12–9PM</td>\n",
              "      <td>Closed</td>\n",
              "      <td>12–9PM</td>\n",
              "      <td>12–9PM</td>\n",
              "    </tr>\n",
              "    <tr>\n",
              "      <th>124748</th>\n",
              "      <td>2833499</td>\n",
              "      <td>1.154891e+20</td>\n",
              "      <td>ACT Tech</td>\n",
              "      <td>2021-05-05</td>\n",
              "      <td>19:18:41.459000</td>\n",
              "      <td>5</td>\n",
              "      <td>Great food, staff is amazing.</td>\n",
              "      <td>No</td>\n",
              "      <td>0x88dd6d2bdb3f72d3:0xedb51d8cd0bb01d</td>\n",
              "      <td>NaN</td>\n",
              "      <td>...</td>\n",
              "      <td>Family-friendly, Groups</td>\n",
              "      <td>Casual</td>\n",
              "      <td>Good for kids</td>\n",
              "      <td>12–9PM</td>\n",
              "      <td>12–9PM</td>\n",
              "      <td>12–9PM</td>\n",
              "      <td>12–9PM</td>\n",
              "      <td>Closed</td>\n",
              "      <td>12–9PM</td>\n",
              "      <td>12–9PM</td>\n",
              "    </tr>\n",
              "    <tr>\n",
              "      <th>124749</th>\n",
              "      <td>2833500</td>\n",
              "      <td>1.129407e+20</td>\n",
              "      <td>Kimberly Simon</td>\n",
              "      <td>2021-01-17</td>\n",
              "      <td>02:22:40.573000</td>\n",
              "      <td>5</td>\n",
              "      <td>Everything was great!!</td>\n",
              "      <td>No</td>\n",
              "      <td>0x88dd6d2bdb3f72d3:0xedb51d8cd0bb01d</td>\n",
              "      <td>NaN</td>\n",
              "      <td>...</td>\n",
              "      <td>Family-friendly, Groups</td>\n",
              "      <td>Casual</td>\n",
              "      <td>Good for kids</td>\n",
              "      <td>12–9PM</td>\n",
              "      <td>12–9PM</td>\n",
              "      <td>12–9PM</td>\n",
              "      <td>12–9PM</td>\n",
              "      <td>Closed</td>\n",
              "      <td>12–9PM</td>\n",
              "      <td>12–9PM</td>\n",
              "    </tr>\n",
              "  </tbody>\n",
              "</table>\n",
              "<p>124750 rows × 40 columns</p>\n",
              "</div>\n",
              "    <div class=\"colab-df-buttons\">\n",
              "\n",
              "  <div class=\"colab-df-container\">\n",
              "    <button class=\"colab-df-convert\" onclick=\"convertToInteractive('df-15ec7049-4ce7-46be-a2f0-f32978414964')\"\n",
              "            title=\"Convert this dataframe to an interactive table.\"\n",
              "            style=\"display:none;\">\n",
              "\n",
              "  <svg xmlns=\"http://www.w3.org/2000/svg\" height=\"24px\" viewBox=\"0 -960 960 960\">\n",
              "    <path d=\"M120-120v-720h720v720H120Zm60-500h600v-160H180v160Zm220 220h160v-160H400v160Zm0 220h160v-160H400v160ZM180-400h160v-160H180v160Zm440 0h160v-160H620v160ZM180-180h160v-160H180v160Zm440 0h160v-160H620v160Z\"/>\n",
              "  </svg>\n",
              "    </button>\n",
              "\n",
              "  <style>\n",
              "    .colab-df-container {\n",
              "      display:flex;\n",
              "      gap: 12px;\n",
              "    }\n",
              "\n",
              "    .colab-df-convert {\n",
              "      background-color: #E8F0FE;\n",
              "      border: none;\n",
              "      border-radius: 50%;\n",
              "      cursor: pointer;\n",
              "      display: none;\n",
              "      fill: #1967D2;\n",
              "      height: 32px;\n",
              "      padding: 0 0 0 0;\n",
              "      width: 32px;\n",
              "    }\n",
              "\n",
              "    .colab-df-convert:hover {\n",
              "      background-color: #E2EBFA;\n",
              "      box-shadow: 0px 1px 2px rgba(60, 64, 67, 0.3), 0px 1px 3px 1px rgba(60, 64, 67, 0.15);\n",
              "      fill: #174EA6;\n",
              "    }\n",
              "\n",
              "    .colab-df-buttons div {\n",
              "      margin-bottom: 4px;\n",
              "    }\n",
              "\n",
              "    [theme=dark] .colab-df-convert {\n",
              "      background-color: #3B4455;\n",
              "      fill: #D2E3FC;\n",
              "    }\n",
              "\n",
              "    [theme=dark] .colab-df-convert:hover {\n",
              "      background-color: #434B5C;\n",
              "      box-shadow: 0px 1px 3px 1px rgba(0, 0, 0, 0.15);\n",
              "      filter: drop-shadow(0px 1px 2px rgba(0, 0, 0, 0.3));\n",
              "      fill: #FFFFFF;\n",
              "    }\n",
              "  </style>\n",
              "\n",
              "    <script>\n",
              "      const buttonEl =\n",
              "        document.querySelector('#df-15ec7049-4ce7-46be-a2f0-f32978414964 button.colab-df-convert');\n",
              "      buttonEl.style.display =\n",
              "        google.colab.kernel.accessAllowed ? 'block' : 'none';\n",
              "\n",
              "      async function convertToInteractive(key) {\n",
              "        const element = document.querySelector('#df-15ec7049-4ce7-46be-a2f0-f32978414964');\n",
              "        const dataTable =\n",
              "          await google.colab.kernel.invokeFunction('convertToInteractive',\n",
              "                                                    [key], {});\n",
              "        if (!dataTable) return;\n",
              "\n",
              "        const docLinkHtml = 'Like what you see? Visit the ' +\n",
              "          '<a target=\"_blank\" href=https://colab.research.google.com/notebooks/data_table.ipynb>data table notebook</a>'\n",
              "          + ' to learn more about interactive tables.';\n",
              "        element.innerHTML = '';\n",
              "        dataTable['output_type'] = 'display_data';\n",
              "        await google.colab.output.renderOutput(dataTable, element);\n",
              "        const docLink = document.createElement('div');\n",
              "        docLink.innerHTML = docLinkHtml;\n",
              "        element.appendChild(docLink);\n",
              "      }\n",
              "    </script>\n",
              "  </div>\n",
              "\n",
              "\n",
              "<div id=\"df-3948b15b-8a08-4530-be7a-a7825a11cf1b\">\n",
              "  <button class=\"colab-df-quickchart\" onclick=\"quickchart('df-3948b15b-8a08-4530-be7a-a7825a11cf1b')\"\n",
              "            title=\"Suggest charts.\"\n",
              "            style=\"display:none;\">\n",
              "\n",
              "<svg xmlns=\"http://www.w3.org/2000/svg\" height=\"24px\"viewBox=\"0 0 24 24\"\n",
              "     width=\"24px\">\n",
              "    <g>\n",
              "        <path d=\"M19 3H5c-1.1 0-2 .9-2 2v14c0 1.1.9 2 2 2h14c1.1 0 2-.9 2-2V5c0-1.1-.9-2-2-2zM9 17H7v-7h2v7zm4 0h-2V7h2v10zm4 0h-2v-4h2v4z\"/>\n",
              "    </g>\n",
              "</svg>\n",
              "  </button>\n",
              "\n",
              "<style>\n",
              "  .colab-df-quickchart {\n",
              "      --bg-color: #E8F0FE;\n",
              "      --fill-color: #1967D2;\n",
              "      --hover-bg-color: #E2EBFA;\n",
              "      --hover-fill-color: #174EA6;\n",
              "      --disabled-fill-color: #AAA;\n",
              "      --disabled-bg-color: #DDD;\n",
              "  }\n",
              "\n",
              "  [theme=dark] .colab-df-quickchart {\n",
              "      --bg-color: #3B4455;\n",
              "      --fill-color: #D2E3FC;\n",
              "      --hover-bg-color: #434B5C;\n",
              "      --hover-fill-color: #FFFFFF;\n",
              "      --disabled-bg-color: #3B4455;\n",
              "      --disabled-fill-color: #666;\n",
              "  }\n",
              "\n",
              "  .colab-df-quickchart {\n",
              "    background-color: var(--bg-color);\n",
              "    border: none;\n",
              "    border-radius: 50%;\n",
              "    cursor: pointer;\n",
              "    display: none;\n",
              "    fill: var(--fill-color);\n",
              "    height: 32px;\n",
              "    padding: 0;\n",
              "    width: 32px;\n",
              "  }\n",
              "\n",
              "  .colab-df-quickchart:hover {\n",
              "    background-color: var(--hover-bg-color);\n",
              "    box-shadow: 0 1px 2px rgba(60, 64, 67, 0.3), 0 1px 3px 1px rgba(60, 64, 67, 0.15);\n",
              "    fill: var(--button-hover-fill-color);\n",
              "  }\n",
              "\n",
              "  .colab-df-quickchart-complete:disabled,\n",
              "  .colab-df-quickchart-complete:disabled:hover {\n",
              "    background-color: var(--disabled-bg-color);\n",
              "    fill: var(--disabled-fill-color);\n",
              "    box-shadow: none;\n",
              "  }\n",
              "\n",
              "  .colab-df-spinner {\n",
              "    border: 2px solid var(--fill-color);\n",
              "    border-color: transparent;\n",
              "    border-bottom-color: var(--fill-color);\n",
              "    animation:\n",
              "      spin 1s steps(1) infinite;\n",
              "  }\n",
              "\n",
              "  @keyframes spin {\n",
              "    0% {\n",
              "      border-color: transparent;\n",
              "      border-bottom-color: var(--fill-color);\n",
              "      border-left-color: var(--fill-color);\n",
              "    }\n",
              "    20% {\n",
              "      border-color: transparent;\n",
              "      border-left-color: var(--fill-color);\n",
              "      border-top-color: var(--fill-color);\n",
              "    }\n",
              "    30% {\n",
              "      border-color: transparent;\n",
              "      border-left-color: var(--fill-color);\n",
              "      border-top-color: var(--fill-color);\n",
              "      border-right-color: var(--fill-color);\n",
              "    }\n",
              "    40% {\n",
              "      border-color: transparent;\n",
              "      border-right-color: var(--fill-color);\n",
              "      border-top-color: var(--fill-color);\n",
              "    }\n",
              "    60% {\n",
              "      border-color: transparent;\n",
              "      border-right-color: var(--fill-color);\n",
              "    }\n",
              "    80% {\n",
              "      border-color: transparent;\n",
              "      border-right-color: var(--fill-color);\n",
              "      border-bottom-color: var(--fill-color);\n",
              "    }\n",
              "    90% {\n",
              "      border-color: transparent;\n",
              "      border-bottom-color: var(--fill-color);\n",
              "    }\n",
              "  }\n",
              "</style>\n",
              "\n",
              "  <script>\n",
              "    async function quickchart(key) {\n",
              "      const quickchartButtonEl =\n",
              "        document.querySelector('#' + key + ' button');\n",
              "      quickchartButtonEl.disabled = true;  // To prevent multiple clicks.\n",
              "      quickchartButtonEl.classList.add('colab-df-spinner');\n",
              "      try {\n",
              "        const charts = await google.colab.kernel.invokeFunction(\n",
              "            'suggestCharts', [key], {});\n",
              "      } catch (error) {\n",
              "        console.error('Error during call to suggestCharts:', error);\n",
              "      }\n",
              "      quickchartButtonEl.classList.remove('colab-df-spinner');\n",
              "      quickchartButtonEl.classList.add('colab-df-quickchart-complete');\n",
              "    }\n",
              "    (() => {\n",
              "      let quickchartButtonEl =\n",
              "        document.querySelector('#df-3948b15b-8a08-4530-be7a-a7825a11cf1b button');\n",
              "      quickchartButtonEl.style.display =\n",
              "        google.colab.kernel.accessAllowed ? 'block' : 'none';\n",
              "    })();\n",
              "  </script>\n",
              "</div>\n",
              "    </div>\n",
              "  </div>\n"
            ]
          },
          "metadata": {},
          "execution_count": 289
        }
      ]
    },
    {
      "cell_type": "code",
      "source": [
        "df_ml.iloc[0]"
      ],
      "metadata": {
        "colab": {
          "base_uri": "https://localhost:8080/"
        },
        "id": "it0krzGooZ-4",
        "outputId": "5d8d275d-f7bf-43e1-c761-a4cdc918bd97"
      },
      "execution_count": 290,
      "outputs": [
        {
          "output_type": "execute_result",
          "data": {
            "text/plain": [
              "Unnamed: 0                                                       514\n",
              "user_id                                      113068308323231432704.0\n",
              "name_x                                                 Edwin Ashurst\n",
              "Date                                                      2018-09-17\n",
              "Hour                                                 14:51:08.022000\n",
              "rating                                                             5\n",
              "text               The salads were lackluster though with well wr...\n",
              "pics                                                              No\n",
              "gmap_id                        0x8894b5a7a7909725:0xe4687299fd288188\n",
              "resp_text                                                        NaN\n",
              "resp_time                                                        NaN\n",
              "name_y             Gormley's on the river | Modern cuisine in his...\n",
              "address            Gormley's on the river | Modern cuisine in his...\n",
              "description                                                      NaN\n",
              "latitude                                                   29.726949\n",
              "longitude                                                 -84.981535\n",
              "category                        Modern French restaurant, Restaurant\n",
              "avg_rating                                                       4.3\n",
              "num_of_reviews                                                    17\n",
              "price                                                            NaN\n",
              "hours              {'Thursday': '5–9PM', 'Friday': '5–10PM', 'Sat...\n",
              "state                                             Permanently closed\n",
              "city                                                    Apalachicola\n",
              "states                                                            FL\n",
              "postal_code                                                  32320.0\n",
              "Service options                                             Delivery\n",
              "Popular for                                                      NaN\n",
              "Accessibility                                                    NaN\n",
              "Offerings                                                        NaN\n",
              "Dining options                                                   NaN\n",
              "Crowd                                                            NaN\n",
              "Atmosphere                                                       NaN\n",
              "Amenities                                                        NaN\n",
              "Thursday                                                       5–9PM\n",
              "Friday                                                        5–10PM\n",
              "Saturday                                                      5–10PM\n",
              "Sunday                                                         5–9PM\n",
              "Monday                                                        Closed\n",
              "Tuesday                                                       Closed\n",
              "Wednesday                                                      5–9PM\n",
              "Name: 0, dtype: object"
            ]
          },
          "metadata": {},
          "execution_count": 290
        }
      ]
    },
    {
      "cell_type": "code",
      "source": [
        "df_ml.columns"
      ],
      "metadata": {
        "colab": {
          "base_uri": "https://localhost:8080/"
        },
        "id": "l2FGhPjbgen7",
        "outputId": "82deb878-9ee7-4459-889c-69574fe2a083"
      },
      "execution_count": 291,
      "outputs": [
        {
          "output_type": "execute_result",
          "data": {
            "text/plain": [
              "Index(['Unnamed: 0', 'user_id', 'name_x', 'Date', 'Hour', 'rating', 'text',\n",
              "       'pics', 'gmap_id', 'resp_text', 'resp_time', 'name_y', 'address',\n",
              "       'description', 'latitude', 'longitude', 'category', 'avg_rating',\n",
              "       'num_of_reviews', 'price', 'hours', 'state', 'city', 'states',\n",
              "       'postal_code', 'Service options', 'Popular for', 'Accessibility',\n",
              "       'Offerings', 'Dining options', 'Crowd', 'Atmosphere', 'Amenities',\n",
              "       'Thursday', 'Friday', 'Saturday', 'Sunday', 'Monday', 'Tuesday',\n",
              "       'Wednesday'],\n",
              "      dtype='object')"
            ]
          },
          "metadata": {},
          "execution_count": 291
        }
      ]
    },
    {
      "cell_type": "code",
      "source": [
        "df_ml = df_ml[['gmap_id','rating','city', 'states','text']]\n",
        "df_ml"
      ],
      "metadata": {
        "id": "wxeYft87ohOG",
        "colab": {
          "base_uri": "https://localhost:8080/",
          "height": 423
        },
        "outputId": "312206e9-d740-4c9b-b0f9-11a3424d2044"
      },
      "execution_count": 292,
      "outputs": [
        {
          "output_type": "execute_result",
          "data": {
            "text/plain": [
              "                                      gmap_id  rating          city states  \\\n",
              "0       0x8894b5a7a7909725:0xe4687299fd288188       5  Apalachicola     FL   \n",
              "1       0x8894b5a7a7909725:0xe4687299fd288188       1  Apalachicola     FL   \n",
              "2       0x8894b5a7a7909725:0xe4687299fd288188       5  Apalachicola     FL   \n",
              "3       0x8894b5a7a7909725:0xe4687299fd288188       5  Apalachicola     FL   \n",
              "4       0x8894b5a7a7909725:0xe4687299fd288188       5  Apalachicola     FL   \n",
              "...                                       ...     ...           ...    ...   \n",
              "124745   0x88dd6d2bdb3f72d3:0xedb51d8cd0bb01d       3   Lake Alfred     FL   \n",
              "124746   0x88dd6d2bdb3f72d3:0xedb51d8cd0bb01d       5   Lake Alfred     FL   \n",
              "124747   0x88dd6d2bdb3f72d3:0xedb51d8cd0bb01d       5   Lake Alfred     FL   \n",
              "124748   0x88dd6d2bdb3f72d3:0xedb51d8cd0bb01d       5   Lake Alfred     FL   \n",
              "124749   0x88dd6d2bdb3f72d3:0xedb51d8cd0bb01d       5   Lake Alfred     FL   \n",
              "\n",
              "                                                     text  \n",
              "0       The salads were lackluster though with well wr...  \n",
              "1       Love this place. Great little restaurant, with...  \n",
              "2       A classy restaurant to match the charm of the ...  \n",
              "3                          Great atmosphere and good food  \n",
              "4                                               Good food  \n",
              "...                                                   ...  \n",
              "124745  Really good prices and variety to choose from,...  \n",
              "124746  I have tried a few things and everything I got...  \n",
              "124747      Greatest of restaurants, good place to eat!!!  \n",
              "124748                      Great food, staff is amazing.  \n",
              "124749                             Everything was great!!  \n",
              "\n",
              "[124750 rows x 5 columns]"
            ],
            "text/html": [
              "\n",
              "  <div id=\"df-4c420c14-a0eb-4676-8181-31b43ddf6fdb\" class=\"colab-df-container\">\n",
              "    <div>\n",
              "<style scoped>\n",
              "    .dataframe tbody tr th:only-of-type {\n",
              "        vertical-align: middle;\n",
              "    }\n",
              "\n",
              "    .dataframe tbody tr th {\n",
              "        vertical-align: top;\n",
              "    }\n",
              "\n",
              "    .dataframe thead th {\n",
              "        text-align: right;\n",
              "    }\n",
              "</style>\n",
              "<table border=\"1\" class=\"dataframe\">\n",
              "  <thead>\n",
              "    <tr style=\"text-align: right;\">\n",
              "      <th></th>\n",
              "      <th>gmap_id</th>\n",
              "      <th>rating</th>\n",
              "      <th>city</th>\n",
              "      <th>states</th>\n",
              "      <th>text</th>\n",
              "    </tr>\n",
              "  </thead>\n",
              "  <tbody>\n",
              "    <tr>\n",
              "      <th>0</th>\n",
              "      <td>0x8894b5a7a7909725:0xe4687299fd288188</td>\n",
              "      <td>5</td>\n",
              "      <td>Apalachicola</td>\n",
              "      <td>FL</td>\n",
              "      <td>The salads were lackluster though with well wr...</td>\n",
              "    </tr>\n",
              "    <tr>\n",
              "      <th>1</th>\n",
              "      <td>0x8894b5a7a7909725:0xe4687299fd288188</td>\n",
              "      <td>1</td>\n",
              "      <td>Apalachicola</td>\n",
              "      <td>FL</td>\n",
              "      <td>Love this place. Great little restaurant, with...</td>\n",
              "    </tr>\n",
              "    <tr>\n",
              "      <th>2</th>\n",
              "      <td>0x8894b5a7a7909725:0xe4687299fd288188</td>\n",
              "      <td>5</td>\n",
              "      <td>Apalachicola</td>\n",
              "      <td>FL</td>\n",
              "      <td>A classy restaurant to match the charm of the ...</td>\n",
              "    </tr>\n",
              "    <tr>\n",
              "      <th>3</th>\n",
              "      <td>0x8894b5a7a7909725:0xe4687299fd288188</td>\n",
              "      <td>5</td>\n",
              "      <td>Apalachicola</td>\n",
              "      <td>FL</td>\n",
              "      <td>Great atmosphere and good food</td>\n",
              "    </tr>\n",
              "    <tr>\n",
              "      <th>4</th>\n",
              "      <td>0x8894b5a7a7909725:0xe4687299fd288188</td>\n",
              "      <td>5</td>\n",
              "      <td>Apalachicola</td>\n",
              "      <td>FL</td>\n",
              "      <td>Good food</td>\n",
              "    </tr>\n",
              "    <tr>\n",
              "      <th>...</th>\n",
              "      <td>...</td>\n",
              "      <td>...</td>\n",
              "      <td>...</td>\n",
              "      <td>...</td>\n",
              "      <td>...</td>\n",
              "    </tr>\n",
              "    <tr>\n",
              "      <th>124745</th>\n",
              "      <td>0x88dd6d2bdb3f72d3:0xedb51d8cd0bb01d</td>\n",
              "      <td>3</td>\n",
              "      <td>Lake Alfred</td>\n",
              "      <td>FL</td>\n",
              "      <td>Really good prices and variety to choose from,...</td>\n",
              "    </tr>\n",
              "    <tr>\n",
              "      <th>124746</th>\n",
              "      <td>0x88dd6d2bdb3f72d3:0xedb51d8cd0bb01d</td>\n",
              "      <td>5</td>\n",
              "      <td>Lake Alfred</td>\n",
              "      <td>FL</td>\n",
              "      <td>I have tried a few things and everything I got...</td>\n",
              "    </tr>\n",
              "    <tr>\n",
              "      <th>124747</th>\n",
              "      <td>0x88dd6d2bdb3f72d3:0xedb51d8cd0bb01d</td>\n",
              "      <td>5</td>\n",
              "      <td>Lake Alfred</td>\n",
              "      <td>FL</td>\n",
              "      <td>Greatest of restaurants, good place to eat!!!</td>\n",
              "    </tr>\n",
              "    <tr>\n",
              "      <th>124748</th>\n",
              "      <td>0x88dd6d2bdb3f72d3:0xedb51d8cd0bb01d</td>\n",
              "      <td>5</td>\n",
              "      <td>Lake Alfred</td>\n",
              "      <td>FL</td>\n",
              "      <td>Great food, staff is amazing.</td>\n",
              "    </tr>\n",
              "    <tr>\n",
              "      <th>124749</th>\n",
              "      <td>0x88dd6d2bdb3f72d3:0xedb51d8cd0bb01d</td>\n",
              "      <td>5</td>\n",
              "      <td>Lake Alfred</td>\n",
              "      <td>FL</td>\n",
              "      <td>Everything was great!!</td>\n",
              "    </tr>\n",
              "  </tbody>\n",
              "</table>\n",
              "<p>124750 rows × 5 columns</p>\n",
              "</div>\n",
              "    <div class=\"colab-df-buttons\">\n",
              "\n",
              "  <div class=\"colab-df-container\">\n",
              "    <button class=\"colab-df-convert\" onclick=\"convertToInteractive('df-4c420c14-a0eb-4676-8181-31b43ddf6fdb')\"\n",
              "            title=\"Convert this dataframe to an interactive table.\"\n",
              "            style=\"display:none;\">\n",
              "\n",
              "  <svg xmlns=\"http://www.w3.org/2000/svg\" height=\"24px\" viewBox=\"0 -960 960 960\">\n",
              "    <path d=\"M120-120v-720h720v720H120Zm60-500h600v-160H180v160Zm220 220h160v-160H400v160Zm0 220h160v-160H400v160ZM180-400h160v-160H180v160Zm440 0h160v-160H620v160ZM180-180h160v-160H180v160Zm440 0h160v-160H620v160Z\"/>\n",
              "  </svg>\n",
              "    </button>\n",
              "\n",
              "  <style>\n",
              "    .colab-df-container {\n",
              "      display:flex;\n",
              "      gap: 12px;\n",
              "    }\n",
              "\n",
              "    .colab-df-convert {\n",
              "      background-color: #E8F0FE;\n",
              "      border: none;\n",
              "      border-radius: 50%;\n",
              "      cursor: pointer;\n",
              "      display: none;\n",
              "      fill: #1967D2;\n",
              "      height: 32px;\n",
              "      padding: 0 0 0 0;\n",
              "      width: 32px;\n",
              "    }\n",
              "\n",
              "    .colab-df-convert:hover {\n",
              "      background-color: #E2EBFA;\n",
              "      box-shadow: 0px 1px 2px rgba(60, 64, 67, 0.3), 0px 1px 3px 1px rgba(60, 64, 67, 0.15);\n",
              "      fill: #174EA6;\n",
              "    }\n",
              "\n",
              "    .colab-df-buttons div {\n",
              "      margin-bottom: 4px;\n",
              "    }\n",
              "\n",
              "    [theme=dark] .colab-df-convert {\n",
              "      background-color: #3B4455;\n",
              "      fill: #D2E3FC;\n",
              "    }\n",
              "\n",
              "    [theme=dark] .colab-df-convert:hover {\n",
              "      background-color: #434B5C;\n",
              "      box-shadow: 0px 1px 3px 1px rgba(0, 0, 0, 0.15);\n",
              "      filter: drop-shadow(0px 1px 2px rgba(0, 0, 0, 0.3));\n",
              "      fill: #FFFFFF;\n",
              "    }\n",
              "  </style>\n",
              "\n",
              "    <script>\n",
              "      const buttonEl =\n",
              "        document.querySelector('#df-4c420c14-a0eb-4676-8181-31b43ddf6fdb button.colab-df-convert');\n",
              "      buttonEl.style.display =\n",
              "        google.colab.kernel.accessAllowed ? 'block' : 'none';\n",
              "\n",
              "      async function convertToInteractive(key) {\n",
              "        const element = document.querySelector('#df-4c420c14-a0eb-4676-8181-31b43ddf6fdb');\n",
              "        const dataTable =\n",
              "          await google.colab.kernel.invokeFunction('convertToInteractive',\n",
              "                                                    [key], {});\n",
              "        if (!dataTable) return;\n",
              "\n",
              "        const docLinkHtml = 'Like what you see? Visit the ' +\n",
              "          '<a target=\"_blank\" href=https://colab.research.google.com/notebooks/data_table.ipynb>data table notebook</a>'\n",
              "          + ' to learn more about interactive tables.';\n",
              "        element.innerHTML = '';\n",
              "        dataTable['output_type'] = 'display_data';\n",
              "        await google.colab.output.renderOutput(dataTable, element);\n",
              "        const docLink = document.createElement('div');\n",
              "        docLink.innerHTML = docLinkHtml;\n",
              "        element.appendChild(docLink);\n",
              "      }\n",
              "    </script>\n",
              "  </div>\n",
              "\n",
              "\n",
              "<div id=\"df-cc852dfb-9e77-49a7-9b7b-a52c9826bd3d\">\n",
              "  <button class=\"colab-df-quickchart\" onclick=\"quickchart('df-cc852dfb-9e77-49a7-9b7b-a52c9826bd3d')\"\n",
              "            title=\"Suggest charts.\"\n",
              "            style=\"display:none;\">\n",
              "\n",
              "<svg xmlns=\"http://www.w3.org/2000/svg\" height=\"24px\"viewBox=\"0 0 24 24\"\n",
              "     width=\"24px\">\n",
              "    <g>\n",
              "        <path d=\"M19 3H5c-1.1 0-2 .9-2 2v14c0 1.1.9 2 2 2h14c1.1 0 2-.9 2-2V5c0-1.1-.9-2-2-2zM9 17H7v-7h2v7zm4 0h-2V7h2v10zm4 0h-2v-4h2v4z\"/>\n",
              "    </g>\n",
              "</svg>\n",
              "  </button>\n",
              "\n",
              "<style>\n",
              "  .colab-df-quickchart {\n",
              "      --bg-color: #E8F0FE;\n",
              "      --fill-color: #1967D2;\n",
              "      --hover-bg-color: #E2EBFA;\n",
              "      --hover-fill-color: #174EA6;\n",
              "      --disabled-fill-color: #AAA;\n",
              "      --disabled-bg-color: #DDD;\n",
              "  }\n",
              "\n",
              "  [theme=dark] .colab-df-quickchart {\n",
              "      --bg-color: #3B4455;\n",
              "      --fill-color: #D2E3FC;\n",
              "      --hover-bg-color: #434B5C;\n",
              "      --hover-fill-color: #FFFFFF;\n",
              "      --disabled-bg-color: #3B4455;\n",
              "      --disabled-fill-color: #666;\n",
              "  }\n",
              "\n",
              "  .colab-df-quickchart {\n",
              "    background-color: var(--bg-color);\n",
              "    border: none;\n",
              "    border-radius: 50%;\n",
              "    cursor: pointer;\n",
              "    display: none;\n",
              "    fill: var(--fill-color);\n",
              "    height: 32px;\n",
              "    padding: 0;\n",
              "    width: 32px;\n",
              "  }\n",
              "\n",
              "  .colab-df-quickchart:hover {\n",
              "    background-color: var(--hover-bg-color);\n",
              "    box-shadow: 0 1px 2px rgba(60, 64, 67, 0.3), 0 1px 3px 1px rgba(60, 64, 67, 0.15);\n",
              "    fill: var(--button-hover-fill-color);\n",
              "  }\n",
              "\n",
              "  .colab-df-quickchart-complete:disabled,\n",
              "  .colab-df-quickchart-complete:disabled:hover {\n",
              "    background-color: var(--disabled-bg-color);\n",
              "    fill: var(--disabled-fill-color);\n",
              "    box-shadow: none;\n",
              "  }\n",
              "\n",
              "  .colab-df-spinner {\n",
              "    border: 2px solid var(--fill-color);\n",
              "    border-color: transparent;\n",
              "    border-bottom-color: var(--fill-color);\n",
              "    animation:\n",
              "      spin 1s steps(1) infinite;\n",
              "  }\n",
              "\n",
              "  @keyframes spin {\n",
              "    0% {\n",
              "      border-color: transparent;\n",
              "      border-bottom-color: var(--fill-color);\n",
              "      border-left-color: var(--fill-color);\n",
              "    }\n",
              "    20% {\n",
              "      border-color: transparent;\n",
              "      border-left-color: var(--fill-color);\n",
              "      border-top-color: var(--fill-color);\n",
              "    }\n",
              "    30% {\n",
              "      border-color: transparent;\n",
              "      border-left-color: var(--fill-color);\n",
              "      border-top-color: var(--fill-color);\n",
              "      border-right-color: var(--fill-color);\n",
              "    }\n",
              "    40% {\n",
              "      border-color: transparent;\n",
              "      border-right-color: var(--fill-color);\n",
              "      border-top-color: var(--fill-color);\n",
              "    }\n",
              "    60% {\n",
              "      border-color: transparent;\n",
              "      border-right-color: var(--fill-color);\n",
              "    }\n",
              "    80% {\n",
              "      border-color: transparent;\n",
              "      border-right-color: var(--fill-color);\n",
              "      border-bottom-color: var(--fill-color);\n",
              "    }\n",
              "    90% {\n",
              "      border-color: transparent;\n",
              "      border-bottom-color: var(--fill-color);\n",
              "    }\n",
              "  }\n",
              "</style>\n",
              "\n",
              "  <script>\n",
              "    async function quickchart(key) {\n",
              "      const quickchartButtonEl =\n",
              "        document.querySelector('#' + key + ' button');\n",
              "      quickchartButtonEl.disabled = true;  // To prevent multiple clicks.\n",
              "      quickchartButtonEl.classList.add('colab-df-spinner');\n",
              "      try {\n",
              "        const charts = await google.colab.kernel.invokeFunction(\n",
              "            'suggestCharts', [key], {});\n",
              "      } catch (error) {\n",
              "        console.error('Error during call to suggestCharts:', error);\n",
              "      }\n",
              "      quickchartButtonEl.classList.remove('colab-df-spinner');\n",
              "      quickchartButtonEl.classList.add('colab-df-quickchart-complete');\n",
              "    }\n",
              "    (() => {\n",
              "      let quickchartButtonEl =\n",
              "        document.querySelector('#df-cc852dfb-9e77-49a7-9b7b-a52c9826bd3d button');\n",
              "      quickchartButtonEl.style.display =\n",
              "        google.colab.kernel.accessAllowed ? 'block' : 'none';\n",
              "    })();\n",
              "  </script>\n",
              "</div>\n",
              "    </div>\n",
              "  </div>\n"
            ]
          },
          "metadata": {},
          "execution_count": 292
        }
      ]
    },
    {
      "cell_type": "code",
      "source": [
        "# De lo observado arriba aplicamos una funcion que halle el len de cada fila solo en el caso de que sea 'str' formato\n",
        "\n",
        "def get_length(text):\n",
        "    if isinstance(text, str):\n",
        "        return len(text)\n",
        "    else:\n",
        "        return 0\n",
        "\n",
        "# aplicamos funcion\n",
        "df_ml['length'] = df_ml['text'].apply(get_length)\n",
        "df_ml.head()"
      ],
      "metadata": {
        "id": "DGeuG15Cb-x2"
      },
      "execution_count": null,
      "outputs": []
    },
    {
      "cell_type": "code",
      "source": [
        "df_ml['length'].describe()"
      ],
      "metadata": {
        "colab": {
          "base_uri": "https://localhost:8080/"
        },
        "id": "HqQHz4k0cTkb",
        "outputId": "b1eee8d0-28c9-41c6-e12c-170945248b61"
      },
      "execution_count": 294,
      "outputs": [
        {
          "output_type": "execute_result",
          "data": {
            "text/plain": [
              "count    124750.000000\n",
              "mean         79.292994\n",
              "std         162.629744\n",
              "min           0.000000\n",
              "25%           0.000000\n",
              "50%          23.000000\n",
              "75%          89.000000\n",
              "max        5100.000000\n",
              "Name: length, dtype: float64"
            ]
          },
          "metadata": {},
          "execution_count": 294
        }
      ]
    },
    {
      "cell_type": "markdown",
      "source": [
        "# **I.2 Creamos histogramas, instalamos dependencias necesarias, etiquetamos la columna compound y obtenemos insights del análisis de sentimientos**"
      ],
      "metadata": {
        "id": "fkuO6Y3gTDy2"
      }
    },
    {
      "cell_type": "markdown",
      "source": [
        "## Histograma 1: Numero de caracteres por registro"
      ],
      "metadata": {
        "id": "C3hK0vvATmOH"
      }
    },
    {
      "cell_type": "code",
      "source": [
        "df_ml['length'].plot(bins=50, kind='hist', color='Blue')"
      ],
      "metadata": {
        "colab": {
          "base_uri": "https://localhost:8080/",
          "height": 447
        },
        "id": "iLCQ_cd8ciEN",
        "outputId": "2ca6f350-fc1c-447b-fb1c-b098cbbb621d"
      },
      "execution_count": 295,
      "outputs": [
        {
          "output_type": "execute_result",
          "data": {
            "text/plain": [
              "<Axes: ylabel='Frequency'>"
            ]
          },
          "metadata": {},
          "execution_count": 295
        },
        {
          "output_type": "display_data",
          "data": {
            "text/plain": [
              "<Figure size 640x480 with 1 Axes>"
            ],
            "image/png": "[encoded data removed]"
          },
          "metadata": {}
        }
      ]
    },
    {
      "cell_type": "markdown",
      "source": [
        "La mayoria de clientes expresan sus opiniones con menos de 500 caracteres. El numero maximo de caracteres significativos son 1000."
      ],
      "metadata": {
        "id": "LKwTsG_YZYPO"
      }
    },
    {
      "cell_type": "code",
      "source": [
        "df_ml = df_ml.copy()\n",
        "df_ml.iloc[0]"
      ],
      "metadata": {
        "id": "wb-tvbb-moFm",
        "colab": {
          "base_uri": "https://localhost:8080/"
        },
        "outputId": "a61235fe-01c0-4206-824f-40f69725434b"
      },
      "execution_count": 296,
      "outputs": [
        {
          "output_type": "execute_result",
          "data": {
            "text/plain": [
              "gmap_id                0x8894b5a7a7909725:0xe4687299fd288188\n",
              "rating                                                     5\n",
              "city                                            Apalachicola\n",
              "states                                                    FL\n",
              "text       The salads were lackluster though with well wr...\n",
              "length                                                   337\n",
              "Name: 0, dtype: object"
            ]
          },
          "metadata": {},
          "execution_count": 296
        }
      ]
    },
    {
      "cell_type": "code",
      "source": [
        "df_ml['rating'].value_counts().sort_index()"
      ],
      "metadata": {
        "colab": {
          "base_uri": "https://localhost:8080/"
        },
        "id": "MLKCqyhlp_EQ",
        "outputId": "4cba7cd3-999e-4cac-827f-531ab9920351"
      },
      "execution_count": 297,
      "outputs": [
        {
          "output_type": "execute_result",
          "data": {
            "text/plain": [
              "1     9035\n",
              "2     5433\n",
              "3    13059\n",
              "4    25027\n",
              "5    72196\n",
              "Name: rating, dtype: int64"
            ]
          },
          "metadata": {},
          "execution_count": 297
        }
      ]
    },
    {
      "cell_type": "markdown",
      "source": [
        "## Histograma 2: Número de reviews por estrellas"
      ],
      "metadata": {
        "id": "dUGFtmgSTqJm"
      }
    },
    {
      "cell_type": "code",
      "source": [
        "df_ml['rating'].value_counts().sort_index().plot(kind='bar', title='Count of Reviews by Rating',\n",
        "                                                  figsize=(10,5), color='Blue')"
      ],
      "metadata": {
        "colab": {
          "base_uri": "https://localhost:8080/",
          "height": 480
        },
        "id": "ixW5qTwsphbB",
        "outputId": "b309cf63-3f87-4cdf-9cab-5f3baaec3979"
      },
      "execution_count": 342,
      "outputs": [
        {
          "output_type": "execute_result",
          "data": {
            "text/plain": [
              "<Axes: title={'center': 'Count of Reviews by Rating'}>"
            ]
          },
          "metadata": {},
          "execution_count": 342
        },
        {
          "output_type": "display_data",
          "data": {
            "text/plain": [
              "<Figure size 1000x500 with 1 Axes>"
            ],
            "image/png": "[encoded data removed]"
          },
          "metadata": {}
        }
      ]
    },
    {
      "cell_type": "markdown",
      "source": [
        "Instalamos dependencias"
      ],
      "metadata": {
        "id": "WdTSDiQhT3ig"
      }
    },
    {
      "cell_type": "code",
      "source": [
        "nltk.download('vader_lexicon')\n",
        "nltk.download('maxent_ne_chunker')\n",
        "nltk.download('words')\n",
        "nltk.download('averaged_perceptron_tagger')\n",
        "nltk.download('punkt')\n",
        "nltk.download('stopwords')\n",
        "\n",
        "#tokenized = nltk.word_tokenize(sample)\n",
        "#tokenized[:5]\n",
        "#tagged = nltk.pos_tag(tokenized)\n",
        "#tagged[:5]\n",
        "#sentences = nltk.chunk.ne_chunk(tagged)\n",
        "#sentences.pprint()"
      ],
      "metadata": {
        "colab": {
          "base_uri": "https://localhost:8080/"
        },
        "id": "MLcU1lTHT6IP",
        "outputId": "1921ac5b-7253-4eed-f48a-15d3b644331a"
      },
      "execution_count": 299,
      "outputs": [
        {
          "output_type": "stream",
          "name": "stderr",
          "text": [
            "[nltk_data] Downloading package vader_lexicon to /root/nltk_data...\n",
            "[nltk_data]   Package vader_lexicon is already up-to-date!\n",
            "[nltk_data] Downloading package maxent_ne_chunker to\n",
            "[nltk_data]     /root/nltk_data...\n",
            "[nltk_data]   Package maxent_ne_chunker is already up-to-date!\n",
            "[nltk_data] Downloading package words to /root/nltk_data...\n",
            "[nltk_data]   Package words is already up-to-date!\n",
            "[nltk_data] Downloading package averaged_perceptron_tagger to\n",
            "[nltk_data]     /root/nltk_data...\n",
            "[nltk_data]   Package averaged_perceptron_tagger is already up-to-\n",
            "[nltk_data]       date!\n",
            "[nltk_data] Downloading package punkt to /root/nltk_data...\n",
            "[nltk_data]   Package punkt is already up-to-date!\n",
            "[nltk_data] Downloading package stopwords to /root/nltk_data...\n",
            "[nltk_data]   Package stopwords is already up-to-date!\n"
          ]
        },
        {
          "output_type": "execute_result",
          "data": {
            "text/plain": [
              "True"
            ]
          },
          "metadata": {},
          "execution_count": 299
        }
      ]
    },
    {
      "cell_type": "code",
      "source": [
        "from nltk.sentiment import SentimentIntensityAnalyzer\n",
        "from tqdm.notebook import tqdm"
      ],
      "metadata": {
        "id": "lbaE7iWFtxg3"
      },
      "execution_count": 300,
      "outputs": []
    },
    {
      "cell_type": "code",
      "source": [
        "senia = SentimentIntensityAnalyzer()"
      ],
      "metadata": {
        "id": "PEt7tMwCuQTp"
      },
      "execution_count": 301,
      "outputs": []
    },
    {
      "cell_type": "code",
      "source": [
        "# Creamos nuestra muestra de una registro para probar el modelo VADER\n",
        "#if isinstance(text, str):\n",
        "#  text\n",
        "\n",
        "sample = df_ml['text'].iloc[39]\n",
        "sample"
      ],
      "metadata": {
        "colab": {
          "base_uri": "https://localhost:8080/",
          "height": 52
        },
        "id": "x75u2hCOUHZw",
        "outputId": "573093dd-7c8f-41b4-d708-178d37445336"
      },
      "execution_count": 302,
      "outputs": [
        {
          "output_type": "execute_result",
          "data": {
            "text/plain": [
              "'Ordering online was super easy! Unfortunately the staff paid no attention to my order. I asked for veggies I did not receive. I PAID for DOUBLE meat, which I also did not receive. When I went back in to address my order, had a wait not due to customers in line but on the phone, who also seemed to be complaining.'"
            ],
            "application/vnd.google.colaboratory.intrinsic+json": {
              "type": "string"
            }
          },
          "metadata": {},
          "execution_count": 302
        }
      ]
    },
    {
      "cell_type": "code",
      "source": [
        "senia.polarity_scores(sample)"
      ],
      "metadata": {
        "colab": {
          "base_uri": "https://localhost:8080/"
        },
        "id": "8Pmnh7r7vSOn",
        "outputId": "21e16abc-cec4-4df8-c2e8-9a8441e87429"
      },
      "execution_count": 303,
      "outputs": [
        {
          "output_type": "execute_result",
          "data": {
            "text/plain": [
              "{'neg': 0.096, 'neu': 0.831, 'pos': 0.073, 'compound': -0.1007}"
            ]
          },
          "metadata": {},
          "execution_count": 303
        }
      ]
    },
    {
      "cell_type": "code",
      "source": [
        "#df_ml = df_ml[:100000] # TRUNCAMOS LOS REGISTROS"
      ],
      "metadata": {
        "id": "lAbVJfQdxOka"
      },
      "execution_count": 304,
      "outputs": []
    },
    {
      "cell_type": "code",
      "source": [
        "df_ml.drop_duplicates()"
      ],
      "metadata": {
        "colab": {
          "base_uri": "https://localhost:8080/",
          "height": 423
        },
        "id": "RFPvD4Ma0NLo",
        "outputId": "d11fc4d1-e4f9-44e6-b6af-9f83eb0786e9"
      },
      "execution_count": 305,
      "outputs": [
        {
          "output_type": "execute_result",
          "data": {
            "text/plain": [
              "                                      gmap_id  rating          city states  \\\n",
              "0       0x8894b5a7a7909725:0xe4687299fd288188       5  Apalachicola     FL   \n",
              "1       0x8894b5a7a7909725:0xe4687299fd288188       1  Apalachicola     FL   \n",
              "2       0x8894b5a7a7909725:0xe4687299fd288188       5  Apalachicola     FL   \n",
              "3       0x8894b5a7a7909725:0xe4687299fd288188       5  Apalachicola     FL   \n",
              "4       0x8894b5a7a7909725:0xe4687299fd288188       5  Apalachicola     FL   \n",
              "...                                       ...     ...           ...    ...   \n",
              "124745   0x88dd6d2bdb3f72d3:0xedb51d8cd0bb01d       3   Lake Alfred     FL   \n",
              "124746   0x88dd6d2bdb3f72d3:0xedb51d8cd0bb01d       5   Lake Alfred     FL   \n",
              "124747   0x88dd6d2bdb3f72d3:0xedb51d8cd0bb01d       5   Lake Alfred     FL   \n",
              "124748   0x88dd6d2bdb3f72d3:0xedb51d8cd0bb01d       5   Lake Alfred     FL   \n",
              "124749   0x88dd6d2bdb3f72d3:0xedb51d8cd0bb01d       5   Lake Alfred     FL   \n",
              "\n",
              "                                                     text  length  \n",
              "0       The salads were lackluster though with well wr...     337  \n",
              "1       Love this place. Great little restaurant, with...      91  \n",
              "2       A classy restaurant to match the charm of the ...     101  \n",
              "3                          Great atmosphere and good food      30  \n",
              "4                                               Good food       9  \n",
              "...                                                   ...     ...  \n",
              "124745  Really good prices and variety to choose from,...     190  \n",
              "124746  I have tried a few things and everything I got...     141  \n",
              "124747      Greatest of restaurants, good place to eat!!!      45  \n",
              "124748                      Great food, staff is amazing.      29  \n",
              "124749                             Everything was great!!      22  \n",
              "\n",
              "[79862 rows x 6 columns]"
            ],
            "text/html": [
              "\n",
              "  <div id=\"df-fd6ed58d-c61e-4b7a-94ba-9bc6606c1052\" class=\"colab-df-container\">\n",
              "    <div>\n",
              "<style scoped>\n",
              "    .dataframe tbody tr th:only-of-type {\n",
              "        vertical-align: middle;\n",
              "    }\n",
              "\n",
              "    .dataframe tbody tr th {\n",
              "        vertical-align: top;\n",
              "    }\n",
              "\n",
              "    .dataframe thead th {\n",
              "        text-align: right;\n",
              "    }\n",
              "</style>\n",
              "<table border=\"1\" class=\"dataframe\">\n",
              "  <thead>\n",
              "    <tr style=\"text-align: right;\">\n",
              "      <th></th>\n",
              "      <th>gmap_id</th>\n",
              "      <th>rating</th>\n",
              "      <th>city</th>\n",
              "      <th>states</th>\n",
              "      <th>text</th>\n",
              "      <th>length</th>\n",
              "    </tr>\n",
              "  </thead>\n",
              "  <tbody>\n",
              "    <tr>\n",
              "      <th>0</th>\n",
              "      <td>0x8894b5a7a7909725:0xe4687299fd288188</td>\n",
              "      <td>5</td>\n",
              "      <td>Apalachicola</td>\n",
              "      <td>FL</td>\n",
              "      <td>The salads were lackluster though with well wr...</td>\n",
              "      <td>337</td>\n",
              "    </tr>\n",
              "    <tr>\n",
              "      <th>1</th>\n",
              "      <td>0x8894b5a7a7909725:0xe4687299fd288188</td>\n",
              "      <td>1</td>\n",
              "      <td>Apalachicola</td>\n",
              "      <td>FL</td>\n",
              "      <td>Love this place. Great little restaurant, with...</td>\n",
              "      <td>91</td>\n",
              "    </tr>\n",
              "    <tr>\n",
              "      <th>2</th>\n",
              "      <td>0x8894b5a7a7909725:0xe4687299fd288188</td>\n",
              "      <td>5</td>\n",
              "      <td>Apalachicola</td>\n",
              "      <td>FL</td>\n",
              "      <td>A classy restaurant to match the charm of the ...</td>\n",
              "      <td>101</td>\n",
              "    </tr>\n",
              "    <tr>\n",
              "      <th>3</th>\n",
              "      <td>0x8894b5a7a7909725:0xe4687299fd288188</td>\n",
              "      <td>5</td>\n",
              "      <td>Apalachicola</td>\n",
              "      <td>FL</td>\n",
              "      <td>Great atmosphere and good food</td>\n",
              "      <td>30</td>\n",
              "    </tr>\n",
              "    <tr>\n",
              "      <th>4</th>\n",
              "      <td>0x8894b5a7a7909725:0xe4687299fd288188</td>\n",
              "      <td>5</td>\n",
              "      <td>Apalachicola</td>\n",
              "      <td>FL</td>\n",
              "      <td>Good food</td>\n",
              "      <td>9</td>\n",
              "    </tr>\n",
              "    <tr>\n",
              "      <th>...</th>\n",
              "      <td>...</td>\n",
              "      <td>...</td>\n",
              "      <td>...</td>\n",
              "      <td>...</td>\n",
              "      <td>...</td>\n",
              "      <td>...</td>\n",
              "    </tr>\n",
              "    <tr>\n",
              "      <th>124745</th>\n",
              "      <td>0x88dd6d2bdb3f72d3:0xedb51d8cd0bb01d</td>\n",
              "      <td>3</td>\n",
              "      <td>Lake Alfred</td>\n",
              "      <td>FL</td>\n",
              "      <td>Really good prices and variety to choose from,...</td>\n",
              "      <td>190</td>\n",
              "    </tr>\n",
              "    <tr>\n",
              "      <th>124746</th>\n",
              "      <td>0x88dd6d2bdb3f72d3:0xedb51d8cd0bb01d</td>\n",
              "      <td>5</td>\n",
              "      <td>Lake Alfred</td>\n",
              "      <td>FL</td>\n",
              "      <td>I have tried a few things and everything I got...</td>\n",
              "      <td>141</td>\n",
              "    </tr>\n",
              "    <tr>\n",
              "      <th>124747</th>\n",
              "      <td>0x88dd6d2bdb3f72d3:0xedb51d8cd0bb01d</td>\n",
              "      <td>5</td>\n",
              "      <td>Lake Alfred</td>\n",
              "      <td>FL</td>\n",
              "      <td>Greatest of restaurants, good place to eat!!!</td>\n",
              "      <td>45</td>\n",
              "    </tr>\n",
              "    <tr>\n",
              "      <th>124748</th>\n",
              "      <td>0x88dd6d2bdb3f72d3:0xedb51d8cd0bb01d</td>\n",
              "      <td>5</td>\n",
              "      <td>Lake Alfred</td>\n",
              "      <td>FL</td>\n",
              "      <td>Great food, staff is amazing.</td>\n",
              "      <td>29</td>\n",
              "    </tr>\n",
              "    <tr>\n",
              "      <th>124749</th>\n",
              "      <td>0x88dd6d2bdb3f72d3:0xedb51d8cd0bb01d</td>\n",
              "      <td>5</td>\n",
              "      <td>Lake Alfred</td>\n",
              "      <td>FL</td>\n",
              "      <td>Everything was great!!</td>\n",
              "      <td>22</td>\n",
              "    </tr>\n",
              "  </tbody>\n",
              "</table>\n",
              "<p>79862 rows × 6 columns</p>\n",
              "</div>\n",
              "    <div class=\"colab-df-buttons\">\n",
              "\n",
              "  <div class=\"colab-df-container\">\n",
              "    <button class=\"colab-df-convert\" onclick=\"convertToInteractive('df-fd6ed58d-c61e-4b7a-94ba-9bc6606c1052')\"\n",
              "            title=\"Convert this dataframe to an interactive table.\"\n",
              "            style=\"display:none;\">\n",
              "\n",
              "  <svg xmlns=\"http://www.w3.org/2000/svg\" height=\"24px\" viewBox=\"0 -960 960 960\">\n",
              "    <path d=\"M120-120v-720h720v720H120Zm60-500h600v-160H180v160Zm220 220h160v-160H400v160Zm0 220h160v-160H400v160ZM180-400h160v-160H180v160Zm440 0h160v-160H620v160ZM180-180h160v-160H180v160Zm440 0h160v-160H620v160Z\"/>\n",
              "  </svg>\n",
              "    </button>\n",
              "\n",
              "  <style>\n",
              "    .colab-df-container {\n",
              "      display:flex;\n",
              "      gap: 12px;\n",
              "    }\n",
              "\n",
              "    .colab-df-convert {\n",
              "      background-color: #E8F0FE;\n",
              "      border: none;\n",
              "      border-radius: 50%;\n",
              "      cursor: pointer;\n",
              "      display: none;\n",
              "      fill: #1967D2;\n",
              "      height: 32px;\n",
              "      padding: 0 0 0 0;\n",
              "      width: 32px;\n",
              "    }\n",
              "\n",
              "    .colab-df-convert:hover {\n",
              "      background-color: #E2EBFA;\n",
              "      box-shadow: 0px 1px 2px rgba(60, 64, 67, 0.3), 0px 1px 3px 1px rgba(60, 64, 67, 0.15);\n",
              "      fill: #174EA6;\n",
              "    }\n",
              "\n",
              "    .colab-df-buttons div {\n",
              "      margin-bottom: 4px;\n",
              "    }\n",
              "\n",
              "    [theme=dark] .colab-df-convert {\n",
              "      background-color: #3B4455;\n",
              "      fill: #D2E3FC;\n",
              "    }\n",
              "\n",
              "    [theme=dark] .colab-df-convert:hover {\n",
              "      background-color: #434B5C;\n",
              "      box-shadow: 0px 1px 3px 1px rgba(0, 0, 0, 0.15);\n",
              "      filter: drop-shadow(0px 1px 2px rgba(0, 0, 0, 0.3));\n",
              "      fill: #FFFFFF;\n",
              "    }\n",
              "  </style>\n",
              "\n",
              "    <script>\n",
              "      const buttonEl =\n",
              "        document.querySelector('#df-fd6ed58d-c61e-4b7a-94ba-9bc6606c1052 button.colab-df-convert');\n",
              "      buttonEl.style.display =\n",
              "        google.colab.kernel.accessAllowed ? 'block' : 'none';\n",
              "\n",
              "      async function convertToInteractive(key) {\n",
              "        const element = document.querySelector('#df-fd6ed58d-c61e-4b7a-94ba-9bc6606c1052');\n",
              "        const dataTable =\n",
              "          await google.colab.kernel.invokeFunction('convertToInteractive',\n",
              "                                                    [key], {});\n",
              "        if (!dataTable) return;\n",
              "\n",
              "        const docLinkHtml = 'Like what you see? Visit the ' +\n",
              "          '<a target=\"_blank\" href=https://colab.research.google.com/notebooks/data_table.ipynb>data table notebook</a>'\n",
              "          + ' to learn more about interactive tables.';\n",
              "        element.innerHTML = '';\n",
              "        dataTable['output_type'] = 'display_data';\n",
              "        await google.colab.output.renderOutput(dataTable, element);\n",
              "        const docLink = document.createElement('div');\n",
              "        docLink.innerHTML = docLinkHtml;\n",
              "        element.appendChild(docLink);\n",
              "      }\n",
              "    </script>\n",
              "  </div>\n",
              "\n",
              "\n",
              "<div id=\"df-39238975-7910-4ed1-8345-1b41c977dd9f\">\n",
              "  <button class=\"colab-df-quickchart\" onclick=\"quickchart('df-39238975-7910-4ed1-8345-1b41c977dd9f')\"\n",
              "            title=\"Suggest charts.\"\n",
              "            style=\"display:none;\">\n",
              "\n",
              "<svg xmlns=\"http://www.w3.org/2000/svg\" height=\"24px\"viewBox=\"0 0 24 24\"\n",
              "     width=\"24px\">\n",
              "    <g>\n",
              "        <path d=\"M19 3H5c-1.1 0-2 .9-2 2v14c0 1.1.9 2 2 2h14c1.1 0 2-.9 2-2V5c0-1.1-.9-2-2-2zM9 17H7v-7h2v7zm4 0h-2V7h2v10zm4 0h-2v-4h2v4z\"/>\n",
              "    </g>\n",
              "</svg>\n",
              "  </button>\n",
              "\n",
              "<style>\n",
              "  .colab-df-quickchart {\n",
              "      --bg-color: #E8F0FE;\n",
              "      --fill-color: #1967D2;\n",
              "      --hover-bg-color: #E2EBFA;\n",
              "      --hover-fill-color: #174EA6;\n",
              "      --disabled-fill-color: #AAA;\n",
              "      --disabled-bg-color: #DDD;\n",
              "  }\n",
              "\n",
              "  [theme=dark] .colab-df-quickchart {\n",
              "      --bg-color: #3B4455;\n",
              "      --fill-color: #D2E3FC;\n",
              "      --hover-bg-color: #434B5C;\n",
              "      --hover-fill-color: #FFFFFF;\n",
              "      --disabled-bg-color: #3B4455;\n",
              "      --disabled-fill-color: #666;\n",
              "  }\n",
              "\n",
              "  .colab-df-quickchart {\n",
              "    background-color: var(--bg-color);\n",
              "    border: none;\n",
              "    border-radius: 50%;\n",
              "    cursor: pointer;\n",
              "    display: none;\n",
              "    fill: var(--fill-color);\n",
              "    height: 32px;\n",
              "    padding: 0;\n",
              "    width: 32px;\n",
              "  }\n",
              "\n",
              "  .colab-df-quickchart:hover {\n",
              "    background-color: var(--hover-bg-color);\n",
              "    box-shadow: 0 1px 2px rgba(60, 64, 67, 0.3), 0 1px 3px 1px rgba(60, 64, 67, 0.15);\n",
              "    fill: var(--button-hover-fill-color);\n",
              "  }\n",
              "\n",
              "  .colab-df-quickchart-complete:disabled,\n",
              "  .colab-df-quickchart-complete:disabled:hover {\n",
              "    background-color: var(--disabled-bg-color);\n",
              "    fill: var(--disabled-fill-color);\n",
              "    box-shadow: none;\n",
              "  }\n",
              "\n",
              "  .colab-df-spinner {\n",
              "    border: 2px solid var(--fill-color);\n",
              "    border-color: transparent;\n",
              "    border-bottom-color: var(--fill-color);\n",
              "    animation:\n",
              "      spin 1s steps(1) infinite;\n",
              "  }\n",
              "\n",
              "  @keyframes spin {\n",
              "    0% {\n",
              "      border-color: transparent;\n",
              "      border-bottom-color: var(--fill-color);\n",
              "      border-left-color: var(--fill-color);\n",
              "    }\n",
              "    20% {\n",
              "      border-color: transparent;\n",
              "      border-left-color: var(--fill-color);\n",
              "      border-top-color: var(--fill-color);\n",
              "    }\n",
              "    30% {\n",
              "      border-color: transparent;\n",
              "      border-left-color: var(--fill-color);\n",
              "      border-top-color: var(--fill-color);\n",
              "      border-right-color: var(--fill-color);\n",
              "    }\n",
              "    40% {\n",
              "      border-color: transparent;\n",
              "      border-right-color: var(--fill-color);\n",
              "      border-top-color: var(--fill-color);\n",
              "    }\n",
              "    60% {\n",
              "      border-color: transparent;\n",
              "      border-right-color: var(--fill-color);\n",
              "    }\n",
              "    80% {\n",
              "      border-color: transparent;\n",
              "      border-right-color: var(--fill-color);\n",
              "      border-bottom-color: var(--fill-color);\n",
              "    }\n",
              "    90% {\n",
              "      border-color: transparent;\n",
              "      border-bottom-color: var(--fill-color);\n",
              "    }\n",
              "  }\n",
              "</style>\n",
              "\n",
              "  <script>\n",
              "    async function quickchart(key) {\n",
              "      const quickchartButtonEl =\n",
              "        document.querySelector('#' + key + ' button');\n",
              "      quickchartButtonEl.disabled = true;  // To prevent multiple clicks.\n",
              "      quickchartButtonEl.classList.add('colab-df-spinner');\n",
              "      try {\n",
              "        const charts = await google.colab.kernel.invokeFunction(\n",
              "            'suggestCharts', [key], {});\n",
              "      } catch (error) {\n",
              "        console.error('Error during call to suggestCharts:', error);\n",
              "      }\n",
              "      quickchartButtonEl.classList.remove('colab-df-spinner');\n",
              "      quickchartButtonEl.classList.add('colab-df-quickchart-complete');\n",
              "    }\n",
              "    (() => {\n",
              "      let quickchartButtonEl =\n",
              "        document.querySelector('#df-39238975-7910-4ed1-8345-1b41c977dd9f button');\n",
              "      quickchartButtonEl.style.display =\n",
              "        google.colab.kernel.accessAllowed ? 'block' : 'none';\n",
              "    })();\n",
              "  </script>\n",
              "</div>\n",
              "    </div>\n",
              "  </div>\n"
            ]
          },
          "metadata": {},
          "execution_count": 305
        }
      ]
    },
    {
      "cell_type": "code",
      "source": [
        "df_ml = df_ml.rename_axis('id', axis=1)\n",
        "#df_ml\n",
        "df_ml = df_ml.reset_index().rename(columns={'index':'id'})\n",
        "#df_ml.head(3)"
      ],
      "metadata": {
        "id": "PsBDpmA61ddy"
      },
      "execution_count": 306,
      "outputs": []
    },
    {
      "cell_type": "markdown",
      "source": [
        "## Aplicamos VADER a toda la columna text"
      ],
      "metadata": {
        "id": "-ptoZfBRUUY_"
      }
    },
    {
      "cell_type": "code",
      "source": [
        "results_df = pd.DataFrame(columns=['id', 'compound', 'neg', 'neu', 'pos'])\n",
        "\n",
        "for i, row in tqdm(df_ml.iterrows(), total=len(df_ml)):\n",
        "    text = row['text']\n",
        "    theid = row['id']\n",
        "\n",
        "    # Verificamos si el valor de 'text' value es 'str' antes de aplicar polarity_scores\n",
        "    if isinstance(text, str):\n",
        "        scores = senia.polarity_scores(text)\n",
        "        # Append the results to the DataFrame\n",
        "        results_df = results_df.append({'id': theid, 'compound': scores['compound'], 'neg': scores['neg'], 'neu': scores['neu'], 'pos': scores['pos']}, ignore_index=True)\n",
        "\n",
        "results_df"
      ],
      "metadata": {
        "id": "cGTUJ-z7vuFp"
      },
      "execution_count": null,
      "outputs": []
    },
    {
      "cell_type": "code",
      "source": [
        "results_df"
      ],
      "metadata": {
        "colab": {
          "base_uri": "https://localhost:8080/"
        },
        "id": "q0CwgeQ8jR5K",
        "outputId": "0e8a74d8-597b-46ec-86d1-4369c03e0f1d"
      },
      "execution_count": 308,
      "outputs": [
        {
          "output_type": "execute_result",
          "data": {
            "text/plain": [
              "             id  compound   neg    neu    pos\n",
              "0           0.0    0.9576  0.02  0.699  0.281\n",
              "1           1.0    0.9186  0.00  0.455  0.545\n",
              "2           2.0    0.6808  0.00  0.714  0.286\n",
              "3           3.0    0.7906  0.00  0.300  0.700\n",
              "4           4.0    0.4404  0.00  0.256  0.744\n",
              "...         ...       ...   ...    ...    ...\n",
              "75133  124745.0    0.8955  0.00  0.688  0.312\n",
              "75134  124746.0    0.7650  0.00  0.784  0.216\n",
              "75135  124747.0    0.8392  0.00  0.385  0.615\n",
              "75136  124748.0    0.8360  0.00  0.275  0.725\n",
              "75137  124749.0    0.6892  0.00  0.299  0.701\n",
              "\n",
              "[75138 rows x 5 columns]"
            ],
            "text/html": [
              "\n",
              "  <div id=\"df-d603ec05-2c76-4896-a1a3-d62d610b514f\" class=\"colab-df-container\">\n",
              "    <div>\n",
              "<style scoped>\n",
              "    .dataframe tbody tr th:only-of-type {\n",
              "        vertical-align: middle;\n",
              "    }\n",
              "\n",
              "    .dataframe tbody tr th {\n",
              "        vertical-align: top;\n",
              "    }\n",
              "\n",
              "    .dataframe thead th {\n",
              "        text-align: right;\n",
              "    }\n",
              "</style>\n",
              "<table border=\"1\" class=\"dataframe\">\n",
              "  <thead>\n",
              "    <tr style=\"text-align: right;\">\n",
              "      <th></th>\n",
              "      <th>id</th>\n",
              "      <th>compound</th>\n",
              "      <th>neg</th>\n",
              "      <th>neu</th>\n",
              "      <th>pos</th>\n",
              "    </tr>\n",
              "  </thead>\n",
              "  <tbody>\n",
              "    <tr>\n",
              "      <th>0</th>\n",
              "      <td>0.0</td>\n",
              "      <td>0.9576</td>\n",
              "      <td>0.02</td>\n",
              "      <td>0.699</td>\n",
              "      <td>0.281</td>\n",
              "    </tr>\n",
              "    <tr>\n",
              "      <th>1</th>\n",
              "      <td>1.0</td>\n",
              "      <td>0.9186</td>\n",
              "      <td>0.00</td>\n",
              "      <td>0.455</td>\n",
              "      <td>0.545</td>\n",
              "    </tr>\n",
              "    <tr>\n",
              "      <th>2</th>\n",
              "      <td>2.0</td>\n",
              "      <td>0.6808</td>\n",
              "      <td>0.00</td>\n",
              "      <td>0.714</td>\n",
              "      <td>0.286</td>\n",
              "    </tr>\n",
              "    <tr>\n",
              "      <th>3</th>\n",
              "      <td>3.0</td>\n",
              "      <td>0.7906</td>\n",
              "      <td>0.00</td>\n",
              "      <td>0.300</td>\n",
              "      <td>0.700</td>\n",
              "    </tr>\n",
              "    <tr>\n",
              "      <th>4</th>\n",
              "      <td>4.0</td>\n",
              "      <td>0.4404</td>\n",
              "      <td>0.00</td>\n",
              "      <td>0.256</td>\n",
              "      <td>0.744</td>\n",
              "    </tr>\n",
              "    <tr>\n",
              "      <th>...</th>\n",
              "      <td>...</td>\n",
              "      <td>...</td>\n",
              "      <td>...</td>\n",
              "      <td>...</td>\n",
              "      <td>...</td>\n",
              "    </tr>\n",
              "    <tr>\n",
              "      <th>75133</th>\n",
              "      <td>124745.0</td>\n",
              "      <td>0.8955</td>\n",
              "      <td>0.00</td>\n",
              "      <td>0.688</td>\n",
              "      <td>0.312</td>\n",
              "    </tr>\n",
              "    <tr>\n",
              "      <th>75134</th>\n",
              "      <td>124746.0</td>\n",
              "      <td>0.7650</td>\n",
              "      <td>0.00</td>\n",
              "      <td>0.784</td>\n",
              "      <td>0.216</td>\n",
              "    </tr>\n",
              "    <tr>\n",
              "      <th>75135</th>\n",
              "      <td>124747.0</td>\n",
              "      <td>0.8392</td>\n",
              "      <td>0.00</td>\n",
              "      <td>0.385</td>\n",
              "      <td>0.615</td>\n",
              "    </tr>\n",
              "    <tr>\n",
              "      <th>75136</th>\n",
              "      <td>124748.0</td>\n",
              "      <td>0.8360</td>\n",
              "      <td>0.00</td>\n",
              "      <td>0.275</td>\n",
              "      <td>0.725</td>\n",
              "    </tr>\n",
              "    <tr>\n",
              "      <th>75137</th>\n",
              "      <td>124749.0</td>\n",
              "      <td>0.6892</td>\n",
              "      <td>0.00</td>\n",
              "      <td>0.299</td>\n",
              "      <td>0.701</td>\n",
              "    </tr>\n",
              "  </tbody>\n",
              "</table>\n",
              "<p>75138 rows × 5 columns</p>\n",
              "</div>\n",
              "    <div class=\"colab-df-buttons\">\n",
              "\n",
              "  <div class=\"colab-df-container\">\n",
              "    <button class=\"colab-df-convert\" onclick=\"convertToInteractive('df-d603ec05-2c76-4896-a1a3-d62d610b514f')\"\n",
              "            title=\"Convert this dataframe to an interactive table.\"\n",
              "            style=\"display:none;\">\n",
              "\n",
              "  <svg xmlns=\"http://www.w3.org/2000/svg\" height=\"24px\" viewBox=\"0 -960 960 960\">\n",
              "    <path d=\"M120-120v-720h720v720H120Zm60-500h600v-160H180v160Zm220 220h160v-160H400v160Zm0 220h160v-160H400v160ZM180-400h160v-160H180v160Zm440 0h160v-160H620v160ZM180-180h160v-160H180v160Zm440 0h160v-160H620v160Z\"/>\n",
              "  </svg>\n",
              "    </button>\n",
              "\n",
              "  <style>\n",
              "    .colab-df-container {\n",
              "      display:flex;\n",
              "      gap: 12px;\n",
              "    }\n",
              "\n",
              "    .colab-df-convert {\n",
              "      background-color: #E8F0FE;\n",
              "      border: none;\n",
              "      border-radius: 50%;\n",
              "      cursor: pointer;\n",
              "      display: none;\n",
              "      fill: #1967D2;\n",
              "      height: 32px;\n",
              "      padding: 0 0 0 0;\n",
              "      width: 32px;\n",
              "    }\n",
              "\n",
              "    .colab-df-convert:hover {\n",
              "      background-color: #E2EBFA;\n",
              "      box-shadow: 0px 1px 2px rgba(60, 64, 67, 0.3), 0px 1px 3px 1px rgba(60, 64, 67, 0.15);\n",
              "      fill: #174EA6;\n",
              "    }\n",
              "\n",
              "    .colab-df-buttons div {\n",
              "      margin-bottom: 4px;\n",
              "    }\n",
              "\n",
              "    [theme=dark] .colab-df-convert {\n",
              "      background-color: #3B4455;\n",
              "      fill: #D2E3FC;\n",
              "    }\n",
              "\n",
              "    [theme=dark] .colab-df-convert:hover {\n",
              "      background-color: #434B5C;\n",
              "      box-shadow: 0px 1px 3px 1px rgba(0, 0, 0, 0.15);\n",
              "      filter: drop-shadow(0px 1px 2px rgba(0, 0, 0, 0.3));\n",
              "      fill: #FFFFFF;\n",
              "    }\n",
              "  </style>\n",
              "\n",
              "    <script>\n",
              "      const buttonEl =\n",
              "        document.querySelector('#df-d603ec05-2c76-4896-a1a3-d62d610b514f button.colab-df-convert');\n",
              "      buttonEl.style.display =\n",
              "        google.colab.kernel.accessAllowed ? 'block' : 'none';\n",
              "\n",
              "      async function convertToInteractive(key) {\n",
              "        const element = document.querySelector('#df-d603ec05-2c76-4896-a1a3-d62d610b514f');\n",
              "        const dataTable =\n",
              "          await google.colab.kernel.invokeFunction('convertToInteractive',\n",
              "                                                    [key], {});\n",
              "        if (!dataTable) return;\n",
              "\n",
              "        const docLinkHtml = 'Like what you see? Visit the ' +\n",
              "          '<a target=\"_blank\" href=https://colab.research.google.com/notebooks/data_table.ipynb>data table notebook</a>'\n",
              "          + ' to learn more about interactive tables.';\n",
              "        element.innerHTML = '';\n",
              "        dataTable['output_type'] = 'display_data';\n",
              "        await google.colab.output.renderOutput(dataTable, element);\n",
              "        const docLink = document.createElement('div');\n",
              "        docLink.innerHTML = docLinkHtml;\n",
              "        element.appendChild(docLink);\n",
              "      }\n",
              "    </script>\n",
              "  </div>\n",
              "\n",
              "\n",
              "<div id=\"df-73636e33-c50b-43de-a97d-e7a06d791328\">\n",
              "  <button class=\"colab-df-quickchart\" onclick=\"quickchart('df-73636e33-c50b-43de-a97d-e7a06d791328')\"\n",
              "            title=\"Suggest charts.\"\n",
              "            style=\"display:none;\">\n",
              "\n",
              "<svg xmlns=\"http://www.w3.org/2000/svg\" height=\"24px\"viewBox=\"0 0 24 24\"\n",
              "     width=\"24px\">\n",
              "    <g>\n",
              "        <path d=\"M19 3H5c-1.1 0-2 .9-2 2v14c0 1.1.9 2 2 2h14c1.1 0 2-.9 2-2V5c0-1.1-.9-2-2-2zM9 17H7v-7h2v7zm4 0h-2V7h2v10zm4 0h-2v-4h2v4z\"/>\n",
              "    </g>\n",
              "</svg>\n",
              "  </button>\n",
              "\n",
              "<style>\n",
              "  .colab-df-quickchart {\n",
              "      --bg-color: #E8F0FE;\n",
              "      --fill-color: #1967D2;\n",
              "      --hover-bg-color: #E2EBFA;\n",
              "      --hover-fill-color: #174EA6;\n",
              "      --disabled-fill-color: #AAA;\n",
              "      --disabled-bg-color: #DDD;\n",
              "  }\n",
              "\n",
              "  [theme=dark] .colab-df-quickchart {\n",
              "      --bg-color: #3B4455;\n",
              "      --fill-color: #D2E3FC;\n",
              "      --hover-bg-color: #434B5C;\n",
              "      --hover-fill-color: #FFFFFF;\n",
              "      --disabled-bg-color: #3B4455;\n",
              "      --disabled-fill-color: #666;\n",
              "  }\n",
              "\n",
              "  .colab-df-quickchart {\n",
              "    background-color: var(--bg-color);\n",
              "    border: none;\n",
              "    border-radius: 50%;\n",
              "    cursor: pointer;\n",
              "    display: none;\n",
              "    fill: var(--fill-color);\n",
              "    height: 32px;\n",
              "    padding: 0;\n",
              "    width: 32px;\n",
              "  }\n",
              "\n",
              "  .colab-df-quickchart:hover {\n",
              "    background-color: var(--hover-bg-color);\n",
              "    box-shadow: 0 1px 2px rgba(60, 64, 67, 0.3), 0 1px 3px 1px rgba(60, 64, 67, 0.15);\n",
              "    fill: var(--button-hover-fill-color);\n",
              "  }\n",
              "\n",
              "  .colab-df-quickchart-complete:disabled,\n",
              "  .colab-df-quickchart-complete:disabled:hover {\n",
              "    background-color: var(--disabled-bg-color);\n",
              "    fill: var(--disabled-fill-color);\n",
              "    box-shadow: none;\n",
              "  }\n",
              "\n",
              "  .colab-df-spinner {\n",
              "    border: 2px solid var(--fill-color);\n",
              "    border-color: transparent;\n",
              "    border-bottom-color: var(--fill-color);\n",
              "    animation:\n",
              "      spin 1s steps(1) infinite;\n",
              "  }\n",
              "\n",
              "  @keyframes spin {\n",
              "    0% {\n",
              "      border-color: transparent;\n",
              "      border-bottom-color: var(--fill-color);\n",
              "      border-left-color: var(--fill-color);\n",
              "    }\n",
              "    20% {\n",
              "      border-color: transparent;\n",
              "      border-left-color: var(--fill-color);\n",
              "      border-top-color: var(--fill-color);\n",
              "    }\n",
              "    30% {\n",
              "      border-color: transparent;\n",
              "      border-left-color: var(--fill-color);\n",
              "      border-top-color: var(--fill-color);\n",
              "      border-right-color: var(--fill-color);\n",
              "    }\n",
              "    40% {\n",
              "      border-color: transparent;\n",
              "      border-right-color: var(--fill-color);\n",
              "      border-top-color: var(--fill-color);\n",
              "    }\n",
              "    60% {\n",
              "      border-color: transparent;\n",
              "      border-right-color: var(--fill-color);\n",
              "    }\n",
              "    80% {\n",
              "      border-color: transparent;\n",
              "      border-right-color: var(--fill-color);\n",
              "      border-bottom-color: var(--fill-color);\n",
              "    }\n",
              "    90% {\n",
              "      border-color: transparent;\n",
              "      border-bottom-color: var(--fill-color);\n",
              "    }\n",
              "  }\n",
              "</style>\n",
              "\n",
              "  <script>\n",
              "    async function quickchart(key) {\n",
              "      const quickchartButtonEl =\n",
              "        document.querySelector('#' + key + ' button');\n",
              "      quickchartButtonEl.disabled = true;  // To prevent multiple clicks.\n",
              "      quickchartButtonEl.classList.add('colab-df-spinner');\n",
              "      try {\n",
              "        const charts = await google.colab.kernel.invokeFunction(\n",
              "            'suggestCharts', [key], {});\n",
              "      } catch (error) {\n",
              "        console.error('Error during call to suggestCharts:', error);\n",
              "      }\n",
              "      quickchartButtonEl.classList.remove('colab-df-spinner');\n",
              "      quickchartButtonEl.classList.add('colab-df-quickchart-complete');\n",
              "    }\n",
              "    (() => {\n",
              "      let quickchartButtonEl =\n",
              "        document.querySelector('#df-73636e33-c50b-43de-a97d-e7a06d791328 button');\n",
              "      quickchartButtonEl.style.display =\n",
              "        google.colab.kernel.accessAllowed ? 'block' : 'none';\n",
              "    })();\n",
              "  </script>\n",
              "</div>\n",
              "    </div>\n",
              "  </div>\n"
            ]
          },
          "metadata": {},
          "execution_count": 308
        }
      ]
    },
    {
      "cell_type": "markdown",
      "source": [
        "## Hacemos un join de los resultados con la tabla df_ml"
      ],
      "metadata": {
        "id": "6CwLitGvU7Mx"
      }
    },
    {
      "cell_type": "code",
      "source": [
        "merged_vader = pd.merge(df_ml, results_df, on='id', how='inner')\n",
        "merged_vader"
      ],
      "metadata": {
        "id": "EhjDaepC0osB",
        "colab": {
          "base_uri": "https://localhost:8080/"
        },
        "outputId": "a17715b6-49fb-44c9-c2bc-2cc6a3c2c082"
      },
      "execution_count": 309,
      "outputs": [
        {
          "output_type": "execute_result",
          "data": {
            "text/plain": [
              "           id                                gmap_id  rating          city  \\\n",
              "0           0  0x8894b5a7a7909725:0xe4687299fd288188       5  Apalachicola   \n",
              "1           1  0x8894b5a7a7909725:0xe4687299fd288188       1  Apalachicola   \n",
              "2           2  0x8894b5a7a7909725:0xe4687299fd288188       5  Apalachicola   \n",
              "3           3  0x8894b5a7a7909725:0xe4687299fd288188       5  Apalachicola   \n",
              "4           4  0x8894b5a7a7909725:0xe4687299fd288188       5  Apalachicola   \n",
              "...       ...                                    ...     ...           ...   \n",
              "75133  124745   0x88dd6d2bdb3f72d3:0xedb51d8cd0bb01d       3   Lake Alfred   \n",
              "75134  124746   0x88dd6d2bdb3f72d3:0xedb51d8cd0bb01d       5   Lake Alfred   \n",
              "75135  124747   0x88dd6d2bdb3f72d3:0xedb51d8cd0bb01d       5   Lake Alfred   \n",
              "75136  124748   0x88dd6d2bdb3f72d3:0xedb51d8cd0bb01d       5   Lake Alfred   \n",
              "75137  124749   0x88dd6d2bdb3f72d3:0xedb51d8cd0bb01d       5   Lake Alfred   \n",
              "\n",
              "      states                                               text  length  \\\n",
              "0         FL  The salads were lackluster though with well wr...     337   \n",
              "1         FL  Love this place. Great little restaurant, with...      91   \n",
              "2         FL  A classy restaurant to match the charm of the ...     101   \n",
              "3         FL                     Great atmosphere and good food      30   \n",
              "4         FL                                          Good food       9   \n",
              "...      ...                                                ...     ...   \n",
              "75133     FL  Really good prices and variety to choose from,...     190   \n",
              "75134     FL  I have tried a few things and everything I got...     141   \n",
              "75135     FL      Greatest of restaurants, good place to eat!!!      45   \n",
              "75136     FL                      Great food, staff is amazing.      29   \n",
              "75137     FL                             Everything was great!!      22   \n",
              "\n",
              "       compound   neg    neu    pos  \n",
              "0        0.9576  0.02  0.699  0.281  \n",
              "1        0.9186  0.00  0.455  0.545  \n",
              "2        0.6808  0.00  0.714  0.286  \n",
              "3        0.7906  0.00  0.300  0.700  \n",
              "4        0.4404  0.00  0.256  0.744  \n",
              "...         ...   ...    ...    ...  \n",
              "75133    0.8955  0.00  0.688  0.312  \n",
              "75134    0.7650  0.00  0.784  0.216  \n",
              "75135    0.8392  0.00  0.385  0.615  \n",
              "75136    0.8360  0.00  0.275  0.725  \n",
              "75137    0.6892  0.00  0.299  0.701  \n",
              "\n",
              "[75138 rows x 11 columns]"
            ],
            "text/html": [
              "\n",
              "  <div id=\"df-bca9f481-4017-4f69-af71-c7a8ab764561\" class=\"colab-df-container\">\n",
              "    <div>\n",
              "<style scoped>\n",
              "    .dataframe tbody tr th:only-of-type {\n",
              "        vertical-align: middle;\n",
              "    }\n",
              "\n",
              "    .dataframe tbody tr th {\n",
              "        vertical-align: top;\n",
              "    }\n",
              "\n",
              "    .dataframe thead th {\n",
              "        text-align: right;\n",
              "    }\n",
              "</style>\n",
              "<table border=\"1\" class=\"dataframe\">\n",
              "  <thead>\n",
              "    <tr style=\"text-align: right;\">\n",
              "      <th></th>\n",
              "      <th>id</th>\n",
              "      <th>gmap_id</th>\n",
              "      <th>rating</th>\n",
              "      <th>city</th>\n",
              "      <th>states</th>\n",
              "      <th>text</th>\n",
              "      <th>length</th>\n",
              "      <th>compound</th>\n",
              "      <th>neg</th>\n",
              "      <th>neu</th>\n",
              "      <th>pos</th>\n",
              "    </tr>\n",
              "  </thead>\n",
              "  <tbody>\n",
              "    <tr>\n",
              "      <th>0</th>\n",
              "      <td>0</td>\n",
              "      <td>0x8894b5a7a7909725:0xe4687299fd288188</td>\n",
              "      <td>5</td>\n",
              "      <td>Apalachicola</td>\n",
              "      <td>FL</td>\n",
              "      <td>The salads were lackluster though with well wr...</td>\n",
              "      <td>337</td>\n",
              "      <td>0.9576</td>\n",
              "      <td>0.02</td>\n",
              "      <td>0.699</td>\n",
              "      <td>0.281</td>\n",
              "    </tr>\n",
              "    <tr>\n",
              "      <th>1</th>\n",
              "      <td>1</td>\n",
              "      <td>0x8894b5a7a7909725:0xe4687299fd288188</td>\n",
              "      <td>1</td>\n",
              "      <td>Apalachicola</td>\n",
              "      <td>FL</td>\n",
              "      <td>Love this place. Great little restaurant, with...</td>\n",
              "      <td>91</td>\n",
              "      <td>0.9186</td>\n",
              "      <td>0.00</td>\n",
              "      <td>0.455</td>\n",
              "      <td>0.545</td>\n",
              "    </tr>\n",
              "    <tr>\n",
              "      <th>2</th>\n",
              "      <td>2</td>\n",
              "      <td>0x8894b5a7a7909725:0xe4687299fd288188</td>\n",
              "      <td>5</td>\n",
              "      <td>Apalachicola</td>\n",
              "      <td>FL</td>\n",
              "      <td>A classy restaurant to match the charm of the ...</td>\n",
              "      <td>101</td>\n",
              "      <td>0.6808</td>\n",
              "      <td>0.00</td>\n",
              "      <td>0.714</td>\n",
              "      <td>0.286</td>\n",
              "    </tr>\n",
              "    <tr>\n",
              "      <th>3</th>\n",
              "      <td>3</td>\n",
              "      <td>0x8894b5a7a7909725:0xe4687299fd288188</td>\n",
              "      <td>5</td>\n",
              "      <td>Apalachicola</td>\n",
              "      <td>FL</td>\n",
              "      <td>Great atmosphere and good food</td>\n",
              "      <td>30</td>\n",
              "      <td>0.7906</td>\n",
              "      <td>0.00</td>\n",
              "      <td>0.300</td>\n",
              "      <td>0.700</td>\n",
              "    </tr>\n",
              "    <tr>\n",
              "      <th>4</th>\n",
              "      <td>4</td>\n",
              "      <td>0x8894b5a7a7909725:0xe4687299fd288188</td>\n",
              "      <td>5</td>\n",
              "      <td>Apalachicola</td>\n",
              "      <td>FL</td>\n",
              "      <td>Good food</td>\n",
              "      <td>9</td>\n",
              "      <td>0.4404</td>\n",
              "      <td>0.00</td>\n",
              "      <td>0.256</td>\n",
              "      <td>0.744</td>\n",
              "    </tr>\n",
              "    <tr>\n",
              "      <th>...</th>\n",
              "      <td>...</td>\n",
              "      <td>...</td>\n",
              "      <td>...</td>\n",
              "      <td>...</td>\n",
              "      <td>...</td>\n",
              "      <td>...</td>\n",
              "      <td>...</td>\n",
              "      <td>...</td>\n",
              "      <td>...</td>\n",
              "      <td>...</td>\n",
              "      <td>...</td>\n",
              "    </tr>\n",
              "    <tr>\n",
              "      <th>75133</th>\n",
              "      <td>124745</td>\n",
              "      <td>0x88dd6d2bdb3f72d3:0xedb51d8cd0bb01d</td>\n",
              "      <td>3</td>\n",
              "      <td>Lake Alfred</td>\n",
              "      <td>FL</td>\n",
              "      <td>Really good prices and variety to choose from,...</td>\n",
              "      <td>190</td>\n",
              "      <td>0.8955</td>\n",
              "      <td>0.00</td>\n",
              "      <td>0.688</td>\n",
              "      <td>0.312</td>\n",
              "    </tr>\n",
              "    <tr>\n",
              "      <th>75134</th>\n",
              "      <td>124746</td>\n",
              "      <td>0x88dd6d2bdb3f72d3:0xedb51d8cd0bb01d</td>\n",
              "      <td>5</td>\n",
              "      <td>Lake Alfred</td>\n",
              "      <td>FL</td>\n",
              "      <td>I have tried a few things and everything I got...</td>\n",
              "      <td>141</td>\n",
              "      <td>0.7650</td>\n",
              "      <td>0.00</td>\n",
              "      <td>0.784</td>\n",
              "      <td>0.216</td>\n",
              "    </tr>\n",
              "    <tr>\n",
              "      <th>75135</th>\n",
              "      <td>124747</td>\n",
              "      <td>0x88dd6d2bdb3f72d3:0xedb51d8cd0bb01d</td>\n",
              "      <td>5</td>\n",
              "      <td>Lake Alfred</td>\n",
              "      <td>FL</td>\n",
              "      <td>Greatest of restaurants, good place to eat!!!</td>\n",
              "      <td>45</td>\n",
              "      <td>0.8392</td>\n",
              "      <td>0.00</td>\n",
              "      <td>0.385</td>\n",
              "      <td>0.615</td>\n",
              "    </tr>\n",
              "    <tr>\n",
              "      <th>75136</th>\n",
              "      <td>124748</td>\n",
              "      <td>0x88dd6d2bdb3f72d3:0xedb51d8cd0bb01d</td>\n",
              "      <td>5</td>\n",
              "      <td>Lake Alfred</td>\n",
              "      <td>FL</td>\n",
              "      <td>Great food, staff is amazing.</td>\n",
              "      <td>29</td>\n",
              "      <td>0.8360</td>\n",
              "      <td>0.00</td>\n",
              "      <td>0.275</td>\n",
              "      <td>0.725</td>\n",
              "    </tr>\n",
              "    <tr>\n",
              "      <th>75137</th>\n",
              "      <td>124749</td>\n",
              "      <td>0x88dd6d2bdb3f72d3:0xedb51d8cd0bb01d</td>\n",
              "      <td>5</td>\n",
              "      <td>Lake Alfred</td>\n",
              "      <td>FL</td>\n",
              "      <td>Everything was great!!</td>\n",
              "      <td>22</td>\n",
              "      <td>0.6892</td>\n",
              "      <td>0.00</td>\n",
              "      <td>0.299</td>\n",
              "      <td>0.701</td>\n",
              "    </tr>\n",
              "  </tbody>\n",
              "</table>\n",
              "<p>75138 rows × 11 columns</p>\n",
              "</div>\n",
              "    <div class=\"colab-df-buttons\">\n",
              "\n",
              "  <div class=\"colab-df-container\">\n",
              "    <button class=\"colab-df-convert\" onclick=\"convertToInteractive('df-bca9f481-4017-4f69-af71-c7a8ab764561')\"\n",
              "            title=\"Convert this dataframe to an interactive table.\"\n",
              "            style=\"display:none;\">\n",
              "\n",
              "  <svg xmlns=\"http://www.w3.org/2000/svg\" height=\"24px\" viewBox=\"0 -960 960 960\">\n",
              "    <path d=\"M120-120v-720h720v720H120Zm60-500h600v-160H180v160Zm220 220h160v-160H400v160Zm0 220h160v-160H400v160ZM180-400h160v-160H180v160Zm440 0h160v-160H620v160ZM180-180h160v-160H180v160Zm440 0h160v-160H620v160Z\"/>\n",
              "  </svg>\n",
              "    </button>\n",
              "\n",
              "  <style>\n",
              "    .colab-df-container {\n",
              "      display:flex;\n",
              "      gap: 12px;\n",
              "    }\n",
              "\n",
              "    .colab-df-convert {\n",
              "      background-color: #E8F0FE;\n",
              "      border: none;\n",
              "      border-radius: 50%;\n",
              "      cursor: pointer;\n",
              "      display: none;\n",
              "      fill: #1967D2;\n",
              "      height: 32px;\n",
              "      padding: 0 0 0 0;\n",
              "      width: 32px;\n",
              "    }\n",
              "\n",
              "    .colab-df-convert:hover {\n",
              "      background-color: #E2EBFA;\n",
              "      box-shadow: 0px 1px 2px rgba(60, 64, 67, 0.3), 0px 1px 3px 1px rgba(60, 64, 67, 0.15);\n",
              "      fill: #174EA6;\n",
              "    }\n",
              "\n",
              "    .colab-df-buttons div {\n",
              "      margin-bottom: 4px;\n",
              "    }\n",
              "\n",
              "    [theme=dark] .colab-df-convert {\n",
              "      background-color: #3B4455;\n",
              "      fill: #D2E3FC;\n",
              "    }\n",
              "\n",
              "    [theme=dark] .colab-df-convert:hover {\n",
              "      background-color: #434B5C;\n",
              "      box-shadow: 0px 1px 3px 1px rgba(0, 0, 0, 0.15);\n",
              "      filter: drop-shadow(0px 1px 2px rgba(0, 0, 0, 0.3));\n",
              "      fill: #FFFFFF;\n",
              "    }\n",
              "  </style>\n",
              "\n",
              "    <script>\n",
              "      const buttonEl =\n",
              "        document.querySelector('#df-bca9f481-4017-4f69-af71-c7a8ab764561 button.colab-df-convert');\n",
              "      buttonEl.style.display =\n",
              "        google.colab.kernel.accessAllowed ? 'block' : 'none';\n",
              "\n",
              "      async function convertToInteractive(key) {\n",
              "        const element = document.querySelector('#df-bca9f481-4017-4f69-af71-c7a8ab764561');\n",
              "        const dataTable =\n",
              "          await google.colab.kernel.invokeFunction('convertToInteractive',\n",
              "                                                    [key], {});\n",
              "        if (!dataTable) return;\n",
              "\n",
              "        const docLinkHtml = 'Like what you see? Visit the ' +\n",
              "          '<a target=\"_blank\" href=https://colab.research.google.com/notebooks/data_table.ipynb>data table notebook</a>'\n",
              "          + ' to learn more about interactive tables.';\n",
              "        element.innerHTML = '';\n",
              "        dataTable['output_type'] = 'display_data';\n",
              "        await google.colab.output.renderOutput(dataTable, element);\n",
              "        const docLink = document.createElement('div');\n",
              "        docLink.innerHTML = docLinkHtml;\n",
              "        element.appendChild(docLink);\n",
              "      }\n",
              "    </script>\n",
              "  </div>\n",
              "\n",
              "\n",
              "<div id=\"df-16bb400e-c693-4a27-8354-0434e68b79cc\">\n",
              "  <button class=\"colab-df-quickchart\" onclick=\"quickchart('df-16bb400e-c693-4a27-8354-0434e68b79cc')\"\n",
              "            title=\"Suggest charts.\"\n",
              "            style=\"display:none;\">\n",
              "\n",
              "<svg xmlns=\"http://www.w3.org/2000/svg\" height=\"24px\"viewBox=\"0 0 24 24\"\n",
              "     width=\"24px\">\n",
              "    <g>\n",
              "        <path d=\"M19 3H5c-1.1 0-2 .9-2 2v14c0 1.1.9 2 2 2h14c1.1 0 2-.9 2-2V5c0-1.1-.9-2-2-2zM9 17H7v-7h2v7zm4 0h-2V7h2v10zm4 0h-2v-4h2v4z\"/>\n",
              "    </g>\n",
              "</svg>\n",
              "  </button>\n",
              "\n",
              "<style>\n",
              "  .colab-df-quickchart {\n",
              "      --bg-color: #E8F0FE;\n",
              "      --fill-color: #1967D2;\n",
              "      --hover-bg-color: #E2EBFA;\n",
              "      --hover-fill-color: #174EA6;\n",
              "      --disabled-fill-color: #AAA;\n",
              "      --disabled-bg-color: #DDD;\n",
              "  }\n",
              "\n",
              "  [theme=dark] .colab-df-quickchart {\n",
              "      --bg-color: #3B4455;\n",
              "      --fill-color: #D2E3FC;\n",
              "      --hover-bg-color: #434B5C;\n",
              "      --hover-fill-color: #FFFFFF;\n",
              "      --disabled-bg-color: #3B4455;\n",
              "      --disabled-fill-color: #666;\n",
              "  }\n",
              "\n",
              "  .colab-df-quickchart {\n",
              "    background-color: var(--bg-color);\n",
              "    border: none;\n",
              "    border-radius: 50%;\n",
              "    cursor: pointer;\n",
              "    display: none;\n",
              "    fill: var(--fill-color);\n",
              "    height: 32px;\n",
              "    padding: 0;\n",
              "    width: 32px;\n",
              "  }\n",
              "\n",
              "  .colab-df-quickchart:hover {\n",
              "    background-color: var(--hover-bg-color);\n",
              "    box-shadow: 0 1px 2px rgba(60, 64, 67, 0.3), 0 1px 3px 1px rgba(60, 64, 67, 0.15);\n",
              "    fill: var(--button-hover-fill-color);\n",
              "  }\n",
              "\n",
              "  .colab-df-quickchart-complete:disabled,\n",
              "  .colab-df-quickchart-complete:disabled:hover {\n",
              "    background-color: var(--disabled-bg-color);\n",
              "    fill: var(--disabled-fill-color);\n",
              "    box-shadow: none;\n",
              "  }\n",
              "\n",
              "  .colab-df-spinner {\n",
              "    border: 2px solid var(--fill-color);\n",
              "    border-color: transparent;\n",
              "    border-bottom-color: var(--fill-color);\n",
              "    animation:\n",
              "      spin 1s steps(1) infinite;\n",
              "  }\n",
              "\n",
              "  @keyframes spin {\n",
              "    0% {\n",
              "      border-color: transparent;\n",
              "      border-bottom-color: var(--fill-color);\n",
              "      border-left-color: var(--fill-color);\n",
              "    }\n",
              "    20% {\n",
              "      border-color: transparent;\n",
              "      border-left-color: var(--fill-color);\n",
              "      border-top-color: var(--fill-color);\n",
              "    }\n",
              "    30% {\n",
              "      border-color: transparent;\n",
              "      border-left-color: var(--fill-color);\n",
              "      border-top-color: var(--fill-color);\n",
              "      border-right-color: var(--fill-color);\n",
              "    }\n",
              "    40% {\n",
              "      border-color: transparent;\n",
              "      border-right-color: var(--fill-color);\n",
              "      border-top-color: var(--fill-color);\n",
              "    }\n",
              "    60% {\n",
              "      border-color: transparent;\n",
              "      border-right-color: var(--fill-color);\n",
              "    }\n",
              "    80% {\n",
              "      border-color: transparent;\n",
              "      border-right-color: var(--fill-color);\n",
              "      border-bottom-color: var(--fill-color);\n",
              "    }\n",
              "    90% {\n",
              "      border-color: transparent;\n",
              "      border-bottom-color: var(--fill-color);\n",
              "    }\n",
              "  }\n",
              "</style>\n",
              "\n",
              "  <script>\n",
              "    async function quickchart(key) {\n",
              "      const quickchartButtonEl =\n",
              "        document.querySelector('#' + key + ' button');\n",
              "      quickchartButtonEl.disabled = true;  // To prevent multiple clicks.\n",
              "      quickchartButtonEl.classList.add('colab-df-spinner');\n",
              "      try {\n",
              "        const charts = await google.colab.kernel.invokeFunction(\n",
              "            'suggestCharts', [key], {});\n",
              "      } catch (error) {\n",
              "        console.error('Error during call to suggestCharts:', error);\n",
              "      }\n",
              "      quickchartButtonEl.classList.remove('colab-df-spinner');\n",
              "      quickchartButtonEl.classList.add('colab-df-quickchart-complete');\n",
              "    }\n",
              "    (() => {\n",
              "      let quickchartButtonEl =\n",
              "        document.querySelector('#df-16bb400e-c693-4a27-8354-0434e68b79cc button');\n",
              "      quickchartButtonEl.style.display =\n",
              "        google.colab.kernel.accessAllowed ? 'block' : 'none';\n",
              "    })();\n",
              "  </script>\n",
              "</div>\n",
              "    </div>\n",
              "  </div>\n"
            ]
          },
          "metadata": {},
          "execution_count": 309
        }
      ]
    },
    {
      "cell_type": "markdown",
      "source": [
        "## Etiquetamos los resultados generados por VADER\n",
        "\n",
        "En la columna compound los valores mayores a 0 son feedback positivos(1) y los valores menores o iguales a cero son feedbacks negativos (0)."
      ],
      "metadata": {
        "id": "ZxR9YhAzVDqX"
      }
    },
    {
      "cell_type": "code",
      "source": [
        "#merged_vader['feedback'] = 0\n",
        "\n",
        "merged_vader.loc[merged_vader['compound'] > 0.0000, 'feedback'] = 1\n",
        "\n",
        "merged_vader.loc[merged_vader['compound'] <= 0.0000, 'feedback'] = 0"
      ],
      "metadata": {
        "id": "C78hvS16ilzo"
      },
      "execution_count": 310,
      "outputs": []
    },
    {
      "cell_type": "code",
      "source": [
        "merged_vader = merged_vader.copy()\n",
        "merged_vader"
      ],
      "metadata": {
        "colab": {
          "base_uri": "https://localhost:8080/"
        },
        "id": "LqwJalexjva1",
        "outputId": "63c6c8aa-50ef-4716-98b7-f0fa07e55498"
      },
      "execution_count": 311,
      "outputs": [
        {
          "output_type": "execute_result",
          "data": {
            "text/plain": [
              "           id                                gmap_id  rating          city  \\\n",
              "0           0  0x8894b5a7a7909725:0xe4687299fd288188       5  Apalachicola   \n",
              "1           1  0x8894b5a7a7909725:0xe4687299fd288188       1  Apalachicola   \n",
              "2           2  0x8894b5a7a7909725:0xe4687299fd288188       5  Apalachicola   \n",
              "3           3  0x8894b5a7a7909725:0xe4687299fd288188       5  Apalachicola   \n",
              "4           4  0x8894b5a7a7909725:0xe4687299fd288188       5  Apalachicola   \n",
              "...       ...                                    ...     ...           ...   \n",
              "75133  124745   0x88dd6d2bdb3f72d3:0xedb51d8cd0bb01d       3   Lake Alfred   \n",
              "75134  124746   0x88dd6d2bdb3f72d3:0xedb51d8cd0bb01d       5   Lake Alfred   \n",
              "75135  124747   0x88dd6d2bdb3f72d3:0xedb51d8cd0bb01d       5   Lake Alfred   \n",
              "75136  124748   0x88dd6d2bdb3f72d3:0xedb51d8cd0bb01d       5   Lake Alfred   \n",
              "75137  124749   0x88dd6d2bdb3f72d3:0xedb51d8cd0bb01d       5   Lake Alfred   \n",
              "\n",
              "      states                                               text  length  \\\n",
              "0         FL  The salads were lackluster though with well wr...     337   \n",
              "1         FL  Love this place. Great little restaurant, with...      91   \n",
              "2         FL  A classy restaurant to match the charm of the ...     101   \n",
              "3         FL                     Great atmosphere and good food      30   \n",
              "4         FL                                          Good food       9   \n",
              "...      ...                                                ...     ...   \n",
              "75133     FL  Really good prices and variety to choose from,...     190   \n",
              "75134     FL  I have tried a few things and everything I got...     141   \n",
              "75135     FL      Greatest of restaurants, good place to eat!!!      45   \n",
              "75136     FL                      Great food, staff is amazing.      29   \n",
              "75137     FL                             Everything was great!!      22   \n",
              "\n",
              "       compound   neg    neu    pos  feedback  \n",
              "0        0.9576  0.02  0.699  0.281       1.0  \n",
              "1        0.9186  0.00  0.455  0.545       1.0  \n",
              "2        0.6808  0.00  0.714  0.286       1.0  \n",
              "3        0.7906  0.00  0.300  0.700       1.0  \n",
              "4        0.4404  0.00  0.256  0.744       1.0  \n",
              "...         ...   ...    ...    ...       ...  \n",
              "75133    0.8955  0.00  0.688  0.312       1.0  \n",
              "75134    0.7650  0.00  0.784  0.216       1.0  \n",
              "75135    0.8392  0.00  0.385  0.615       1.0  \n",
              "75136    0.8360  0.00  0.275  0.725       1.0  \n",
              "75137    0.6892  0.00  0.299  0.701       1.0  \n",
              "\n",
              "[75138 rows x 12 columns]"
            ],
            "text/html": [
              "\n",
              "  <div id=\"df-ba8ec821-96e7-44d2-b0d1-03e98987ccc0\" class=\"colab-df-container\">\n",
              "    <div>\n",
              "<style scoped>\n",
              "    .dataframe tbody tr th:only-of-type {\n",
              "        vertical-align: middle;\n",
              "    }\n",
              "\n",
              "    .dataframe tbody tr th {\n",
              "        vertical-align: top;\n",
              "    }\n",
              "\n",
              "    .dataframe thead th {\n",
              "        text-align: right;\n",
              "    }\n",
              "</style>\n",
              "<table border=\"1\" class=\"dataframe\">\n",
              "  <thead>\n",
              "    <tr style=\"text-align: right;\">\n",
              "      <th></th>\n",
              "      <th>id</th>\n",
              "      <th>gmap_id</th>\n",
              "      <th>rating</th>\n",
              "      <th>city</th>\n",
              "      <th>states</th>\n",
              "      <th>text</th>\n",
              "      <th>length</th>\n",
              "      <th>compound</th>\n",
              "      <th>neg</th>\n",
              "      <th>neu</th>\n",
              "      <th>pos</th>\n",
              "      <th>feedback</th>\n",
              "    </tr>\n",
              "  </thead>\n",
              "  <tbody>\n",
              "    <tr>\n",
              "      <th>0</th>\n",
              "      <td>0</td>\n",
              "      <td>0x8894b5a7a7909725:0xe4687299fd288188</td>\n",
              "      <td>5</td>\n",
              "      <td>Apalachicola</td>\n",
              "      <td>FL</td>\n",
              "      <td>The salads were lackluster though with well wr...</td>\n",
              "      <td>337</td>\n",
              "      <td>0.9576</td>\n",
              "      <td>0.02</td>\n",
              "      <td>0.699</td>\n",
              "      <td>0.281</td>\n",
              "      <td>1.0</td>\n",
              "    </tr>\n",
              "    <tr>\n",
              "      <th>1</th>\n",
              "      <td>1</td>\n",
              "      <td>0x8894b5a7a7909725:0xe4687299fd288188</td>\n",
              "      <td>1</td>\n",
              "      <td>Apalachicola</td>\n",
              "      <td>FL</td>\n",
              "      <td>Love this place. Great little restaurant, with...</td>\n",
              "      <td>91</td>\n",
              "      <td>0.9186</td>\n",
              "      <td>0.00</td>\n",
              "      <td>0.455</td>\n",
              "      <td>0.545</td>\n",
              "      <td>1.0</td>\n",
              "    </tr>\n",
              "    <tr>\n",
              "      <th>2</th>\n",
              "      <td>2</td>\n",
              "      <td>0x8894b5a7a7909725:0xe4687299fd288188</td>\n",
              "      <td>5</td>\n",
              "      <td>Apalachicola</td>\n",
              "      <td>FL</td>\n",
              "      <td>A classy restaurant to match the charm of the ...</td>\n",
              "      <td>101</td>\n",
              "      <td>0.6808</td>\n",
              "      <td>0.00</td>\n",
              "      <td>0.714</td>\n",
              "      <td>0.286</td>\n",
              "      <td>1.0</td>\n",
              "    </tr>\n",
              "    <tr>\n",
              "      <th>3</th>\n",
              "      <td>3</td>\n",
              "      <td>0x8894b5a7a7909725:0xe4687299fd288188</td>\n",
              "      <td>5</td>\n",
              "      <td>Apalachicola</td>\n",
              "      <td>FL</td>\n",
              "      <td>Great atmosphere and good food</td>\n",
              "      <td>30</td>\n",
              "      <td>0.7906</td>\n",
              "      <td>0.00</td>\n",
              "      <td>0.300</td>\n",
              "      <td>0.700</td>\n",
              "      <td>1.0</td>\n",
              "    </tr>\n",
              "    <tr>\n",
              "      <th>4</th>\n",
              "      <td>4</td>\n",
              "      <td>0x8894b5a7a7909725:0xe4687299fd288188</td>\n",
              "      <td>5</td>\n",
              "      <td>Apalachicola</td>\n",
              "      <td>FL</td>\n",
              "      <td>Good food</td>\n",
              "      <td>9</td>\n",
              "      <td>0.4404</td>\n",
              "      <td>0.00</td>\n",
              "      <td>0.256</td>\n",
              "      <td>0.744</td>\n",
              "      <td>1.0</td>\n",
              "    </tr>\n",
              "    <tr>\n",
              "      <th>...</th>\n",
              "      <td>...</td>\n",
              "      <td>...</td>\n",
              "      <td>...</td>\n",
              "      <td>...</td>\n",
              "      <td>...</td>\n",
              "      <td>...</td>\n",
              "      <td>...</td>\n",
              "      <td>...</td>\n",
              "      <td>...</td>\n",
              "      <td>...</td>\n",
              "      <td>...</td>\n",
              "      <td>...</td>\n",
              "    </tr>\n",
              "    <tr>\n",
              "      <th>75133</th>\n",
              "      <td>124745</td>\n",
              "      <td>0x88dd6d2bdb3f72d3:0xedb51d8cd0bb01d</td>\n",
              "      <td>3</td>\n",
              "      <td>Lake Alfred</td>\n",
              "      <td>FL</td>\n",
              "      <td>Really good prices and variety to choose from,...</td>\n",
              "      <td>190</td>\n",
              "      <td>0.8955</td>\n",
              "      <td>0.00</td>\n",
              "      <td>0.688</td>\n",
              "      <td>0.312</td>\n",
              "      <td>1.0</td>\n",
              "    </tr>\n",
              "    <tr>\n",
              "      <th>75134</th>\n",
              "      <td>124746</td>\n",
              "      <td>0x88dd6d2bdb3f72d3:0xedb51d8cd0bb01d</td>\n",
              "      <td>5</td>\n",
              "      <td>Lake Alfred</td>\n",
              "      <td>FL</td>\n",
              "      <td>I have tried a few things and everything I got...</td>\n",
              "      <td>141</td>\n",
              "      <td>0.7650</td>\n",
              "      <td>0.00</td>\n",
              "      <td>0.784</td>\n",
              "      <td>0.216</td>\n",
              "      <td>1.0</td>\n",
              "    </tr>\n",
              "    <tr>\n",
              "      <th>75135</th>\n",
              "      <td>124747</td>\n",
              "      <td>0x88dd6d2bdb3f72d3:0xedb51d8cd0bb01d</td>\n",
              "      <td>5</td>\n",
              "      <td>Lake Alfred</td>\n",
              "      <td>FL</td>\n",
              "      <td>Greatest of restaurants, good place to eat!!!</td>\n",
              "      <td>45</td>\n",
              "      <td>0.8392</td>\n",
              "      <td>0.00</td>\n",
              "      <td>0.385</td>\n",
              "      <td>0.615</td>\n",
              "      <td>1.0</td>\n",
              "    </tr>\n",
              "    <tr>\n",
              "      <th>75136</th>\n",
              "      <td>124748</td>\n",
              "      <td>0x88dd6d2bdb3f72d3:0xedb51d8cd0bb01d</td>\n",
              "      <td>5</td>\n",
              "      <td>Lake Alfred</td>\n",
              "      <td>FL</td>\n",
              "      <td>Great food, staff is amazing.</td>\n",
              "      <td>29</td>\n",
              "      <td>0.8360</td>\n",
              "      <td>0.00</td>\n",
              "      <td>0.275</td>\n",
              "      <td>0.725</td>\n",
              "      <td>1.0</td>\n",
              "    </tr>\n",
              "    <tr>\n",
              "      <th>75137</th>\n",
              "      <td>124749</td>\n",
              "      <td>0x88dd6d2bdb3f72d3:0xedb51d8cd0bb01d</td>\n",
              "      <td>5</td>\n",
              "      <td>Lake Alfred</td>\n",
              "      <td>FL</td>\n",
              "      <td>Everything was great!!</td>\n",
              "      <td>22</td>\n",
              "      <td>0.6892</td>\n",
              "      <td>0.00</td>\n",
              "      <td>0.299</td>\n",
              "      <td>0.701</td>\n",
              "      <td>1.0</td>\n",
              "    </tr>\n",
              "  </tbody>\n",
              "</table>\n",
              "<p>75138 rows × 12 columns</p>\n",
              "</div>\n",
              "    <div class=\"colab-df-buttons\">\n",
              "\n",
              "  <div class=\"colab-df-container\">\n",
              "    <button class=\"colab-df-convert\" onclick=\"convertToInteractive('df-ba8ec821-96e7-44d2-b0d1-03e98987ccc0')\"\n",
              "            title=\"Convert this dataframe to an interactive table.\"\n",
              "            style=\"display:none;\">\n",
              "\n",
              "  <svg xmlns=\"http://www.w3.org/2000/svg\" height=\"24px\" viewBox=\"0 -960 960 960\">\n",
              "    <path d=\"M120-120v-720h720v720H120Zm60-500h600v-160H180v160Zm220 220h160v-160H400v160Zm0 220h160v-160H400v160ZM180-400h160v-160H180v160Zm440 0h160v-160H620v160ZM180-180h160v-160H180v160Zm440 0h160v-160H620v160Z\"/>\n",
              "  </svg>\n",
              "    </button>\n",
              "\n",
              "  <style>\n",
              "    .colab-df-container {\n",
              "      display:flex;\n",
              "      gap: 12px;\n",
              "    }\n",
              "\n",
              "    .colab-df-convert {\n",
              "      background-color: #E8F0FE;\n",
              "      border: none;\n",
              "      border-radius: 50%;\n",
              "      cursor: pointer;\n",
              "      display: none;\n",
              "      fill: #1967D2;\n",
              "      height: 32px;\n",
              "      padding: 0 0 0 0;\n",
              "      width: 32px;\n",
              "    }\n",
              "\n",
              "    .colab-df-convert:hover {\n",
              "      background-color: #E2EBFA;\n",
              "      box-shadow: 0px 1px 2px rgba(60, 64, 67, 0.3), 0px 1px 3px 1px rgba(60, 64, 67, 0.15);\n",
              "      fill: #174EA6;\n",
              "    }\n",
              "\n",
              "    .colab-df-buttons div {\n",
              "      margin-bottom: 4px;\n",
              "    }\n",
              "\n",
              "    [theme=dark] .colab-df-convert {\n",
              "      background-color: #3B4455;\n",
              "      fill: #D2E3FC;\n",
              "    }\n",
              "\n",
              "    [theme=dark] .colab-df-convert:hover {\n",
              "      background-color: #434B5C;\n",
              "      box-shadow: 0px 1px 3px 1px rgba(0, 0, 0, 0.15);\n",
              "      filter: drop-shadow(0px 1px 2px rgba(0, 0, 0, 0.3));\n",
              "      fill: #FFFFFF;\n",
              "    }\n",
              "  </style>\n",
              "\n",
              "    <script>\n",
              "      const buttonEl =\n",
              "        document.querySelector('#df-ba8ec821-96e7-44d2-b0d1-03e98987ccc0 button.colab-df-convert');\n",
              "      buttonEl.style.display =\n",
              "        google.colab.kernel.accessAllowed ? 'block' : 'none';\n",
              "\n",
              "      async function convertToInteractive(key) {\n",
              "        const element = document.querySelector('#df-ba8ec821-96e7-44d2-b0d1-03e98987ccc0');\n",
              "        const dataTable =\n",
              "          await google.colab.kernel.invokeFunction('convertToInteractive',\n",
              "                                                    [key], {});\n",
              "        if (!dataTable) return;\n",
              "\n",
              "        const docLinkHtml = 'Like what you see? Visit the ' +\n",
              "          '<a target=\"_blank\" href=https://colab.research.google.com/notebooks/data_table.ipynb>data table notebook</a>'\n",
              "          + ' to learn more about interactive tables.';\n",
              "        element.innerHTML = '';\n",
              "        dataTable['output_type'] = 'display_data';\n",
              "        await google.colab.output.renderOutput(dataTable, element);\n",
              "        const docLink = document.createElement('div');\n",
              "        docLink.innerHTML = docLinkHtml;\n",
              "        element.appendChild(docLink);\n",
              "      }\n",
              "    </script>\n",
              "  </div>\n",
              "\n",
              "\n",
              "<div id=\"df-4530d1b5-ab3b-4a06-9ef3-32d9c31a6ab6\">\n",
              "  <button class=\"colab-df-quickchart\" onclick=\"quickchart('df-4530d1b5-ab3b-4a06-9ef3-32d9c31a6ab6')\"\n",
              "            title=\"Suggest charts.\"\n",
              "            style=\"display:none;\">\n",
              "\n",
              "<svg xmlns=\"http://www.w3.org/2000/svg\" height=\"24px\"viewBox=\"0 0 24 24\"\n",
              "     width=\"24px\">\n",
              "    <g>\n",
              "        <path d=\"M19 3H5c-1.1 0-2 .9-2 2v14c0 1.1.9 2 2 2h14c1.1 0 2-.9 2-2V5c0-1.1-.9-2-2-2zM9 17H7v-7h2v7zm4 0h-2V7h2v10zm4 0h-2v-4h2v4z\"/>\n",
              "    </g>\n",
              "</svg>\n",
              "  </button>\n",
              "\n",
              "<style>\n",
              "  .colab-df-quickchart {\n",
              "      --bg-color: #E8F0FE;\n",
              "      --fill-color: #1967D2;\n",
              "      --hover-bg-color: #E2EBFA;\n",
              "      --hover-fill-color: #174EA6;\n",
              "      --disabled-fill-color: #AAA;\n",
              "      --disabled-bg-color: #DDD;\n",
              "  }\n",
              "\n",
              "  [theme=dark] .colab-df-quickchart {\n",
              "      --bg-color: #3B4455;\n",
              "      --fill-color: #D2E3FC;\n",
              "      --hover-bg-color: #434B5C;\n",
              "      --hover-fill-color: #FFFFFF;\n",
              "      --disabled-bg-color: #3B4455;\n",
              "      --disabled-fill-color: #666;\n",
              "  }\n",
              "\n",
              "  .colab-df-quickchart {\n",
              "    background-color: var(--bg-color);\n",
              "    border: none;\n",
              "    border-radius: 50%;\n",
              "    cursor: pointer;\n",
              "    display: none;\n",
              "    fill: var(--fill-color);\n",
              "    height: 32px;\n",
              "    padding: 0;\n",
              "    width: 32px;\n",
              "  }\n",
              "\n",
              "  .colab-df-quickchart:hover {\n",
              "    background-color: var(--hover-bg-color);\n",
              "    box-shadow: 0 1px 2px rgba(60, 64, 67, 0.3), 0 1px 3px 1px rgba(60, 64, 67, 0.15);\n",
              "    fill: var(--button-hover-fill-color);\n",
              "  }\n",
              "\n",
              "  .colab-df-quickchart-complete:disabled,\n",
              "  .colab-df-quickchart-complete:disabled:hover {\n",
              "    background-color: var(--disabled-bg-color);\n",
              "    fill: var(--disabled-fill-color);\n",
              "    box-shadow: none;\n",
              "  }\n",
              "\n",
              "  .colab-df-spinner {\n",
              "    border: 2px solid var(--fill-color);\n",
              "    border-color: transparent;\n",
              "    border-bottom-color: var(--fill-color);\n",
              "    animation:\n",
              "      spin 1s steps(1) infinite;\n",
              "  }\n",
              "\n",
              "  @keyframes spin {\n",
              "    0% {\n",
              "      border-color: transparent;\n",
              "      border-bottom-color: var(--fill-color);\n",
              "      border-left-color: var(--fill-color);\n",
              "    }\n",
              "    20% {\n",
              "      border-color: transparent;\n",
              "      border-left-color: var(--fill-color);\n",
              "      border-top-color: var(--fill-color);\n",
              "    }\n",
              "    30% {\n",
              "      border-color: transparent;\n",
              "      border-left-color: var(--fill-color);\n",
              "      border-top-color: var(--fill-color);\n",
              "      border-right-color: var(--fill-color);\n",
              "    }\n",
              "    40% {\n",
              "      border-color: transparent;\n",
              "      border-right-color: var(--fill-color);\n",
              "      border-top-color: var(--fill-color);\n",
              "    }\n",
              "    60% {\n",
              "      border-color: transparent;\n",
              "      border-right-color: var(--fill-color);\n",
              "    }\n",
              "    80% {\n",
              "      border-color: transparent;\n",
              "      border-right-color: var(--fill-color);\n",
              "      border-bottom-color: var(--fill-color);\n",
              "    }\n",
              "    90% {\n",
              "      border-color: transparent;\n",
              "      border-bottom-color: var(--fill-color);\n",
              "    }\n",
              "  }\n",
              "</style>\n",
              "\n",
              "  <script>\n",
              "    async function quickchart(key) {\n",
              "      const quickchartButtonEl =\n",
              "        document.querySelector('#' + key + ' button');\n",
              "      quickchartButtonEl.disabled = true;  // To prevent multiple clicks.\n",
              "      quickchartButtonEl.classList.add('colab-df-spinner');\n",
              "      try {\n",
              "        const charts = await google.colab.kernel.invokeFunction(\n",
              "            'suggestCharts', [key], {});\n",
              "      } catch (error) {\n",
              "        console.error('Error during call to suggestCharts:', error);\n",
              "      }\n",
              "      quickchartButtonEl.classList.remove('colab-df-spinner');\n",
              "      quickchartButtonEl.classList.add('colab-df-quickchart-complete');\n",
              "    }\n",
              "    (() => {\n",
              "      let quickchartButtonEl =\n",
              "        document.querySelector('#df-4530d1b5-ab3b-4a06-9ef3-32d9c31a6ab6 button');\n",
              "      quickchartButtonEl.style.display =\n",
              "        google.colab.kernel.accessAllowed ? 'block' : 'none';\n",
              "    })();\n",
              "  </script>\n",
              "</div>\n",
              "    </div>\n",
              "  </div>\n"
            ]
          },
          "metadata": {},
          "execution_count": 311
        }
      ]
    },
    {
      "cell_type": "code",
      "source": [
        "#merged_vader.drop(columns=['text','length'], inplace=True)\n",
        "merged_vader.to_csv('/content/drive/MyDrive/Otros/googlemaps_review_analisis_sentimiento.csv')"
      ],
      "metadata": {
        "id": "vnmQiLucUwai"
      },
      "execution_count": 312,
      "outputs": []
    },
    {
      "cell_type": "markdown",
      "source": [
        "# Histograma 3: Distribucion de Etiquetas por Numero de Caracteres"
      ],
      "metadata": {
        "id": "qvlx9ryFVMci"
      }
    },
    {
      "cell_type": "code",
      "source": [
        "merged_vader.hist(column='length', by='feedback', bins=50, figsize=(10,4), color='Blue')"
      ],
      "metadata": {
        "colab": {
          "base_uri": "https://localhost:8080/",
          "height": 440
        },
        "id": "OBYpJFKkmLHH",
        "outputId": "ab995132-fb35-4327-e1a3-6af00fc58134"
      },
      "execution_count": 338,
      "outputs": [
        {
          "output_type": "execute_result",
          "data": {
            "text/plain": [
              "array([<Axes: title={'center': '0.0'}>, <Axes: title={'center': '1.0'}>],\n",
              "      dtype=object)"
            ]
          },
          "metadata": {},
          "execution_count": 338
        },
        {
          "output_type": "display_data",
          "data": {
            "text/plain": [
              "<Figure size 1000x400 with 2 Axes>"
            ],
            "image/png": "[encoded data removed]"
          },
          "metadata": {}
        }
      ]
    },
    {
      "cell_type": "markdown",
      "source": [
        "Del histograma podemos ver que las etiquetas (0, 1) estan desbalanceadas, lo que sugiere realizar un cros validation mad adelante."
      ],
      "metadata": {
        "id": "scyoURhbNmap"
      }
    },
    {
      "cell_type": "code",
      "source": [
        "city_scores = merged_vader.groupby('city')['compound'].mean().reset_index()\n",
        "\n",
        "city_scores = city_scores.sort_values(by='compound', ascending=False)\n",
        "\n",
        "city_scores"
      ],
      "metadata": {
        "colab": {
          "base_uri": "https://localhost:8080/"
        },
        "id": "x3xvSgVOr5Vu",
        "outputId": "9d4ea5ba-ad27-4952-d8ff-202d7f2143ec"
      },
      "execution_count": 314,
      "outputs": [
        {
          "output_type": "execute_result",
          "data": {
            "text/plain": [
              "                 city  compound\n",
              "95        Lake Alfred  0.880854\n",
              "25          Cedar Key  0.869550\n",
              "79       Holmes Beach  0.845506\n",
              "83        Interlachen  0.826292\n",
              "210          Tequesta  0.815120\n",
              "..                ...       ...\n",
              "106  Lauderdale Lakes  0.239505\n",
              "229      Winter Haven  0.225295\n",
              "110  Lighthouse Point  0.185020\n",
              "225         Williston  0.131145\n",
              "92   Keystone Heights  0.093529\n",
              "\n",
              "[234 rows x 2 columns]"
            ],
            "text/html": [
              "\n",
              "  <div id=\"df-0091c629-989c-4b81-b5e7-69e96fcc94db\" class=\"colab-df-container\">\n",
              "    <div>\n",
              "<style scoped>\n",
              "    .dataframe tbody tr th:only-of-type {\n",
              "        vertical-align: middle;\n",
              "    }\n",
              "\n",
              "    .dataframe tbody tr th {\n",
              "        vertical-align: top;\n",
              "    }\n",
              "\n",
              "    .dataframe thead th {\n",
              "        text-align: right;\n",
              "    }\n",
              "</style>\n",
              "<table border=\"1\" class=\"dataframe\">\n",
              "  <thead>\n",
              "    <tr style=\"text-align: right;\">\n",
              "      <th></th>\n",
              "      <th>city</th>\n",
              "      <th>compound</th>\n",
              "    </tr>\n",
              "  </thead>\n",
              "  <tbody>\n",
              "    <tr>\n",
              "      <th>95</th>\n",
              "      <td>Lake Alfred</td>\n",
              "      <td>0.880854</td>\n",
              "    </tr>\n",
              "    <tr>\n",
              "      <th>25</th>\n",
              "      <td>Cedar Key</td>\n",
              "      <td>0.869550</td>\n",
              "    </tr>\n",
              "    <tr>\n",
              "      <th>79</th>\n",
              "      <td>Holmes Beach</td>\n",
              "      <td>0.845506</td>\n",
              "    </tr>\n",
              "    <tr>\n",
              "      <th>83</th>\n",
              "      <td>Interlachen</td>\n",
              "      <td>0.826292</td>\n",
              "    </tr>\n",
              "    <tr>\n",
              "      <th>210</th>\n",
              "      <td>Tequesta</td>\n",
              "      <td>0.815120</td>\n",
              "    </tr>\n",
              "    <tr>\n",
              "      <th>...</th>\n",
              "      <td>...</td>\n",
              "      <td>...</td>\n",
              "    </tr>\n",
              "    <tr>\n",
              "      <th>106</th>\n",
              "      <td>Lauderdale Lakes</td>\n",
              "      <td>0.239505</td>\n",
              "    </tr>\n",
              "    <tr>\n",
              "      <th>229</th>\n",
              "      <td>Winter Haven</td>\n",
              "      <td>0.225295</td>\n",
              "    </tr>\n",
              "    <tr>\n",
              "      <th>110</th>\n",
              "      <td>Lighthouse Point</td>\n",
              "      <td>0.185020</td>\n",
              "    </tr>\n",
              "    <tr>\n",
              "      <th>225</th>\n",
              "      <td>Williston</td>\n",
              "      <td>0.131145</td>\n",
              "    </tr>\n",
              "    <tr>\n",
              "      <th>92</th>\n",
              "      <td>Keystone Heights</td>\n",
              "      <td>0.093529</td>\n",
              "    </tr>\n",
              "  </tbody>\n",
              "</table>\n",
              "<p>234 rows × 2 columns</p>\n",
              "</div>\n",
              "    <div class=\"colab-df-buttons\">\n",
              "\n",
              "  <div class=\"colab-df-container\">\n",
              "    <button class=\"colab-df-convert\" onclick=\"convertToInteractive('df-0091c629-989c-4b81-b5e7-69e96fcc94db')\"\n",
              "            title=\"Convert this dataframe to an interactive table.\"\n",
              "            style=\"display:none;\">\n",
              "\n",
              "  <svg xmlns=\"http://www.w3.org/2000/svg\" height=\"24px\" viewBox=\"0 -960 960 960\">\n",
              "    <path d=\"M120-120v-720h720v720H120Zm60-500h600v-160H180v160Zm220 220h160v-160H400v160Zm0 220h160v-160H400v160ZM180-400h160v-160H180v160Zm440 0h160v-160H620v160ZM180-180h160v-160H180v160Zm440 0h160v-160H620v160Z\"/>\n",
              "  </svg>\n",
              "    </button>\n",
              "\n",
              "  <style>\n",
              "    .colab-df-container {\n",
              "      display:flex;\n",
              "      gap: 12px;\n",
              "    }\n",
              "\n",
              "    .colab-df-convert {\n",
              "      background-color: #E8F0FE;\n",
              "      border: none;\n",
              "      border-radius: 50%;\n",
              "      cursor: pointer;\n",
              "      display: none;\n",
              "      fill: #1967D2;\n",
              "      height: 32px;\n",
              "      padding: 0 0 0 0;\n",
              "      width: 32px;\n",
              "    }\n",
              "\n",
              "    .colab-df-convert:hover {\n",
              "      background-color: #E2EBFA;\n",
              "      box-shadow: 0px 1px 2px rgba(60, 64, 67, 0.3), 0px 1px 3px 1px rgba(60, 64, 67, 0.15);\n",
              "      fill: #174EA6;\n",
              "    }\n",
              "\n",
              "    .colab-df-buttons div {\n",
              "      margin-bottom: 4px;\n",
              "    }\n",
              "\n",
              "    [theme=dark] .colab-df-convert {\n",
              "      background-color: #3B4455;\n",
              "      fill: #D2E3FC;\n",
              "    }\n",
              "\n",
              "    [theme=dark] .colab-df-convert:hover {\n",
              "      background-color: #434B5C;\n",
              "      box-shadow: 0px 1px 3px 1px rgba(0, 0, 0, 0.15);\n",
              "      filter: drop-shadow(0px 1px 2px rgba(0, 0, 0, 0.3));\n",
              "      fill: #FFFFFF;\n",
              "    }\n",
              "  </style>\n",
              "\n",
              "    <script>\n",
              "      const buttonEl =\n",
              "        document.querySelector('#df-0091c629-989c-4b81-b5e7-69e96fcc94db button.colab-df-convert');\n",
              "      buttonEl.style.display =\n",
              "        google.colab.kernel.accessAllowed ? 'block' : 'none';\n",
              "\n",
              "      async function convertToInteractive(key) {\n",
              "        const element = document.querySelector('#df-0091c629-989c-4b81-b5e7-69e96fcc94db');\n",
              "        const dataTable =\n",
              "          await google.colab.kernel.invokeFunction('convertToInteractive',\n",
              "                                                    [key], {});\n",
              "        if (!dataTable) return;\n",
              "\n",
              "        const docLinkHtml = 'Like what you see? Visit the ' +\n",
              "          '<a target=\"_blank\" href=https://colab.research.google.com/notebooks/data_table.ipynb>data table notebook</a>'\n",
              "          + ' to learn more about interactive tables.';\n",
              "        element.innerHTML = '';\n",
              "        dataTable['output_type'] = 'display_data';\n",
              "        await google.colab.output.renderOutput(dataTable, element);\n",
              "        const docLink = document.createElement('div');\n",
              "        docLink.innerHTML = docLinkHtml;\n",
              "        element.appendChild(docLink);\n",
              "      }\n",
              "    </script>\n",
              "  </div>\n",
              "\n",
              "\n",
              "<div id=\"df-634f239f-1b26-4b79-bee5-28cfc4a17ecd\">\n",
              "  <button class=\"colab-df-quickchart\" onclick=\"quickchart('df-634f239f-1b26-4b79-bee5-28cfc4a17ecd')\"\n",
              "            title=\"Suggest charts.\"\n",
              "            style=\"display:none;\">\n",
              "\n",
              "<svg xmlns=\"http://www.w3.org/2000/svg\" height=\"24px\"viewBox=\"0 0 24 24\"\n",
              "     width=\"24px\">\n",
              "    <g>\n",
              "        <path d=\"M19 3H5c-1.1 0-2 .9-2 2v14c0 1.1.9 2 2 2h14c1.1 0 2-.9 2-2V5c0-1.1-.9-2-2-2zM9 17H7v-7h2v7zm4 0h-2V7h2v10zm4 0h-2v-4h2v4z\"/>\n",
              "    </g>\n",
              "</svg>\n",
              "  </button>\n",
              "\n",
              "<style>\n",
              "  .colab-df-quickchart {\n",
              "      --bg-color: #E8F0FE;\n",
              "      --fill-color: #1967D2;\n",
              "      --hover-bg-color: #E2EBFA;\n",
              "      --hover-fill-color: #174EA6;\n",
              "      --disabled-fill-color: #AAA;\n",
              "      --disabled-bg-color: #DDD;\n",
              "  }\n",
              "\n",
              "  [theme=dark] .colab-df-quickchart {\n",
              "      --bg-color: #3B4455;\n",
              "      --fill-color: #D2E3FC;\n",
              "      --hover-bg-color: #434B5C;\n",
              "      --hover-fill-color: #FFFFFF;\n",
              "      --disabled-bg-color: #3B4455;\n",
              "      --disabled-fill-color: #666;\n",
              "  }\n",
              "\n",
              "  .colab-df-quickchart {\n",
              "    background-color: var(--bg-color);\n",
              "    border: none;\n",
              "    border-radius: 50%;\n",
              "    cursor: pointer;\n",
              "    display: none;\n",
              "    fill: var(--fill-color);\n",
              "    height: 32px;\n",
              "    padding: 0;\n",
              "    width: 32px;\n",
              "  }\n",
              "\n",
              "  .colab-df-quickchart:hover {\n",
              "    background-color: var(--hover-bg-color);\n",
              "    box-shadow: 0 1px 2px rgba(60, 64, 67, 0.3), 0 1px 3px 1px rgba(60, 64, 67, 0.15);\n",
              "    fill: var(--button-hover-fill-color);\n",
              "  }\n",
              "\n",
              "  .colab-df-quickchart-complete:disabled,\n",
              "  .colab-df-quickchart-complete:disabled:hover {\n",
              "    background-color: var(--disabled-bg-color);\n",
              "    fill: var(--disabled-fill-color);\n",
              "    box-shadow: none;\n",
              "  }\n",
              "\n",
              "  .colab-df-spinner {\n",
              "    border: 2px solid var(--fill-color);\n",
              "    border-color: transparent;\n",
              "    border-bottom-color: var(--fill-color);\n",
              "    animation:\n",
              "      spin 1s steps(1) infinite;\n",
              "  }\n",
              "\n",
              "  @keyframes spin {\n",
              "    0% {\n",
              "      border-color: transparent;\n",
              "      border-bottom-color: var(--fill-color);\n",
              "      border-left-color: var(--fill-color);\n",
              "    }\n",
              "    20% {\n",
              "      border-color: transparent;\n",
              "      border-left-color: var(--fill-color);\n",
              "      border-top-color: var(--fill-color);\n",
              "    }\n",
              "    30% {\n",
              "      border-color: transparent;\n",
              "      border-left-color: var(--fill-color);\n",
              "      border-top-color: var(--fill-color);\n",
              "      border-right-color: var(--fill-color);\n",
              "    }\n",
              "    40% {\n",
              "      border-color: transparent;\n",
              "      border-right-color: var(--fill-color);\n",
              "      border-top-color: var(--fill-color);\n",
              "    }\n",
              "    60% {\n",
              "      border-color: transparent;\n",
              "      border-right-color: var(--fill-color);\n",
              "    }\n",
              "    80% {\n",
              "      border-color: transparent;\n",
              "      border-right-color: var(--fill-color);\n",
              "      border-bottom-color: var(--fill-color);\n",
              "    }\n",
              "    90% {\n",
              "      border-color: transparent;\n",
              "      border-bottom-color: var(--fill-color);\n",
              "    }\n",
              "  }\n",
              "</style>\n",
              "\n",
              "  <script>\n",
              "    async function quickchart(key) {\n",
              "      const quickchartButtonEl =\n",
              "        document.querySelector('#' + key + ' button');\n",
              "      quickchartButtonEl.disabled = true;  // To prevent multiple clicks.\n",
              "      quickchartButtonEl.classList.add('colab-df-spinner');\n",
              "      try {\n",
              "        const charts = await google.colab.kernel.invokeFunction(\n",
              "            'suggestCharts', [key], {});\n",
              "      } catch (error) {\n",
              "        console.error('Error during call to suggestCharts:', error);\n",
              "      }\n",
              "      quickchartButtonEl.classList.remove('colab-df-spinner');\n",
              "      quickchartButtonEl.classList.add('colab-df-quickchart-complete');\n",
              "    }\n",
              "    (() => {\n",
              "      let quickchartButtonEl =\n",
              "        document.querySelector('#df-634f239f-1b26-4b79-bee5-28cfc4a17ecd button');\n",
              "      quickchartButtonEl.style.display =\n",
              "        google.colab.kernel.accessAllowed ? 'block' : 'none';\n",
              "    })();\n",
              "  </script>\n",
              "</div>\n",
              "    </div>\n",
              "  </div>\n"
            ]
          },
          "metadata": {},
          "execution_count": 314
        }
      ]
    },
    {
      "cell_type": "markdown",
      "source": [
        "# Histograma 4: Relacion entre score compound y rating"
      ],
      "metadata": {
        "id": "VtuoD6x8VmkQ"
      }
    },
    {
      "cell_type": "code",
      "source": [
        "ax = sns.barplot(data=merged_vader, x='rating', y='compound', color='Blue')\n",
        "ax.set_title(\"Compound Stars by Rewiew\")\n",
        "plt.show()"
      ],
      "metadata": {
        "colab": {
          "base_uri": "https://localhost:8080/",
          "height": 477
        },
        "id": "WV2SnKS_37hI",
        "outputId": "766bf569-ccc3-4bd5-e3d9-74be75b17bdf"
      },
      "execution_count": 339,
      "outputs": [
        {
          "output_type": "display_data",
          "data": {
            "text/plain": [
              "<Figure size 640x480 with 1 Axes>"
            ],
            "image/png": "[encoded data removed]"
          },
          "metadata": {}
        }
      ]
    },
    {
      "cell_type": "markdown",
      "source": [
        "# Histograma 5: Relacion entre rating y scores (positive, neutral y negative)"
      ],
      "metadata": {
        "id": "4r30EU9QV5eH"
      }
    },
    {
      "cell_type": "code",
      "source": [
        "palettese = [\"#1F77B4\", \"#FF7F0E\", \"#2CA02C\", \"#D62728\", \"#9467BD\"]\n",
        "\n",
        "fig, axs = plt.subplots(1, 3, figsize=(12, 3))\n",
        "sns.set_palette(palettese)\n",
        "sns.barplot(data=merged_vader, x='rating', y='pos', ax=axs[0], color='Blue')\n",
        "sns.barplot(data=merged_vader, x='rating', y='neu', ax=axs[1], color='Blue')\n",
        "sns.barplot(data=merged_vader, x='rating', y='neg', ax=axs[2], color='Blue')\n",
        "axs[0].set_title('Positive')\n",
        "axs[1].set_title('Neutral')\n",
        "axs[2].set_title('Negative')\n",
        "\n",
        "sns.despine(left=True, right=True)\n",
        "plt.tight_layout()\n",
        "plt.show()"
      ],
      "metadata": {
        "colab": {
          "base_uri": "https://localhost:8080/",
          "height": 307
        },
        "id": "pkKr1taw5dF5",
        "outputId": "71d51c2e-dc6c-4433-bd92-1b89b117b179"
      },
      "execution_count": 340,
      "outputs": [
        {
          "output_type": "display_data",
          "data": {
            "text/plain": [
              "<Figure size 1200x300 with 3 Axes>"
            ],
            "image/png": "[encoded data removed]"
          },
          "metadata": {}
        }
      ]
    },
    {
      "cell_type": "code",
      "source": [
        "# Sentimiento positivo: El score mas positivo (vader no esta entrenado para diferenciar el sarcasmo)\n",
        "\n",
        "# De acuerdo al feedback\n",
        "\n",
        "merged_vader.query('feedback == 1').sort_values('pos', ascending=False)['text'].values[0]"
      ],
      "metadata": {
        "colab": {
          "base_uri": "https://localhost:8080/"
        },
        "id": "kkK07hrtd6pK",
        "outputId": "dae1df80-d0b7-4d7c-b006-59e6f9924c6c"
      },
      "execution_count": 317,
      "outputs": [
        {
          "output_type": "execute_result",
          "data": {
            "text/plain": [
              "'Nice'"
            ],
            "application/vnd.google.colaboratory.intrinsic+json": {
              "type": "string"
            }
          },
          "metadata": {},
          "execution_count": 317
        }
      ]
    },
    {
      "cell_type": "code",
      "source": [
        "# De acuerdo al rating\n",
        "\n",
        "merged_vader.query('rating == 5').sort_values('pos', ascending=False)['text'].values[0]"
      ],
      "metadata": {
        "colab": {
          "base_uri": "https://localhost:8080/"
        },
        "id": "MGCjvbe4f00h",
        "outputId": "6fc3a3c9-979b-4b1f-e96d-17054d0611cb"
      },
      "execution_count": 318,
      "outputs": [
        {
          "output_type": "execute_result",
          "data": {
            "text/plain": [
              "'Good'"
            ],
            "application/vnd.google.colaboratory.intrinsic+json": {
              "type": "string"
            }
          },
          "metadata": {},
          "execution_count": 318
        }
      ]
    },
    {
      "cell_type": "code",
      "source": [
        "# Sentimiento negativo: score mas negativo\n",
        "\n",
        "# De acuerdo a feedback\n",
        "\n",
        "merged_vader.query('feedback == 0').sort_values('neg', ascending=False)['text'].values[0]\n"
      ],
      "metadata": {
        "colab": {
          "base_uri": "https://localhost:8080/"
        },
        "id": "IqIys-lLgQVC",
        "outputId": "ea16a637-0af5-4515-d626-3f995ac15fd8"
      },
      "execution_count": 319,
      "outputs": [
        {
          "output_type": "execute_result",
          "data": {
            "text/plain": [
              "'Rude'"
            ],
            "application/vnd.google.colaboratory.intrinsic+json": {
              "type": "string"
            }
          },
          "metadata": {},
          "execution_count": 319
        }
      ]
    },
    {
      "cell_type": "code",
      "source": [
        "# De acuerdo al rating\n",
        "\n",
        "merged_vader.query('rating == 1').sort_values('neg', ascending=False)['text'].values[0]"
      ],
      "metadata": {
        "colab": {
          "base_uri": "https://localhost:8080/"
        },
        "id": "tw4Yqdvxgtxw",
        "outputId": "824ba297-614e-40be-f58a-97c7570cb17c"
      },
      "execution_count": 320,
      "outputs": [
        {
          "output_type": "execute_result",
          "data": {
            "text/plain": [
              "'Terrible'"
            ],
            "application/vnd.google.colaboratory.intrinsic+json": {
              "type": "string"
            }
          },
          "metadata": {},
          "execution_count": 320
        }
      ]
    },
    {
      "cell_type": "markdown",
      "source": [
        "# **II. Modelos de Clasificacion**"
      ],
      "metadata": {
        "id": "D7Et1rR-_AQI"
      }
    },
    {
      "cell_type": "markdown",
      "source": [
        "Preprocesamos los datos"
      ],
      "metadata": {
        "id": "hg9qjkvYWGI4"
      }
    },
    {
      "cell_type": "code",
      "source": [
        "import re\n",
        "import nltk\n",
        "from nltk.corpus import stopwords\n",
        "from nltk.stem.porter import PorterStemmer\n",
        "from sklearn.feature_extraction.text import CountVectorizer\n",
        "from sklearn.model_selection import (train_test_split,\n",
        "                                     TimeSeriesSplit,\n",
        "                                     KFold,\n",
        "                                     StratifiedKFold,\n",
        "                                     GroupKFold,\n",
        "                                     StratifiedGroupKFold,)\n",
        "from sklearn.ensemble import RandomForestClassifier\n",
        "from sklearn.metrics import confusion_matrix\n",
        "\n",
        "from sklearn.metrics import roc_auc_score, accuracy_score, precision_score, recall_score, f1_score\n",
        "\n",
        "def preprocess_text(text):\n",
        "    text = re.sub('[^a-zA-Z]', ' ', text)\n",
        "    text = text.lower()\n",
        "    text = text.split()\n",
        "    ps = PorterStemmer()\n",
        "    text = [ps.stem(word) for word in text if not word in set(stopwords.words('english'))]\n",
        "    text = ' '.join(text)\n",
        "    return text\n",
        "\n",
        "corpus = [preprocess_text(text) for text in merged_vader['text']]\n",
        "\n",
        "cv = CountVectorizer(max_features=1500)\n",
        "X = cv.fit_transform(corpus).toarray()  # This works like FEATURES!!\n",
        "y = merged_vader['feedback'].values  # This is my TARGET!\n",
        "\n"
      ],
      "metadata": {
        "id": "IlGFGDaJUvyX"
      },
      "execution_count": 321,
      "outputs": []
    },
    {
      "cell_type": "markdown",
      "source": [
        "## Dividiendo nuestros datos en datos de entrenamiento(train data) y datos de prueba (holdout_data)"
      ],
      "metadata": {
        "id": "WPEOL28rNkoW"
      }
    },
    {
      "cell_type": "code",
      "source": [
        "X_train, X_test, y_train, y_test = train_test_split(X, y, test_size = 0.20, random_state = 0)"
      ],
      "metadata": {
        "id": "sb5o3SKHN3DB"
      },
      "execution_count": 322,
      "outputs": []
    },
    {
      "cell_type": "markdown",
      "source": [
        "## **II.1 Randomforestclassifier**"
      ],
      "metadata": {
        "id": "dpsSYUqVDvxp"
      }
    },
    {
      "cell_type": "code",
      "source": [
        "# Fit the Random Forest classifier to the Training set\n",
        "classifier = RandomForestClassifier(n_estimators = 100, criterion = 'entropy', random_state = 0)\n",
        "classifier.fit(X_train, y_train)\n",
        "\n",
        "# Predict the Test set results\n",
        "y_pred = classifier.predict(X_test)\n"
      ],
      "metadata": {
        "id": "Ej0SK654Drlf",
        "colab": {
          "base_uri": "https://localhost:8080/"
        },
        "outputId": "9e4eb769-567f-4ae4-b093-d63650a0feb1"
      },
      "execution_count": 323,
      "outputs": [
        {
          "output_type": "execute_result",
          "data": {
            "text/plain": [
              "array([[ 2355,   709],\n",
              "       [  370, 11594]])"
            ]
          },
          "metadata": {},
          "execution_count": 323
        }
      ]
    },
    {
      "cell_type": "code",
      "source": [
        "# ACCURACY en el modelo de entrenamiento\n",
        "y_pred_train = classifier.predict(X_train)\n",
        "y_pred_train_probability = classifier.predict_proba(X_train)[:,1] # Este ultimo termino porque predict_proba da las probabilidades de 0 y 1(etiquetas), queremos el segundo\n",
        "\n",
        "\n",
        "acc_score = accuracy_score(y_train, y_pred_train)\n",
        "auc_score = roc_auc_score(y_train, y_pred_train_probability)\n",
        "\n",
        "print(f'El score del training set  en ACCURACY is: {acc_score:0.4f} y AUC de  {auc_score:0.4f}')"
      ],
      "metadata": {
        "id": "qex5l530-hEl",
        "colab": {
          "base_uri": "https://localhost:8080/"
        },
        "outputId": "fc2594f8-06cb-4367-c8b2-25949917ef70"
      },
      "execution_count": 324,
      "outputs": [
        {
          "output_type": "stream",
          "name": "stdout",
          "text": [
            "El score del training set  en ACCURACY is: 0.9947 y AUC de  0.9964\n"
          ]
        }
      ]
    },
    {
      "cell_type": "code",
      "source": [
        "# EN MODELO DE TEST (SI PUSIERAMOS EN PRODUCCION)\n",
        "\n",
        "y_pred_test = classifier.predict(X_test)\n",
        "y_pred_test_probability = classifier.predict_proba(X_test)[:,1] # Este ultimo termino porque predict_proba da las probabilidades de 0 y 1, queremos el segundo\n",
        "\n",
        "\n",
        "acc_score = accuracy_score(y_test, y_pred_test)\n",
        "auc_score = roc_auc_score(y_test, y_pred_test_probability)\n",
        "\n",
        "print(f'El score del training set  en ACCURACY is: {acc_score:0.4f} y AUC de  {auc_score:0.4f}')"
      ],
      "metadata": {
        "id": "yc1SKU3sIc_A",
        "colab": {
          "base_uri": "https://localhost:8080/"
        },
        "outputId": "cabb03b9-1e77-4508-8c15-e0856715c46d"
      },
      "execution_count": 325,
      "outputs": [
        {
          "output_type": "stream",
          "name": "stdout",
          "text": [
            "El score del training set  en ACCURACY is: 0.9282 y AUC de  0.9513\n"
          ]
        }
      ]
    },
    {
      "cell_type": "code",
      "source": [
        "# LINEA BASE\n",
        "\n",
        "accuracy_score(y_test, np.zeros_like(y_test)), roc_auc_score(y_test, np.zeros_like(y_test))\n"
      ],
      "metadata": {
        "id": "4YOhHRrrJABN",
        "colab": {
          "base_uri": "https://localhost:8080/"
        },
        "outputId": "838391c5-40eb-4d1d-bf03-16f9bc9003ac"
      },
      "execution_count": 326,
      "outputs": [
        {
          "output_type": "execute_result",
          "data": {
            "text/plain": [
              "(0.20388607931860528, 0.5)"
            ]
          },
          "metadata": {},
          "execution_count": 326
        }
      ]
    },
    {
      "cell_type": "markdown",
      "source": [
        "El accuracy del modelo test(produccion) es 92.82% mayor q el accuracy de linea base 20.39% y su AUC de 95.13% (lo que predice es correcto) es mejor q 0.5(a este nivel predice de manera random) del modelo linea base  por tanto el modelo predice bien en un 92.82% de los casos."
      ],
      "metadata": {
        "id": "Mwxmu72pJmwu"
      }
    },
    {
      "cell_type": "markdown",
      "source": [
        "# **II.1.1 Reporte de classificacion sin cross validation para Randomforestclassifier**\n",
        " **accuracy, precision, recall, and F1-score**"
      ],
      "metadata": {
        "id": "kcgd8lGNOFc6"
      }
    },
    {
      "cell_type": "code",
      "source": [
        "cm = confusion_matrix(y_test, y_pred)\n",
        "print(cm)\n",
        "\n",
        "from sklearn.metrics import accuracy_score, precision_score, recall_score, f1_score\n",
        "\n",
        "y_true = y_test\n",
        "\n",
        "accuracy = accuracy_score(y_true, y_pred)\n",
        "\n",
        "precision = precision_score(y_true, y_pred)\n",
        "\n",
        "recall = recall_score(y_true, y_pred)\n",
        "\n",
        "f1 = f1_score(y_true, y_pred)\n",
        "\n",
        "print(f\"Accuracy: {accuracy:0.4f} nivel de predicciones correctas (del total de predicciones).\")\n",
        "print(f\"Precision: {precision:0.4f} nivel de identificacion de SÓLO elementos relevantes(de true positive y false positive).\")\n",
        "print(f\"Recall: {recall:0.4f} nivel elementos relevantes seleccionados en la muestra(Dentro de todos los positivos(true positives and false negatives)).\") # the number of true positives divided by the number of true positives plus the number of false negatives\n",
        "print(f\"F1-score: {f1:0.4f} nivel de performance del modelo sobre la muestra (1 indica excelente precision y recall del modelo).\")\n"
      ],
      "metadata": {
        "id": "HsbW9EFLOSly",
        "colab": {
          "base_uri": "https://localhost:8080/"
        },
        "outputId": "f8279c08-6874-4045-ef30-5d2837edb5f8"
      },
      "execution_count": 327,
      "outputs": [
        {
          "output_type": "stream",
          "name": "stdout",
          "text": [
            "[[ 2355   709]\n",
            " [  370 11594]]\n",
            "Accuracy: 0.9282 nivel de predicciones correctas (del total de predicciones).\n",
            "Precision: 0.9424 nivel de identificacion de SÓLO elementos relevantes(de true positive y false positive).\n",
            "Recall: 0.9691 nivel elementos relevantes seleccionados en la muestra(Dentro de todos los positivos(true positives and false negatives)).\n",
            "F1-score: 0.9555 nivel de performance del modelo sobre la muestra (1 indica excelente precision y recall del modelo).\n"
          ]
        }
      ]
    },
    {
      "cell_type": "markdown",
      "source": [
        "# **II.1.2 Cross Validation para Randomforestclassifier**"
      ],
      "metadata": {
        "id": "cbbMAIarWvw-"
      }
    },
    {
      "cell_type": "code",
      "source": [
        "# X e y son NumPy arrays!!\n",
        "X_d = pd.DataFrame(X) # Convertimos X a DataFrame\n",
        "y_s = pd.Series(y)  # Convertimos y a Series\n",
        "\n",
        "# Instanciamos StratifiedKFold\n",
        "skf = StratifiedKFold(n_splits=5, shuffle=True, random_state=42)\n",
        "\n",
        "fold = 0\n",
        "aucs = []\n",
        "\n",
        "for train_idx, test_idx in skf.split(X_d, y_s):\n",
        "    X_train = X_d.loc[train_idx]\n",
        "    y_train = y_s[train_idx]  # Usar y_s como Series aqui\n",
        "\n",
        "    X_test = X_d.loc[test_idx]\n",
        "    y_test = y_s[test_idx]\n",
        "\n",
        "    clf = RandomForestClassifier(n_estimators = 100, criterion = 'entropy', random_state = 0)\n",
        "    clf.fit(X_train, y_train)\n",
        "\n",
        "    # Let's PREDICT on the test set\n",
        "    pred = clf.predict(X_test)\n",
        "    pred_prob = clf.predict_proba(X_test)[:, 1]\n",
        "\n",
        "    acc_score = accuracy_score(y_test, pred)\n",
        "    auc_score = roc_auc_score(y_test, pred_prob)\n",
        "\n",
        "    print(f'==========Fold {fold} ==========')\n",
        "    print(f'Test set ACCURACY: {acc_score:0.4f} and AUC: {auc_score:0.4f}')\n",
        "\n",
        "    fold += 1\n",
        "    aucs.append(auc_score)\n",
        "mean_fold_auc = np.mean(aucs)\n",
        "print(f'La MEDIA AUC es: {mean_fold_auc:0.4f}')"
      ],
      "metadata": {
        "id": "hVtltpnSWzBR",
        "colab": {
          "base_uri": "https://localhost:8080/"
        },
        "outputId": "a0e00f50-ff54-4336-fda7-a9e9a6f375db"
      },
      "execution_count": 328,
      "outputs": [
        {
          "output_type": "stream",
          "name": "stdout",
          "text": [
            "==========Fold 0 ==========\n",
            "Test set ACCURACY: 0.9304 and AUC: 0.9511\n",
            "==========Fold 1 ==========\n",
            "Test set ACCURACY: 0.9302 and AUC: 0.9533\n",
            "==========Fold 2 ==========\n",
            "Test set ACCURACY: 0.9310 and AUC: 0.9533\n",
            "==========Fold 3 ==========\n",
            "Test set ACCURACY: 0.9273 and AUC: 0.9538\n",
            "==========Fold 4 ==========\n",
            "Test set ACCURACY: 0.9313 and AUC: 0.9505\n",
            "La MEDIA AUC es: 0.9524\n"
          ]
        }
      ]
    },
    {
      "cell_type": "markdown",
      "source": [
        "## **II.2 LGBMClassifier**"
      ],
      "metadata": {
        "id": "YnHKCdpWDdD3"
      }
    },
    {
      "cell_type": "code",
      "source": [
        "#pip install lightgbm"
      ],
      "metadata": {
        "id": "1_OamBNl9VJP"
      },
      "execution_count": 329,
      "outputs": []
    },
    {
      "cell_type": "code",
      "source": [
        "import lightgbm as lgb\n",
        "\n",
        "clf = lgb.LGBMClassifier(n_estimators=100)\n",
        "clf.fit(X,y)\n",
        "\n",
        "# let's PREDICT on training set\n",
        "\n",
        "pred = clf.predict(X_train)\n",
        "pred_prob = clf.predict_proba(X_train)"
      ],
      "metadata": {
        "id": "Syqa3MGTu1lQ",
        "colab": {
          "base_uri": "https://localhost:8080/"
        },
        "outputId": "0f16548c-9536-4bf6-ec0a-6f3d62f77914"
      },
      "execution_count": 330,
      "outputs": [
        {
          "output_type": "stream",
          "name": "stdout",
          "text": [
            "[LightGBM] [Info] Number of positive: 59980, number of negative: 15158\n",
            "[LightGBM] [Warning] Auto-choosing row-wise multi-threading, the overhead of testing was 1.414352 seconds.\n",
            "You can set `force_row_wise=true` to remove the overhead.\n",
            "And if memory is not enough, you can set `force_col_wise=true`.\n",
            "[LightGBM] [Info] Total Bins 6162\n",
            "[LightGBM] [Info] Number of data points in the train set: 75138, number of used features: 1500\n",
            "[LightGBM] [Info] [binary:BoostFromScore]: pavg=0.798265 -> initscore=1.375483\n",
            "[LightGBM] [Info] Start training from score 1.375483\n"
          ]
        }
      ]
    },
    {
      "cell_type": "code",
      "source": [
        "# We just want to find the probabilities of positive cases (1)\n",
        "\n",
        "pred_prob = clf.predict_proba(X_train)[:,1]"
      ],
      "metadata": {
        "id": "ou7veOXc-Ore"
      },
      "execution_count": 331,
      "outputs": []
    },
    {
      "cell_type": "code",
      "source": [
        "pred_prob"
      ],
      "metadata": {
        "id": "Fx1lgla1-I7k",
        "colab": {
          "base_uri": "https://localhost:8080/"
        },
        "outputId": "625065d9-78f7-4602-a5f4-1609e7c28618"
      },
      "execution_count": 332,
      "outputs": [
        {
          "output_type": "execute_result",
          "data": {
            "text/plain": [
              "array([0.99298822, 0.98732237, 0.21721664, ..., 0.98789795, 0.9248644 ,\n",
              "       0.98301628])"
            ]
          },
          "metadata": {},
          "execution_count": 332
        }
      ]
    },
    {
      "cell_type": "code",
      "source": [
        "acc_score = accuracy_score(y_train, pred)\n",
        "auc_score = roc_auc_score(y_train, pred_prob)\n",
        "\n",
        "print(f'El score del training set  en ACCURACY is: {acc_score:0.4f} y AUC de  {auc_score:0.4f}')"
      ],
      "metadata": {
        "id": "jBsLdMi8_txM",
        "colab": {
          "base_uri": "https://localhost:8080/"
        },
        "outputId": "4d7e9f8b-43bb-4c17-dcea-f3f92233c830"
      },
      "execution_count": 333,
      "outputs": [
        {
          "output_type": "stream",
          "name": "stdout",
          "text": [
            "El score del training set  en ACCURACY is: 0.9391 y AUC de  0.9624\n"
          ]
        }
      ]
    },
    {
      "cell_type": "code",
      "source": [
        "  # ON TEST SET\n",
        "\n",
        "pred = clf.predict(X_test)\n",
        "pred_prob = clf.predict_proba(X_test)[:,1]\n",
        "acc_score = accuracy_score(y_test, pred)\n",
        "auc_score = roc_auc_score(y_test, pred_prob)\n",
        "\n",
        "print(f'El score del training set  en ACCURACY is: {acc_score:0.4f} y AUC de  {auc_score:0.4f}')\n",
        "\n"
      ],
      "metadata": {
        "id": "vpEdubsxE9pe",
        "colab": {
          "base_uri": "https://localhost:8080/"
        },
        "outputId": "c442eed2-275a-43e6-aea5-170b1b68580d"
      },
      "execution_count": 334,
      "outputs": [
        {
          "output_type": "stream",
          "name": "stdout",
          "text": [
            "El score del training set  en ACCURACY is: 0.9391 y AUC de  0.9633\n"
          ]
        }
      ]
    },
    {
      "cell_type": "code",
      "source": [
        "# Linea base\n",
        "\n",
        "accuracy_score(y_test, np.zeros_like(y_test)), roc_auc_score(y_test, np.zeros_like(y_test))\n"
      ],
      "metadata": {
        "id": "IBGuJatPHZTz",
        "colab": {
          "base_uri": "https://localhost:8080/"
        },
        "outputId": "0fa2499b-6eb1-4094-8656-06dcc1285075"
      },
      "execution_count": 335,
      "outputs": [
        {
          "output_type": "execute_result",
          "data": {
            "text/plain": [
              "(0.20170360018633127, 0.5)"
            ]
          },
          "metadata": {},
          "execution_count": 335
        }
      ]
    },
    {
      "cell_type": "markdown",
      "source": [
        "Lo que encontramos es que el modelo aplicado a test set tiene un accuracy de 93.91% y el accuracy del modelo linea base tiene 20.17% de accuracy lo que permite concluir que el modelo test predice mejor que el linea base. Esto ultimo demuestra que la prediccion usando LGBM classifier de nuestros targets es bueno. Tambien esta conclusion es reforzada por un AUC de 0.96, lo que quiere decir que el modelo de classifica y diferencia bien bien los casos positivos de los negativos."
      ],
      "metadata": {
        "id": "tqCbcNgPIF2o"
      }
    },
    {
      "cell_type": "markdown",
      "source": [
        "# **II.2.1 Reporte de classificacion sin cross validation para LGBMCLASSIFIER**\n",
        "\n",
        " **accuracy, precision, recall, and F1-score**"
      ],
      "metadata": {
        "id": "3S8qOe7JOlEq"
      }
    },
    {
      "cell_type": "code",
      "source": [
        "cm = confusion_matrix(y_test, pred)\n",
        "print(cm)\n",
        "\n",
        "y_true = y_test\n",
        "\n",
        "accuracy = accuracy_score(y_true, pred)\n",
        "\n",
        "precision = precision_score(y_true, pred)\n",
        "\n",
        "recall = recall_score(y_true, pred)\n",
        "\n",
        "f1 = f1_score(y_true, pred)\n",
        "\n",
        "print(f\"Accuracy: {accuracy:0.4f} nivel de predicciones correctas (del total de predicciones).\")\n",
        "print(f\"Precision: {precision:0.4f} nivel de identificacion de SÓLO elementos relevantes(de true positive y false positive).\")\n",
        "print(f\"Recall: {recall:0.4f} nivel elementos relevantes seleccionados en la muestra(Dentro de todos los positivos(true positives and false negatives)).\")\n",
        "print(f\"F1-score: {f1:0.4f} nivel de performance del modelo sobre la muestra (1 indica excelente precision y recall del modelo).\")"
      ],
      "metadata": {
        "id": "PvKiyNXIOsgh",
        "colab": {
          "base_uri": "https://localhost:8080/"
        },
        "outputId": "3ce71b1c-190a-4c11-addb-95a08b295163"
      },
      "execution_count": 336,
      "outputs": [
        {
          "output_type": "stream",
          "name": "stdout",
          "text": [
            "[[ 2482   549]\n",
            " [  366 11630]]\n",
            "Accuracy: 0.9391 nivel de predicciones correctas (del total de predicciones).\n",
            "Precision: 0.9549 nivel de identificacion de SÓLO elementos relevantes(de true positive y false positive).\n",
            "Recall: 0.9695 nivel elementos relevantes seleccionados en la muestra(Dentro de todos los positivos(true positives and false negatives)).\n",
            "F1-score: 0.9622 nivel de performance del modelo sobre la muestra (1 indica excelente precision y recall del modelo).\n"
          ]
        }
      ]
    },
    {
      "cell_type": "markdown",
      "source": [
        "# **II.2.2 Cross Validation para LGBMclassifier**"
      ],
      "metadata": {
        "id": "H5icRCg9YeQx"
      }
    },
    {
      "cell_type": "code",
      "source": [
        "# Assuming X_d and y_s are NumPy arrays\n",
        "X_d = pd.DataFrame(X)\n",
        "y_s = pd.Series(y)  # Convert y_s to a Series\n",
        "\n",
        "# Initialize StratifiedKFold with the desired number of folds (e.g., 5)\n",
        "skf = StratifiedKFold(n_splits=5, shuffle=True, random_state=42)\n",
        "\n",
        "fold = 0\n",
        "aucs = []\n",
        "\n",
        "for train_idx, test_idx in skf.split(X_d, y_s):\n",
        "    X_train = X_d.loc[train_idx]\n",
        "    y_train = y_s[train_idx]  # Use y_s as a Series here\n",
        "\n",
        "    X_test = X_d.loc[test_idx]\n",
        "    y_test = y_s[test_idx]  # Use y_s as a Series here\n",
        "\n",
        "    clf = lgb.LGBMClassifier(n_estimators=100)\n",
        "    clf.fit(X_train, y_train)\n",
        "\n",
        "    # Let's PREDICT on the test set\n",
        "    pred = clf.predict(X_test)\n",
        "    pred_prob = clf.predict_proba(X_test)[:, 1]\n",
        "\n",
        "    acc_score = accuracy_score(y_test, pred)\n",
        "    auc_score = roc_auc_score(y_test, pred_prob)\n",
        "\n",
        "    print(f'==========Fold {fold} ==========')\n",
        "    print(f'Test set ACCURACY: {acc_score:0.4f} and AUC: {auc_score:0.4f}')\n",
        "\n",
        "    fold += 1\n",
        "    aucs.append(auc_score)\n",
        "mean_fold_auc = np.mean(aucs)\n",
        "print(f'La MEDIA AUC es: {mean_fold_auc:0.4f}')"
      ],
      "metadata": {
        "id": "ZGwp6cxgYd0s",
        "colab": {
          "base_uri": "https://localhost:8080/"
        },
        "outputId": "621e3e63-0f0a-4fac-db9a-4f49bfc4050e"
      },
      "execution_count": 337,
      "outputs": [
        {
          "output_type": "stream",
          "name": "stdout",
          "text": [
            "[LightGBM] [Info] Number of positive: 47984, number of negative: 12126\n",
            "[LightGBM] [Warning] Auto-choosing row-wise multi-threading, the overhead of testing was 1.133257 seconds.\n",
            "You can set `force_row_wise=true` to remove the overhead.\n",
            "And if memory is not enough, you can set `force_col_wise=true`.\n",
            "[LightGBM] [Info] Total Bins 5987\n",
            "[LightGBM] [Info] Number of data points in the train set: 60110, number of used features: 1500\n",
            "[LightGBM] [Info] [binary:BoostFromScore]: pavg=0.798270 -> initscore=1.375516\n",
            "[LightGBM] [Info] Start training from score 1.375516\n",
            "==========Fold 0 ==========\n",
            "Test set ACCURACY: 0.9327 and AUC: 0.9503\n",
            "[LightGBM] [Info] Number of positive: 47984, number of negative: 12126\n",
            "[LightGBM] [Warning] Auto-choosing row-wise multi-threading, the overhead of testing was 1.188286 seconds.\n",
            "You can set `force_row_wise=true` to remove the overhead.\n",
            "And if memory is not enough, you can set `force_col_wise=true`.\n",
            "[LightGBM] [Info] Total Bins 5931\n",
            "[LightGBM] [Info] Number of data points in the train set: 60110, number of used features: 1500\n",
            "[LightGBM] [Info] [binary:BoostFromScore]: pavg=0.798270 -> initscore=1.375516\n",
            "[LightGBM] [Info] Start training from score 1.375516\n",
            "==========Fold 1 ==========\n",
            "Test set ACCURACY: 0.9331 and AUC: 0.9544\n",
            "[LightGBM] [Info] Number of positive: 47984, number of negative: 12126\n",
            "[LightGBM] [Warning] Auto-choosing row-wise multi-threading, the overhead of testing was 1.818965 seconds.\n",
            "You can set `force_row_wise=true` to remove the overhead.\n",
            "And if memory is not enough, you can set `force_col_wise=true`.\n",
            "[LightGBM] [Info] Total Bins 5946\n",
            "[LightGBM] [Info] Number of data points in the train set: 60110, number of used features: 1500\n",
            "[LightGBM] [Info] [binary:BoostFromScore]: pavg=0.798270 -> initscore=1.375516\n",
            "[LightGBM] [Info] Start training from score 1.375516\n",
            "==========Fold 2 ==========\n",
            "Test set ACCURACY: 0.9340 and AUC: 0.9549\n",
            "[LightGBM] [Info] Number of positive: 47984, number of negative: 12127\n",
            "[LightGBM] [Warning] Auto-choosing row-wise multi-threading, the overhead of testing was 1.119033 seconds.\n",
            "You can set `force_row_wise=true` to remove the overhead.\n",
            "And if memory is not enough, you can set `force_col_wise=true`.\n",
            "[LightGBM] [Info] Total Bins 5982\n",
            "[LightGBM] [Info] Number of data points in the train set: 60111, number of used features: 1500\n",
            "[LightGBM] [Info] [binary:BoostFromScore]: pavg=0.798257 -> initscore=1.375433\n",
            "[LightGBM] [Info] Start training from score 1.375433\n",
            "==========Fold 3 ==========\n",
            "Test set ACCURACY: 0.9309 and AUC: 0.9518\n",
            "[LightGBM] [Info] Number of positive: 47984, number of negative: 12127\n",
            "[LightGBM] [Warning] Auto-choosing col-wise multi-threading, the overhead of testing was 1.156871 seconds.\n",
            "You can set `force_col_wise=true` to remove the overhead.\n",
            "[LightGBM] [Info] Total Bins 5960\n",
            "[LightGBM] [Info] Number of data points in the train set: 60111, number of used features: 1500\n",
            "[LightGBM] [Info] [binary:BoostFromScore]: pavg=0.798257 -> initscore=1.375433\n",
            "[LightGBM] [Info] Start training from score 1.375433\n",
            "==========Fold 4 ==========\n",
            "Test set ACCURACY: 0.9322 and AUC: 0.9531\n",
            "La MEDIA AUC es: 0.9529\n"
          ]
        }
      ]
    },
    {
      "cell_type": "markdown",
      "source": [
        "# **III. Conclusiones**"
      ],
      "metadata": {
        "id": "VcOKSNu-xu_O"
      }
    },
    {
      "cell_type": "markdown",
      "source": [
        "La mayoria de opiniones acerca de restaurants son expresadas con 500 palabras o menos y la mayoria de opiniones son positivas en 3 de 5 categorias de rating por compound score(ver histograma 1, 2 y 4).\n",
        "\n",
        "Una vez realizada la etiquetacion de los resultados de compound de VADER, se puede notar el desbalance de casos positivos (1) y casos negativos (0), lo que sesga la capacidad de prediccion de un modelo de clasificacion (ver histograma 3).\n",
        "\n",
        "Se comprueba la relacion directa que existe (de uno a uno) entre el score compound de Vader, la relacion directa entre el score positivo, la relacion inversa entre score negativo y el rating del restaurant respectivamente (ver histograma 4 y 5).Por ejemplo, si el restaurant tiene un rating de 1 es mas probable que tenga una mala percepcion o resultado negativo en el analisis de sentimiento.\n",
        "\n",
        "Los comentarios u opiniones(positivas o negativas) en googlemaps son mas diferenciados que en yelp, por ejemplo, en el histograma 4 la diferencia entre comentarios de 1 y 2 ratings son mucho mas diferenciados a los comentarios de 3,4 y 5 rating.\n",
        "\n",
        "De los modelos de clasificacion usados sin realizar validacion cruzada el score de accuracy es de un 94% en promedio y el AUC promedio de 96%. Despues de realizar la validacion cruzada en promedio(teniendo en cuenta los dos modelos) se obtiene un accuracy de 93% y un AUC de 95%. Lo anterior permite concluir que si pusieramos en produccion el modelo de machine learning para predecir comentarios positivos y negativos de acuerdo a Vader, este ultimo va a producir(asignar scores positivos) un 93% de outputs correctos (opiniones que realmente son positivas) y tendra un 7%  de error en asignar scores(positivos) a los comentarios.\n",
        "\n",
        "Comparando los resultados de yelp con los de google en terminos de accuracy, google presenta un mejor grado de prediccion de opiniones positivas en lo que respecta al valor al que un empresario/ cliente de restaurant podria acceder haciendo uso de los servicios de un restaurant. Los histogramas de ambos en cuanto al rating/stars por score compound muestran que en googlemaps se puede tener un mayor acceso a opiniones negativas tanto como positivas, lo que permite contrastar mejor que tipo de restaurants podrian ofrecer un mayor valor a los clientes y esto mismo podria ser usado para determinar mejoras en el servicio con otros datos complementarios.\n",
        "\n",
        "\n"
      ],
      "metadata": {
        "id": "o1pcbnwyxxmP"
      }
    }
  ]
}