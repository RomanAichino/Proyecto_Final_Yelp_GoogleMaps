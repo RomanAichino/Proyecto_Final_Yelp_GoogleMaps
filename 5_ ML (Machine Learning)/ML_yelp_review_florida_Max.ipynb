{
  "nbformat": 4,
  "nbformat_minor": 0,
  "metadata": {
    "colab": {
      "provenance": []
    },
    "kernelspec": {
      "name": "python3",
      "display_name": "Python 3"
    },
    "language_info": {
      "name": "python"
    },
    "widgets": {
      "application/vnd.jupyter.widget-state+json": {
        "eff9ddcc36c84fd28ab6ea4301d2844b": {
          "model_module": "@jupyter-widgets/controls",
          "model_name": "HBoxModel",
          "model_module_version": "1.5.0",
          "state": {
            "_dom_classes": [],
            "_model_module": "@jupyter-widgets/controls",
            "_model_module_version": "1.5.0",
            "_model_name": "HBoxModel",
            "_view_count": null,
            "_view_module": "@jupyter-widgets/controls",
            "_view_module_version": "1.5.0",
            "_view_name": "HBoxView",
            "box_style": "",
            "children": [
              "IPY_MODEL_f081c772169a4c5787ee832e791595d3",
              "IPY_MODEL_675c31c445ca4a178f9fe9bc0f349bdb",
              "IPY_MODEL_3d6eb983d36f482cbeab391814191a6a"
            ],
            "layout": "IPY_MODEL_7a56cf553db14503a4804c3a4d9afe6b"
          }
        },
        "f081c772169a4c5787ee832e791595d3": {
          "model_module": "@jupyter-widgets/controls",
          "model_name": "HTMLModel",
          "model_module_version": "1.5.0",
          "state": {
            "_dom_classes": [],
            "_model_module": "@jupyter-widgets/controls",
            "_model_module_version": "1.5.0",
            "_model_name": "HTMLModel",
            "_view_count": null,
            "_view_module": "@jupyter-widgets/controls",
            "_view_module_version": "1.5.0",
            "_view_name": "HTMLView",
            "description": "",
            "description_tooltip": null,
            "layout": "IPY_MODEL_d0a33b32cf874a808f0d291a6f5a0fd3",
            "placeholder": "​",
            "style": "IPY_MODEL_9a8f2a08d11043229f8973e9059445ef",
            "value": "100%"
          }
        },
        "675c31c445ca4a178f9fe9bc0f349bdb": {
          "model_module": "@jupyter-widgets/controls",
          "model_name": "FloatProgressModel",
          "model_module_version": "1.5.0",
          "state": {
            "_dom_classes": [],
            "_model_module": "@jupyter-widgets/controls",
            "_model_module_version": "1.5.0",
            "_model_name": "FloatProgressModel",
            "_view_count": null,
            "_view_module": "@jupyter-widgets/controls",
            "_view_module_version": "1.5.0",
            "_view_name": "ProgressView",
            "bar_style": "success",
            "description": "",
            "description_tooltip": null,
            "layout": "IPY_MODEL_dbbeae2e0fde4a27965b698e5ae22924",
            "max": 83000,
            "min": 0,
            "orientation": "horizontal",
            "style": "IPY_MODEL_f169234bdc6c490a924e3db65d81db65",
            "value": 83000
          }
        },
        "3d6eb983d36f482cbeab391814191a6a": {
          "model_module": "@jupyter-widgets/controls",
          "model_name": "HTMLModel",
          "model_module_version": "1.5.0",
          "state": {
            "_dom_classes": [],
            "_model_module": "@jupyter-widgets/controls",
            "_model_module_version": "1.5.0",
            "_model_name": "HTMLModel",
            "_view_count": null,
            "_view_module": "@jupyter-widgets/controls",
            "_view_module_version": "1.5.0",
            "_view_name": "HTMLView",
            "description": "",
            "description_tooltip": null,
            "layout": "IPY_MODEL_7652627f5b7b4eda8edec7223fb615be",
            "placeholder": "​",
            "style": "IPY_MODEL_42fd8d0b1d29432eba41fa8d7dd019d0",
            "value": " 83000/83000 [02:04&lt;00:00, 725.04it/s]"
          }
        },
        "7a56cf553db14503a4804c3a4d9afe6b": {
          "model_module": "@jupyter-widgets/base",
          "model_name": "LayoutModel",
          "model_module_version": "1.2.0",
          "state": {
            "_model_module": "@jupyter-widgets/base",
            "_model_module_version": "1.2.0",
            "_model_name": "LayoutModel",
            "_view_count": null,
            "_view_module": "@jupyter-widgets/base",
            "_view_module_version": "1.2.0",
            "_view_name": "LayoutView",
            "align_content": null,
            "align_items": null,
            "align_self": null,
            "border": null,
            "bottom": null,
            "display": null,
            "flex": null,
            "flex_flow": null,
            "grid_area": null,
            "grid_auto_columns": null,
            "grid_auto_flow": null,
            "grid_auto_rows": null,
            "grid_column": null,
            "grid_gap": null,
            "grid_row": null,
            "grid_template_areas": null,
            "grid_template_columns": null,
            "grid_template_rows": null,
            "height": null,
            "justify_content": null,
            "justify_items": null,
            "left": null,
            "margin": null,
            "max_height": null,
            "max_width": null,
            "min_height": null,
            "min_width": null,
            "object_fit": null,
            "object_position": null,
            "order": null,
            "overflow": null,
            "overflow_x": null,
            "overflow_y": null,
            "padding": null,
            "right": null,
            "top": null,
            "visibility": null,
            "width": null
          }
        },
        "d0a33b32cf874a808f0d291a6f5a0fd3": {
          "model_module": "@jupyter-widgets/base",
          "model_name": "LayoutModel",
          "model_module_version": "1.2.0",
          "state": {
            "_model_module": "@jupyter-widgets/base",
            "_model_module_version": "1.2.0",
            "_model_name": "LayoutModel",
            "_view_count": null,
            "_view_module": "@jupyter-widgets/base",
            "_view_module_version": "1.2.0",
            "_view_name": "LayoutView",
            "align_content": null,
            "align_items": null,
            "align_self": null,
            "border": null,
            "bottom": null,
            "display": null,
            "flex": null,
            "flex_flow": null,
            "grid_area": null,
            "grid_auto_columns": null,
            "grid_auto_flow": null,
            "grid_auto_rows": null,
            "grid_column": null,
            "grid_gap": null,
            "grid_row": null,
            "grid_template_areas": null,
            "grid_template_columns": null,
            "grid_template_rows": null,
            "height": null,
            "justify_content": null,
            "justify_items": null,
            "left": null,
            "margin": null,
            "max_height": null,
            "max_width": null,
            "min_height": null,
            "min_width": null,
            "object_fit": null,
            "object_position": null,
            "order": null,
            "overflow": null,
            "overflow_x": null,
            "overflow_y": null,
            "padding": null,
            "right": null,
            "top": null,
            "visibility": null,
            "width": null
          }
        },
        "9a8f2a08d11043229f8973e9059445ef": {
          "model_module": "@jupyter-widgets/controls",
          "model_name": "DescriptionStyleModel",
          "model_module_version": "1.5.0",
          "state": {
            "_model_module": "@jupyter-widgets/controls",
            "_model_module_version": "1.5.0",
            "_model_name": "DescriptionStyleModel",
            "_view_count": null,
            "_view_module": "@jupyter-widgets/base",
            "_view_module_version": "1.2.0",
            "_view_name": "StyleView",
            "description_width": ""
          }
        },
        "dbbeae2e0fde4a27965b698e5ae22924": {
          "model_module": "@jupyter-widgets/base",
          "model_name": "LayoutModel",
          "model_module_version": "1.2.0",
          "state": {
            "_model_module": "@jupyter-widgets/base",
            "_model_module_version": "1.2.0",
            "_model_name": "LayoutModel",
            "_view_count": null,
            "_view_module": "@jupyter-widgets/base",
            "_view_module_version": "1.2.0",
            "_view_name": "LayoutView",
            "align_content": null,
            "align_items": null,
            "align_self": null,
            "border": null,
            "bottom": null,
            "display": null,
            "flex": null,
            "flex_flow": null,
            "grid_area": null,
            "grid_auto_columns": null,
            "grid_auto_flow": null,
            "grid_auto_rows": null,
            "grid_column": null,
            "grid_gap": null,
            "grid_row": null,
            "grid_template_areas": null,
            "grid_template_columns": null,
            "grid_template_rows": null,
            "height": null,
            "justify_content": null,
            "justify_items": null,
            "left": null,
            "margin": null,
            "max_height": null,
            "max_width": null,
            "min_height": null,
            "min_width": null,
            "object_fit": null,
            "object_position": null,
            "order": null,
            "overflow": null,
            "overflow_x": null,
            "overflow_y": null,
            "padding": null,
            "right": null,
            "top": null,
            "visibility": null,
            "width": null
          }
        },
        "f169234bdc6c490a924e3db65d81db65": {
          "model_module": "@jupyter-widgets/controls",
          "model_name": "ProgressStyleModel",
          "model_module_version": "1.5.0",
          "state": {
            "_model_module": "@jupyter-widgets/controls",
            "_model_module_version": "1.5.0",
            "_model_name": "ProgressStyleModel",
            "_view_count": null,
            "_view_module": "@jupyter-widgets/base",
            "_view_module_version": "1.2.0",
            "_view_name": "StyleView",
            "bar_color": null,
            "description_width": ""
          }
        },
        "7652627f5b7b4eda8edec7223fb615be": {
          "model_module": "@jupyter-widgets/base",
          "model_name": "LayoutModel",
          "model_module_version": "1.2.0",
          "state": {
            "_model_module": "@jupyter-widgets/base",
            "_model_module_version": "1.2.0",
            "_model_name": "LayoutModel",
            "_view_count": null,
            "_view_module": "@jupyter-widgets/base",
            "_view_module_version": "1.2.0",
            "_view_name": "LayoutView",
            "align_content": null,
            "align_items": null,
            "align_self": null,
            "border": null,
            "bottom": null,
            "display": null,
            "flex": null,
            "flex_flow": null,
            "grid_area": null,
            "grid_auto_columns": null,
            "grid_auto_flow": null,
            "grid_auto_rows": null,
            "grid_column": null,
            "grid_gap": null,
            "grid_row": null,
            "grid_template_areas": null,
            "grid_template_columns": null,
            "grid_template_rows": null,
            "height": null,
            "justify_content": null,
            "justify_items": null,
            "left": null,
            "margin": null,
            "max_height": null,
            "max_width": null,
            "min_height": null,
            "min_width": null,
            "object_fit": null,
            "object_position": null,
            "order": null,
            "overflow": null,
            "overflow_x": null,
            "overflow_y": null,
            "padding": null,
            "right": null,
            "top": null,
            "visibility": null,
            "width": null
          }
        },
        "42fd8d0b1d29432eba41fa8d7dd019d0": {
          "model_module": "@jupyter-widgets/controls",
          "model_name": "DescriptionStyleModel",
          "model_module_version": "1.5.0",
          "state": {
            "_model_module": "@jupyter-widgets/controls",
            "_model_module_version": "1.5.0",
            "_model_name": "DescriptionStyleModel",
            "_view_count": null,
            "_view_module": "@jupyter-widgets/base",
            "_view_module_version": "1.2.0",
            "_view_name": "StyleView",
            "description_width": ""
          }
        }
      }
    }
  },
  "cells": [
    {
      "cell_type": "markdown",
      "source": [
        "# **Análisis de Sentimiento y Modelos de Clasificación para Determinar su Generalización en Yelp**"
      ],
      "metadata": {
        "id": "sgKrBpxEaNf3"
      }
    },
    {
      "cell_type": "markdown",
      "source": [
        "# **I. Análisis de Sentimiento con VADER**"
      ],
      "metadata": {
        "id": "DLz4AAe-BVgz"
      }
    },
    {
      "cell_type": "markdown",
      "source": [
        "# **I.1 Cargamos datasets y exploramos las columnas de los mismos**"
      ],
      "metadata": {
        "id": "_EaDdn6mCO5H"
      }
    },
    {
      "cell_type": "code",
      "source": [
        "from google.colab import drive\n",
        "drive.mount('/content/drive')"
      ],
      "metadata": {
        "colab": {
          "base_uri": "https://localhost:8080/"
        },
        "id": "GfZKcuLne9YY",
        "outputId": "a03dbdb8-efe7-4b93-846c-3cae3c4db61a"
      },
      "execution_count": 1,
      "outputs": [
        {
          "output_type": "stream",
          "name": "stdout",
          "text": [
            "Mounted at /content/drive\n"
          ]
        }
      ]
    },
    {
      "cell_type": "code",
      "execution_count": 2,
      "metadata": {
        "id": "U7bLb-oIl7Am"
      },
      "outputs": [],
      "source": [
        "import pandas as pd\n",
        "import numpy as np\n",
        "import matplotlib.pyplot as plt\n",
        "import seaborn as sns\n",
        "\n",
        "plt.style.use('ggplot')\n",
        "\n",
        "import nltk"
      ]
    },
    {
      "cell_type": "code",
      "source": [
        "df = pd.read_csv('/content/drive/MyDrive/Otros/yelp_review_florida.csv')"
      ],
      "metadata": {
        "id": "fSKHVF2Ul_Av"
      },
      "execution_count": 3,
      "outputs": []
    },
    {
      "cell_type": "code",
      "source": [
        "df.iloc[0]"
      ],
      "metadata": {
        "colab": {
          "base_uri": "https://localhost:8080/"
        },
        "id": "KHL5lW8FmPwm",
        "outputId": "b79ce95a-d869-499d-acf8-4cea0192c447"
      },
      "execution_count": 4,
      "outputs": [
        {
          "output_type": "execute_result",
          "data": {
            "text/plain": [
              "review_id                                 rGQRf8UafX7OTlMNN19I8A\n",
              "user_id                                   1WHRWwQmZOZDAhp2Qyny4g\n",
              "business_id                               uMvVYRgGNXf5boolA9HXTw\n",
              "stars_x                                                        5\n",
              "useful                                                         2\n",
              "funny                                                          0\n",
              "cool                                                           0\n",
              "text           My experience with Shalimar was nothing but wo...\n",
              "date                                                  2015-06-21\n",
              "time                                                    14:48:06\n",
              "Name: 0, dtype: object"
            ]
          },
          "metadata": {},
          "execution_count": 4
        }
      ]
    },
    {
      "cell_type": "code",
      "source": [
        "df.shape"
      ],
      "metadata": {
        "colab": {
          "base_uri": "https://localhost:8080/"
        },
        "id": "DBq57DY8nNh3",
        "outputId": "3a19f728-09b1-49b5-b6bb-79cc9e2972cf"
      },
      "execution_count": 5,
      "outputs": [
        {
          "output_type": "execute_result",
          "data": {
            "text/plain": [
              "(821793, 10)"
            ]
          },
          "metadata": {},
          "execution_count": 5
        }
      ]
    },
    {
      "cell_type": "code",
      "source": [
        "df['text'].iloc[0]"
      ],
      "metadata": {
        "colab": {
          "base_uri": "https://localhost:8080/",
          "height": 123
        },
        "id": "vm-necqlmV9Y",
        "outputId": "ae430538-63df-481d-ae33-315a54265f85"
      },
      "execution_count": 6,
      "outputs": [
        {
          "output_type": "execute_result",
          "data": {
            "text/plain": [
              "\"My experience with Shalimar was nothing but wonderful. \\nI wanted to get my engagement ring sized and was told over the phone that it could probably be done within the day. \\nWhen I brought it by, the team confirmed that the jeweler would be able to accommodate my same-day request and that it would be around $40 (simple band, decrease by three full sizes).\\nI checked my size one more time, confirmed, and left to let them do their thing.\\nWhen I came to pick up later that afternoon, the ring was too small. It's very important to note that Shalimar sized the ring perfectly, but that I made a mistake and should've gone up a half-size.\\nThe Shalimar group were completely understanding and accommodating, even resizing my ring back up and getting it back to me within an hour at no charge! Even though it was my mistake!\\nThe associates' attitudes in dealing with what was a pretty embarrassing situation instantly earned my satisfaction and loyalty as a customer. Very grateful for such a wonderful experience.\""
            ],
            "application/vnd.google.colaboratory.intrinsic+json": {
              "type": "string"
            }
          },
          "metadata": {},
          "execution_count": 6
        }
      ]
    },
    {
      "cell_type": "code",
      "source": [
        "df_b = pd.read_csv('/content/drive/MyDrive/Otros/yelp_business_florida_final.csv')"
      ],
      "metadata": {
        "colab": {
          "base_uri": "https://localhost:8080/"
        },
        "id": "IxnAQ14bnc3_",
        "outputId": "6a3724ab-cf60-42bf-e035-ccef66e974fa"
      },
      "execution_count": 7,
      "outputs": [
        {
          "output_type": "stream",
          "name": "stderr",
          "text": [
            "<ipython-input-7-68adbb6e9bf0>:1: DtypeWarning: Columns (5,6,7,8,9,10) have mixed types. Specify dtype option on import or set low_memory=False.\n",
            "  df_b = pd.read_csv('/content/drive/MyDrive/Otros/yelp_business_florida_final.csv')\n"
          ]
        }
      ]
    },
    {
      "cell_type": "code",
      "source": [
        "df_b.iloc[0]"
      ],
      "metadata": {
        "colab": {
          "base_uri": "https://localhost:8080/"
        },
        "id": "S4QVQoe9nmwI",
        "outputId": "e5e39851-9ba6-4bca-aa93-e549f8f5716b"
      },
      "execution_count": 8,
      "outputs": [
        {
          "output_type": "execute_result",
          "data": {
            "text/plain": [
              "business_id                   qkRM_2X51Yqxk3btlwAQIg\n",
              "name                                  Temple Beth-El\n",
              "address                           400 Pasadena Ave S\n",
              "city                                  St. Petersburg\n",
              "state                                             FL\n",
              "postal_code                                  33707.0\n",
              "latitude                                    27.76659\n",
              "longitude                                 -82.732983\n",
              "stars                                            3.5\n",
              "review_count                                       5\n",
              "is_open                                            1\n",
              "RestaurantsPriceRange2                     sin datos\n",
              "BusinessAcceptsCreditCards                 sin datos\n",
              "RestaurantsReservations                    sin datos\n",
              "GoodForKids                                sin datos\n",
              "RestaurantsDelivery                        sin datos\n",
              "OutdoorSeating                             sin datos\n",
              "Alcohol                                    sin datos\n",
              "RestaurantsGoodForGroups                   sin datos\n",
              "touristy                                   sin datos\n",
              "hipster                                    sin datos\n",
              "romantic                                   sin datos\n",
              "divey                                      sin datos\n",
              "intimate                                   sin datos\n",
              "trendy                                     sin datos\n",
              "upscale                                    sin datos\n",
              "classy                                     sin datos\n",
              "casual                                     sin datos\n",
              "Monday                                     sin datos\n",
              "Tuesday                                    sin datos\n",
              "Wednesday                                  sin datos\n",
              "Thursday                                   sin datos\n",
              "Friday                                     sin datos\n",
              "Saturday                                   sin datos\n",
              "Sunday                                     sin datos\n",
              "Name: 0, dtype: object"
            ]
          },
          "metadata": {},
          "execution_count": 8
        }
      ]
    },
    {
      "cell_type": "code",
      "source": [
        "df_b.shape"
      ],
      "metadata": {
        "colab": {
          "base_uri": "https://localhost:8080/"
        },
        "id": "mNXmQ1GVnu7P",
        "outputId": "5f59d450-8eee-4335-a4fb-e4f66ca52249"
      },
      "execution_count": 9,
      "outputs": [
        {
          "output_type": "execute_result",
          "data": {
            "text/plain": [
              "(33756, 35)"
            ]
          },
          "metadata": {},
          "execution_count": 9
        }
      ]
    },
    {
      "cell_type": "code",
      "source": [
        "df_ml = df.merge(df_b, on='business_id' )# Queremos solo aquellos registros que estan en ambas tablas. how='left', 'inner'"
      ],
      "metadata": {
        "id": "PpvAaPsLn4Td"
      },
      "execution_count": 10,
      "outputs": []
    },
    {
      "cell_type": "code",
      "source": [
        "df_ml.shape"
      ],
      "metadata": {
        "colab": {
          "base_uri": "https://localhost:8080/"
        },
        "id": "Em9wYw8doFZP",
        "outputId": "e24eb5e1-8132-4442-9b8b-855aa6c83d93"
      },
      "execution_count": 11,
      "outputs": [
        {
          "output_type": "execute_result",
          "data": {
            "text/plain": [
              "(821793, 44)"
            ]
          },
          "metadata": {},
          "execution_count": 11
        }
      ]
    },
    {
      "cell_type": "code",
      "source": [
        "df_ml.dropna()\n",
        "df_ml.drop_duplicates()"
      ],
      "metadata": {
        "colab": {
          "base_uri": "https://localhost:8080/",
          "height": 998
        },
        "id": "c-nU6pnYoJLv",
        "outputId": "1a13584d-51a7-482f-d645-315493c10c64"
      },
      "execution_count": 12,
      "outputs": [
        {
          "output_type": "execute_result",
          "data": {
            "text/plain": [
              "                     review_id                 user_id  \\\n",
              "0       rGQRf8UafX7OTlMNN19I8A  1WHRWwQmZOZDAhp2Qyny4g   \n",
              "1       A0uKELjTgN7Z-MW1Z1iNfQ  DsginnZpaPWTSYmsHCdmeg   \n",
              "2       vWYzuU5KBgEfdygwigfkPQ  pNFCL2IPCjFm6Uw-aZ5wYQ   \n",
              "3       ApTBT96Jo8NgPDkRbmOdyA  -YIELPJVr-MgU4FDh5Gb5w   \n",
              "4       H7QI9u4ffsq_sTDxIudmpg  sJnQlap6DMhdJKzUTAGB5Q   \n",
              "...                        ...                     ...   \n",
              "821788  0rYbKSGOHAwqw_AaaA54cA  tlPAas-fI2Xs7ZQ4_VO4Sw   \n",
              "821789  -8Wp1uK0DU3UQrPV415j2g  _Vv-gftKARJOqSYlEP2KNw   \n",
              "821790  I-4Tlc3TBVO6FV91RLFMMA  ZiKyPlfpnr6yhJtJxxXSyg   \n",
              "821791  seKKoIl5aQuNIN9wAipvpA  O-dGSO_felAqEdVmIEtTXg   \n",
              "821792  x-UZ3Xx8jf7c9_rS306lIA  tlPAas-fI2Xs7ZQ4_VO4Sw   \n",
              "\n",
              "                   business_id  stars_x  useful  funny  cool  \\\n",
              "0       uMvVYRgGNXf5boolA9HXTw        5       2      0     0   \n",
              "1       uMvVYRgGNXf5boolA9HXTw        4       3      0     0   \n",
              "2       uMvVYRgGNXf5boolA9HXTw        5       0      0     0   \n",
              "3       uMvVYRgGNXf5boolA9HXTw        1       0      0     0   \n",
              "4       uMvVYRgGNXf5boolA9HXTw        1       0      0     0   \n",
              "...                        ...      ...     ...    ...   ...   \n",
              "821788  umg_M7rIoVccsxqoWAF3BA        1       2      0     0   \n",
              "821789  umg_M7rIoVccsxqoWAF3BA        1       4      0     0   \n",
              "821790  umg_M7rIoVccsxqoWAF3BA        1       0      0     0   \n",
              "821791  umg_M7rIoVccsxqoWAF3BA        1       0      0     0   \n",
              "821792  umg_M7rIoVccsxqoWAF3BA        1       2      0     0   \n",
              "\n",
              "                                                     text        date  \\\n",
              "0       My experience with Shalimar was nothing but wo...  2015-06-21   \n",
              "1       Very helpful and patient.  20\" 14k gold chain ...  2013-06-05   \n",
              "2       They were all very easy to work with and went ...  2017-02-22   \n",
              "3       They have forever lost my business. Ordered a ...  2021-04-22   \n",
              "4       please dont go here they have bullshit gold th...  2020-10-06   \n",
              "...                                                   ...         ...   \n",
              "821788  I can't even express how much I hate these apa...  2018-09-09   \n",
              "821789  the worst apartments i have ever lived in.... ...  2013-09-10   \n",
              "821790  Worst apartment I've ever lived in. There is n...  2021-03-08   \n",
              "821791  COMPLETE NIGHTMARE- as an ARMY VET, I am disgu...  2021-05-11   \n",
              "821792  Today I am at the end of my tolerance and pati...  2018-09-09   \n",
              "\n",
              "            time  ...    upscale     classy     casual      Monday  \\\n",
              "0       14:48:06  ...  sin datos  sin datos  sin datos  16:0-21:30   \n",
              "1       22:23:51  ...  sin datos  sin datos  sin datos  16:0-21:30   \n",
              "2       01:24:28  ...  sin datos  sin datos  sin datos  16:0-21:30   \n",
              "3       22:37:27  ...  sin datos  sin datos  sin datos  16:0-21:30   \n",
              "4       17:37:51  ...  sin datos  sin datos  sin datos  16:0-21:30   \n",
              "...          ...  ...        ...        ...        ...         ...   \n",
              "821788  18:24:38  ...  sin datos  sin datos  sin datos   sin datos   \n",
              "821789  14:57:57  ...  sin datos  sin datos  sin datos   sin datos   \n",
              "821790  03:22:27  ...  sin datos  sin datos  sin datos   sin datos   \n",
              "821791  23:17:00  ...  sin datos  sin datos  sin datos   sin datos   \n",
              "821792  14:43:12  ...  sin datos  sin datos  sin datos   sin datos   \n",
              "\n",
              "           Tuesday   Wednesday    Thursday      Friday    Saturday     Sunday  \n",
              "0       16:0-21:30  16:0-21:30  16:0-21:30  16:0-22:30  11:0-22:30  11:0-21:0  \n",
              "1       16:0-21:30  16:0-21:30  16:0-21:30  16:0-22:30  11:0-22:30  11:0-21:0  \n",
              "2       16:0-21:30  16:0-21:30  16:0-21:30  16:0-22:30  11:0-22:30  11:0-21:0  \n",
              "3       16:0-21:30  16:0-21:30  16:0-21:30  16:0-22:30  11:0-22:30  11:0-21:0  \n",
              "4       16:0-21:30  16:0-21:30  16:0-21:30  16:0-22:30  11:0-22:30  11:0-21:0  \n",
              "...            ...         ...         ...         ...         ...        ...  \n",
              "821788   sin datos   sin datos   sin datos   sin datos   sin datos  sin datos  \n",
              "821789   sin datos   sin datos   sin datos   sin datos   sin datos  sin datos  \n",
              "821790   sin datos   sin datos   sin datos   sin datos   sin datos  sin datos  \n",
              "821791   sin datos   sin datos   sin datos   sin datos   sin datos  sin datos  \n",
              "821792   sin datos   sin datos   sin datos   sin datos   sin datos  sin datos  \n",
              "\n",
              "[821793 rows x 44 columns]"
            ],
            "text/html": [
              "\n",
              "  <div id=\"df-f0d634f4-17d6-4453-a2a0-0143f197e11e\" class=\"colab-df-container\">\n",
              "    <div>\n",
              "<style scoped>\n",
              "    .dataframe tbody tr th:only-of-type {\n",
              "        vertical-align: middle;\n",
              "    }\n",
              "\n",
              "    .dataframe tbody tr th {\n",
              "        vertical-align: top;\n",
              "    }\n",
              "\n",
              "    .dataframe thead th {\n",
              "        text-align: right;\n",
              "    }\n",
              "</style>\n",
              "<table border=\"1\" class=\"dataframe\">\n",
              "  <thead>\n",
              "    <tr style=\"text-align: right;\">\n",
              "      <th></th>\n",
              "      <th>review_id</th>\n",
              "      <th>user_id</th>\n",
              "      <th>business_id</th>\n",
              "      <th>stars_x</th>\n",
              "      <th>useful</th>\n",
              "      <th>funny</th>\n",
              "      <th>cool</th>\n",
              "      <th>text</th>\n",
              "      <th>date</th>\n",
              "      <th>time</th>\n",
              "      <th>...</th>\n",
              "      <th>upscale</th>\n",
              "      <th>classy</th>\n",
              "      <th>casual</th>\n",
              "      <th>Monday</th>\n",
              "      <th>Tuesday</th>\n",
              "      <th>Wednesday</th>\n",
              "      <th>Thursday</th>\n",
              "      <th>Friday</th>\n",
              "      <th>Saturday</th>\n",
              "      <th>Sunday</th>\n",
              "    </tr>\n",
              "  </thead>\n",
              "  <tbody>\n",
              "    <tr>\n",
              "      <th>0</th>\n",
              "      <td>rGQRf8UafX7OTlMNN19I8A</td>\n",
              "      <td>1WHRWwQmZOZDAhp2Qyny4g</td>\n",
              "      <td>uMvVYRgGNXf5boolA9HXTw</td>\n",
              "      <td>5</td>\n",
              "      <td>2</td>\n",
              "      <td>0</td>\n",
              "      <td>0</td>\n",
              "      <td>My experience with Shalimar was nothing but wo...</td>\n",
              "      <td>2015-06-21</td>\n",
              "      <td>14:48:06</td>\n",
              "      <td>...</td>\n",
              "      <td>sin datos</td>\n",
              "      <td>sin datos</td>\n",
              "      <td>sin datos</td>\n",
              "      <td>16:0-21:30</td>\n",
              "      <td>16:0-21:30</td>\n",
              "      <td>16:0-21:30</td>\n",
              "      <td>16:0-21:30</td>\n",
              "      <td>16:0-22:30</td>\n",
              "      <td>11:0-22:30</td>\n",
              "      <td>11:0-21:0</td>\n",
              "    </tr>\n",
              "    <tr>\n",
              "      <th>1</th>\n",
              "      <td>A0uKELjTgN7Z-MW1Z1iNfQ</td>\n",
              "      <td>DsginnZpaPWTSYmsHCdmeg</td>\n",
              "      <td>uMvVYRgGNXf5boolA9HXTw</td>\n",
              "      <td>4</td>\n",
              "      <td>3</td>\n",
              "      <td>0</td>\n",
              "      <td>0</td>\n",
              "      <td>Very helpful and patient.  20\" 14k gold chain ...</td>\n",
              "      <td>2013-06-05</td>\n",
              "      <td>22:23:51</td>\n",
              "      <td>...</td>\n",
              "      <td>sin datos</td>\n",
              "      <td>sin datos</td>\n",
              "      <td>sin datos</td>\n",
              "      <td>16:0-21:30</td>\n",
              "      <td>16:0-21:30</td>\n",
              "      <td>16:0-21:30</td>\n",
              "      <td>16:0-21:30</td>\n",
              "      <td>16:0-22:30</td>\n",
              "      <td>11:0-22:30</td>\n",
              "      <td>11:0-21:0</td>\n",
              "    </tr>\n",
              "    <tr>\n",
              "      <th>2</th>\n",
              "      <td>vWYzuU5KBgEfdygwigfkPQ</td>\n",
              "      <td>pNFCL2IPCjFm6Uw-aZ5wYQ</td>\n",
              "      <td>uMvVYRgGNXf5boolA9HXTw</td>\n",
              "      <td>5</td>\n",
              "      <td>0</td>\n",
              "      <td>0</td>\n",
              "      <td>0</td>\n",
              "      <td>They were all very easy to work with and went ...</td>\n",
              "      <td>2017-02-22</td>\n",
              "      <td>01:24:28</td>\n",
              "      <td>...</td>\n",
              "      <td>sin datos</td>\n",
              "      <td>sin datos</td>\n",
              "      <td>sin datos</td>\n",
              "      <td>16:0-21:30</td>\n",
              "      <td>16:0-21:30</td>\n",
              "      <td>16:0-21:30</td>\n",
              "      <td>16:0-21:30</td>\n",
              "      <td>16:0-22:30</td>\n",
              "      <td>11:0-22:30</td>\n",
              "      <td>11:0-21:0</td>\n",
              "    </tr>\n",
              "    <tr>\n",
              "      <th>3</th>\n",
              "      <td>ApTBT96Jo8NgPDkRbmOdyA</td>\n",
              "      <td>-YIELPJVr-MgU4FDh5Gb5w</td>\n",
              "      <td>uMvVYRgGNXf5boolA9HXTw</td>\n",
              "      <td>1</td>\n",
              "      <td>0</td>\n",
              "      <td>0</td>\n",
              "      <td>0</td>\n",
              "      <td>They have forever lost my business. Ordered a ...</td>\n",
              "      <td>2021-04-22</td>\n",
              "      <td>22:37:27</td>\n",
              "      <td>...</td>\n",
              "      <td>sin datos</td>\n",
              "      <td>sin datos</td>\n",
              "      <td>sin datos</td>\n",
              "      <td>16:0-21:30</td>\n",
              "      <td>16:0-21:30</td>\n",
              "      <td>16:0-21:30</td>\n",
              "      <td>16:0-21:30</td>\n",
              "      <td>16:0-22:30</td>\n",
              "      <td>11:0-22:30</td>\n",
              "      <td>11:0-21:0</td>\n",
              "    </tr>\n",
              "    <tr>\n",
              "      <th>4</th>\n",
              "      <td>H7QI9u4ffsq_sTDxIudmpg</td>\n",
              "      <td>sJnQlap6DMhdJKzUTAGB5Q</td>\n",
              "      <td>uMvVYRgGNXf5boolA9HXTw</td>\n",
              "      <td>1</td>\n",
              "      <td>0</td>\n",
              "      <td>0</td>\n",
              "      <td>0</td>\n",
              "      <td>please dont go here they have bullshit gold th...</td>\n",
              "      <td>2020-10-06</td>\n",
              "      <td>17:37:51</td>\n",
              "      <td>...</td>\n",
              "      <td>sin datos</td>\n",
              "      <td>sin datos</td>\n",
              "      <td>sin datos</td>\n",
              "      <td>16:0-21:30</td>\n",
              "      <td>16:0-21:30</td>\n",
              "      <td>16:0-21:30</td>\n",
              "      <td>16:0-21:30</td>\n",
              "      <td>16:0-22:30</td>\n",
              "      <td>11:0-22:30</td>\n",
              "      <td>11:0-21:0</td>\n",
              "    </tr>\n",
              "    <tr>\n",
              "      <th>...</th>\n",
              "      <td>...</td>\n",
              "      <td>...</td>\n",
              "      <td>...</td>\n",
              "      <td>...</td>\n",
              "      <td>...</td>\n",
              "      <td>...</td>\n",
              "      <td>...</td>\n",
              "      <td>...</td>\n",
              "      <td>...</td>\n",
              "      <td>...</td>\n",
              "      <td>...</td>\n",
              "      <td>...</td>\n",
              "      <td>...</td>\n",
              "      <td>...</td>\n",
              "      <td>...</td>\n",
              "      <td>...</td>\n",
              "      <td>...</td>\n",
              "      <td>...</td>\n",
              "      <td>...</td>\n",
              "      <td>...</td>\n",
              "      <td>...</td>\n",
              "    </tr>\n",
              "    <tr>\n",
              "      <th>821788</th>\n",
              "      <td>0rYbKSGOHAwqw_AaaA54cA</td>\n",
              "      <td>tlPAas-fI2Xs7ZQ4_VO4Sw</td>\n",
              "      <td>umg_M7rIoVccsxqoWAF3BA</td>\n",
              "      <td>1</td>\n",
              "      <td>2</td>\n",
              "      <td>0</td>\n",
              "      <td>0</td>\n",
              "      <td>I can't even express how much I hate these apa...</td>\n",
              "      <td>2018-09-09</td>\n",
              "      <td>18:24:38</td>\n",
              "      <td>...</td>\n",
              "      <td>sin datos</td>\n",
              "      <td>sin datos</td>\n",
              "      <td>sin datos</td>\n",
              "      <td>sin datos</td>\n",
              "      <td>sin datos</td>\n",
              "      <td>sin datos</td>\n",
              "      <td>sin datos</td>\n",
              "      <td>sin datos</td>\n",
              "      <td>sin datos</td>\n",
              "      <td>sin datos</td>\n",
              "    </tr>\n",
              "    <tr>\n",
              "      <th>821789</th>\n",
              "      <td>-8Wp1uK0DU3UQrPV415j2g</td>\n",
              "      <td>_Vv-gftKARJOqSYlEP2KNw</td>\n",
              "      <td>umg_M7rIoVccsxqoWAF3BA</td>\n",
              "      <td>1</td>\n",
              "      <td>4</td>\n",
              "      <td>0</td>\n",
              "      <td>0</td>\n",
              "      <td>the worst apartments i have ever lived in.... ...</td>\n",
              "      <td>2013-09-10</td>\n",
              "      <td>14:57:57</td>\n",
              "      <td>...</td>\n",
              "      <td>sin datos</td>\n",
              "      <td>sin datos</td>\n",
              "      <td>sin datos</td>\n",
              "      <td>sin datos</td>\n",
              "      <td>sin datos</td>\n",
              "      <td>sin datos</td>\n",
              "      <td>sin datos</td>\n",
              "      <td>sin datos</td>\n",
              "      <td>sin datos</td>\n",
              "      <td>sin datos</td>\n",
              "    </tr>\n",
              "    <tr>\n",
              "      <th>821790</th>\n",
              "      <td>I-4Tlc3TBVO6FV91RLFMMA</td>\n",
              "      <td>ZiKyPlfpnr6yhJtJxxXSyg</td>\n",
              "      <td>umg_M7rIoVccsxqoWAF3BA</td>\n",
              "      <td>1</td>\n",
              "      <td>0</td>\n",
              "      <td>0</td>\n",
              "      <td>0</td>\n",
              "      <td>Worst apartment I've ever lived in. There is n...</td>\n",
              "      <td>2021-03-08</td>\n",
              "      <td>03:22:27</td>\n",
              "      <td>...</td>\n",
              "      <td>sin datos</td>\n",
              "      <td>sin datos</td>\n",
              "      <td>sin datos</td>\n",
              "      <td>sin datos</td>\n",
              "      <td>sin datos</td>\n",
              "      <td>sin datos</td>\n",
              "      <td>sin datos</td>\n",
              "      <td>sin datos</td>\n",
              "      <td>sin datos</td>\n",
              "      <td>sin datos</td>\n",
              "    </tr>\n",
              "    <tr>\n",
              "      <th>821791</th>\n",
              "      <td>seKKoIl5aQuNIN9wAipvpA</td>\n",
              "      <td>O-dGSO_felAqEdVmIEtTXg</td>\n",
              "      <td>umg_M7rIoVccsxqoWAF3BA</td>\n",
              "      <td>1</td>\n",
              "      <td>0</td>\n",
              "      <td>0</td>\n",
              "      <td>0</td>\n",
              "      <td>COMPLETE NIGHTMARE- as an ARMY VET, I am disgu...</td>\n",
              "      <td>2021-05-11</td>\n",
              "      <td>23:17:00</td>\n",
              "      <td>...</td>\n",
              "      <td>sin datos</td>\n",
              "      <td>sin datos</td>\n",
              "      <td>sin datos</td>\n",
              "      <td>sin datos</td>\n",
              "      <td>sin datos</td>\n",
              "      <td>sin datos</td>\n",
              "      <td>sin datos</td>\n",
              "      <td>sin datos</td>\n",
              "      <td>sin datos</td>\n",
              "      <td>sin datos</td>\n",
              "    </tr>\n",
              "    <tr>\n",
              "      <th>821792</th>\n",
              "      <td>x-UZ3Xx8jf7c9_rS306lIA</td>\n",
              "      <td>tlPAas-fI2Xs7ZQ4_VO4Sw</td>\n",
              "      <td>umg_M7rIoVccsxqoWAF3BA</td>\n",
              "      <td>1</td>\n",
              "      <td>2</td>\n",
              "      <td>0</td>\n",
              "      <td>0</td>\n",
              "      <td>Today I am at the end of my tolerance and pati...</td>\n",
              "      <td>2018-09-09</td>\n",
              "      <td>14:43:12</td>\n",
              "      <td>...</td>\n",
              "      <td>sin datos</td>\n",
              "      <td>sin datos</td>\n",
              "      <td>sin datos</td>\n",
              "      <td>sin datos</td>\n",
              "      <td>sin datos</td>\n",
              "      <td>sin datos</td>\n",
              "      <td>sin datos</td>\n",
              "      <td>sin datos</td>\n",
              "      <td>sin datos</td>\n",
              "      <td>sin datos</td>\n",
              "    </tr>\n",
              "  </tbody>\n",
              "</table>\n",
              "<p>821793 rows × 44 columns</p>\n",
              "</div>\n",
              "    <div class=\"colab-df-buttons\">\n",
              "\n",
              "  <div class=\"colab-df-container\">\n",
              "    <button class=\"colab-df-convert\" onclick=\"convertToInteractive('df-f0d634f4-17d6-4453-a2a0-0143f197e11e')\"\n",
              "            title=\"Convert this dataframe to an interactive table.\"\n",
              "            style=\"display:none;\">\n",
              "\n",
              "  <svg xmlns=\"http://www.w3.org/2000/svg\" height=\"24px\" viewBox=\"0 -960 960 960\">\n",
              "    <path d=\"M120-120v-720h720v720H120Zm60-500h600v-160H180v160Zm220 220h160v-160H400v160Zm0 220h160v-160H400v160ZM180-400h160v-160H180v160Zm440 0h160v-160H620v160ZM180-180h160v-160H180v160Zm440 0h160v-160H620v160Z\"/>\n",
              "  </svg>\n",
              "    </button>\n",
              "\n",
              "  <style>\n",
              "    .colab-df-container {\n",
              "      display:flex;\n",
              "      gap: 12px;\n",
              "    }\n",
              "\n",
              "    .colab-df-convert {\n",
              "      background-color: #E8F0FE;\n",
              "      border: none;\n",
              "      border-radius: 50%;\n",
              "      cursor: pointer;\n",
              "      display: none;\n",
              "      fill: #1967D2;\n",
              "      height: 32px;\n",
              "      padding: 0 0 0 0;\n",
              "      width: 32px;\n",
              "    }\n",
              "\n",
              "    .colab-df-convert:hover {\n",
              "      background-color: #E2EBFA;\n",
              "      box-shadow: 0px 1px 2px rgba(60, 64, 67, 0.3), 0px 1px 3px 1px rgba(60, 64, 67, 0.15);\n",
              "      fill: #174EA6;\n",
              "    }\n",
              "\n",
              "    .colab-df-buttons div {\n",
              "      margin-bottom: 4px;\n",
              "    }\n",
              "\n",
              "    [theme=dark] .colab-df-convert {\n",
              "      background-color: #3B4455;\n",
              "      fill: #D2E3FC;\n",
              "    }\n",
              "\n",
              "    [theme=dark] .colab-df-convert:hover {\n",
              "      background-color: #434B5C;\n",
              "      box-shadow: 0px 1px 3px 1px rgba(0, 0, 0, 0.15);\n",
              "      filter: drop-shadow(0px 1px 2px rgba(0, 0, 0, 0.3));\n",
              "      fill: #FFFFFF;\n",
              "    }\n",
              "  </style>\n",
              "\n",
              "    <script>\n",
              "      const buttonEl =\n",
              "        document.querySelector('#df-f0d634f4-17d6-4453-a2a0-0143f197e11e button.colab-df-convert');\n",
              "      buttonEl.style.display =\n",
              "        google.colab.kernel.accessAllowed ? 'block' : 'none';\n",
              "\n",
              "      async function convertToInteractive(key) {\n",
              "        const element = document.querySelector('#df-f0d634f4-17d6-4453-a2a0-0143f197e11e');\n",
              "        const dataTable =\n",
              "          await google.colab.kernel.invokeFunction('convertToInteractive',\n",
              "                                                    [key], {});\n",
              "        if (!dataTable) return;\n",
              "\n",
              "        const docLinkHtml = 'Like what you see? Visit the ' +\n",
              "          '<a target=\"_blank\" href=https://colab.research.google.com/notebooks/data_table.ipynb>data table notebook</a>'\n",
              "          + ' to learn more about interactive tables.';\n",
              "        element.innerHTML = '';\n",
              "        dataTable['output_type'] = 'display_data';\n",
              "        await google.colab.output.renderOutput(dataTable, element);\n",
              "        const docLink = document.createElement('div');\n",
              "        docLink.innerHTML = docLinkHtml;\n",
              "        element.appendChild(docLink);\n",
              "      }\n",
              "    </script>\n",
              "  </div>\n",
              "\n",
              "\n",
              "<div id=\"df-86ad1a7a-d489-47d2-a142-0a396c8e325c\">\n",
              "  <button class=\"colab-df-quickchart\" onclick=\"quickchart('df-86ad1a7a-d489-47d2-a142-0a396c8e325c')\"\n",
              "            title=\"Suggest charts.\"\n",
              "            style=\"display:none;\">\n",
              "\n",
              "<svg xmlns=\"http://www.w3.org/2000/svg\" height=\"24px\"viewBox=\"0 0 24 24\"\n",
              "     width=\"24px\">\n",
              "    <g>\n",
              "        <path d=\"M19 3H5c-1.1 0-2 .9-2 2v14c0 1.1.9 2 2 2h14c1.1 0 2-.9 2-2V5c0-1.1-.9-2-2-2zM9 17H7v-7h2v7zm4 0h-2V7h2v10zm4 0h-2v-4h2v4z\"/>\n",
              "    </g>\n",
              "</svg>\n",
              "  </button>\n",
              "\n",
              "<style>\n",
              "  .colab-df-quickchart {\n",
              "      --bg-color: #E8F0FE;\n",
              "      --fill-color: #1967D2;\n",
              "      --hover-bg-color: #E2EBFA;\n",
              "      --hover-fill-color: #174EA6;\n",
              "      --disabled-fill-color: #AAA;\n",
              "      --disabled-bg-color: #DDD;\n",
              "  }\n",
              "\n",
              "  [theme=dark] .colab-df-quickchart {\n",
              "      --bg-color: #3B4455;\n",
              "      --fill-color: #D2E3FC;\n",
              "      --hover-bg-color: #434B5C;\n",
              "      --hover-fill-color: #FFFFFF;\n",
              "      --disabled-bg-color: #3B4455;\n",
              "      --disabled-fill-color: #666;\n",
              "  }\n",
              "\n",
              "  .colab-df-quickchart {\n",
              "    background-color: var(--bg-color);\n",
              "    border: none;\n",
              "    border-radius: 50%;\n",
              "    cursor: pointer;\n",
              "    display: none;\n",
              "    fill: var(--fill-color);\n",
              "    height: 32px;\n",
              "    padding: 0;\n",
              "    width: 32px;\n",
              "  }\n",
              "\n",
              "  .colab-df-quickchart:hover {\n",
              "    background-color: var(--hover-bg-color);\n",
              "    box-shadow: 0 1px 2px rgba(60, 64, 67, 0.3), 0 1px 3px 1px rgba(60, 64, 67, 0.15);\n",
              "    fill: var(--button-hover-fill-color);\n",
              "  }\n",
              "\n",
              "  .colab-df-quickchart-complete:disabled,\n",
              "  .colab-df-quickchart-complete:disabled:hover {\n",
              "    background-color: var(--disabled-bg-color);\n",
              "    fill: var(--disabled-fill-color);\n",
              "    box-shadow: none;\n",
              "  }\n",
              "\n",
              "  .colab-df-spinner {\n",
              "    border: 2px solid var(--fill-color);\n",
              "    border-color: transparent;\n",
              "    border-bottom-color: var(--fill-color);\n",
              "    animation:\n",
              "      spin 1s steps(1) infinite;\n",
              "  }\n",
              "\n",
              "  @keyframes spin {\n",
              "    0% {\n",
              "      border-color: transparent;\n",
              "      border-bottom-color: var(--fill-color);\n",
              "      border-left-color: var(--fill-color);\n",
              "    }\n",
              "    20% {\n",
              "      border-color: transparent;\n",
              "      border-left-color: var(--fill-color);\n",
              "      border-top-color: var(--fill-color);\n",
              "    }\n",
              "    30% {\n",
              "      border-color: transparent;\n",
              "      border-left-color: var(--fill-color);\n",
              "      border-top-color: var(--fill-color);\n",
              "      border-right-color: var(--fill-color);\n",
              "    }\n",
              "    40% {\n",
              "      border-color: transparent;\n",
              "      border-right-color: var(--fill-color);\n",
              "      border-top-color: var(--fill-color);\n",
              "    }\n",
              "    60% {\n",
              "      border-color: transparent;\n",
              "      border-right-color: var(--fill-color);\n",
              "    }\n",
              "    80% {\n",
              "      border-color: transparent;\n",
              "      border-right-color: var(--fill-color);\n",
              "      border-bottom-color: var(--fill-color);\n",
              "    }\n",
              "    90% {\n",
              "      border-color: transparent;\n",
              "      border-bottom-color: var(--fill-color);\n",
              "    }\n",
              "  }\n",
              "</style>\n",
              "\n",
              "  <script>\n",
              "    async function quickchart(key) {\n",
              "      const quickchartButtonEl =\n",
              "        document.querySelector('#' + key + ' button');\n",
              "      quickchartButtonEl.disabled = true;  // To prevent multiple clicks.\n",
              "      quickchartButtonEl.classList.add('colab-df-spinner');\n",
              "      try {\n",
              "        const charts = await google.colab.kernel.invokeFunction(\n",
              "            'suggestCharts', [key], {});\n",
              "      } catch (error) {\n",
              "        console.error('Error during call to suggestCharts:', error);\n",
              "      }\n",
              "      quickchartButtonEl.classList.remove('colab-df-spinner');\n",
              "      quickchartButtonEl.classList.add('colab-df-quickchart-complete');\n",
              "    }\n",
              "    (() => {\n",
              "      let quickchartButtonEl =\n",
              "        document.querySelector('#df-86ad1a7a-d489-47d2-a142-0a396c8e325c button');\n",
              "      quickchartButtonEl.style.display =\n",
              "        google.colab.kernel.accessAllowed ? 'block' : 'none';\n",
              "    })();\n",
              "  </script>\n",
              "</div>\n",
              "    </div>\n",
              "  </div>\n"
            ]
          },
          "metadata": {},
          "execution_count": 12
        }
      ]
    },
    {
      "cell_type": "code",
      "source": [
        "df_ml.iloc[0]"
      ],
      "metadata": {
        "colab": {
          "base_uri": "https://localhost:8080/"
        },
        "id": "it0krzGooZ-4",
        "outputId": "68c6b63a-731c-48a5-dcab-d4b595a105e9"
      },
      "execution_count": 13,
      "outputs": [
        {
          "output_type": "execute_result",
          "data": {
            "text/plain": [
              "review_id                                                rGQRf8UafX7OTlMNN19I8A\n",
              "user_id                                                  1WHRWwQmZOZDAhp2Qyny4g\n",
              "business_id                                              uMvVYRgGNXf5boolA9HXTw\n",
              "stars_x                                                                       5\n",
              "useful                                                                        2\n",
              "funny                                                                         0\n",
              "cool                                                                          0\n",
              "text                          My experience with Shalimar was nothing but wo...\n",
              "date                                                                 2015-06-21\n",
              "time                                                                   14:48:06\n",
              "name                                                     Shalimar Fine Jewelers\n",
              "address                                                       250 Westshore Plz\n",
              "city                                                                      Tampa\n",
              "state                                                                        FL\n",
              "postal_code                                                             33609.0\n",
              "latitude                                                               27.94752\n",
              "longitude                                                            -82.527879\n",
              "stars                                                                       2.5\n",
              "review_count                                                                  8\n",
              "is_open                                                                       1\n",
              "RestaurantsPriceRange2                                                        2\n",
              "BusinessAcceptsCreditCards                                                 True\n",
              "RestaurantsReservations                                               sin datos\n",
              "GoodForKids                                                           sin datos\n",
              "RestaurantsDelivery                                                   sin datos\n",
              "OutdoorSeating                                                        sin datos\n",
              "Alcohol                                                               sin datos\n",
              "RestaurantsGoodForGroups                                              sin datos\n",
              "touristy                                                              sin datos\n",
              "hipster                                                               sin datos\n",
              "romantic                                                              sin datos\n",
              "divey                                                                 sin datos\n",
              "intimate                                                              sin datos\n",
              "trendy                                                                sin datos\n",
              "upscale                                                               sin datos\n",
              "classy                                                                sin datos\n",
              "casual                                                                sin datos\n",
              "Monday                                                               16:0-21:30\n",
              "Tuesday                                                              16:0-21:30\n",
              "Wednesday                                                            16:0-21:30\n",
              "Thursday                                                             16:0-21:30\n",
              "Friday                                                               16:0-22:30\n",
              "Saturday                                                             11:0-22:30\n",
              "Sunday                                                                11:0-21:0\n",
              "Name: 0, dtype: object"
            ]
          },
          "metadata": {},
          "execution_count": 13
        }
      ]
    },
    {
      "cell_type": "markdown",
      "source": [
        "Columnas que utilizaremos: 'business_id', 'stars_x', 'city', 'state' y 'text'"
      ],
      "metadata": {
        "id": "lIgsuVqQd-Th"
      }
    },
    {
      "cell_type": "code",
      "source": [
        "df_ml = df_ml[['business_id','stars_x','city','state','text']]"
      ],
      "metadata": {
        "id": "wxeYft87ohOG"
      },
      "execution_count": 14,
      "outputs": []
    },
    {
      "cell_type": "code",
      "source": [
        "df_ml['length'] = df_ml['text'].apply(len)\n",
        "df_ml.head()"
      ],
      "metadata": {
        "colab": {
          "base_uri": "https://localhost:8080/",
          "height": 206
        },
        "id": "DGeuG15Cb-x2",
        "outputId": "a23c8264-c7fb-4b18-a5a3-818f45d92a66"
      },
      "execution_count": 15,
      "outputs": [
        {
          "output_type": "execute_result",
          "data": {
            "text/plain": [
              "              business_id  stars_x   city state  \\\n",
              "0  uMvVYRgGNXf5boolA9HXTw        5  Tampa    FL   \n",
              "1  uMvVYRgGNXf5boolA9HXTw        4  Tampa    FL   \n",
              "2  uMvVYRgGNXf5boolA9HXTw        5  Tampa    FL   \n",
              "3  uMvVYRgGNXf5boolA9HXTw        1  Tampa    FL   \n",
              "4  uMvVYRgGNXf5boolA9HXTw        1  Tampa    FL   \n",
              "\n",
              "                                                text  length  \n",
              "0  My experience with Shalimar was nothing but wo...    1009  \n",
              "1  Very helpful and patient.  20\" 14k gold chain ...     106  \n",
              "2  They were all very easy to work with and went ...     334  \n",
              "3  They have forever lost my business. Ordered a ...     921  \n",
              "4  please dont go here they have bullshit gold th...     369  "
            ],
            "text/html": [
              "\n",
              "  <div id=\"df-00a695fb-1660-4bc5-adee-106dd13fe299\" class=\"colab-df-container\">\n",
              "    <div>\n",
              "<style scoped>\n",
              "    .dataframe tbody tr th:only-of-type {\n",
              "        vertical-align: middle;\n",
              "    }\n",
              "\n",
              "    .dataframe tbody tr th {\n",
              "        vertical-align: top;\n",
              "    }\n",
              "\n",
              "    .dataframe thead th {\n",
              "        text-align: right;\n",
              "    }\n",
              "</style>\n",
              "<table border=\"1\" class=\"dataframe\">\n",
              "  <thead>\n",
              "    <tr style=\"text-align: right;\">\n",
              "      <th></th>\n",
              "      <th>business_id</th>\n",
              "      <th>stars_x</th>\n",
              "      <th>city</th>\n",
              "      <th>state</th>\n",
              "      <th>text</th>\n",
              "      <th>length</th>\n",
              "    </tr>\n",
              "  </thead>\n",
              "  <tbody>\n",
              "    <tr>\n",
              "      <th>0</th>\n",
              "      <td>uMvVYRgGNXf5boolA9HXTw</td>\n",
              "      <td>5</td>\n",
              "      <td>Tampa</td>\n",
              "      <td>FL</td>\n",
              "      <td>My experience with Shalimar was nothing but wo...</td>\n",
              "      <td>1009</td>\n",
              "    </tr>\n",
              "    <tr>\n",
              "      <th>1</th>\n",
              "      <td>uMvVYRgGNXf5boolA9HXTw</td>\n",
              "      <td>4</td>\n",
              "      <td>Tampa</td>\n",
              "      <td>FL</td>\n",
              "      <td>Very helpful and patient.  20\" 14k gold chain ...</td>\n",
              "      <td>106</td>\n",
              "    </tr>\n",
              "    <tr>\n",
              "      <th>2</th>\n",
              "      <td>uMvVYRgGNXf5boolA9HXTw</td>\n",
              "      <td>5</td>\n",
              "      <td>Tampa</td>\n",
              "      <td>FL</td>\n",
              "      <td>They were all very easy to work with and went ...</td>\n",
              "      <td>334</td>\n",
              "    </tr>\n",
              "    <tr>\n",
              "      <th>3</th>\n",
              "      <td>uMvVYRgGNXf5boolA9HXTw</td>\n",
              "      <td>1</td>\n",
              "      <td>Tampa</td>\n",
              "      <td>FL</td>\n",
              "      <td>They have forever lost my business. Ordered a ...</td>\n",
              "      <td>921</td>\n",
              "    </tr>\n",
              "    <tr>\n",
              "      <th>4</th>\n",
              "      <td>uMvVYRgGNXf5boolA9HXTw</td>\n",
              "      <td>1</td>\n",
              "      <td>Tampa</td>\n",
              "      <td>FL</td>\n",
              "      <td>please dont go here they have bullshit gold th...</td>\n",
              "      <td>369</td>\n",
              "    </tr>\n",
              "  </tbody>\n",
              "</table>\n",
              "</div>\n",
              "    <div class=\"colab-df-buttons\">\n",
              "\n",
              "  <div class=\"colab-df-container\">\n",
              "    <button class=\"colab-df-convert\" onclick=\"convertToInteractive('df-00a695fb-1660-4bc5-adee-106dd13fe299')\"\n",
              "            title=\"Convert this dataframe to an interactive table.\"\n",
              "            style=\"display:none;\">\n",
              "\n",
              "  <svg xmlns=\"http://www.w3.org/2000/svg\" height=\"24px\" viewBox=\"0 -960 960 960\">\n",
              "    <path d=\"M120-120v-720h720v720H120Zm60-500h600v-160H180v160Zm220 220h160v-160H400v160Zm0 220h160v-160H400v160ZM180-400h160v-160H180v160Zm440 0h160v-160H620v160ZM180-180h160v-160H180v160Zm440 0h160v-160H620v160Z\"/>\n",
              "  </svg>\n",
              "    </button>\n",
              "\n",
              "  <style>\n",
              "    .colab-df-container {\n",
              "      display:flex;\n",
              "      gap: 12px;\n",
              "    }\n",
              "\n",
              "    .colab-df-convert {\n",
              "      background-color: #E8F0FE;\n",
              "      border: none;\n",
              "      border-radius: 50%;\n",
              "      cursor: pointer;\n",
              "      display: none;\n",
              "      fill: #1967D2;\n",
              "      height: 32px;\n",
              "      padding: 0 0 0 0;\n",
              "      width: 32px;\n",
              "    }\n",
              "\n",
              "    .colab-df-convert:hover {\n",
              "      background-color: #E2EBFA;\n",
              "      box-shadow: 0px 1px 2px rgba(60, 64, 67, 0.3), 0px 1px 3px 1px rgba(60, 64, 67, 0.15);\n",
              "      fill: #174EA6;\n",
              "    }\n",
              "\n",
              "    .colab-df-buttons div {\n",
              "      margin-bottom: 4px;\n",
              "    }\n",
              "\n",
              "    [theme=dark] .colab-df-convert {\n",
              "      background-color: #3B4455;\n",
              "      fill: #D2E3FC;\n",
              "    }\n",
              "\n",
              "    [theme=dark] .colab-df-convert:hover {\n",
              "      background-color: #434B5C;\n",
              "      box-shadow: 0px 1px 3px 1px rgba(0, 0, 0, 0.15);\n",
              "      filter: drop-shadow(0px 1px 2px rgba(0, 0, 0, 0.3));\n",
              "      fill: #FFFFFF;\n",
              "    }\n",
              "  </style>\n",
              "\n",
              "    <script>\n",
              "      const buttonEl =\n",
              "        document.querySelector('#df-00a695fb-1660-4bc5-adee-106dd13fe299 button.colab-df-convert');\n",
              "      buttonEl.style.display =\n",
              "        google.colab.kernel.accessAllowed ? 'block' : 'none';\n",
              "\n",
              "      async function convertToInteractive(key) {\n",
              "        const element = document.querySelector('#df-00a695fb-1660-4bc5-adee-106dd13fe299');\n",
              "        const dataTable =\n",
              "          await google.colab.kernel.invokeFunction('convertToInteractive',\n",
              "                                                    [key], {});\n",
              "        if (!dataTable) return;\n",
              "\n",
              "        const docLinkHtml = 'Like what you see? Visit the ' +\n",
              "          '<a target=\"_blank\" href=https://colab.research.google.com/notebooks/data_table.ipynb>data table notebook</a>'\n",
              "          + ' to learn more about interactive tables.';\n",
              "        element.innerHTML = '';\n",
              "        dataTable['output_type'] = 'display_data';\n",
              "        await google.colab.output.renderOutput(dataTable, element);\n",
              "        const docLink = document.createElement('div');\n",
              "        docLink.innerHTML = docLinkHtml;\n",
              "        element.appendChild(docLink);\n",
              "      }\n",
              "    </script>\n",
              "  </div>\n",
              "\n",
              "\n",
              "<div id=\"df-d870066e-02b1-4b56-9d97-c0b719d4876f\">\n",
              "  <button class=\"colab-df-quickchart\" onclick=\"quickchart('df-d870066e-02b1-4b56-9d97-c0b719d4876f')\"\n",
              "            title=\"Suggest charts.\"\n",
              "            style=\"display:none;\">\n",
              "\n",
              "<svg xmlns=\"http://www.w3.org/2000/svg\" height=\"24px\"viewBox=\"0 0 24 24\"\n",
              "     width=\"24px\">\n",
              "    <g>\n",
              "        <path d=\"M19 3H5c-1.1 0-2 .9-2 2v14c0 1.1.9 2 2 2h14c1.1 0 2-.9 2-2V5c0-1.1-.9-2-2-2zM9 17H7v-7h2v7zm4 0h-2V7h2v10zm4 0h-2v-4h2v4z\"/>\n",
              "    </g>\n",
              "</svg>\n",
              "  </button>\n",
              "\n",
              "<style>\n",
              "  .colab-df-quickchart {\n",
              "      --bg-color: #E8F0FE;\n",
              "      --fill-color: #1967D2;\n",
              "      --hover-bg-color: #E2EBFA;\n",
              "      --hover-fill-color: #174EA6;\n",
              "      --disabled-fill-color: #AAA;\n",
              "      --disabled-bg-color: #DDD;\n",
              "  }\n",
              "\n",
              "  [theme=dark] .colab-df-quickchart {\n",
              "      --bg-color: #3B4455;\n",
              "      --fill-color: #D2E3FC;\n",
              "      --hover-bg-color: #434B5C;\n",
              "      --hover-fill-color: #FFFFFF;\n",
              "      --disabled-bg-color: #3B4455;\n",
              "      --disabled-fill-color: #666;\n",
              "  }\n",
              "\n",
              "  .colab-df-quickchart {\n",
              "    background-color: var(--bg-color);\n",
              "    border: none;\n",
              "    border-radius: 50%;\n",
              "    cursor: pointer;\n",
              "    display: none;\n",
              "    fill: var(--fill-color);\n",
              "    height: 32px;\n",
              "    padding: 0;\n",
              "    width: 32px;\n",
              "  }\n",
              "\n",
              "  .colab-df-quickchart:hover {\n",
              "    background-color: var(--hover-bg-color);\n",
              "    box-shadow: 0 1px 2px rgba(60, 64, 67, 0.3), 0 1px 3px 1px rgba(60, 64, 67, 0.15);\n",
              "    fill: var(--button-hover-fill-color);\n",
              "  }\n",
              "\n",
              "  .colab-df-quickchart-complete:disabled,\n",
              "  .colab-df-quickchart-complete:disabled:hover {\n",
              "    background-color: var(--disabled-bg-color);\n",
              "    fill: var(--disabled-fill-color);\n",
              "    box-shadow: none;\n",
              "  }\n",
              "\n",
              "  .colab-df-spinner {\n",
              "    border: 2px solid var(--fill-color);\n",
              "    border-color: transparent;\n",
              "    border-bottom-color: var(--fill-color);\n",
              "    animation:\n",
              "      spin 1s steps(1) infinite;\n",
              "  }\n",
              "\n",
              "  @keyframes spin {\n",
              "    0% {\n",
              "      border-color: transparent;\n",
              "      border-bottom-color: var(--fill-color);\n",
              "      border-left-color: var(--fill-color);\n",
              "    }\n",
              "    20% {\n",
              "      border-color: transparent;\n",
              "      border-left-color: var(--fill-color);\n",
              "      border-top-color: var(--fill-color);\n",
              "    }\n",
              "    30% {\n",
              "      border-color: transparent;\n",
              "      border-left-color: var(--fill-color);\n",
              "      border-top-color: var(--fill-color);\n",
              "      border-right-color: var(--fill-color);\n",
              "    }\n",
              "    40% {\n",
              "      border-color: transparent;\n",
              "      border-right-color: var(--fill-color);\n",
              "      border-top-color: var(--fill-color);\n",
              "    }\n",
              "    60% {\n",
              "      border-color: transparent;\n",
              "      border-right-color: var(--fill-color);\n",
              "    }\n",
              "    80% {\n",
              "      border-color: transparent;\n",
              "      border-right-color: var(--fill-color);\n",
              "      border-bottom-color: var(--fill-color);\n",
              "    }\n",
              "    90% {\n",
              "      border-color: transparent;\n",
              "      border-bottom-color: var(--fill-color);\n",
              "    }\n",
              "  }\n",
              "</style>\n",
              "\n",
              "  <script>\n",
              "    async function quickchart(key) {\n",
              "      const quickchartButtonEl =\n",
              "        document.querySelector('#' + key + ' button');\n",
              "      quickchartButtonEl.disabled = true;  // To prevent multiple clicks.\n",
              "      quickchartButtonEl.classList.add('colab-df-spinner');\n",
              "      try {\n",
              "        const charts = await google.colab.kernel.invokeFunction(\n",
              "            'suggestCharts', [key], {});\n",
              "      } catch (error) {\n",
              "        console.error('Error during call to suggestCharts:', error);\n",
              "      }\n",
              "      quickchartButtonEl.classList.remove('colab-df-spinner');\n",
              "      quickchartButtonEl.classList.add('colab-df-quickchart-complete');\n",
              "    }\n",
              "    (() => {\n",
              "      let quickchartButtonEl =\n",
              "        document.querySelector('#df-d870066e-02b1-4b56-9d97-c0b719d4876f button');\n",
              "      quickchartButtonEl.style.display =\n",
              "        google.colab.kernel.accessAllowed ? 'block' : 'none';\n",
              "    })();\n",
              "  </script>\n",
              "</div>\n",
              "    </div>\n",
              "  </div>\n"
            ]
          },
          "metadata": {},
          "execution_count": 15
        }
      ]
    },
    {
      "cell_type": "code",
      "source": [
        "df_ml['length'].describe()"
      ],
      "metadata": {
        "colab": {
          "base_uri": "https://localhost:8080/"
        },
        "id": "HqQHz4k0cTkb",
        "outputId": "f1c18649-f853-4257-9a8a-0428511f156a"
      },
      "execution_count": 16,
      "outputs": [
        {
          "output_type": "execute_result",
          "data": {
            "text/plain": [
              "count    821793.000000\n",
              "mean        541.498714\n",
              "std         512.427290\n",
              "min           1.000000\n",
              "25%         215.000000\n",
              "50%         380.000000\n",
              "75%         682.000000\n",
              "max        5000.000000\n",
              "Name: length, dtype: float64"
            ]
          },
          "metadata": {},
          "execution_count": 16
        }
      ]
    },
    {
      "cell_type": "markdown",
      "source": [
        "# **I.2 Creamos histogramas, instalamos dependencias necesarias, etiquetamos la columna compound y obtenemos insights del análisis de sentimientos**"
      ],
      "metadata": {
        "id": "IR_Md41KDJFZ"
      }
    },
    {
      "cell_type": "markdown",
      "source": [
        "## Histograma 1: Numero de caracteres por registro"
      ],
      "metadata": {
        "id": "pDMnKH2Q_NkA"
      }
    },
    {
      "cell_type": "code",
      "source": [
        "df_ml['length'].plot(bins=50, kind='hist', color='Blue')"
      ],
      "metadata": {
        "colab": {
          "base_uri": "https://localhost:8080/",
          "height": 447
        },
        "id": "iLCQ_cd8ciEN",
        "outputId": "cf087182-8ccb-4b20-dfc9-40a342136ad9"
      },
      "execution_count": 17,
      "outputs": [
        {
          "output_type": "execute_result",
          "data": {
            "text/plain": [
              "<Axes: ylabel='Frequency'>"
            ]
          },
          "metadata": {},
          "execution_count": 17
        },
        {
          "output_type": "display_data",
          "data": {
            "text/plain": [
              "<Figure size 640x480 with 1 Axes>"
            ],
            "image/png": "[encoded data removed]"
          },
          "metadata": {}
        }
      ]
    },
    {
      "cell_type": "markdown",
      "source": [
        "Este gráfico nos permite ver cuantas palabras hay por registro, lo que tambien nos brinda un rango del numero de palabras que deberiamos considerar para posteriores evaluaciones, por ejemplo para \"max_features\" seria razonable considerar hasta 2000 o 2500 palabras como las mas frecuentes, de ese modo estariamos cubriendo aquellos registros con un menor numero de palabras y se estaria delimitando las palabras mas frecuentes de acuerdo a este grafico."
      ],
      "metadata": {
        "id": "unjq9S4rl1Cd"
      }
    },
    {
      "cell_type": "code",
      "source": [
        "df_ml = df_ml.copy()"
      ],
      "metadata": {
        "id": "wb-tvbb-moFm"
      },
      "execution_count": 18,
      "outputs": []
    },
    {
      "cell_type": "code",
      "source": [
        "df_ml.iloc[0]"
      ],
      "metadata": {
        "colab": {
          "base_uri": "https://localhost:8080/"
        },
        "id": "lojF7bRPpWHA",
        "outputId": "00985dda-113f-4c98-dcc9-bd85e815e5c0"
      },
      "execution_count": 19,
      "outputs": [
        {
          "output_type": "execute_result",
          "data": {
            "text/plain": [
              "business_id                               uMvVYRgGNXf5boolA9HXTw\n",
              "stars_x                                                        5\n",
              "city                                                       Tampa\n",
              "state                                                         FL\n",
              "text           My experience with Shalimar was nothing but wo...\n",
              "length                                                      1009\n",
              "Name: 0, dtype: object"
            ]
          },
          "metadata": {},
          "execution_count": 19
        }
      ]
    },
    {
      "cell_type": "code",
      "source": [
        "df_ml['stars_x'].value_counts().sort_index()"
      ],
      "metadata": {
        "colab": {
          "base_uri": "https://localhost:8080/"
        },
        "id": "MLKCqyhlp_EQ",
        "outputId": "90e7357c-f650-42d8-b803-431b93e5dadc"
      },
      "execution_count": 20,
      "outputs": [
        {
          "output_type": "execute_result",
          "data": {
            "text/plain": [
              "1    131120\n",
              "2     58926\n",
              "3     74065\n",
              "4    156677\n",
              "5    401005\n",
              "Name: stars_x, dtype: int64"
            ]
          },
          "metadata": {},
          "execution_count": 20
        }
      ]
    },
    {
      "cell_type": "markdown",
      "source": [
        "## Histograma 2: Número de reviews por estrellas"
      ],
      "metadata": {
        "id": "nONj1HzJ_z5R"
      }
    },
    {
      "cell_type": "code",
      "source": [
        "df_ml['stars_x'].value_counts().sort_index().plot(kind='bar', title='Count of Reviews by Starts',\n",
        "                                                  figsize=(10,5), color='Blue')"
      ],
      "metadata": {
        "colab": {
          "base_uri": "https://localhost:8080/",
          "height": 480
        },
        "id": "ixW5qTwsphbB",
        "outputId": "6c75bcf9-1984-403f-a1ad-c46cfe128081"
      },
      "execution_count": 21,
      "outputs": [
        {
          "output_type": "execute_result",
          "data": {
            "text/plain": [
              "<Axes: title={'center': 'Count of Reviews by Starts'}>"
            ]
          },
          "metadata": {},
          "execution_count": 21
        },
        {
          "output_type": "display_data",
          "data": {
            "text/plain": [
              "<Figure size 1000x500 with 1 Axes>"
            ],
            "image/png": "[encoded data removed]"
          },
          "metadata": {}
        }
      ]
    },
    {
      "cell_type": "markdown",
      "source": [
        "## Instalamos dependencias para realizar el preprocesamiento de la columna 'text' y realizar el analisis de sentimiento."
      ],
      "metadata": {
        "id": "M8VCN9irFolD"
      }
    },
    {
      "cell_type": "code",
      "source": [
        "nltk.download('vader_lexicon')\n",
        "nltk.download('maxent_ne_chunker')\n",
        "nltk.download('words')\n",
        "nltk.download('averaged_perceptron_tagger')\n",
        "nltk.download('punkt')\n",
        "nltk.download('stopwords')\n",
        "\n",
        "#tokenized = nltk.word_tokenize(sample)\n",
        "#tokenized[:5]\n",
        "#tagged = nltk.pos_tag(tokenized)\n",
        "#tagged[:5]\n",
        "#sentences = nltk.chunk.ne_chunk(tagged)\n",
        "#sentences.pprint()"
      ],
      "metadata": {
        "colab": {
          "base_uri": "https://localhost:8080/"
        },
        "id": "gAtESDS4qoem",
        "outputId": "f24ca735-177f-42a2-d0ab-db8b9f75e508"
      },
      "execution_count": 22,
      "outputs": [
        {
          "output_type": "stream",
          "name": "stderr",
          "text": [
            "[nltk_data] Downloading package vader_lexicon to /root/nltk_data...\n",
            "[nltk_data] Downloading package maxent_ne_chunker to\n",
            "[nltk_data]     /root/nltk_data...\n",
            "[nltk_data]   Unzipping chunkers/maxent_ne_chunker.zip.\n",
            "[nltk_data] Downloading package words to /root/nltk_data...\n",
            "[nltk_data]   Unzipping corpora/words.zip.\n",
            "[nltk_data] Downloading package averaged_perceptron_tagger to\n",
            "[nltk_data]     /root/nltk_data...\n",
            "[nltk_data]   Unzipping taggers/averaged_perceptron_tagger.zip.\n",
            "[nltk_data] Downloading package punkt to /root/nltk_data...\n",
            "[nltk_data]   Unzipping tokenizers/punkt.zip.\n",
            "[nltk_data] Downloading package stopwords to /root/nltk_data...\n",
            "[nltk_data]   Unzipping corpora/stopwords.zip.\n"
          ]
        },
        {
          "output_type": "execute_result",
          "data": {
            "text/plain": [
              "True"
            ]
          },
          "metadata": {},
          "execution_count": 22
        }
      ]
    },
    {
      "cell_type": "markdown",
      "source": [
        "** tqdm ayuda a crear barras de progreso para el procesamiento de datos, entrenar modelos ML, funciones multi-loop y descargar datos de internet."
      ],
      "metadata": {
        "id": "EFQVWJiiH7Vf"
      }
    },
    {
      "cell_type": "code",
      "source": [
        "from nltk.sentiment import SentimentIntensityAnalyzer\n",
        "from tqdm.notebook import tqdm"
      ],
      "metadata": {
        "id": "lbaE7iWFtxg3"
      },
      "execution_count": 23,
      "outputs": []
    },
    {
      "cell_type": "code",
      "source": [
        "# Creamos nuestra funcion.\n",
        "senia = SentimentIntensityAnalyzer()"
      ],
      "metadata": {
        "id": "PEt7tMwCuQTp"
      },
      "execution_count": 24,
      "outputs": []
    },
    {
      "cell_type": "code",
      "source": [
        "# Creamos nuestra muestra de una registro para probar el modelo VADER\n",
        "sample = df_ml['text'].iloc[36]\n",
        "sample"
      ],
      "metadata": {
        "colab": {
          "base_uri": "https://localhost:8080/",
          "height": 35
        },
        "id": "WrQfBwr2GHww",
        "outputId": "45212195-a57a-4837-d025-67e1d666ab54"
      },
      "execution_count": 25,
      "outputs": [
        {
          "output_type": "execute_result",
          "data": {
            "text/plain": [
              "'Awesome food, fantastic waitress!  I had the southern fried steak breakfast... delicious!  Reasonably priced, clean and friendly, a down home country diner feel!'"
            ],
            "application/vnd.google.colaboratory.intrinsic+json": {
              "type": "string"
            }
          },
          "metadata": {},
          "execution_count": 25
        }
      ]
    },
    {
      "cell_type": "code",
      "source": [
        "senia.polarity_scores(sample)"
      ],
      "metadata": {
        "colab": {
          "base_uri": "https://localhost:8080/"
        },
        "id": "8Pmnh7r7vSOn",
        "outputId": "2e975ea5-63ed-4b2a-993b-530f3448c025"
      },
      "execution_count": 26,
      "outputs": [
        {
          "output_type": "execute_result",
          "data": {
            "text/plain": [
              "{'neg': 0.0, 'neu': 0.468, 'pos': 0.532, 'compound': 0.9594}"
            ]
          },
          "metadata": {},
          "execution_count": 26
        }
      ]
    },
    {
      "cell_type": "code",
      "source": [
        "# Cuando es necesario por temas de RAM \"truncamos los registros\".\n",
        "# Asumiendo que nuestra poblacion es 821793 datos, solo consideraremos alrededor del 10% de este.\n",
        "df_ml = df_ml[:83000]"
      ],
      "metadata": {
        "id": "lAbVJfQdxOka"
      },
      "execution_count": 27,
      "outputs": []
    },
    {
      "cell_type": "code",
      "source": [
        "df_ml.drop_duplicates()"
      ],
      "metadata": {
        "colab": {
          "base_uri": "https://localhost:8080/",
          "height": 423
        },
        "id": "RFPvD4Ma0NLo",
        "outputId": "a815fe4b-0037-47c0-859d-b0b26e85ddd1"
      },
      "execution_count": 28,
      "outputs": [
        {
          "output_type": "execute_result",
          "data": {
            "text/plain": [
              "                  business_id  stars_x   city state  \\\n",
              "0      uMvVYRgGNXf5boolA9HXTw        5  Tampa    FL   \n",
              "1      uMvVYRgGNXf5boolA9HXTw        4  Tampa    FL   \n",
              "2      uMvVYRgGNXf5boolA9HXTw        5  Tampa    FL   \n",
              "3      uMvVYRgGNXf5boolA9HXTw        1  Tampa    FL   \n",
              "4      uMvVYRgGNXf5boolA9HXTw        1  Tampa    FL   \n",
              "...                       ...      ...    ...   ...   \n",
              "82995  _0QZGrg91aaiMhh7tQyYYg        4  Tampa    FL   \n",
              "82996  _0QZGrg91aaiMhh7tQyYYg        5  Tampa    FL   \n",
              "82997  _0QZGrg91aaiMhh7tQyYYg        4  Tampa    FL   \n",
              "82998  _0QZGrg91aaiMhh7tQyYYg        1  Tampa    FL   \n",
              "82999  _0QZGrg91aaiMhh7tQyYYg        1  Tampa    FL   \n",
              "\n",
              "                                                    text  length  \n",
              "0      My experience with Shalimar was nothing but wo...    1009  \n",
              "1      Very helpful and patient.  20\" 14k gold chain ...     106  \n",
              "2      They were all very easy to work with and went ...     334  \n",
              "3      They have forever lost my business. Ordered a ...     921  \n",
              "4      please dont go here they have bullshit gold th...     369  \n",
              "...                                                  ...     ...  \n",
              "82995  My boyfriend and I took his parents here on a ...     414  \n",
              "82996  I've been coming to Jackson's for YEARS and it...     254  \n",
              "82997  The ambiance and Bay view is exceptional! I ha...     539  \n",
              "82998  The buffet only brunch isn't really an attract...     486  \n",
              "82999  I cannot emphasize more that this place is the...     554  \n",
              "\n",
              "[82842 rows x 6 columns]"
            ],
            "text/html": [
              "\n",
              "  <div id=\"df-fe4ad817-2441-4622-b62b-0b56081e54a5\" class=\"colab-df-container\">\n",
              "    <div>\n",
              "<style scoped>\n",
              "    .dataframe tbody tr th:only-of-type {\n",
              "        vertical-align: middle;\n",
              "    }\n",
              "\n",
              "    .dataframe tbody tr th {\n",
              "        vertical-align: top;\n",
              "    }\n",
              "\n",
              "    .dataframe thead th {\n",
              "        text-align: right;\n",
              "    }\n",
              "</style>\n",
              "<table border=\"1\" class=\"dataframe\">\n",
              "  <thead>\n",
              "    <tr style=\"text-align: right;\">\n",
              "      <th></th>\n",
              "      <th>business_id</th>\n",
              "      <th>stars_x</th>\n",
              "      <th>city</th>\n",
              "      <th>state</th>\n",
              "      <th>text</th>\n",
              "      <th>length</th>\n",
              "    </tr>\n",
              "  </thead>\n",
              "  <tbody>\n",
              "    <tr>\n",
              "      <th>0</th>\n",
              "      <td>uMvVYRgGNXf5boolA9HXTw</td>\n",
              "      <td>5</td>\n",
              "      <td>Tampa</td>\n",
              "      <td>FL</td>\n",
              "      <td>My experience with Shalimar was nothing but wo...</td>\n",
              "      <td>1009</td>\n",
              "    </tr>\n",
              "    <tr>\n",
              "      <th>1</th>\n",
              "      <td>uMvVYRgGNXf5boolA9HXTw</td>\n",
              "      <td>4</td>\n",
              "      <td>Tampa</td>\n",
              "      <td>FL</td>\n",
              "      <td>Very helpful and patient.  20\" 14k gold chain ...</td>\n",
              "      <td>106</td>\n",
              "    </tr>\n",
              "    <tr>\n",
              "      <th>2</th>\n",
              "      <td>uMvVYRgGNXf5boolA9HXTw</td>\n",
              "      <td>5</td>\n",
              "      <td>Tampa</td>\n",
              "      <td>FL</td>\n",
              "      <td>They were all very easy to work with and went ...</td>\n",
              "      <td>334</td>\n",
              "    </tr>\n",
              "    <tr>\n",
              "      <th>3</th>\n",
              "      <td>uMvVYRgGNXf5boolA9HXTw</td>\n",
              "      <td>1</td>\n",
              "      <td>Tampa</td>\n",
              "      <td>FL</td>\n",
              "      <td>They have forever lost my business. Ordered a ...</td>\n",
              "      <td>921</td>\n",
              "    </tr>\n",
              "    <tr>\n",
              "      <th>4</th>\n",
              "      <td>uMvVYRgGNXf5boolA9HXTw</td>\n",
              "      <td>1</td>\n",
              "      <td>Tampa</td>\n",
              "      <td>FL</td>\n",
              "      <td>please dont go here they have bullshit gold th...</td>\n",
              "      <td>369</td>\n",
              "    </tr>\n",
              "    <tr>\n",
              "      <th>...</th>\n",
              "      <td>...</td>\n",
              "      <td>...</td>\n",
              "      <td>...</td>\n",
              "      <td>...</td>\n",
              "      <td>...</td>\n",
              "      <td>...</td>\n",
              "    </tr>\n",
              "    <tr>\n",
              "      <th>82995</th>\n",
              "      <td>_0QZGrg91aaiMhh7tQyYYg</td>\n",
              "      <td>4</td>\n",
              "      <td>Tampa</td>\n",
              "      <td>FL</td>\n",
              "      <td>My boyfriend and I took his parents here on a ...</td>\n",
              "      <td>414</td>\n",
              "    </tr>\n",
              "    <tr>\n",
              "      <th>82996</th>\n",
              "      <td>_0QZGrg91aaiMhh7tQyYYg</td>\n",
              "      <td>5</td>\n",
              "      <td>Tampa</td>\n",
              "      <td>FL</td>\n",
              "      <td>I've been coming to Jackson's for YEARS and it...</td>\n",
              "      <td>254</td>\n",
              "    </tr>\n",
              "    <tr>\n",
              "      <th>82997</th>\n",
              "      <td>_0QZGrg91aaiMhh7tQyYYg</td>\n",
              "      <td>4</td>\n",
              "      <td>Tampa</td>\n",
              "      <td>FL</td>\n",
              "      <td>The ambiance and Bay view is exceptional! I ha...</td>\n",
              "      <td>539</td>\n",
              "    </tr>\n",
              "    <tr>\n",
              "      <th>82998</th>\n",
              "      <td>_0QZGrg91aaiMhh7tQyYYg</td>\n",
              "      <td>1</td>\n",
              "      <td>Tampa</td>\n",
              "      <td>FL</td>\n",
              "      <td>The buffet only brunch isn't really an attract...</td>\n",
              "      <td>486</td>\n",
              "    </tr>\n",
              "    <tr>\n",
              "      <th>82999</th>\n",
              "      <td>_0QZGrg91aaiMhh7tQyYYg</td>\n",
              "      <td>1</td>\n",
              "      <td>Tampa</td>\n",
              "      <td>FL</td>\n",
              "      <td>I cannot emphasize more that this place is the...</td>\n",
              "      <td>554</td>\n",
              "    </tr>\n",
              "  </tbody>\n",
              "</table>\n",
              "<p>82842 rows × 6 columns</p>\n",
              "</div>\n",
              "    <div class=\"colab-df-buttons\">\n",
              "\n",
              "  <div class=\"colab-df-container\">\n",
              "    <button class=\"colab-df-convert\" onclick=\"convertToInteractive('df-fe4ad817-2441-4622-b62b-0b56081e54a5')\"\n",
              "            title=\"Convert this dataframe to an interactive table.\"\n",
              "            style=\"display:none;\">\n",
              "\n",
              "  <svg xmlns=\"http://www.w3.org/2000/svg\" height=\"24px\" viewBox=\"0 -960 960 960\">\n",
              "    <path d=\"M120-120v-720h720v720H120Zm60-500h600v-160H180v160Zm220 220h160v-160H400v160Zm0 220h160v-160H400v160ZM180-400h160v-160H180v160Zm440 0h160v-160H620v160ZM180-180h160v-160H180v160Zm440 0h160v-160H620v160Z\"/>\n",
              "  </svg>\n",
              "    </button>\n",
              "\n",
              "  <style>\n",
              "    .colab-df-container {\n",
              "      display:flex;\n",
              "      gap: 12px;\n",
              "    }\n",
              "\n",
              "    .colab-df-convert {\n",
              "      background-color: #E8F0FE;\n",
              "      border: none;\n",
              "      border-radius: 50%;\n",
              "      cursor: pointer;\n",
              "      display: none;\n",
              "      fill: #1967D2;\n",
              "      height: 32px;\n",
              "      padding: 0 0 0 0;\n",
              "      width: 32px;\n",
              "    }\n",
              "\n",
              "    .colab-df-convert:hover {\n",
              "      background-color: #E2EBFA;\n",
              "      box-shadow: 0px 1px 2px rgba(60, 64, 67, 0.3), 0px 1px 3px 1px rgba(60, 64, 67, 0.15);\n",
              "      fill: #174EA6;\n",
              "    }\n",
              "\n",
              "    .colab-df-buttons div {\n",
              "      margin-bottom: 4px;\n",
              "    }\n",
              "\n",
              "    [theme=dark] .colab-df-convert {\n",
              "      background-color: #3B4455;\n",
              "      fill: #D2E3FC;\n",
              "    }\n",
              "\n",
              "    [theme=dark] .colab-df-convert:hover {\n",
              "      background-color: #434B5C;\n",
              "      box-shadow: 0px 1px 3px 1px rgba(0, 0, 0, 0.15);\n",
              "      filter: drop-shadow(0px 1px 2px rgba(0, 0, 0, 0.3));\n",
              "      fill: #FFFFFF;\n",
              "    }\n",
              "  </style>\n",
              "\n",
              "    <script>\n",
              "      const buttonEl =\n",
              "        document.querySelector('#df-fe4ad817-2441-4622-b62b-0b56081e54a5 button.colab-df-convert');\n",
              "      buttonEl.style.display =\n",
              "        google.colab.kernel.accessAllowed ? 'block' : 'none';\n",
              "\n",
              "      async function convertToInteractive(key) {\n",
              "        const element = document.querySelector('#df-fe4ad817-2441-4622-b62b-0b56081e54a5');\n",
              "        const dataTable =\n",
              "          await google.colab.kernel.invokeFunction('convertToInteractive',\n",
              "                                                    [key], {});\n",
              "        if (!dataTable) return;\n",
              "\n",
              "        const docLinkHtml = 'Like what you see? Visit the ' +\n",
              "          '<a target=\"_blank\" href=https://colab.research.google.com/notebooks/data_table.ipynb>data table notebook</a>'\n",
              "          + ' to learn more about interactive tables.';\n",
              "        element.innerHTML = '';\n",
              "        dataTable['output_type'] = 'display_data';\n",
              "        await google.colab.output.renderOutput(dataTable, element);\n",
              "        const docLink = document.createElement('div');\n",
              "        docLink.innerHTML = docLinkHtml;\n",
              "        element.appendChild(docLink);\n",
              "      }\n",
              "    </script>\n",
              "  </div>\n",
              "\n",
              "\n",
              "<div id=\"df-807ad2a5-227f-4337-8ba3-cb57cb673712\">\n",
              "  <button class=\"colab-df-quickchart\" onclick=\"quickchart('df-807ad2a5-227f-4337-8ba3-cb57cb673712')\"\n",
              "            title=\"Suggest charts.\"\n",
              "            style=\"display:none;\">\n",
              "\n",
              "<svg xmlns=\"http://www.w3.org/2000/svg\" height=\"24px\"viewBox=\"0 0 24 24\"\n",
              "     width=\"24px\">\n",
              "    <g>\n",
              "        <path d=\"M19 3H5c-1.1 0-2 .9-2 2v14c0 1.1.9 2 2 2h14c1.1 0 2-.9 2-2V5c0-1.1-.9-2-2-2zM9 17H7v-7h2v7zm4 0h-2V7h2v10zm4 0h-2v-4h2v4z\"/>\n",
              "    </g>\n",
              "</svg>\n",
              "  </button>\n",
              "\n",
              "<style>\n",
              "  .colab-df-quickchart {\n",
              "      --bg-color: #E8F0FE;\n",
              "      --fill-color: #1967D2;\n",
              "      --hover-bg-color: #E2EBFA;\n",
              "      --hover-fill-color: #174EA6;\n",
              "      --disabled-fill-color: #AAA;\n",
              "      --disabled-bg-color: #DDD;\n",
              "  }\n",
              "\n",
              "  [theme=dark] .colab-df-quickchart {\n",
              "      --bg-color: #3B4455;\n",
              "      --fill-color: #D2E3FC;\n",
              "      --hover-bg-color: #434B5C;\n",
              "      --hover-fill-color: #FFFFFF;\n",
              "      --disabled-bg-color: #3B4455;\n",
              "      --disabled-fill-color: #666;\n",
              "  }\n",
              "\n",
              "  .colab-df-quickchart {\n",
              "    background-color: var(--bg-color);\n",
              "    border: none;\n",
              "    border-radius: 50%;\n",
              "    cursor: pointer;\n",
              "    display: none;\n",
              "    fill: var(--fill-color);\n",
              "    height: 32px;\n",
              "    padding: 0;\n",
              "    width: 32px;\n",
              "  }\n",
              "\n",
              "  .colab-df-quickchart:hover {\n",
              "    background-color: var(--hover-bg-color);\n",
              "    box-shadow: 0 1px 2px rgba(60, 64, 67, 0.3), 0 1px 3px 1px rgba(60, 64, 67, 0.15);\n",
              "    fill: var(--button-hover-fill-color);\n",
              "  }\n",
              "\n",
              "  .colab-df-quickchart-complete:disabled,\n",
              "  .colab-df-quickchart-complete:disabled:hover {\n",
              "    background-color: var(--disabled-bg-color);\n",
              "    fill: var(--disabled-fill-color);\n",
              "    box-shadow: none;\n",
              "  }\n",
              "\n",
              "  .colab-df-spinner {\n",
              "    border: 2px solid var(--fill-color);\n",
              "    border-color: transparent;\n",
              "    border-bottom-color: var(--fill-color);\n",
              "    animation:\n",
              "      spin 1s steps(1) infinite;\n",
              "  }\n",
              "\n",
              "  @keyframes spin {\n",
              "    0% {\n",
              "      border-color: transparent;\n",
              "      border-bottom-color: var(--fill-color);\n",
              "      border-left-color: var(--fill-color);\n",
              "    }\n",
              "    20% {\n",
              "      border-color: transparent;\n",
              "      border-left-color: var(--fill-color);\n",
              "      border-top-color: var(--fill-color);\n",
              "    }\n",
              "    30% {\n",
              "      border-color: transparent;\n",
              "      border-left-color: var(--fill-color);\n",
              "      border-top-color: var(--fill-color);\n",
              "      border-right-color: var(--fill-color);\n",
              "    }\n",
              "    40% {\n",
              "      border-color: transparent;\n",
              "      border-right-color: var(--fill-color);\n",
              "      border-top-color: var(--fill-color);\n",
              "    }\n",
              "    60% {\n",
              "      border-color: transparent;\n",
              "      border-right-color: var(--fill-color);\n",
              "    }\n",
              "    80% {\n",
              "      border-color: transparent;\n",
              "      border-right-color: var(--fill-color);\n",
              "      border-bottom-color: var(--fill-color);\n",
              "    }\n",
              "    90% {\n",
              "      border-color: transparent;\n",
              "      border-bottom-color: var(--fill-color);\n",
              "    }\n",
              "  }\n",
              "</style>\n",
              "\n",
              "  <script>\n",
              "    async function quickchart(key) {\n",
              "      const quickchartButtonEl =\n",
              "        document.querySelector('#' + key + ' button');\n",
              "      quickchartButtonEl.disabled = true;  // To prevent multiple clicks.\n",
              "      quickchartButtonEl.classList.add('colab-df-spinner');\n",
              "      try {\n",
              "        const charts = await google.colab.kernel.invokeFunction(\n",
              "            'suggestCharts', [key], {});\n",
              "      } catch (error) {\n",
              "        console.error('Error during call to suggestCharts:', error);\n",
              "      }\n",
              "      quickchartButtonEl.classList.remove('colab-df-spinner');\n",
              "      quickchartButtonEl.classList.add('colab-df-quickchart-complete');\n",
              "    }\n",
              "    (() => {\n",
              "      let quickchartButtonEl =\n",
              "        document.querySelector('#df-807ad2a5-227f-4337-8ba3-cb57cb673712 button');\n",
              "      quickchartButtonEl.style.display =\n",
              "        google.colab.kernel.accessAllowed ? 'block' : 'none';\n",
              "    })();\n",
              "  </script>\n",
              "</div>\n",
              "    </div>\n",
              "  </div>\n"
            ]
          },
          "metadata": {},
          "execution_count": 28
        }
      ]
    },
    {
      "cell_type": "code",
      "source": [
        "# Necesitamos una nueva columna de indices y resetear los indices.\n",
        "df_ml = df_ml.rename_axis('id', axis=1)\n",
        "#df_ml\n",
        "\n",
        "df_ml = df_ml.reset_index().rename(columns={'index':'id'})\n",
        "#df_ml.head(3)"
      ],
      "metadata": {
        "id": "PsBDpmA61ddy"
      },
      "execution_count": 29,
      "outputs": []
    },
    {
      "cell_type": "markdown",
      "source": [
        "## Aplicamos VADER a toda la columna"
      ],
      "metadata": {
        "id": "1x_YdP_uHlGT"
      }
    },
    {
      "cell_type": "code",
      "source": [
        "# Usamos una funcion para iterar en cada celda(fila) de la columna text.\n",
        "\n",
        "res = {}\n",
        "for i, row in tqdm(df_ml.iterrows(), total=len(df_ml)):\n",
        "  text = row['text']\n",
        "  theid = row['id']\n",
        "  res[theid] = senia.polarity_scores(text)"
      ],
      "metadata": {
        "colab": {
          "base_uri": "https://localhost:8080/",
          "height": 49,
          "referenced_widgets": [
            "eff9ddcc36c84fd28ab6ea4301d2844b",
            "f081c772169a4c5787ee832e791595d3",
            "675c31c445ca4a178f9fe9bc0f349bdb",
            "3d6eb983d36f482cbeab391814191a6a",
            "7a56cf553db14503a4804c3a4d9afe6b",
            "d0a33b32cf874a808f0d291a6f5a0fd3",
            "9a8f2a08d11043229f8973e9059445ef",
            "dbbeae2e0fde4a27965b698e5ae22924",
            "f169234bdc6c490a924e3db65d81db65",
            "7652627f5b7b4eda8edec7223fb615be",
            "42fd8d0b1d29432eba41fa8d7dd019d0"
          ]
        },
        "id": "cGTUJ-z7vuFp",
        "outputId": "16700b3d-09df-449f-c422-5a9982603fcf"
      },
      "execution_count": 30,
      "outputs": [
        {
          "output_type": "display_data",
          "data": {
            "text/plain": [
              "  0%|          | 0/83000 [00:00<?, ?it/s]"
            ],
            "application/vnd.jupyter.widget-view+json": {
              "version_major": 2,
              "version_minor": 0,
              "model_id": "eff9ddcc36c84fd28ab6ea4301d2844b"
            }
          },
          "metadata": {}
        }
      ]
    },
    {
      "cell_type": "markdown",
      "source": [
        "## Hacemos un join de los resultados con la tabla df_ml"
      ],
      "metadata": {
        "id": "A1mPrsx_IaIw"
      }
    },
    {
      "cell_type": "code",
      "source": [
        "# Usamos la transpuesta para conseguir el formato de tabla deseado y luego realizar un merge.\n",
        "vaders = pd.DataFrame(res).T\n",
        "vaders"
      ],
      "metadata": {
        "colab": {
          "base_uri": "https://localhost:8080/",
          "height": 423
        },
        "id": "j0ag7vCEx5IR",
        "outputId": "59f174fd-ca1d-460d-fda4-52e402038682"
      },
      "execution_count": 31,
      "outputs": [
        {
          "output_type": "execute_result",
          "data": {
            "text/plain": [
              "         neg    neu    pos  compound\n",
              "0      0.100  0.752  0.148    0.9181\n",
              "1      0.000  0.860  0.140    0.4754\n",
              "2      0.000  0.722  0.278    0.9688\n",
              "3      0.009  0.841  0.151    0.9726\n",
              "4      0.101  0.772  0.127   -0.0176\n",
              "...      ...    ...    ...       ...\n",
              "82995  0.000  0.815  0.185    0.9523\n",
              "82996  0.000  0.852  0.148    0.7655\n",
              "82997  0.014  0.727  0.259    0.9840\n",
              "82998  0.077  0.897  0.026   -0.4340\n",
              "82999  0.066  0.912  0.022   -0.6124\n",
              "\n",
              "[83000 rows x 4 columns]"
            ],
            "text/html": [
              "\n",
              "  <div id=\"df-a14adc11-aa6a-460b-b01f-f45af95484f1\" class=\"colab-df-container\">\n",
              "    <div>\n",
              "<style scoped>\n",
              "    .dataframe tbody tr th:only-of-type {\n",
              "        vertical-align: middle;\n",
              "    }\n",
              "\n",
              "    .dataframe tbody tr th {\n",
              "        vertical-align: top;\n",
              "    }\n",
              "\n",
              "    .dataframe thead th {\n",
              "        text-align: right;\n",
              "    }\n",
              "</style>\n",
              "<table border=\"1\" class=\"dataframe\">\n",
              "  <thead>\n",
              "    <tr style=\"text-align: right;\">\n",
              "      <th></th>\n",
              "      <th>neg</th>\n",
              "      <th>neu</th>\n",
              "      <th>pos</th>\n",
              "      <th>compound</th>\n",
              "    </tr>\n",
              "  </thead>\n",
              "  <tbody>\n",
              "    <tr>\n",
              "      <th>0</th>\n",
              "      <td>0.100</td>\n",
              "      <td>0.752</td>\n",
              "      <td>0.148</td>\n",
              "      <td>0.9181</td>\n",
              "    </tr>\n",
              "    <tr>\n",
              "      <th>1</th>\n",
              "      <td>0.000</td>\n",
              "      <td>0.860</td>\n",
              "      <td>0.140</td>\n",
              "      <td>0.4754</td>\n",
              "    </tr>\n",
              "    <tr>\n",
              "      <th>2</th>\n",
              "      <td>0.000</td>\n",
              "      <td>0.722</td>\n",
              "      <td>0.278</td>\n",
              "      <td>0.9688</td>\n",
              "    </tr>\n",
              "    <tr>\n",
              "      <th>3</th>\n",
              "      <td>0.009</td>\n",
              "      <td>0.841</td>\n",
              "      <td>0.151</td>\n",
              "      <td>0.9726</td>\n",
              "    </tr>\n",
              "    <tr>\n",
              "      <th>4</th>\n",
              "      <td>0.101</td>\n",
              "      <td>0.772</td>\n",
              "      <td>0.127</td>\n",
              "      <td>-0.0176</td>\n",
              "    </tr>\n",
              "    <tr>\n",
              "      <th>...</th>\n",
              "      <td>...</td>\n",
              "      <td>...</td>\n",
              "      <td>...</td>\n",
              "      <td>...</td>\n",
              "    </tr>\n",
              "    <tr>\n",
              "      <th>82995</th>\n",
              "      <td>0.000</td>\n",
              "      <td>0.815</td>\n",
              "      <td>0.185</td>\n",
              "      <td>0.9523</td>\n",
              "    </tr>\n",
              "    <tr>\n",
              "      <th>82996</th>\n",
              "      <td>0.000</td>\n",
              "      <td>0.852</td>\n",
              "      <td>0.148</td>\n",
              "      <td>0.7655</td>\n",
              "    </tr>\n",
              "    <tr>\n",
              "      <th>82997</th>\n",
              "      <td>0.014</td>\n",
              "      <td>0.727</td>\n",
              "      <td>0.259</td>\n",
              "      <td>0.9840</td>\n",
              "    </tr>\n",
              "    <tr>\n",
              "      <th>82998</th>\n",
              "      <td>0.077</td>\n",
              "      <td>0.897</td>\n",
              "      <td>0.026</td>\n",
              "      <td>-0.4340</td>\n",
              "    </tr>\n",
              "    <tr>\n",
              "      <th>82999</th>\n",
              "      <td>0.066</td>\n",
              "      <td>0.912</td>\n",
              "      <td>0.022</td>\n",
              "      <td>-0.6124</td>\n",
              "    </tr>\n",
              "  </tbody>\n",
              "</table>\n",
              "<p>83000 rows × 4 columns</p>\n",
              "</div>\n",
              "    <div class=\"colab-df-buttons\">\n",
              "\n",
              "  <div class=\"colab-df-container\">\n",
              "    <button class=\"colab-df-convert\" onclick=\"convertToInteractive('df-a14adc11-aa6a-460b-b01f-f45af95484f1')\"\n",
              "            title=\"Convert this dataframe to an interactive table.\"\n",
              "            style=\"display:none;\">\n",
              "\n",
              "  <svg xmlns=\"http://www.w3.org/2000/svg\" height=\"24px\" viewBox=\"0 -960 960 960\">\n",
              "    <path d=\"M120-120v-720h720v720H120Zm60-500h600v-160H180v160Zm220 220h160v-160H400v160Zm0 220h160v-160H400v160ZM180-400h160v-160H180v160Zm440 0h160v-160H620v160ZM180-180h160v-160H180v160Zm440 0h160v-160H620v160Z\"/>\n",
              "  </svg>\n",
              "    </button>\n",
              "\n",
              "  <style>\n",
              "    .colab-df-container {\n",
              "      display:flex;\n",
              "      gap: 12px;\n",
              "    }\n",
              "\n",
              "    .colab-df-convert {\n",
              "      background-color: #E8F0FE;\n",
              "      border: none;\n",
              "      border-radius: 50%;\n",
              "      cursor: pointer;\n",
              "      display: none;\n",
              "      fill: #1967D2;\n",
              "      height: 32px;\n",
              "      padding: 0 0 0 0;\n",
              "      width: 32px;\n",
              "    }\n",
              "\n",
              "    .colab-df-convert:hover {\n",
              "      background-color: #E2EBFA;\n",
              "      box-shadow: 0px 1px 2px rgba(60, 64, 67, 0.3), 0px 1px 3px 1px rgba(60, 64, 67, 0.15);\n",
              "      fill: #174EA6;\n",
              "    }\n",
              "\n",
              "    .colab-df-buttons div {\n",
              "      margin-bottom: 4px;\n",
              "    }\n",
              "\n",
              "    [theme=dark] .colab-df-convert {\n",
              "      background-color: #3B4455;\n",
              "      fill: #D2E3FC;\n",
              "    }\n",
              "\n",
              "    [theme=dark] .colab-df-convert:hover {\n",
              "      background-color: #434B5C;\n",
              "      box-shadow: 0px 1px 3px 1px rgba(0, 0, 0, 0.15);\n",
              "      filter: drop-shadow(0px 1px 2px rgba(0, 0, 0, 0.3));\n",
              "      fill: #FFFFFF;\n",
              "    }\n",
              "  </style>\n",
              "\n",
              "    <script>\n",
              "      const buttonEl =\n",
              "        document.querySelector('#df-a14adc11-aa6a-460b-b01f-f45af95484f1 button.colab-df-convert');\n",
              "      buttonEl.style.display =\n",
              "        google.colab.kernel.accessAllowed ? 'block' : 'none';\n",
              "\n",
              "      async function convertToInteractive(key) {\n",
              "        const element = document.querySelector('#df-a14adc11-aa6a-460b-b01f-f45af95484f1');\n",
              "        const dataTable =\n",
              "          await google.colab.kernel.invokeFunction('convertToInteractive',\n",
              "                                                    [key], {});\n",
              "        if (!dataTable) return;\n",
              "\n",
              "        const docLinkHtml = 'Like what you see? Visit the ' +\n",
              "          '<a target=\"_blank\" href=https://colab.research.google.com/notebooks/data_table.ipynb>data table notebook</a>'\n",
              "          + ' to learn more about interactive tables.';\n",
              "        element.innerHTML = '';\n",
              "        dataTable['output_type'] = 'display_data';\n",
              "        await google.colab.output.renderOutput(dataTable, element);\n",
              "        const docLink = document.createElement('div');\n",
              "        docLink.innerHTML = docLinkHtml;\n",
              "        element.appendChild(docLink);\n",
              "      }\n",
              "    </script>\n",
              "  </div>\n",
              "\n",
              "\n",
              "<div id=\"df-92e557b1-f93d-42b6-b3d6-350b58900ed5\">\n",
              "  <button class=\"colab-df-quickchart\" onclick=\"quickchart('df-92e557b1-f93d-42b6-b3d6-350b58900ed5')\"\n",
              "            title=\"Suggest charts.\"\n",
              "            style=\"display:none;\">\n",
              "\n",
              "<svg xmlns=\"http://www.w3.org/2000/svg\" height=\"24px\"viewBox=\"0 0 24 24\"\n",
              "     width=\"24px\">\n",
              "    <g>\n",
              "        <path d=\"M19 3H5c-1.1 0-2 .9-2 2v14c0 1.1.9 2 2 2h14c1.1 0 2-.9 2-2V5c0-1.1-.9-2-2-2zM9 17H7v-7h2v7zm4 0h-2V7h2v10zm4 0h-2v-4h2v4z\"/>\n",
              "    </g>\n",
              "</svg>\n",
              "  </button>\n",
              "\n",
              "<style>\n",
              "  .colab-df-quickchart {\n",
              "      --bg-color: #E8F0FE;\n",
              "      --fill-color: #1967D2;\n",
              "      --hover-bg-color: #E2EBFA;\n",
              "      --hover-fill-color: #174EA6;\n",
              "      --disabled-fill-color: #AAA;\n",
              "      --disabled-bg-color: #DDD;\n",
              "  }\n",
              "\n",
              "  [theme=dark] .colab-df-quickchart {\n",
              "      --bg-color: #3B4455;\n",
              "      --fill-color: #D2E3FC;\n",
              "      --hover-bg-color: #434B5C;\n",
              "      --hover-fill-color: #FFFFFF;\n",
              "      --disabled-bg-color: #3B4455;\n",
              "      --disabled-fill-color: #666;\n",
              "  }\n",
              "\n",
              "  .colab-df-quickchart {\n",
              "    background-color: var(--bg-color);\n",
              "    border: none;\n",
              "    border-radius: 50%;\n",
              "    cursor: pointer;\n",
              "    display: none;\n",
              "    fill: var(--fill-color);\n",
              "    height: 32px;\n",
              "    padding: 0;\n",
              "    width: 32px;\n",
              "  }\n",
              "\n",
              "  .colab-df-quickchart:hover {\n",
              "    background-color: var(--hover-bg-color);\n",
              "    box-shadow: 0 1px 2px rgba(60, 64, 67, 0.3), 0 1px 3px 1px rgba(60, 64, 67, 0.15);\n",
              "    fill: var(--button-hover-fill-color);\n",
              "  }\n",
              "\n",
              "  .colab-df-quickchart-complete:disabled,\n",
              "  .colab-df-quickchart-complete:disabled:hover {\n",
              "    background-color: var(--disabled-bg-color);\n",
              "    fill: var(--disabled-fill-color);\n",
              "    box-shadow: none;\n",
              "  }\n",
              "\n",
              "  .colab-df-spinner {\n",
              "    border: 2px solid var(--fill-color);\n",
              "    border-color: transparent;\n",
              "    border-bottom-color: var(--fill-color);\n",
              "    animation:\n",
              "      spin 1s steps(1) infinite;\n",
              "  }\n",
              "\n",
              "  @keyframes spin {\n",
              "    0% {\n",
              "      border-color: transparent;\n",
              "      border-bottom-color: var(--fill-color);\n",
              "      border-left-color: var(--fill-color);\n",
              "    }\n",
              "    20% {\n",
              "      border-color: transparent;\n",
              "      border-left-color: var(--fill-color);\n",
              "      border-top-color: var(--fill-color);\n",
              "    }\n",
              "    30% {\n",
              "      border-color: transparent;\n",
              "      border-left-color: var(--fill-color);\n",
              "      border-top-color: var(--fill-color);\n",
              "      border-right-color: var(--fill-color);\n",
              "    }\n",
              "    40% {\n",
              "      border-color: transparent;\n",
              "      border-right-color: var(--fill-color);\n",
              "      border-top-color: var(--fill-color);\n",
              "    }\n",
              "    60% {\n",
              "      border-color: transparent;\n",
              "      border-right-color: var(--fill-color);\n",
              "    }\n",
              "    80% {\n",
              "      border-color: transparent;\n",
              "      border-right-color: var(--fill-color);\n",
              "      border-bottom-color: var(--fill-color);\n",
              "    }\n",
              "    90% {\n",
              "      border-color: transparent;\n",
              "      border-bottom-color: var(--fill-color);\n",
              "    }\n",
              "  }\n",
              "</style>\n",
              "\n",
              "  <script>\n",
              "    async function quickchart(key) {\n",
              "      const quickchartButtonEl =\n",
              "        document.querySelector('#' + key + ' button');\n",
              "      quickchartButtonEl.disabled = true;  // To prevent multiple clicks.\n",
              "      quickchartButtonEl.classList.add('colab-df-spinner');\n",
              "      try {\n",
              "        const charts = await google.colab.kernel.invokeFunction(\n",
              "            'suggestCharts', [key], {});\n",
              "      } catch (error) {\n",
              "        console.error('Error during call to suggestCharts:', error);\n",
              "      }\n",
              "      quickchartButtonEl.classList.remove('colab-df-spinner');\n",
              "      quickchartButtonEl.classList.add('colab-df-quickchart-complete');\n",
              "    }\n",
              "    (() => {\n",
              "      let quickchartButtonEl =\n",
              "        document.querySelector('#df-92e557b1-f93d-42b6-b3d6-350b58900ed5 button');\n",
              "      quickchartButtonEl.style.display =\n",
              "        google.colab.kernel.accessAllowed ? 'block' : 'none';\n",
              "    })();\n",
              "  </script>\n",
              "</div>\n",
              "    </div>\n",
              "  </div>\n"
            ]
          },
          "metadata": {},
          "execution_count": 31
        }
      ]
    },
    {
      "cell_type": "code",
      "source": [
        "vaders = vaders.reset_index().rename(columns={'index':'id'})"
      ],
      "metadata": {
        "id": "Ba80NRu43nqQ"
      },
      "execution_count": 32,
      "outputs": []
    },
    {
      "cell_type": "code",
      "source": [
        "merged_vader = pd.merge(df_ml, vaders, on='id', how='inner')"
      ],
      "metadata": {
        "id": "EhjDaepC0osB"
      },
      "execution_count": 33,
      "outputs": []
    },
    {
      "cell_type": "code",
      "source": [
        "merged_vader"
      ],
      "metadata": {
        "colab": {
          "base_uri": "https://localhost:8080/",
          "height": 423
        },
        "id": "vmNJothE3t5Z",
        "outputId": "5f24099e-6560-4b6c-9db5-9f09292b9817"
      },
      "execution_count": 34,
      "outputs": [
        {
          "output_type": "execute_result",
          "data": {
            "text/plain": [
              "          id             business_id  stars_x   city state  \\\n",
              "0          0  uMvVYRgGNXf5boolA9HXTw        5  Tampa    FL   \n",
              "1          1  uMvVYRgGNXf5boolA9HXTw        4  Tampa    FL   \n",
              "2          2  uMvVYRgGNXf5boolA9HXTw        5  Tampa    FL   \n",
              "3          3  uMvVYRgGNXf5boolA9HXTw        1  Tampa    FL   \n",
              "4          4  uMvVYRgGNXf5boolA9HXTw        1  Tampa    FL   \n",
              "...      ...                     ...      ...    ...   ...   \n",
              "82995  82995  _0QZGrg91aaiMhh7tQyYYg        4  Tampa    FL   \n",
              "82996  82996  _0QZGrg91aaiMhh7tQyYYg        5  Tampa    FL   \n",
              "82997  82997  _0QZGrg91aaiMhh7tQyYYg        4  Tampa    FL   \n",
              "82998  82998  _0QZGrg91aaiMhh7tQyYYg        1  Tampa    FL   \n",
              "82999  82999  _0QZGrg91aaiMhh7tQyYYg        1  Tampa    FL   \n",
              "\n",
              "                                                    text  length    neg  \\\n",
              "0      My experience with Shalimar was nothing but wo...    1009  0.100   \n",
              "1      Very helpful and patient.  20\" 14k gold chain ...     106  0.000   \n",
              "2      They were all very easy to work with and went ...     334  0.000   \n",
              "3      They have forever lost my business. Ordered a ...     921  0.009   \n",
              "4      please dont go here they have bullshit gold th...     369  0.101   \n",
              "...                                                  ...     ...    ...   \n",
              "82995  My boyfriend and I took his parents here on a ...     414  0.000   \n",
              "82996  I've been coming to Jackson's for YEARS and it...     254  0.000   \n",
              "82997  The ambiance and Bay view is exceptional! I ha...     539  0.014   \n",
              "82998  The buffet only brunch isn't really an attract...     486  0.077   \n",
              "82999  I cannot emphasize more that this place is the...     554  0.066   \n",
              "\n",
              "         neu    pos  compound  \n",
              "0      0.752  0.148    0.9181  \n",
              "1      0.860  0.140    0.4754  \n",
              "2      0.722  0.278    0.9688  \n",
              "3      0.841  0.151    0.9726  \n",
              "4      0.772  0.127   -0.0176  \n",
              "...      ...    ...       ...  \n",
              "82995  0.815  0.185    0.9523  \n",
              "82996  0.852  0.148    0.7655  \n",
              "82997  0.727  0.259    0.9840  \n",
              "82998  0.897  0.026   -0.4340  \n",
              "82999  0.912  0.022   -0.6124  \n",
              "\n",
              "[83000 rows x 11 columns]"
            ],
            "text/html": [
              "\n",
              "  <div id=\"df-0fa3f64e-da7d-4f14-9f66-d69d60267917\" class=\"colab-df-container\">\n",
              "    <div>\n",
              "<style scoped>\n",
              "    .dataframe tbody tr th:only-of-type {\n",
              "        vertical-align: middle;\n",
              "    }\n",
              "\n",
              "    .dataframe tbody tr th {\n",
              "        vertical-align: top;\n",
              "    }\n",
              "\n",
              "    .dataframe thead th {\n",
              "        text-align: right;\n",
              "    }\n",
              "</style>\n",
              "<table border=\"1\" class=\"dataframe\">\n",
              "  <thead>\n",
              "    <tr style=\"text-align: right;\">\n",
              "      <th></th>\n",
              "      <th>id</th>\n",
              "      <th>business_id</th>\n",
              "      <th>stars_x</th>\n",
              "      <th>city</th>\n",
              "      <th>state</th>\n",
              "      <th>text</th>\n",
              "      <th>length</th>\n",
              "      <th>neg</th>\n",
              "      <th>neu</th>\n",
              "      <th>pos</th>\n",
              "      <th>compound</th>\n",
              "    </tr>\n",
              "  </thead>\n",
              "  <tbody>\n",
              "    <tr>\n",
              "      <th>0</th>\n",
              "      <td>0</td>\n",
              "      <td>uMvVYRgGNXf5boolA9HXTw</td>\n",
              "      <td>5</td>\n",
              "      <td>Tampa</td>\n",
              "      <td>FL</td>\n",
              "      <td>My experience with Shalimar was nothing but wo...</td>\n",
              "      <td>1009</td>\n",
              "      <td>0.100</td>\n",
              "      <td>0.752</td>\n",
              "      <td>0.148</td>\n",
              "      <td>0.9181</td>\n",
              "    </tr>\n",
              "    <tr>\n",
              "      <th>1</th>\n",
              "      <td>1</td>\n",
              "      <td>uMvVYRgGNXf5boolA9HXTw</td>\n",
              "      <td>4</td>\n",
              "      <td>Tampa</td>\n",
              "      <td>FL</td>\n",
              "      <td>Very helpful and patient.  20\" 14k gold chain ...</td>\n",
              "      <td>106</td>\n",
              "      <td>0.000</td>\n",
              "      <td>0.860</td>\n",
              "      <td>0.140</td>\n",
              "      <td>0.4754</td>\n",
              "    </tr>\n",
              "    <tr>\n",
              "      <th>2</th>\n",
              "      <td>2</td>\n",
              "      <td>uMvVYRgGNXf5boolA9HXTw</td>\n",
              "      <td>5</td>\n",
              "      <td>Tampa</td>\n",
              "      <td>FL</td>\n",
              "      <td>They were all very easy to work with and went ...</td>\n",
              "      <td>334</td>\n",
              "      <td>0.000</td>\n",
              "      <td>0.722</td>\n",
              "      <td>0.278</td>\n",
              "      <td>0.9688</td>\n",
              "    </tr>\n",
              "    <tr>\n",
              "      <th>3</th>\n",
              "      <td>3</td>\n",
              "      <td>uMvVYRgGNXf5boolA9HXTw</td>\n",
              "      <td>1</td>\n",
              "      <td>Tampa</td>\n",
              "      <td>FL</td>\n",
              "      <td>They have forever lost my business. Ordered a ...</td>\n",
              "      <td>921</td>\n",
              "      <td>0.009</td>\n",
              "      <td>0.841</td>\n",
              "      <td>0.151</td>\n",
              "      <td>0.9726</td>\n",
              "    </tr>\n",
              "    <tr>\n",
              "      <th>4</th>\n",
              "      <td>4</td>\n",
              "      <td>uMvVYRgGNXf5boolA9HXTw</td>\n",
              "      <td>1</td>\n",
              "      <td>Tampa</td>\n",
              "      <td>FL</td>\n",
              "      <td>please dont go here they have bullshit gold th...</td>\n",
              "      <td>369</td>\n",
              "      <td>0.101</td>\n",
              "      <td>0.772</td>\n",
              "      <td>0.127</td>\n",
              "      <td>-0.0176</td>\n",
              "    </tr>\n",
              "    <tr>\n",
              "      <th>...</th>\n",
              "      <td>...</td>\n",
              "      <td>...</td>\n",
              "      <td>...</td>\n",
              "      <td>...</td>\n",
              "      <td>...</td>\n",
              "      <td>...</td>\n",
              "      <td>...</td>\n",
              "      <td>...</td>\n",
              "      <td>...</td>\n",
              "      <td>...</td>\n",
              "      <td>...</td>\n",
              "    </tr>\n",
              "    <tr>\n",
              "      <th>82995</th>\n",
              "      <td>82995</td>\n",
              "      <td>_0QZGrg91aaiMhh7tQyYYg</td>\n",
              "      <td>4</td>\n",
              "      <td>Tampa</td>\n",
              "      <td>FL</td>\n",
              "      <td>My boyfriend and I took his parents here on a ...</td>\n",
              "      <td>414</td>\n",
              "      <td>0.000</td>\n",
              "      <td>0.815</td>\n",
              "      <td>0.185</td>\n",
              "      <td>0.9523</td>\n",
              "    </tr>\n",
              "    <tr>\n",
              "      <th>82996</th>\n",
              "      <td>82996</td>\n",
              "      <td>_0QZGrg91aaiMhh7tQyYYg</td>\n",
              "      <td>5</td>\n",
              "      <td>Tampa</td>\n",
              "      <td>FL</td>\n",
              "      <td>I've been coming to Jackson's for YEARS and it...</td>\n",
              "      <td>254</td>\n",
              "      <td>0.000</td>\n",
              "      <td>0.852</td>\n",
              "      <td>0.148</td>\n",
              "      <td>0.7655</td>\n",
              "    </tr>\n",
              "    <tr>\n",
              "      <th>82997</th>\n",
              "      <td>82997</td>\n",
              "      <td>_0QZGrg91aaiMhh7tQyYYg</td>\n",
              "      <td>4</td>\n",
              "      <td>Tampa</td>\n",
              "      <td>FL</td>\n",
              "      <td>The ambiance and Bay view is exceptional! I ha...</td>\n",
              "      <td>539</td>\n",
              "      <td>0.014</td>\n",
              "      <td>0.727</td>\n",
              "      <td>0.259</td>\n",
              "      <td>0.9840</td>\n",
              "    </tr>\n",
              "    <tr>\n",
              "      <th>82998</th>\n",
              "      <td>82998</td>\n",
              "      <td>_0QZGrg91aaiMhh7tQyYYg</td>\n",
              "      <td>1</td>\n",
              "      <td>Tampa</td>\n",
              "      <td>FL</td>\n",
              "      <td>The buffet only brunch isn't really an attract...</td>\n",
              "      <td>486</td>\n",
              "      <td>0.077</td>\n",
              "      <td>0.897</td>\n",
              "      <td>0.026</td>\n",
              "      <td>-0.4340</td>\n",
              "    </tr>\n",
              "    <tr>\n",
              "      <th>82999</th>\n",
              "      <td>82999</td>\n",
              "      <td>_0QZGrg91aaiMhh7tQyYYg</td>\n",
              "      <td>1</td>\n",
              "      <td>Tampa</td>\n",
              "      <td>FL</td>\n",
              "      <td>I cannot emphasize more that this place is the...</td>\n",
              "      <td>554</td>\n",
              "      <td>0.066</td>\n",
              "      <td>0.912</td>\n",
              "      <td>0.022</td>\n",
              "      <td>-0.6124</td>\n",
              "    </tr>\n",
              "  </tbody>\n",
              "</table>\n",
              "<p>83000 rows × 11 columns</p>\n",
              "</div>\n",
              "    <div class=\"colab-df-buttons\">\n",
              "\n",
              "  <div class=\"colab-df-container\">\n",
              "    <button class=\"colab-df-convert\" onclick=\"convertToInteractive('df-0fa3f64e-da7d-4f14-9f66-d69d60267917')\"\n",
              "            title=\"Convert this dataframe to an interactive table.\"\n",
              "            style=\"display:none;\">\n",
              "\n",
              "  <svg xmlns=\"http://www.w3.org/2000/svg\" height=\"24px\" viewBox=\"0 -960 960 960\">\n",
              "    <path d=\"M120-120v-720h720v720H120Zm60-500h600v-160H180v160Zm220 220h160v-160H400v160Zm0 220h160v-160H400v160ZM180-400h160v-160H180v160Zm440 0h160v-160H620v160ZM180-180h160v-160H180v160Zm440 0h160v-160H620v160Z\"/>\n",
              "  </svg>\n",
              "    </button>\n",
              "\n",
              "  <style>\n",
              "    .colab-df-container {\n",
              "      display:flex;\n",
              "      gap: 12px;\n",
              "    }\n",
              "\n",
              "    .colab-df-convert {\n",
              "      background-color: #E8F0FE;\n",
              "      border: none;\n",
              "      border-radius: 50%;\n",
              "      cursor: pointer;\n",
              "      display: none;\n",
              "      fill: #1967D2;\n",
              "      height: 32px;\n",
              "      padding: 0 0 0 0;\n",
              "      width: 32px;\n",
              "    }\n",
              "\n",
              "    .colab-df-convert:hover {\n",
              "      background-color: #E2EBFA;\n",
              "      box-shadow: 0px 1px 2px rgba(60, 64, 67, 0.3), 0px 1px 3px 1px rgba(60, 64, 67, 0.15);\n",
              "      fill: #174EA6;\n",
              "    }\n",
              "\n",
              "    .colab-df-buttons div {\n",
              "      margin-bottom: 4px;\n",
              "    }\n",
              "\n",
              "    [theme=dark] .colab-df-convert {\n",
              "      background-color: #3B4455;\n",
              "      fill: #D2E3FC;\n",
              "    }\n",
              "\n",
              "    [theme=dark] .colab-df-convert:hover {\n",
              "      background-color: #434B5C;\n",
              "      box-shadow: 0px 1px 3px 1px rgba(0, 0, 0, 0.15);\n",
              "      filter: drop-shadow(0px 1px 2px rgba(0, 0, 0, 0.3));\n",
              "      fill: #FFFFFF;\n",
              "    }\n",
              "  </style>\n",
              "\n",
              "    <script>\n",
              "      const buttonEl =\n",
              "        document.querySelector('#df-0fa3f64e-da7d-4f14-9f66-d69d60267917 button.colab-df-convert');\n",
              "      buttonEl.style.display =\n",
              "        google.colab.kernel.accessAllowed ? 'block' : 'none';\n",
              "\n",
              "      async function convertToInteractive(key) {\n",
              "        const element = document.querySelector('#df-0fa3f64e-da7d-4f14-9f66-d69d60267917');\n",
              "        const dataTable =\n",
              "          await google.colab.kernel.invokeFunction('convertToInteractive',\n",
              "                                                    [key], {});\n",
              "        if (!dataTable) return;\n",
              "\n",
              "        const docLinkHtml = 'Like what you see? Visit the ' +\n",
              "          '<a target=\"_blank\" href=https://colab.research.google.com/notebooks/data_table.ipynb>data table notebook</a>'\n",
              "          + ' to learn more about interactive tables.';\n",
              "        element.innerHTML = '';\n",
              "        dataTable['output_type'] = 'display_data';\n",
              "        await google.colab.output.renderOutput(dataTable, element);\n",
              "        const docLink = document.createElement('div');\n",
              "        docLink.innerHTML = docLinkHtml;\n",
              "        element.appendChild(docLink);\n",
              "      }\n",
              "    </script>\n",
              "  </div>\n",
              "\n",
              "\n",
              "<div id=\"df-c9f692df-1270-49dd-aac5-2f85a61aeb75\">\n",
              "  <button class=\"colab-df-quickchart\" onclick=\"quickchart('df-c9f692df-1270-49dd-aac5-2f85a61aeb75')\"\n",
              "            title=\"Suggest charts.\"\n",
              "            style=\"display:none;\">\n",
              "\n",
              "<svg xmlns=\"http://www.w3.org/2000/svg\" height=\"24px\"viewBox=\"0 0 24 24\"\n",
              "     width=\"24px\">\n",
              "    <g>\n",
              "        <path d=\"M19 3H5c-1.1 0-2 .9-2 2v14c0 1.1.9 2 2 2h14c1.1 0 2-.9 2-2V5c0-1.1-.9-2-2-2zM9 17H7v-7h2v7zm4 0h-2V7h2v10zm4 0h-2v-4h2v4z\"/>\n",
              "    </g>\n",
              "</svg>\n",
              "  </button>\n",
              "\n",
              "<style>\n",
              "  .colab-df-quickchart {\n",
              "      --bg-color: #E8F0FE;\n",
              "      --fill-color: #1967D2;\n",
              "      --hover-bg-color: #E2EBFA;\n",
              "      --hover-fill-color: #174EA6;\n",
              "      --disabled-fill-color: #AAA;\n",
              "      --disabled-bg-color: #DDD;\n",
              "  }\n",
              "\n",
              "  [theme=dark] .colab-df-quickchart {\n",
              "      --bg-color: #3B4455;\n",
              "      --fill-color: #D2E3FC;\n",
              "      --hover-bg-color: #434B5C;\n",
              "      --hover-fill-color: #FFFFFF;\n",
              "      --disabled-bg-color: #3B4455;\n",
              "      --disabled-fill-color: #666;\n",
              "  }\n",
              "\n",
              "  .colab-df-quickchart {\n",
              "    background-color: var(--bg-color);\n",
              "    border: none;\n",
              "    border-radius: 50%;\n",
              "    cursor: pointer;\n",
              "    display: none;\n",
              "    fill: var(--fill-color);\n",
              "    height: 32px;\n",
              "    padding: 0;\n",
              "    width: 32px;\n",
              "  }\n",
              "\n",
              "  .colab-df-quickchart:hover {\n",
              "    background-color: var(--hover-bg-color);\n",
              "    box-shadow: 0 1px 2px rgba(60, 64, 67, 0.3), 0 1px 3px 1px rgba(60, 64, 67, 0.15);\n",
              "    fill: var(--button-hover-fill-color);\n",
              "  }\n",
              "\n",
              "  .colab-df-quickchart-complete:disabled,\n",
              "  .colab-df-quickchart-complete:disabled:hover {\n",
              "    background-color: var(--disabled-bg-color);\n",
              "    fill: var(--disabled-fill-color);\n",
              "    box-shadow: none;\n",
              "  }\n",
              "\n",
              "  .colab-df-spinner {\n",
              "    border: 2px solid var(--fill-color);\n",
              "    border-color: transparent;\n",
              "    border-bottom-color: var(--fill-color);\n",
              "    animation:\n",
              "      spin 1s steps(1) infinite;\n",
              "  }\n",
              "\n",
              "  @keyframes spin {\n",
              "    0% {\n",
              "      border-color: transparent;\n",
              "      border-bottom-color: var(--fill-color);\n",
              "      border-left-color: var(--fill-color);\n",
              "    }\n",
              "    20% {\n",
              "      border-color: transparent;\n",
              "      border-left-color: var(--fill-color);\n",
              "      border-top-color: var(--fill-color);\n",
              "    }\n",
              "    30% {\n",
              "      border-color: transparent;\n",
              "      border-left-color: var(--fill-color);\n",
              "      border-top-color: var(--fill-color);\n",
              "      border-right-color: var(--fill-color);\n",
              "    }\n",
              "    40% {\n",
              "      border-color: transparent;\n",
              "      border-right-color: var(--fill-color);\n",
              "      border-top-color: var(--fill-color);\n",
              "    }\n",
              "    60% {\n",
              "      border-color: transparent;\n",
              "      border-right-color: var(--fill-color);\n",
              "    }\n",
              "    80% {\n",
              "      border-color: transparent;\n",
              "      border-right-color: var(--fill-color);\n",
              "      border-bottom-color: var(--fill-color);\n",
              "    }\n",
              "    90% {\n",
              "      border-color: transparent;\n",
              "      border-bottom-color: var(--fill-color);\n",
              "    }\n",
              "  }\n",
              "</style>\n",
              "\n",
              "  <script>\n",
              "    async function quickchart(key) {\n",
              "      const quickchartButtonEl =\n",
              "        document.querySelector('#' + key + ' button');\n",
              "      quickchartButtonEl.disabled = true;  // To prevent multiple clicks.\n",
              "      quickchartButtonEl.classList.add('colab-df-spinner');\n",
              "      try {\n",
              "        const charts = await google.colab.kernel.invokeFunction(\n",
              "            'suggestCharts', [key], {});\n",
              "      } catch (error) {\n",
              "        console.error('Error during call to suggestCharts:', error);\n",
              "      }\n",
              "      quickchartButtonEl.classList.remove('colab-df-spinner');\n",
              "      quickchartButtonEl.classList.add('colab-df-quickchart-complete');\n",
              "    }\n",
              "    (() => {\n",
              "      let quickchartButtonEl =\n",
              "        document.querySelector('#df-c9f692df-1270-49dd-aac5-2f85a61aeb75 button');\n",
              "      quickchartButtonEl.style.display =\n",
              "        google.colab.kernel.accessAllowed ? 'block' : 'none';\n",
              "    })();\n",
              "  </script>\n",
              "</div>\n",
              "    </div>\n",
              "  </div>\n"
            ]
          },
          "metadata": {},
          "execution_count": 34
        }
      ]
    },
    {
      "cell_type": "markdown",
      "source": [
        "## Etiquetamos los resultados generados por VADER\n",
        "\n",
        "En la columna compound los valores mayores a 0 son feedback positivos(1) y los valores menores o iguales a cero son feedbacks negativos (0)."
      ],
      "metadata": {
        "id": "i1rBNmz3eT4N"
      }
    },
    {
      "cell_type": "code",
      "source": [
        "#merged_vader['feedback'] = 0\n",
        "\n",
        "merged_vader.loc[merged_vader['compound'] > 0.0000, 'feedback'] = 1\n",
        "\n",
        "merged_vader.loc[merged_vader['compound'] <= 0.0000, 'feedback'] = 0"
      ],
      "metadata": {
        "id": "C78hvS16ilzo"
      },
      "execution_count": 35,
      "outputs": []
    },
    {
      "cell_type": "code",
      "source": [
        "merged_vader = merged_vader.copy()\n",
        "merged_vader"
      ],
      "metadata": {
        "colab": {
          "base_uri": "https://localhost:8080/",
          "height": 423
        },
        "id": "LqwJalexjva1",
        "outputId": "47d836a6-3b1c-460e-8920-98985b621d49"
      },
      "execution_count": 36,
      "outputs": [
        {
          "output_type": "execute_result",
          "data": {
            "text/plain": [
              "          id             business_id  stars_x   city state  \\\n",
              "0          0  uMvVYRgGNXf5boolA9HXTw        5  Tampa    FL   \n",
              "1          1  uMvVYRgGNXf5boolA9HXTw        4  Tampa    FL   \n",
              "2          2  uMvVYRgGNXf5boolA9HXTw        5  Tampa    FL   \n",
              "3          3  uMvVYRgGNXf5boolA9HXTw        1  Tampa    FL   \n",
              "4          4  uMvVYRgGNXf5boolA9HXTw        1  Tampa    FL   \n",
              "...      ...                     ...      ...    ...   ...   \n",
              "82995  82995  _0QZGrg91aaiMhh7tQyYYg        4  Tampa    FL   \n",
              "82996  82996  _0QZGrg91aaiMhh7tQyYYg        5  Tampa    FL   \n",
              "82997  82997  _0QZGrg91aaiMhh7tQyYYg        4  Tampa    FL   \n",
              "82998  82998  _0QZGrg91aaiMhh7tQyYYg        1  Tampa    FL   \n",
              "82999  82999  _0QZGrg91aaiMhh7tQyYYg        1  Tampa    FL   \n",
              "\n",
              "                                                    text  length    neg  \\\n",
              "0      My experience with Shalimar was nothing but wo...    1009  0.100   \n",
              "1      Very helpful and patient.  20\" 14k gold chain ...     106  0.000   \n",
              "2      They were all very easy to work with and went ...     334  0.000   \n",
              "3      They have forever lost my business. Ordered a ...     921  0.009   \n",
              "4      please dont go here they have bullshit gold th...     369  0.101   \n",
              "...                                                  ...     ...    ...   \n",
              "82995  My boyfriend and I took his parents here on a ...     414  0.000   \n",
              "82996  I've been coming to Jackson's for YEARS and it...     254  0.000   \n",
              "82997  The ambiance and Bay view is exceptional! I ha...     539  0.014   \n",
              "82998  The buffet only brunch isn't really an attract...     486  0.077   \n",
              "82999  I cannot emphasize more that this place is the...     554  0.066   \n",
              "\n",
              "         neu    pos  compound  feedback  \n",
              "0      0.752  0.148    0.9181       1.0  \n",
              "1      0.860  0.140    0.4754       1.0  \n",
              "2      0.722  0.278    0.9688       1.0  \n",
              "3      0.841  0.151    0.9726       1.0  \n",
              "4      0.772  0.127   -0.0176       0.0  \n",
              "...      ...    ...       ...       ...  \n",
              "82995  0.815  0.185    0.9523       1.0  \n",
              "82996  0.852  0.148    0.7655       1.0  \n",
              "82997  0.727  0.259    0.9840       1.0  \n",
              "82998  0.897  0.026   -0.4340       0.0  \n",
              "82999  0.912  0.022   -0.6124       0.0  \n",
              "\n",
              "[83000 rows x 12 columns]"
            ],
            "text/html": [
              "\n",
              "  <div id=\"df-3dae3530-3fd0-4a8f-8e20-70149746ccd5\" class=\"colab-df-container\">\n",
              "    <div>\n",
              "<style scoped>\n",
              "    .dataframe tbody tr th:only-of-type {\n",
              "        vertical-align: middle;\n",
              "    }\n",
              "\n",
              "    .dataframe tbody tr th {\n",
              "        vertical-align: top;\n",
              "    }\n",
              "\n",
              "    .dataframe thead th {\n",
              "        text-align: right;\n",
              "    }\n",
              "</style>\n",
              "<table border=\"1\" class=\"dataframe\">\n",
              "  <thead>\n",
              "    <tr style=\"text-align: right;\">\n",
              "      <th></th>\n",
              "      <th>id</th>\n",
              "      <th>business_id</th>\n",
              "      <th>stars_x</th>\n",
              "      <th>city</th>\n",
              "      <th>state</th>\n",
              "      <th>text</th>\n",
              "      <th>length</th>\n",
              "      <th>neg</th>\n",
              "      <th>neu</th>\n",
              "      <th>pos</th>\n",
              "      <th>compound</th>\n",
              "      <th>feedback</th>\n",
              "    </tr>\n",
              "  </thead>\n",
              "  <tbody>\n",
              "    <tr>\n",
              "      <th>0</th>\n",
              "      <td>0</td>\n",
              "      <td>uMvVYRgGNXf5boolA9HXTw</td>\n",
              "      <td>5</td>\n",
              "      <td>Tampa</td>\n",
              "      <td>FL</td>\n",
              "      <td>My experience with Shalimar was nothing but wo...</td>\n",
              "      <td>1009</td>\n",
              "      <td>0.100</td>\n",
              "      <td>0.752</td>\n",
              "      <td>0.148</td>\n",
              "      <td>0.9181</td>\n",
              "      <td>1.0</td>\n",
              "    </tr>\n",
              "    <tr>\n",
              "      <th>1</th>\n",
              "      <td>1</td>\n",
              "      <td>uMvVYRgGNXf5boolA9HXTw</td>\n",
              "      <td>4</td>\n",
              "      <td>Tampa</td>\n",
              "      <td>FL</td>\n",
              "      <td>Very helpful and patient.  20\" 14k gold chain ...</td>\n",
              "      <td>106</td>\n",
              "      <td>0.000</td>\n",
              "      <td>0.860</td>\n",
              "      <td>0.140</td>\n",
              "      <td>0.4754</td>\n",
              "      <td>1.0</td>\n",
              "    </tr>\n",
              "    <tr>\n",
              "      <th>2</th>\n",
              "      <td>2</td>\n",
              "      <td>uMvVYRgGNXf5boolA9HXTw</td>\n",
              "      <td>5</td>\n",
              "      <td>Tampa</td>\n",
              "      <td>FL</td>\n",
              "      <td>They were all very easy to work with and went ...</td>\n",
              "      <td>334</td>\n",
              "      <td>0.000</td>\n",
              "      <td>0.722</td>\n",
              "      <td>0.278</td>\n",
              "      <td>0.9688</td>\n",
              "      <td>1.0</td>\n",
              "    </tr>\n",
              "    <tr>\n",
              "      <th>3</th>\n",
              "      <td>3</td>\n",
              "      <td>uMvVYRgGNXf5boolA9HXTw</td>\n",
              "      <td>1</td>\n",
              "      <td>Tampa</td>\n",
              "      <td>FL</td>\n",
              "      <td>They have forever lost my business. Ordered a ...</td>\n",
              "      <td>921</td>\n",
              "      <td>0.009</td>\n",
              "      <td>0.841</td>\n",
              "      <td>0.151</td>\n",
              "      <td>0.9726</td>\n",
              "      <td>1.0</td>\n",
              "    </tr>\n",
              "    <tr>\n",
              "      <th>4</th>\n",
              "      <td>4</td>\n",
              "      <td>uMvVYRgGNXf5boolA9HXTw</td>\n",
              "      <td>1</td>\n",
              "      <td>Tampa</td>\n",
              "      <td>FL</td>\n",
              "      <td>please dont go here they have bullshit gold th...</td>\n",
              "      <td>369</td>\n",
              "      <td>0.101</td>\n",
              "      <td>0.772</td>\n",
              "      <td>0.127</td>\n",
              "      <td>-0.0176</td>\n",
              "      <td>0.0</td>\n",
              "    </tr>\n",
              "    <tr>\n",
              "      <th>...</th>\n",
              "      <td>...</td>\n",
              "      <td>...</td>\n",
              "      <td>...</td>\n",
              "      <td>...</td>\n",
              "      <td>...</td>\n",
              "      <td>...</td>\n",
              "      <td>...</td>\n",
              "      <td>...</td>\n",
              "      <td>...</td>\n",
              "      <td>...</td>\n",
              "      <td>...</td>\n",
              "      <td>...</td>\n",
              "    </tr>\n",
              "    <tr>\n",
              "      <th>82995</th>\n",
              "      <td>82995</td>\n",
              "      <td>_0QZGrg91aaiMhh7tQyYYg</td>\n",
              "      <td>4</td>\n",
              "      <td>Tampa</td>\n",
              "      <td>FL</td>\n",
              "      <td>My boyfriend and I took his parents here on a ...</td>\n",
              "      <td>414</td>\n",
              "      <td>0.000</td>\n",
              "      <td>0.815</td>\n",
              "      <td>0.185</td>\n",
              "      <td>0.9523</td>\n",
              "      <td>1.0</td>\n",
              "    </tr>\n",
              "    <tr>\n",
              "      <th>82996</th>\n",
              "      <td>82996</td>\n",
              "      <td>_0QZGrg91aaiMhh7tQyYYg</td>\n",
              "      <td>5</td>\n",
              "      <td>Tampa</td>\n",
              "      <td>FL</td>\n",
              "      <td>I've been coming to Jackson's for YEARS and it...</td>\n",
              "      <td>254</td>\n",
              "      <td>0.000</td>\n",
              "      <td>0.852</td>\n",
              "      <td>0.148</td>\n",
              "      <td>0.7655</td>\n",
              "      <td>1.0</td>\n",
              "    </tr>\n",
              "    <tr>\n",
              "      <th>82997</th>\n",
              "      <td>82997</td>\n",
              "      <td>_0QZGrg91aaiMhh7tQyYYg</td>\n",
              "      <td>4</td>\n",
              "      <td>Tampa</td>\n",
              "      <td>FL</td>\n",
              "      <td>The ambiance and Bay view is exceptional! I ha...</td>\n",
              "      <td>539</td>\n",
              "      <td>0.014</td>\n",
              "      <td>0.727</td>\n",
              "      <td>0.259</td>\n",
              "      <td>0.9840</td>\n",
              "      <td>1.0</td>\n",
              "    </tr>\n",
              "    <tr>\n",
              "      <th>82998</th>\n",
              "      <td>82998</td>\n",
              "      <td>_0QZGrg91aaiMhh7tQyYYg</td>\n",
              "      <td>1</td>\n",
              "      <td>Tampa</td>\n",
              "      <td>FL</td>\n",
              "      <td>The buffet only brunch isn't really an attract...</td>\n",
              "      <td>486</td>\n",
              "      <td>0.077</td>\n",
              "      <td>0.897</td>\n",
              "      <td>0.026</td>\n",
              "      <td>-0.4340</td>\n",
              "      <td>0.0</td>\n",
              "    </tr>\n",
              "    <tr>\n",
              "      <th>82999</th>\n",
              "      <td>82999</td>\n",
              "      <td>_0QZGrg91aaiMhh7tQyYYg</td>\n",
              "      <td>1</td>\n",
              "      <td>Tampa</td>\n",
              "      <td>FL</td>\n",
              "      <td>I cannot emphasize more that this place is the...</td>\n",
              "      <td>554</td>\n",
              "      <td>0.066</td>\n",
              "      <td>0.912</td>\n",
              "      <td>0.022</td>\n",
              "      <td>-0.6124</td>\n",
              "      <td>0.0</td>\n",
              "    </tr>\n",
              "  </tbody>\n",
              "</table>\n",
              "<p>83000 rows × 12 columns</p>\n",
              "</div>\n",
              "    <div class=\"colab-df-buttons\">\n",
              "\n",
              "  <div class=\"colab-df-container\">\n",
              "    <button class=\"colab-df-convert\" onclick=\"convertToInteractive('df-3dae3530-3fd0-4a8f-8e20-70149746ccd5')\"\n",
              "            title=\"Convert this dataframe to an interactive table.\"\n",
              "            style=\"display:none;\">\n",
              "\n",
              "  <svg xmlns=\"http://www.w3.org/2000/svg\" height=\"24px\" viewBox=\"0 -960 960 960\">\n",
              "    <path d=\"M120-120v-720h720v720H120Zm60-500h600v-160H180v160Zm220 220h160v-160H400v160Zm0 220h160v-160H400v160ZM180-400h160v-160H180v160Zm440 0h160v-160H620v160ZM180-180h160v-160H180v160Zm440 0h160v-160H620v160Z\"/>\n",
              "  </svg>\n",
              "    </button>\n",
              "\n",
              "  <style>\n",
              "    .colab-df-container {\n",
              "      display:flex;\n",
              "      gap: 12px;\n",
              "    }\n",
              "\n",
              "    .colab-df-convert {\n",
              "      background-color: #E8F0FE;\n",
              "      border: none;\n",
              "      border-radius: 50%;\n",
              "      cursor: pointer;\n",
              "      display: none;\n",
              "      fill: #1967D2;\n",
              "      height: 32px;\n",
              "      padding: 0 0 0 0;\n",
              "      width: 32px;\n",
              "    }\n",
              "\n",
              "    .colab-df-convert:hover {\n",
              "      background-color: #E2EBFA;\n",
              "      box-shadow: 0px 1px 2px rgba(60, 64, 67, 0.3), 0px 1px 3px 1px rgba(60, 64, 67, 0.15);\n",
              "      fill: #174EA6;\n",
              "    }\n",
              "\n",
              "    .colab-df-buttons div {\n",
              "      margin-bottom: 4px;\n",
              "    }\n",
              "\n",
              "    [theme=dark] .colab-df-convert {\n",
              "      background-color: #3B4455;\n",
              "      fill: #D2E3FC;\n",
              "    }\n",
              "\n",
              "    [theme=dark] .colab-df-convert:hover {\n",
              "      background-color: #434B5C;\n",
              "      box-shadow: 0px 1px 3px 1px rgba(0, 0, 0, 0.15);\n",
              "      filter: drop-shadow(0px 1px 2px rgba(0, 0, 0, 0.3));\n",
              "      fill: #FFFFFF;\n",
              "    }\n",
              "  </style>\n",
              "\n",
              "    <script>\n",
              "      const buttonEl =\n",
              "        document.querySelector('#df-3dae3530-3fd0-4a8f-8e20-70149746ccd5 button.colab-df-convert');\n",
              "      buttonEl.style.display =\n",
              "        google.colab.kernel.accessAllowed ? 'block' : 'none';\n",
              "\n",
              "      async function convertToInteractive(key) {\n",
              "        const element = document.querySelector('#df-3dae3530-3fd0-4a8f-8e20-70149746ccd5');\n",
              "        const dataTable =\n",
              "          await google.colab.kernel.invokeFunction('convertToInteractive',\n",
              "                                                    [key], {});\n",
              "        if (!dataTable) return;\n",
              "\n",
              "        const docLinkHtml = 'Like what you see? Visit the ' +\n",
              "          '<a target=\"_blank\" href=https://colab.research.google.com/notebooks/data_table.ipynb>data table notebook</a>'\n",
              "          + ' to learn more about interactive tables.';\n",
              "        element.innerHTML = '';\n",
              "        dataTable['output_type'] = 'display_data';\n",
              "        await google.colab.output.renderOutput(dataTable, element);\n",
              "        const docLink = document.createElement('div');\n",
              "        docLink.innerHTML = docLinkHtml;\n",
              "        element.appendChild(docLink);\n",
              "      }\n",
              "    </script>\n",
              "  </div>\n",
              "\n",
              "\n",
              "<div id=\"df-ee6e34b7-087c-4559-b598-e7ecfe73200f\">\n",
              "  <button class=\"colab-df-quickchart\" onclick=\"quickchart('df-ee6e34b7-087c-4559-b598-e7ecfe73200f')\"\n",
              "            title=\"Suggest charts.\"\n",
              "            style=\"display:none;\">\n",
              "\n",
              "<svg xmlns=\"http://www.w3.org/2000/svg\" height=\"24px\"viewBox=\"0 0 24 24\"\n",
              "     width=\"24px\">\n",
              "    <g>\n",
              "        <path d=\"M19 3H5c-1.1 0-2 .9-2 2v14c0 1.1.9 2 2 2h14c1.1 0 2-.9 2-2V5c0-1.1-.9-2-2-2zM9 17H7v-7h2v7zm4 0h-2V7h2v10zm4 0h-2v-4h2v4z\"/>\n",
              "    </g>\n",
              "</svg>\n",
              "  </button>\n",
              "\n",
              "<style>\n",
              "  .colab-df-quickchart {\n",
              "      --bg-color: #E8F0FE;\n",
              "      --fill-color: #1967D2;\n",
              "      --hover-bg-color: #E2EBFA;\n",
              "      --hover-fill-color: #174EA6;\n",
              "      --disabled-fill-color: #AAA;\n",
              "      --disabled-bg-color: #DDD;\n",
              "  }\n",
              "\n",
              "  [theme=dark] .colab-df-quickchart {\n",
              "      --bg-color: #3B4455;\n",
              "      --fill-color: #D2E3FC;\n",
              "      --hover-bg-color: #434B5C;\n",
              "      --hover-fill-color: #FFFFFF;\n",
              "      --disabled-bg-color: #3B4455;\n",
              "      --disabled-fill-color: #666;\n",
              "  }\n",
              "\n",
              "  .colab-df-quickchart {\n",
              "    background-color: var(--bg-color);\n",
              "    border: none;\n",
              "    border-radius: 50%;\n",
              "    cursor: pointer;\n",
              "    display: none;\n",
              "    fill: var(--fill-color);\n",
              "    height: 32px;\n",
              "    padding: 0;\n",
              "    width: 32px;\n",
              "  }\n",
              "\n",
              "  .colab-df-quickchart:hover {\n",
              "    background-color: var(--hover-bg-color);\n",
              "    box-shadow: 0 1px 2px rgba(60, 64, 67, 0.3), 0 1px 3px 1px rgba(60, 64, 67, 0.15);\n",
              "    fill: var(--button-hover-fill-color);\n",
              "  }\n",
              "\n",
              "  .colab-df-quickchart-complete:disabled,\n",
              "  .colab-df-quickchart-complete:disabled:hover {\n",
              "    background-color: var(--disabled-bg-color);\n",
              "    fill: var(--disabled-fill-color);\n",
              "    box-shadow: none;\n",
              "  }\n",
              "\n",
              "  .colab-df-spinner {\n",
              "    border: 2px solid var(--fill-color);\n",
              "    border-color: transparent;\n",
              "    border-bottom-color: var(--fill-color);\n",
              "    animation:\n",
              "      spin 1s steps(1) infinite;\n",
              "  }\n",
              "\n",
              "  @keyframes spin {\n",
              "    0% {\n",
              "      border-color: transparent;\n",
              "      border-bottom-color: var(--fill-color);\n",
              "      border-left-color: var(--fill-color);\n",
              "    }\n",
              "    20% {\n",
              "      border-color: transparent;\n",
              "      border-left-color: var(--fill-color);\n",
              "      border-top-color: var(--fill-color);\n",
              "    }\n",
              "    30% {\n",
              "      border-color: transparent;\n",
              "      border-left-color: var(--fill-color);\n",
              "      border-top-color: var(--fill-color);\n",
              "      border-right-color: var(--fill-color);\n",
              "    }\n",
              "    40% {\n",
              "      border-color: transparent;\n",
              "      border-right-color: var(--fill-color);\n",
              "      border-top-color: var(--fill-color);\n",
              "    }\n",
              "    60% {\n",
              "      border-color: transparent;\n",
              "      border-right-color: var(--fill-color);\n",
              "    }\n",
              "    80% {\n",
              "      border-color: transparent;\n",
              "      border-right-color: var(--fill-color);\n",
              "      border-bottom-color: var(--fill-color);\n",
              "    }\n",
              "    90% {\n",
              "      border-color: transparent;\n",
              "      border-bottom-color: var(--fill-color);\n",
              "    }\n",
              "  }\n",
              "</style>\n",
              "\n",
              "  <script>\n",
              "    async function quickchart(key) {\n",
              "      const quickchartButtonEl =\n",
              "        document.querySelector('#' + key + ' button');\n",
              "      quickchartButtonEl.disabled = true;  // To prevent multiple clicks.\n",
              "      quickchartButtonEl.classList.add('colab-df-spinner');\n",
              "      try {\n",
              "        const charts = await google.colab.kernel.invokeFunction(\n",
              "            'suggestCharts', [key], {});\n",
              "      } catch (error) {\n",
              "        console.error('Error during call to suggestCharts:', error);\n",
              "      }\n",
              "      quickchartButtonEl.classList.remove('colab-df-spinner');\n",
              "      quickchartButtonEl.classList.add('colab-df-quickchart-complete');\n",
              "    }\n",
              "    (() => {\n",
              "      let quickchartButtonEl =\n",
              "        document.querySelector('#df-ee6e34b7-087c-4559-b598-e7ecfe73200f button');\n",
              "      quickchartButtonEl.style.display =\n",
              "        google.colab.kernel.accessAllowed ? 'block' : 'none';\n",
              "    })();\n",
              "  </script>\n",
              "</div>\n",
              "    </div>\n",
              "  </div>\n"
            ]
          },
          "metadata": {},
          "execution_count": 36
        }
      ]
    },
    {
      "cell_type": "code",
      "source": [
        "#merged_vader.drop(columns=['state','text','length'], inplace=True)\n",
        "#merged_vader.to_csv('/content/drive/MyDrive/Otros/yelp_review_analisis_sentimiento.csv')"
      ],
      "metadata": {
        "id": "vnmQiLucUwai"
      },
      "execution_count": 37,
      "outputs": []
    },
    {
      "cell_type": "markdown",
      "source": [
        "# Histograma 3: Distribucion de Etiquetas por Numero de Caracteres"
      ],
      "metadata": {
        "id": "ADqxK9vorCkT"
      }
    },
    {
      "cell_type": "code",
      "source": [
        "merged_vader.hist(column='length', by='feedback', bins=50, figsize=(10,4), color='Blue')"
      ],
      "metadata": {
        "colab": {
          "base_uri": "https://localhost:8080/",
          "height": 440
        },
        "id": "OBYpJFKkmLHH",
        "outputId": "7458ea33-0f9c-46af-b1b8-9c60929c844d"
      },
      "execution_count": 38,
      "outputs": [
        {
          "output_type": "execute_result",
          "data": {
            "text/plain": [
              "array([<Axes: title={'center': '0.0'}>, <Axes: title={'center': '1.0'}>],\n",
              "      dtype=object)"
            ]
          },
          "metadata": {},
          "execution_count": 38
        },
        {
          "output_type": "display_data",
          "data": {
            "text/plain": [
              "<Figure size 1000x400 with 2 Axes>"
            ],
            "image/png": "[encoded data removed]"
          },
          "metadata": {}
        }
      ]
    },
    {
      "cell_type": "markdown",
      "source": [
        "1. Hay un gran numero de opiniones expresadas con menos del 1000 caracteres tanto en opiniones positivas como negativas.\n",
        "2. El numero de registros con opiniones favorables(1) es mucho mayor que el de registros desfavorables(0).\n",
        "3. Del histograma podemos colegir que las etiquetas (0 y 1) estan desbalanceadas, esto nos da una pista de una posible evaluacion del modelo mediante cross validation."
      ],
      "metadata": {
        "id": "scyoURhbNmap"
      }
    },
    {
      "cell_type": "code",
      "source": [
        "city_scores = merged_vader.groupby('city')['compound'].mean().reset_index()\n",
        "\n",
        "city_scores = city_scores.sort_values(by='compound', ascending=False)\n",
        "\n",
        "city_scores.head(10)"
      ],
      "metadata": {
        "colab": {
          "base_uri": "https://localhost:8080/",
          "height": 363
        },
        "id": "x3xvSgVOr5Vu",
        "outputId": "8e9dd9b2-60b8-45f7-f2a3-ab0a63dcc529"
      },
      "execution_count": 39,
      "outputs": [
        {
          "output_type": "execute_result",
          "data": {
            "text/plain": [
              "                     city  compound\n",
              "0                Belleair  0.943433\n",
              "1         Belleair Bluffs  0.868437\n",
              "24         St. Pete Beach  0.758906\n",
              "27         Tarpon Springs  0.747106\n",
              "29        Treasure Island  0.714310\n",
              "12               Mulberry  0.706831\n",
              "14  North Redington Beach  0.701337\n",
              "25         St. Petersburg  0.690721\n",
              "20       Redington Shores  0.687906\n",
              "5                 Dunedin  0.686607"
            ],
            "text/html": [
              "\n",
              "  <div id=\"df-ae438c6d-338d-4294-928f-eda5d6f6aca3\" class=\"colab-df-container\">\n",
              "    <div>\n",
              "<style scoped>\n",
              "    .dataframe tbody tr th:only-of-type {\n",
              "        vertical-align: middle;\n",
              "    }\n",
              "\n",
              "    .dataframe tbody tr th {\n",
              "        vertical-align: top;\n",
              "    }\n",
              "\n",
              "    .dataframe thead th {\n",
              "        text-align: right;\n",
              "    }\n",
              "</style>\n",
              "<table border=\"1\" class=\"dataframe\">\n",
              "  <thead>\n",
              "    <tr style=\"text-align: right;\">\n",
              "      <th></th>\n",
              "      <th>city</th>\n",
              "      <th>compound</th>\n",
              "    </tr>\n",
              "  </thead>\n",
              "  <tbody>\n",
              "    <tr>\n",
              "      <th>0</th>\n",
              "      <td>Belleair</td>\n",
              "      <td>0.943433</td>\n",
              "    </tr>\n",
              "    <tr>\n",
              "      <th>1</th>\n",
              "      <td>Belleair Bluffs</td>\n",
              "      <td>0.868437</td>\n",
              "    </tr>\n",
              "    <tr>\n",
              "      <th>24</th>\n",
              "      <td>St. Pete Beach</td>\n",
              "      <td>0.758906</td>\n",
              "    </tr>\n",
              "    <tr>\n",
              "      <th>27</th>\n",
              "      <td>Tarpon Springs</td>\n",
              "      <td>0.747106</td>\n",
              "    </tr>\n",
              "    <tr>\n",
              "      <th>29</th>\n",
              "      <td>Treasure Island</td>\n",
              "      <td>0.714310</td>\n",
              "    </tr>\n",
              "    <tr>\n",
              "      <th>12</th>\n",
              "      <td>Mulberry</td>\n",
              "      <td>0.706831</td>\n",
              "    </tr>\n",
              "    <tr>\n",
              "      <th>14</th>\n",
              "      <td>North Redington Beach</td>\n",
              "      <td>0.701337</td>\n",
              "    </tr>\n",
              "    <tr>\n",
              "      <th>25</th>\n",
              "      <td>St. Petersburg</td>\n",
              "      <td>0.690721</td>\n",
              "    </tr>\n",
              "    <tr>\n",
              "      <th>20</th>\n",
              "      <td>Redington Shores</td>\n",
              "      <td>0.687906</td>\n",
              "    </tr>\n",
              "    <tr>\n",
              "      <th>5</th>\n",
              "      <td>Dunedin</td>\n",
              "      <td>0.686607</td>\n",
              "    </tr>\n",
              "  </tbody>\n",
              "</table>\n",
              "</div>\n",
              "    <div class=\"colab-df-buttons\">\n",
              "\n",
              "  <div class=\"colab-df-container\">\n",
              "    <button class=\"colab-df-convert\" onclick=\"convertToInteractive('df-ae438c6d-338d-4294-928f-eda5d6f6aca3')\"\n",
              "            title=\"Convert this dataframe to an interactive table.\"\n",
              "            style=\"display:none;\">\n",
              "\n",
              "  <svg xmlns=\"http://www.w3.org/2000/svg\" height=\"24px\" viewBox=\"0 -960 960 960\">\n",
              "    <path d=\"M120-120v-720h720v720H120Zm60-500h600v-160H180v160Zm220 220h160v-160H400v160Zm0 220h160v-160H400v160ZM180-400h160v-160H180v160Zm440 0h160v-160H620v160ZM180-180h160v-160H180v160Zm440 0h160v-160H620v160Z\"/>\n",
              "  </svg>\n",
              "    </button>\n",
              "\n",
              "  <style>\n",
              "    .colab-df-container {\n",
              "      display:flex;\n",
              "      gap: 12px;\n",
              "    }\n",
              "\n",
              "    .colab-df-convert {\n",
              "      background-color: #E8F0FE;\n",
              "      border: none;\n",
              "      border-radius: 50%;\n",
              "      cursor: pointer;\n",
              "      display: none;\n",
              "      fill: #1967D2;\n",
              "      height: 32px;\n",
              "      padding: 0 0 0 0;\n",
              "      width: 32px;\n",
              "    }\n",
              "\n",
              "    .colab-df-convert:hover {\n",
              "      background-color: #E2EBFA;\n",
              "      box-shadow: 0px 1px 2px rgba(60, 64, 67, 0.3), 0px 1px 3px 1px rgba(60, 64, 67, 0.15);\n",
              "      fill: #174EA6;\n",
              "    }\n",
              "\n",
              "    .colab-df-buttons div {\n",
              "      margin-bottom: 4px;\n",
              "    }\n",
              "\n",
              "    [theme=dark] .colab-df-convert {\n",
              "      background-color: #3B4455;\n",
              "      fill: #D2E3FC;\n",
              "    }\n",
              "\n",
              "    [theme=dark] .colab-df-convert:hover {\n",
              "      background-color: #434B5C;\n",
              "      box-shadow: 0px 1px 3px 1px rgba(0, 0, 0, 0.15);\n",
              "      filter: drop-shadow(0px 1px 2px rgba(0, 0, 0, 0.3));\n",
              "      fill: #FFFFFF;\n",
              "    }\n",
              "  </style>\n",
              "\n",
              "    <script>\n",
              "      const buttonEl =\n",
              "        document.querySelector('#df-ae438c6d-338d-4294-928f-eda5d6f6aca3 button.colab-df-convert');\n",
              "      buttonEl.style.display =\n",
              "        google.colab.kernel.accessAllowed ? 'block' : 'none';\n",
              "\n",
              "      async function convertToInteractive(key) {\n",
              "        const element = document.querySelector('#df-ae438c6d-338d-4294-928f-eda5d6f6aca3');\n",
              "        const dataTable =\n",
              "          await google.colab.kernel.invokeFunction('convertToInteractive',\n",
              "                                                    [key], {});\n",
              "        if (!dataTable) return;\n",
              "\n",
              "        const docLinkHtml = 'Like what you see? Visit the ' +\n",
              "          '<a target=\"_blank\" href=https://colab.research.google.com/notebooks/data_table.ipynb>data table notebook</a>'\n",
              "          + ' to learn more about interactive tables.';\n",
              "        element.innerHTML = '';\n",
              "        dataTable['output_type'] = 'display_data';\n",
              "        await google.colab.output.renderOutput(dataTable, element);\n",
              "        const docLink = document.createElement('div');\n",
              "        docLink.innerHTML = docLinkHtml;\n",
              "        element.appendChild(docLink);\n",
              "      }\n",
              "    </script>\n",
              "  </div>\n",
              "\n",
              "\n",
              "<div id=\"df-4c7027cb-adad-4b62-99ec-56e8ce1a67dd\">\n",
              "  <button class=\"colab-df-quickchart\" onclick=\"quickchart('df-4c7027cb-adad-4b62-99ec-56e8ce1a67dd')\"\n",
              "            title=\"Suggest charts.\"\n",
              "            style=\"display:none;\">\n",
              "\n",
              "<svg xmlns=\"http://www.w3.org/2000/svg\" height=\"24px\"viewBox=\"0 0 24 24\"\n",
              "     width=\"24px\">\n",
              "    <g>\n",
              "        <path d=\"M19 3H5c-1.1 0-2 .9-2 2v14c0 1.1.9 2 2 2h14c1.1 0 2-.9 2-2V5c0-1.1-.9-2-2-2zM9 17H7v-7h2v7zm4 0h-2V7h2v10zm4 0h-2v-4h2v4z\"/>\n",
              "    </g>\n",
              "</svg>\n",
              "  </button>\n",
              "\n",
              "<style>\n",
              "  .colab-df-quickchart {\n",
              "      --bg-color: #E8F0FE;\n",
              "      --fill-color: #1967D2;\n",
              "      --hover-bg-color: #E2EBFA;\n",
              "      --hover-fill-color: #174EA6;\n",
              "      --disabled-fill-color: #AAA;\n",
              "      --disabled-bg-color: #DDD;\n",
              "  }\n",
              "\n",
              "  [theme=dark] .colab-df-quickchart {\n",
              "      --bg-color: #3B4455;\n",
              "      --fill-color: #D2E3FC;\n",
              "      --hover-bg-color: #434B5C;\n",
              "      --hover-fill-color: #FFFFFF;\n",
              "      --disabled-bg-color: #3B4455;\n",
              "      --disabled-fill-color: #666;\n",
              "  }\n",
              "\n",
              "  .colab-df-quickchart {\n",
              "    background-color: var(--bg-color);\n",
              "    border: none;\n",
              "    border-radius: 50%;\n",
              "    cursor: pointer;\n",
              "    display: none;\n",
              "    fill: var(--fill-color);\n",
              "    height: 32px;\n",
              "    padding: 0;\n",
              "    width: 32px;\n",
              "  }\n",
              "\n",
              "  .colab-df-quickchart:hover {\n",
              "    background-color: var(--hover-bg-color);\n",
              "    box-shadow: 0 1px 2px rgba(60, 64, 67, 0.3), 0 1px 3px 1px rgba(60, 64, 67, 0.15);\n",
              "    fill: var(--button-hover-fill-color);\n",
              "  }\n",
              "\n",
              "  .colab-df-quickchart-complete:disabled,\n",
              "  .colab-df-quickchart-complete:disabled:hover {\n",
              "    background-color: var(--disabled-bg-color);\n",
              "    fill: var(--disabled-fill-color);\n",
              "    box-shadow: none;\n",
              "  }\n",
              "\n",
              "  .colab-df-spinner {\n",
              "    border: 2px solid var(--fill-color);\n",
              "    border-color: transparent;\n",
              "    border-bottom-color: var(--fill-color);\n",
              "    animation:\n",
              "      spin 1s steps(1) infinite;\n",
              "  }\n",
              "\n",
              "  @keyframes spin {\n",
              "    0% {\n",
              "      border-color: transparent;\n",
              "      border-bottom-color: var(--fill-color);\n",
              "      border-left-color: var(--fill-color);\n",
              "    }\n",
              "    20% {\n",
              "      border-color: transparent;\n",
              "      border-left-color: var(--fill-color);\n",
              "      border-top-color: var(--fill-color);\n",
              "    }\n",
              "    30% {\n",
              "      border-color: transparent;\n",
              "      border-left-color: var(--fill-color);\n",
              "      border-top-color: var(--fill-color);\n",
              "      border-right-color: var(--fill-color);\n",
              "    }\n",
              "    40% {\n",
              "      border-color: transparent;\n",
              "      border-right-color: var(--fill-color);\n",
              "      border-top-color: var(--fill-color);\n",
              "    }\n",
              "    60% {\n",
              "      border-color: transparent;\n",
              "      border-right-color: var(--fill-color);\n",
              "    }\n",
              "    80% {\n",
              "      border-color: transparent;\n",
              "      border-right-color: var(--fill-color);\n",
              "      border-bottom-color: var(--fill-color);\n",
              "    }\n",
              "    90% {\n",
              "      border-color: transparent;\n",
              "      border-bottom-color: var(--fill-color);\n",
              "    }\n",
              "  }\n",
              "</style>\n",
              "\n",
              "  <script>\n",
              "    async function quickchart(key) {\n",
              "      const quickchartButtonEl =\n",
              "        document.querySelector('#' + key + ' button');\n",
              "      quickchartButtonEl.disabled = true;  // To prevent multiple clicks.\n",
              "      quickchartButtonEl.classList.add('colab-df-spinner');\n",
              "      try {\n",
              "        const charts = await google.colab.kernel.invokeFunction(\n",
              "            'suggestCharts', [key], {});\n",
              "      } catch (error) {\n",
              "        console.error('Error during call to suggestCharts:', error);\n",
              "      }\n",
              "      quickchartButtonEl.classList.remove('colab-df-spinner');\n",
              "      quickchartButtonEl.classList.add('colab-df-quickchart-complete');\n",
              "    }\n",
              "    (() => {\n",
              "      let quickchartButtonEl =\n",
              "        document.querySelector('#df-4c7027cb-adad-4b62-99ec-56e8ce1a67dd button');\n",
              "      quickchartButtonEl.style.display =\n",
              "        google.colab.kernel.accessAllowed ? 'block' : 'none';\n",
              "    })();\n",
              "  </script>\n",
              "</div>\n",
              "    </div>\n",
              "  </div>\n"
            ]
          },
          "metadata": {},
          "execution_count": 39
        }
      ]
    },
    {
      "cell_type": "markdown",
      "source": [
        "# Histograma 4: Relacion entre score compound y stars"
      ],
      "metadata": {
        "id": "_fJRgnKjrPL_"
      }
    },
    {
      "cell_type": "code",
      "source": [
        "ax = sns.barplot(data=merged_vader, x='stars_x', y='compound', color='Blue')\n",
        "ax.set_title(\"Compound Stars by Rewiew\")\n",
        "plt.show()"
      ],
      "metadata": {
        "colab": {
          "base_uri": "https://localhost:8080/",
          "height": 477
        },
        "id": "WV2SnKS_37hI",
        "outputId": "2df977ad-a252-4f28-d907-a9b11d28d2a1"
      },
      "execution_count": 40,
      "outputs": [
        {
          "output_type": "display_data",
          "data": {
            "text/plain": [
              "<Figure size 640x480 with 1 Axes>"
            ],
            "image/png": "[encoded data removed]"
          },
          "metadata": {}
        }
      ]
    },
    {
      "cell_type": "markdown",
      "source": [
        "La relacion que encontramos es positiva, ya que a medida que el numero de estrellas de un restaurante aumenta el score compound lo hace tambien.\n",
        "\n",
        "Lo anterior implica que si un restaurant tiene 5 estrellas es mas posible que tenga mejor aceptacion o comentarios positivos."
      ],
      "metadata": {
        "id": "OuOPeGVvrbEE"
      }
    },
    {
      "cell_type": "markdown",
      "source": [
        "# Histograma 5: Relacion entre stars y scores (positive, neutral y negative)"
      ],
      "metadata": {
        "id": "v8J33B7brwkO"
      }
    },
    {
      "cell_type": "code",
      "source": [
        "palettese = [\"#1F77B4\", \"#FF7F0E\", \"#2CA02C\", \"#D62728\", \"#9467BD\"]\n",
        "\n",
        "fig, axs = plt.subplots(1, 3, figsize=(12, 3))\n",
        "sns.set_palette(palettese)\n",
        "sns.barplot(data=merged_vader, x='stars_x', y='pos', ax=axs[0], color='Blue')\n",
        "sns.barplot(data=merged_vader, x='stars_x', y='neu', ax=axs[1], color='Blue')\n",
        "sns.barplot(data=merged_vader, x='stars_x', y='neg', ax=axs[2], color='Blue')\n",
        "axs[0].set_title('Positive')\n",
        "axs[1].set_title('Neutral')\n",
        "axs[2].set_title('Negative')\n",
        "\n",
        "sns.despine(left=True, right=True)\n",
        "plt.tight_layout()\n",
        "plt.show()"
      ],
      "metadata": {
        "colab": {
          "base_uri": "https://localhost:8080/",
          "height": 307
        },
        "id": "pkKr1taw5dF5",
        "outputId": "23d6eaae-f7d5-403d-905d-116450b7031e"
      },
      "execution_count": 41,
      "outputs": [
        {
          "output_type": "display_data",
          "data": {
            "text/plain": [
              "<Figure size 1200x300 with 3 Axes>"
            ],
            "image/png": "[encoded data removed]"
          },
          "metadata": {}
        }
      ]
    },
    {
      "cell_type": "markdown",
      "source": [
        "La relacion entre stars y score positivo es directa. Mas estrellas mayores comentarios positivos.\n",
        "\n",
        "La relacion entre stars y score negative es inversa. Mas extrellas menores comentarios negativos.\n",
        "\n",
        "De acuerdo al histograma no podemos concluir la relacion entre stars y score neutro."
      ],
      "metadata": {
        "id": "YVPkM5WhsBSh"
      }
    },
    {
      "cell_type": "markdown",
      "source": [],
      "metadata": {
        "id": "LvYvTgkYJ6fI"
      }
    },
    {
      "cell_type": "code",
      "source": [
        "# Sentimiento positivo: El score mas positivo (vader no esta entrenado para diferenciar el sarcasmo)\n",
        "\n",
        "# De acuerdo al feedback\n",
        "\n",
        "merged_vader.query('feedback == 1').sort_values('pos', ascending=False)['text'].values[0]"
      ],
      "metadata": {
        "colab": {
          "base_uri": "https://localhost:8080/",
          "height": 35
        },
        "id": "bmqKV3efhAhd",
        "outputId": "452c370f-ce84-41be-f02c-d749694bf8c6"
      },
      "execution_count": 42,
      "outputs": [
        {
          "output_type": "execute_result",
          "data": {
            "text/plain": [
              "'Great'"
            ],
            "application/vnd.google.colaboratory.intrinsic+json": {
              "type": "string"
            }
          },
          "metadata": {},
          "execution_count": 42
        }
      ]
    },
    {
      "cell_type": "code",
      "source": [
        "# De acuerdo al stars\n",
        "\n",
        "merged_vader.query('stars_x == 5').sort_values('pos', ascending=False)['text'].values[0]"
      ],
      "metadata": {
        "colab": {
          "base_uri": "https://localhost:8080/",
          "height": 35
        },
        "id": "jRd9QmmRhEay",
        "outputId": "9dc4e205-1b1e-479c-bf41-82e940135330"
      },
      "execution_count": 43,
      "outputs": [
        {
          "output_type": "execute_result",
          "data": {
            "text/plain": [
              "'Well prepared, creative, fresh food in a casual fun atmosphere.  Good drinks.  Great prices.'"
            ],
            "application/vnd.google.colaboratory.intrinsic+json": {
              "type": "string"
            }
          },
          "metadata": {},
          "execution_count": 43
        }
      ]
    },
    {
      "cell_type": "code",
      "source": [
        "# Sentimiento negativo: score mas negativo\n",
        "\n",
        "# De acuerdo a feedback\n",
        "\n",
        "merged_vader.query('feedback == 0').sort_values('neg', ascending=False)['text'].values[0]"
      ],
      "metadata": {
        "colab": {
          "base_uri": "https://localhost:8080/",
          "height": 35
        },
        "id": "WOXjluYYhHWi",
        "outputId": "0a2aa513-1644-4ad2-9f7d-c4c5d7e418be"
      },
      "execution_count": 44,
      "outputs": [
        {
          "output_type": "execute_result",
          "data": {
            "text/plain": [
              "'Much better than Walmart down the street.\\n\\nZzz zzz zzz zzz zzz zzz zzz zzz zzz zzz zzz zzz zzz zzz zzz zzz zzz zzz zzz zzz zzz zzz zzz zzz zzz zzz zzz zzz zzz zzz zzz'"
            ],
            "application/vnd.google.colaboratory.intrinsic+json": {
              "type": "string"
            }
          },
          "metadata": {},
          "execution_count": 44
        }
      ]
    },
    {
      "cell_type": "code",
      "source": [
        "# De acuerdo a stars\n",
        "\n",
        "merged_vader.query('stars_x == 1').sort_values('neg', ascending=False)['text'].values[0]"
      ],
      "metadata": {
        "colab": {
          "base_uri": "https://localhost:8080/",
          "height": 35
        },
        "id": "1EogBw8yhJ9R",
        "outputId": "067205a9-db4e-4e2c-e013-781484a60d09"
      },
      "execution_count": 45,
      "outputs": [
        {
          "output_type": "execute_result",
          "data": {
            "text/plain": [
              "'We came-we saw-we left :-|\\nHorrible! Worst! Smelly! Disgusting!'"
            ],
            "application/vnd.google.colaboratory.intrinsic+json": {
              "type": "string"
            }
          },
          "metadata": {},
          "execution_count": 45
        }
      ]
    },
    {
      "cell_type": "markdown",
      "source": [
        "# **II. Modelos de Clasificacion**\n",
        "\n"
      ],
      "metadata": {
        "id": "D7Et1rR-_AQI"
      }
    },
    {
      "cell_type": "markdown",
      "source": [
        "Preprocesamos los datos"
      ],
      "metadata": {
        "id": "fcSC9OkPK8F2"
      }
    },
    {
      "cell_type": "code",
      "source": [
        "import re\n",
        "import nltk\n",
        "from nltk.corpus import stopwords\n",
        "from nltk.stem.porter import PorterStemmer\n",
        "from sklearn.feature_extraction.text import CountVectorizer\n",
        "from sklearn.model_selection import (train_test_split,\n",
        "                                     #TimeSeriesSplit,\n",
        "                                     KFold,\n",
        "                                     StratifiedKFold,\n",
        "                                     #GroupKFold,\n",
        "                                     #StratifiedGroupKFold,\n",
        "                                     )\n",
        "from sklearn.ensemble import RandomForestClassifier\n",
        "from sklearn.metrics import confusion_matrix\n",
        "\n",
        "from sklearn.metrics import roc_auc_score, accuracy_score, precision_score, recall_score, f1_score\n",
        "\n",
        "# Function para preprocesamiento de la columna text\n",
        "def preprocess_text(text):\n",
        "    text = re.sub('[^a-zA-Z]', ' ', text)\n",
        "    text = text.lower()\n",
        "    text = text.split()\n",
        "    ps = PorterStemmer()\n",
        "    text = [ps.stem(word) for word in text if not word in set(stopwords.words('english'))]\n",
        "    text = ' '.join(text)\n",
        "    return text\n",
        "\n",
        "# Preprocesamos todas las filas de columna text con la funcion\n",
        "corpus = [preprocess_text(text) for text in merged_vader['text']]\n",
        "\n",
        "# Creamos nuestros datasets para ser alimentados en los modelos\n",
        "cv = CountVectorizer(max_features=2000) # max_features = 2000 +  ver histograma 1\n",
        "X = cv.fit_transform(corpus).toarray()  # This works like FEATURES!!\n",
        "y = merged_vader['feedback'].values  # This is my TARGET!\n",
        "\n"
      ],
      "metadata": {
        "id": "IlGFGDaJUvyX"
      },
      "execution_count": 46,
      "outputs": []
    },
    {
      "cell_type": "markdown",
      "source": [
        "## Dividiendo nuestros datos en datos de entrenamiento (train data) y datos de prueba (holdout_data)"
      ],
      "metadata": {
        "id": "rIA4uqAljmwZ"
      }
    },
    {
      "cell_type": "code",
      "source": [
        "X_train, X_test, y_train, y_test = train_test_split(X, y, test_size = 0.20, random_state = 0)"
      ],
      "metadata": {
        "id": "HqpzX2PYjrDH"
      },
      "execution_count": 47,
      "outputs": []
    },
    {
      "cell_type": "markdown",
      "source": [
        "## **II.1 Randomforestclassifier**"
      ],
      "metadata": {
        "id": "dpsSYUqVDvxp"
      }
    },
    {
      "cell_type": "code",
      "source": [
        "# Fit/train/shape the Random Forest classifier to the Training set\n",
        "classifier = RandomForestClassifier(n_estimators = 100, criterion = 'entropy', random_state = 0)\n",
        "classifier.fit(X_train, y_train)\n",
        "\n",
        "# Predict the Test set results\n",
        "y_pred_randf = classifier.predict(X_test)"
      ],
      "metadata": {
        "id": "Ej0SK654Drlf"
      },
      "execution_count": 48,
      "outputs": []
    },
    {
      "cell_type": "code",
      "source": [
        "# ACCURACY en el modelo de entrenamiento\n",
        "y_pred_train = classifier.predict(X_train)\n",
        "y_pred_train_probability = classifier.predict_proba(X_train)[:,1] # Este ultimo termino porque predict_proba da las probabilidades de 0 y 1, queremos el segundo\n",
        "\n",
        "acc_score = accuracy_score(y_train, y_pred_train)\n",
        "auc_score = roc_auc_score(y_train, y_pred_train_probability)\n",
        "\n",
        "print(f'El score del training set  en ACCURACY is: {acc_score:0.4f} y AUC de  {auc_score:0.4f}')"
      ],
      "metadata": {
        "id": "qex5l530-hEl",
        "colab": {
          "base_uri": "https://localhost:8080/"
        },
        "outputId": "ca648f63-a7c5-46aa-a948-e6927c579ed3"
      },
      "execution_count": 49,
      "outputs": [
        {
          "output_type": "stream",
          "name": "stdout",
          "text": [
            "El score del training set  en ACCURACY is: 1.0000 y AUC de  1.0000\n"
          ]
        }
      ]
    },
    {
      "cell_type": "code",
      "source": [
        "# Aplicamos el modelo en la muestra test (COMO SI PUSIERAMOS EN PRODUCCION y TRATARAMOS DE USARLO CON DATOS NUEVOS)\n",
        "\n",
        "y_pred_test = classifier.predict(X_test)\n",
        "y_pred_test_probability = classifier.predict_proba(X_test)[:,1] # Este ultimo termino porque predict_proba da las probabilidades de 0 y 1, queremos el segundo\n",
        "\n",
        "\n",
        "acc_score = accuracy_score(y_test, y_pred_test)\n",
        "auc_score = roc_auc_score(y_test, y_pred_test_probability)\n",
        "\n",
        "print(f'El score del test set  en ACCURACY is: {acc_score:0.4f} y AUC de  {auc_score:0.4f}')"
      ],
      "metadata": {
        "id": "yc1SKU3sIc_A",
        "colab": {
          "base_uri": "https://localhost:8080/"
        },
        "outputId": "a219e2fe-e8c8-4e15-85d2-494fbfd84aaf"
      },
      "execution_count": 50,
      "outputs": [
        {
          "output_type": "stream",
          "name": "stdout",
          "text": [
            "El score del test set  en ACCURACY is: 0.9030 y AUC de  0.9357\n"
          ]
        }
      ]
    },
    {
      "cell_type": "code",
      "source": [
        "# LINEA BASE\n",
        "# MEDIMOS LA CAPACIDAD DE PREDECIR CEROS Y SU AUC(QUE TAN ACERTADOS SON LAS PREDICCIONES en terminos de probabilidades)\n",
        "accuracy_score(y_test, np.zeros_like(y_test)), roc_auc_score(y_test, np.zeros_like(y_test))\n"
      ],
      "metadata": {
        "id": "4YOhHRrrJABN",
        "colab": {
          "base_uri": "https://localhost:8080/"
        },
        "outputId": "49b2f12b-cf26-4bb5-ba1a-6ffb4a27d973"
      },
      "execution_count": 51,
      "outputs": [
        {
          "output_type": "execute_result",
          "data": {
            "text/plain": [
              "(0.15656626506024096, 0.5)"
            ]
          },
          "metadata": {},
          "execution_count": 51
        }
      ]
    },
    {
      "cell_type": "markdown",
      "source": [
        "El accuracy del modelo test(produccion) es 90.30% mayor q el accuracy de linea base 15.66% y su AUC de 93.57(lo que predice es correcto) es mejor q 0.5(a este nivel predice de manera random) del modelo linea base  por tanto el modelo predice bien en un 90% de los casos."
      ],
      "metadata": {
        "id": "Mwxmu72pJmwu"
      }
    },
    {
      "cell_type": "markdown",
      "source": [
        "# **II.1.1 Reporte de classificacion sin cross validation para Randomforestclassifier**\n",
        " **accuracy, precision, recall, and F1-score**"
      ],
      "metadata": {
        "id": "ogW08eIBPvPT"
      }
    },
    {
      "cell_type": "code",
      "source": [
        "# Los y_test funcionan como los verdaderos valores (y_true)\n",
        "\n",
        "# Confusion matrix\n",
        "cm = confusion_matrix(y_test, y_pred_randf)\n",
        "print(cm)\n",
        "\n",
        "# Accuracy\n",
        "accuracy = accuracy_score(y_test, y_pred_randf)\n",
        "\n",
        "# Precision\n",
        "precision = precision_score(y_test, y_pred_randf)\n",
        "\n",
        "# Recall\n",
        "recall = recall_score(y_test, y_pred_randf)\n",
        "\n",
        "# F1-score\n",
        "f1 = f1_score(y_test, y_pred_randf)\n",
        "\n",
        "print(f\"Accuracy: {accuracy:0.4f} nivel de predicciones correctas (del total de predicciones).\")\n",
        "print(f\"Precision: {precision:0.4f} nivel de identificacion de SÓLO elementos relevantes(de true positive y false positive).\")\n",
        "print(f\"Recall: {recall:0.4f} nivel elementos relevantes seleccionados en la muestra(Dentro de todos los positivos(true positives and false negatives)).\")\n",
        "print(f\"F1-score: {f1:0.4f} nivel de performance del modelo sobre la muestra (1 indica excelente precision y recall del modelo).\")"
      ],
      "metadata": {
        "id": "42NClLs1Pof0",
        "colab": {
          "base_uri": "https://localhost:8080/"
        },
        "outputId": "c4d66035-10b0-496c-ec27-bff8a53dedf3"
      },
      "execution_count": 52,
      "outputs": [
        {
          "output_type": "stream",
          "name": "stdout",
          "text": [
            "[[ 1302  1297]\n",
            " [  313 13688]]\n",
            "Accuracy: 0.9030 nivel de predicciones correctas (del total de predicciones).\n",
            "Precision: 0.9134 nivel de identificacion de SÓLO elementos relevantes(de true positive y false positive).\n",
            "Recall: 0.9776 nivel elementos relevantes seleccionados en la muestra(Dentro de todos los positivos(true positives and false negatives)).\n",
            "F1-score: 0.9445 nivel de performance del modelo sobre la muestra (1 indica excelente precision y recall del modelo).\n"
          ]
        }
      ]
    },
    {
      "cell_type": "markdown",
      "source": [
        "# **II.1.2 Cross Validation para Randomforestclassifier**"
      ],
      "metadata": {
        "id": "LSchoQpme7N0"
      }
    },
    {
      "cell_type": "code",
      "source": [
        "# X e y son NumPy arrays!!\n",
        "X_d = pd.DataFrame(X) # Convertimos X a DataFrame\n",
        "y_s = pd.Series(y)  # Convertimos y a Series\n",
        "\n",
        "# Instanciamos StratifiedKFold\n",
        "skf = StratifiedKFold(n_splits=5, shuffle=True, random_state=42)\n",
        "\n",
        "fold = 0\n",
        "aucs = []\n",
        "\n",
        "for train_idx, test_idx in skf.split(X_d, y_s):\n",
        "    X_train = X_d.loc[train_idx]\n",
        "    y_train = y_s[train_idx]  # Usar y_s como Series aqui\n",
        "\n",
        "    X_test = X_d.loc[test_idx]\n",
        "    y_test = y_s[test_idx]  # Usar y_s como Series aqui\n",
        "\n",
        "    clf = RandomForestClassifier(n_estimators = 100, criterion = 'entropy', random_state = 0)\n",
        "    clf.fit(X_train, y_train)\n",
        "\n",
        "    # Let's PREDICT on the test set\n",
        "    pred = clf.predict(X_test)\n",
        "    pred_prob = clf.predict_proba(X_test)[:, 1]\n",
        "\n",
        "    acc_score = accuracy_score(y_test, pred)\n",
        "    auc_score = roc_auc_score(y_test, pred_prob)\n",
        "\n",
        "    print(f'==========Fold {fold} ==========')\n",
        "    print(f'Test set ACCURACY: {acc_score:0.4f} and AUC: {auc_score:0.4f}')\n",
        "\n",
        "    fold += 1\n",
        "    aucs.append(auc_score)\n",
        "mean_fold_auc = np.mean(aucs)\n",
        "print(f'La MEDIA AUC es: {mean_fold_auc:0.4f}')"
      ],
      "metadata": {
        "id": "drNV70QPfZy0",
        "colab": {
          "base_uri": "https://localhost:8080/"
        },
        "outputId": "490edee4-e06b-4225-ffe0-578656ca0407"
      },
      "execution_count": 53,
      "outputs": [
        {
          "output_type": "stream",
          "name": "stdout",
          "text": [
            "==========Fold 0 ==========\n",
            "Test set ACCURACY: 0.9064 and AUC: 0.9415\n",
            "==========Fold 1 ==========\n",
            "Test set ACCURACY: 0.9047 and AUC: 0.9364\n",
            "==========Fold 2 ==========\n",
            "Test set ACCURACY: 0.9037 and AUC: 0.9358\n",
            "==========Fold 3 ==========\n",
            "Test set ACCURACY: 0.9069 and AUC: 0.9419\n",
            "==========Fold 4 ==========\n",
            "Test set ACCURACY: 0.9027 and AUC: 0.9355\n",
            "La MEDIA AUC es: 0.9382\n"
          ]
        }
      ]
    },
    {
      "cell_type": "markdown",
      "source": [
        "## **II.2 LGBMClassifier**"
      ],
      "metadata": {
        "id": "YnHKCdpWDdD3"
      }
    },
    {
      "cell_type": "code",
      "source": [
        "#pip install lightgbm"
      ],
      "metadata": {
        "id": "1_OamBNl9VJP"
      },
      "execution_count": 54,
      "outputs": []
    },
    {
      "cell_type": "code",
      "source": [
        "import lightgbm as lgb\n",
        "\n",
        "clf = lgb.LGBMClassifier(n_estimators=100)\n",
        "clf.fit(X,y)\n",
        "\n",
        "# let's PREDICT on training set\n",
        "\n",
        "pred = clf.predict(X_train)\n",
        "pred_prob = clf.predict_proba(X_train)"
      ],
      "metadata": {
        "id": "Syqa3MGTu1lQ",
        "colab": {
          "base_uri": "https://localhost:8080/"
        },
        "outputId": "7ed67f99-b3e3-4df0-e035-a23bb2da9eee"
      },
      "execution_count": 55,
      "outputs": [
        {
          "output_type": "stream",
          "name": "stdout",
          "text": [
            "[LightGBM] [Info] Number of positive: 70056, number of negative: 12944\n",
            "[LightGBM] [Warning] Auto-choosing row-wise multi-threading, the overhead of testing was 2.018569 seconds.\n",
            "You can set `force_row_wise=true` to remove the overhead.\n",
            "And if memory is not enough, you can set `force_col_wise=true`.\n",
            "[LightGBM] [Info] Total Bins 11716\n",
            "[LightGBM] [Info] Number of data points in the train set: 83000, number of used features: 2000\n",
            "[LightGBM] [Info] [binary:BoostFromScore]: pavg=0.844048 -> initscore=1.688663\n",
            "[LightGBM] [Info] Start training from score 1.688663\n"
          ]
        }
      ]
    },
    {
      "cell_type": "code",
      "source": [
        "# We just want to find the probabilities of positive cases (1)\n",
        "\n",
        "pred_prob = clf.predict_proba(X_train)[:,1]"
      ],
      "metadata": {
        "id": "ou7veOXc-Ore"
      },
      "execution_count": 56,
      "outputs": []
    },
    {
      "cell_type": "code",
      "source": [
        "pred_prob"
      ],
      "metadata": {
        "id": "Fx1lgla1-I7k",
        "colab": {
          "base_uri": "https://localhost:8080/"
        },
        "outputId": "7b075891-995b-453b-b11c-b43d28b59472"
      },
      "execution_count": 57,
      "outputs": [
        {
          "output_type": "execute_result",
          "data": {
            "text/plain": [
              "array([0.764861  , 0.75425627, 0.99169274, ..., 0.99664189, 0.78824495,\n",
              "       0.08154016])"
            ]
          },
          "metadata": {},
          "execution_count": 57
        }
      ]
    },
    {
      "cell_type": "code",
      "source": [
        "acc_score = accuracy_score(y_train, pred)\n",
        "auc_score = roc_auc_score(y_train, pred_prob)\n",
        "\n",
        "print(f'El score del training set  en ACCURACY is: {acc_score:0.4f} y AUC de  {auc_score:0.4f}')"
      ],
      "metadata": {
        "id": "jBsLdMi8_txM",
        "colab": {
          "base_uri": "https://localhost:8080/"
        },
        "outputId": "17fb70c9-22e6-47ec-814e-b9a18b7825f8"
      },
      "execution_count": 58,
      "outputs": [
        {
          "output_type": "stream",
          "name": "stdout",
          "text": [
            "El score del training set  en ACCURACY is: 0.9291 y AUC de  0.9638\n"
          ]
        }
      ]
    },
    {
      "cell_type": "code",
      "source": [
        "  # ON TEST SET\n",
        "\n",
        "pred_t = clf.predict(X_test)\n",
        "pred_prob = clf.predict_proba(X_test)[:,1]\n",
        "acc_score = accuracy_score(y_test, pred_t)\n",
        "auc_score = roc_auc_score(y_test, pred_prob)\n",
        "\n",
        "print(f'El score del training set  en ACCURACY is: {acc_score:0.4f} y AUC de  {auc_score:0.4f}')\n",
        "\n"
      ],
      "metadata": {
        "id": "vpEdubsxE9pe",
        "colab": {
          "base_uri": "https://localhost:8080/"
        },
        "outputId": "2903f3d3-964c-4fef-c87e-fa5c6b12d395"
      },
      "execution_count": 59,
      "outputs": [
        {
          "output_type": "stream",
          "name": "stdout",
          "text": [
            "El score del training set  en ACCURACY is: 0.9268 y AUC de  0.9615\n"
          ]
        }
      ]
    },
    {
      "cell_type": "markdown",
      "source": [
        "Necesitamos compara con una linea de base(Baseline) para ver si el modelo en produccion (modelo aplicado a test set) sigue prediciendo correctamente si asumieramos que tiene que predecir todos los resultados negativos(0,  np.zeros_like(y_test))."
      ],
      "metadata": {
        "id": "hYPp8U_7G-e4"
      }
    },
    {
      "cell_type": "code",
      "source": [
        "# Linea base\n",
        "\n",
        "accuracy_score(y_test, np.zeros_like(y_test)), roc_auc_score(y_test, np.zeros_like(y_test))\n"
      ],
      "metadata": {
        "id": "IBGuJatPHZTz",
        "colab": {
          "base_uri": "https://localhost:8080/"
        },
        "outputId": "f82d98cb-a65b-486a-9b0c-25c9f6c17f1f"
      },
      "execution_count": 60,
      "outputs": [
        {
          "output_type": "execute_result",
          "data": {
            "text/plain": [
              "(0.15596385542168675, 0.5)"
            ]
          },
          "metadata": {},
          "execution_count": 60
        }
      ]
    },
    {
      "cell_type": "markdown",
      "source": [
        "Lo que encontramos es que el modelo aplicado a test set tiene un accuracy de 92.68% y el accuracy del modelo linea base tien 15.6% de accuracy lo que permite concluir que el modelo test predice mejor que el de linea base. Esto ultimo demuestra que la prediccion usando LGBM classifier de nuestros targets es bueno."
      ],
      "metadata": {
        "id": "tqCbcNgPIF2o"
      }
    },
    {
      "cell_type": "markdown",
      "source": [
        "# **II.2.1 Reporte de classificacion sin cross validation para LGBMCLASSIFIER**\n",
        "\n",
        " **accuracy, precision, recall, and F1-score**"
      ],
      "metadata": {
        "id": "iyZQd-qYVU5r"
      }
    },
    {
      "cell_type": "code",
      "source": [
        "# Generate the confusion matrix\n",
        "cm = confusion_matrix(y_test, pred_t)\n",
        "print(cm)\n",
        "\n",
        "y_true = y_test\n",
        "\n",
        "# Accuracy\n",
        "accuracy = accuracy_score(y_true, pred_t)\n",
        "\n",
        "# Precision\n",
        "precision = precision_score(y_true, pred_t)\n",
        "\n",
        "# Recall\n",
        "recall = recall_score(y_true, pred_t)\n",
        "\n",
        "# F1-score\n",
        "f1 = f1_score(y_true, pred_t)\n",
        "\n",
        "print(f\"Accuracy: {accuracy:0.4f} nivel de predicciones correctas (del total de predicciones).\")\n",
        "print(f\"Precision: {precision:0.4f} nivel de identificacion de SÓLO elementos relevantes(de true positive y false positive).\")\n",
        "print(f\"Recall: {recall:0.4f} nivel elementos relevantes seleccionados en la muestra(Dentro de todos los positivos(true positives and false negatives)).\")\n",
        "print(f\"F1-score: {f1:0.4f} nivel de performance del modelo sobre la muestra (1 indica excelente precision y recall del modelo).\")"
      ],
      "metadata": {
        "id": "ryr2sQxJVWE3",
        "colab": {
          "base_uri": "https://localhost:8080/"
        },
        "outputId": "777fa024-3cbc-46fd-da3b-2fcd2afcd969"
      },
      "execution_count": 61,
      "outputs": [
        {
          "output_type": "stream",
          "name": "stdout",
          "text": [
            "[[ 1823   766]\n",
            " [  449 13562]]\n",
            "Accuracy: 0.9268 nivel de predicciones correctas (del total de predicciones).\n",
            "Precision: 0.9465 nivel de identificacion de SÓLO elementos relevantes(de true positive y false positive).\n",
            "Recall: 0.9680 nivel elementos relevantes seleccionados en la muestra(Dentro de todos los positivos(true positives and false negatives)).\n",
            "F1-score: 0.9571 nivel de performance del modelo sobre la muestra (1 indica excelente precision y recall del modelo).\n"
          ]
        }
      ]
    },
    {
      "cell_type": "markdown",
      "source": [
        "# **II.2.2 Cross Validation para LGBMclassifier**"
      ],
      "metadata": {
        "id": "H5icRCg9YeQx"
      }
    },
    {
      "cell_type": "code",
      "source": [
        "# La muestra es \"grande\", los target estan muy desbalanceados, por tanto stratified Kfolds\n",
        "\n",
        "skf = StratifiedKFold(n_splits=5, shuffle=True, random_state=529)\n",
        "\n",
        "skf.split(X, y) # This works as a generator"
      ],
      "metadata": {
        "id": "ZGwp6cxgYd0s",
        "colab": {
          "base_uri": "https://localhost:8080/"
        },
        "outputId": "21e45ab2-d2f2-4009-91e9-3f97dfa6a7b1"
      },
      "execution_count": 62,
      "outputs": [
        {
          "output_type": "execute_result",
          "data": {
            "text/plain": [
              "<generator object _BaseKFold.split at 0x79c2811da880>"
            ]
          },
          "metadata": {},
          "execution_count": 62
        }
      ]
    },
    {
      "cell_type": "code",
      "source": [
        "X_dl = pd.DataFrame(X)\n",
        "y_dl = pd.Series(y)\n",
        "\n",
        "skf = StratifiedKFold(n_splits=5, shuffle=True, random_state=42)\n",
        "\n",
        "fold = 0\n",
        "aucs = []\n",
        "\n",
        "for train_idx, test_idx in skf.split(X_dl, y_dl):\n",
        "    X_train = X_dl.loc[train_idx]\n",
        "    y_train = y_dl[train_idx]\n",
        "\n",
        "    X_test = X_dl.loc[test_idx]\n",
        "    y_test = y_dl[test_idx]\n",
        "\n",
        "    clf = lgb.LGBMClassifier(n_estimators=100, force_row_wise=True)\n",
        "    clf.fit(X_train, y_train)\n",
        "\n",
        "    # Let's PREDICT on the test set\n",
        "    pred = clf.predict(X_test)\n",
        "    pred_prob = clf.predict_proba(X_test)[:, 1]\n",
        "\n",
        "    acc_score = accuracy_score(y_test, pred)\n",
        "    auc_score = roc_auc_score(y_test, pred_prob)\n",
        "\n",
        "    print(f'==========Fold {fold} ==========')\n",
        "    print(f'Test set ACCURACY: {acc_score:0.4f} and AUC: {auc_score:0.4f}')\n",
        "\n",
        "    fold += 1\n",
        "    aucs.append(auc_score)\n",
        "mean_fold_auc = np.mean(aucs)\n",
        "print(f'La MEDIA AUC es: {mean_fold_auc:0.4f}')"
      ],
      "metadata": {
        "id": "fX0cKDcQmR5U",
        "colab": {
          "base_uri": "https://localhost:8080/"
        },
        "outputId": "8b5ace37-4759-42c6-9b2d-c318c7789ddf"
      },
      "execution_count": 63,
      "outputs": [
        {
          "output_type": "stream",
          "name": "stdout",
          "text": [
            "[LightGBM] [Info] Number of positive: 56044, number of negative: 10356\n",
            "[LightGBM] [Info] Total Bins 11267\n",
            "[LightGBM] [Info] Number of data points in the train set: 66400, number of used features: 2000\n",
            "[LightGBM] [Info] [binary:BoostFromScore]: pavg=0.844036 -> initscore=1.688571\n",
            "[LightGBM] [Info] Start training from score 1.688571\n",
            "==========Fold 0 ==========\n",
            "Test set ACCURACY: 0.9223 and AUC: 0.9543\n",
            "[LightGBM] [Info] Number of positive: 56045, number of negative: 10355\n",
            "[LightGBM] [Info] Total Bins 11322\n",
            "[LightGBM] [Info] Number of data points in the train set: 66400, number of used features: 2000\n",
            "[LightGBM] [Info] [binary:BoostFromScore]: pavg=0.844051 -> initscore=1.688685\n",
            "[LightGBM] [Info] Start training from score 1.688685\n",
            "==========Fold 1 ==========\n",
            "Test set ACCURACY: 0.9181 and AUC: 0.9514\n",
            "[LightGBM] [Info] Number of positive: 56045, number of negative: 10355\n",
            "[LightGBM] [Info] Total Bins 11314\n",
            "[LightGBM] [Info] Number of data points in the train set: 66400, number of used features: 2000\n",
            "[LightGBM] [Info] [binary:BoostFromScore]: pavg=0.844051 -> initscore=1.688685\n",
            "[LightGBM] [Info] Start training from score 1.688685\n",
            "==========Fold 2 ==========\n",
            "Test set ACCURACY: 0.9187 and AUC: 0.9486\n",
            "[LightGBM] [Info] Number of positive: 56045, number of negative: 10355\n",
            "[LightGBM] [Info] Total Bins 11356\n",
            "[LightGBM] [Info] Number of data points in the train set: 66400, number of used features: 2000\n",
            "[LightGBM] [Info] [binary:BoostFromScore]: pavg=0.844051 -> initscore=1.688685\n",
            "[LightGBM] [Info] Start training from score 1.688685\n",
            "==========Fold 3 ==========\n",
            "Test set ACCURACY: 0.9198 and AUC: 0.9530\n",
            "[LightGBM] [Info] Number of positive: 56045, number of negative: 10355\n",
            "[LightGBM] [Info] Total Bins 11319\n",
            "[LightGBM] [Info] Number of data points in the train set: 66400, number of used features: 2000\n",
            "[LightGBM] [Info] [binary:BoostFromScore]: pavg=0.844051 -> initscore=1.688685\n",
            "[LightGBM] [Info] Start training from score 1.688685\n",
            "==========Fold 4 ==========\n",
            "Test set ACCURACY: 0.9164 and AUC: 0.9491\n",
            "La MEDIA AUC es: 0.9513\n"
          ]
        }
      ]
    },
    {
      "cell_type": "code",
      "source": [
        "np.mean(aucs)"
      ],
      "metadata": {
        "id": "GrayJDMGtWvc",
        "colab": {
          "base_uri": "https://localhost:8080/"
        },
        "outputId": "9711946e-497c-4947-8d86-a38926c2c751"
      },
      "execution_count": 64,
      "outputs": [
        {
          "output_type": "execute_result",
          "data": {
            "text/plain": [
              "0.9512677060105041"
            ]
          },
          "metadata": {},
          "execution_count": 64
        }
      ]
    },
    {
      "cell_type": "markdown",
      "source": [
        "# **III. Conclusiones:**"
      ],
      "metadata": {
        "id": "BX2BqdG3uEqN"
      }
    },
    {
      "cell_type": "markdown",
      "source": [
        "La mayoria de opiniones acerca de restaurants son expresadas con 2000 palabras o menos y la mayoria de opiniones son positivas en 4 de 5 categorias de stars por compound score (ver histograma 1,2 y 4).\n",
        "\n",
        "Una vez realizada la etiquetacion de los resultados de compound de VADER, se puede notar el desbalance de casos positivos (1) y casos negativos (0), lo que sesga la capacidad de prediccion de un modelo de clasificacion (ver histograma 3).\n",
        "\n",
        "Se comprueba la relacion directa que existe (de uno a uno) entre el score compound de Vader, la relacion directa entre el score positivo, la relacion inversa entre score negativo y el rating del restaurant respectivamente (ver histograma 4 y 5).Por ejemplo, si el restaurant tiene numero de estrellas de 1 es mas probable que tenga una mala percepcion o resultado negativo en el analisis de sentimiento.\n",
        "\n",
        "Los comentarios u opiniones(positivas o negativas) en Yelp son mas positivas en su mayoria que en Googlemaps, por ejemplo, solo restaurants de una estrella tienen comentarios negativos, en tanto lo demas todos tienen comentarios positvos.\n",
        "\n",
        "De los modelos de clasificacion usados sin realizar validacion cruzada el score de accuracy es de un 91% en promedio y el AUC promedio de 95%. Despues de realizar la validacion cruzada en promedio(teniendo en cuenta los dos modelos) se obtiene un accuracy de 90% y un AUC de 95%. Lo anterior permite concluir que si pusieramos en produccion el modelo de machine learning para predecir comentarios positivos y negativos de acuerdo a Vader, este ultimo va a producir(asignar scores positivos) un 90% de outputs correctos (opiniones que realmente son positivas) y tendra un 10%  de error en asignar scores(positivos) a los comentarios.\n",
        "\n",
        "Comparando los resultados de yelp con los de google en terminos de accuracy, google presenta un mejor grado de prediccion de opiniones positivas en lo que respecta al valor al que un empresario/ cliente de restaurant podria acceder haciendo uso de los servicios de un restaurant. Los histogramas de ambos en cuanto al rating/stars por score compound muestran que en googlemaps se puede tener un mayor acceso a opiniones negativas tanto como positivas, lo que permite contrastar mejor que tipo de restaurants podrian ofrecer un mayor valor a los clientes y esto mismo podria ser usado para determinar mejoras en el servicio con otros datos complementarios."
      ],
      "metadata": {
        "id": "10KtiZP0uP80"
      }
    }
  ]
}
