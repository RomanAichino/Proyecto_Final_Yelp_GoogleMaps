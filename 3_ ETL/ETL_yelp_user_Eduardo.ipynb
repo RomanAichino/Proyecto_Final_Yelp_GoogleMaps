{
  "nbformat": 4,
  "nbformat_minor": 0,
  "metadata": {
    "colab": {
      "provenance": []
    },
    "kernelspec": {
      "name": "python3",
      "display_name": "Python 3"
    },
    "language_info": {
      "name": "python"
    }
  },
  "cells": [
    {
      "cell_type": "markdown",
      "source": [
        "## ETL : YELP - User\n",
        "Este archivo solo carga informacion de la tabla user.\n",
        "Como pre requisito es necesario:\n",
        "+ tener la tabla yelp_business_florida, que contiene los establecimientos del estado FLORIDA\n",
        "+ tener la tabla yelp_review que contiene la informacion de reviews de establec. del estado FLORIDA\n",
        "\n",
        "Haciendo un cruce de esas dos tablas sabemos que registros de la tabla User debemos considerar en la carga\n",
        "para el analisis del estado FLORIDA."
      ],
      "metadata": {
        "id": "pxFtdph3dBLv"
      }
    },
    {
      "cell_type": "code",
      "source": [
        "from google.colab import drive\n",
        "drive.mount('/content/drive')"
      ],
      "metadata": {
        "colab": {
          "base_uri": "https://localhost:8080/"
        },
        "id": "K5piEA6o-oJo",
        "outputId": "04a98f47-a36d-4cd4-c393-7c7c1301be33"
      },
      "execution_count": null,
      "outputs": [
        {
          "output_type": "stream",
          "name": "stdout",
          "text": [
            "Mounted at /content/drive\n"
          ]
        }
      ]
    },
    {
      "cell_type": "code",
      "source": [
        "def ETL_carga_user(df_user_input, df_yelp_review):\n",
        "  # YELP : carga de informacion user\n",
        "  import pandas as pd\n",
        "  df_user_input = df_user_input[df_user_input['user_id'].isin(df_yelp_review['user_id'])]\n",
        "  # agregamos la cuenta de amigos y de anios en elite\n",
        "  df_user_input['friends_count'] = df_user_input['friends'].apply(lambda x: len(x.split(',')))\n",
        "  df_user_input['elite_count'] = df_user_input['elite'].apply(lambda x: len(x.split(',')))\n",
        "  df_user_input = df_user_input.drop(['elite','friends'], axis=1)\n",
        "  #df_yelp_user.to_csv('/content/drive/MyDrive/Otros/yelp_user.csv', index=False)\n",
        "\n",
        "  # Crear un cliente de BigQuery\n",
        "    client = bigquery.Client(project=\"finalprojectprototype-397114\")\n",
        "\n",
        "    # Cargar el DataFrame en BigQuery\n",
        "    df.to_gbq(destination_table=\"finalprojectprototype-397114.yelp.dim_yelp_user\", project_id=\"finalprojectprototype-397114\", if_exists=\"append\")\n"
      ],
      "metadata": {
        "id": "-AfK_T-X8y7j"
      },
      "execution_count": null,
      "outputs": []
    },
    {
      "cell_type": "code",
      "source": [
        "# Cargamos user\n",
        "import pandas as pd\n",
        "import pyarrow.parquet as pq\n",
        "df_yelp_user_orig =pd.DataFrame()\n",
        "parquet_file = pq.ParquetFile(\"/content/drive/MyDrive/yelp/Copia de user.parquet\")\n",
        "for i in parquet_file.iter_batches(batch_size=10000):\n",
        "      df_chunk = i.to_pandas()\n",
        "      df_yelp_user_orig = pd.concat([df_yelp_user_orig, df_chunk], ignore_index=True)\n",
        "df_yelp_review = pd.read_csv(\"/content/drive/MyDrive/Otros/yelp_review_florida.csv\")\n",
        "\n",
        "df_user_salida = ETL_carga_user(df_yelp_user_orig, df_yelp_review)\n"
      ],
      "metadata": {
        "id": "ldMRF5l4oYsz"
      },
      "execution_count": null,
      "outputs": []
    }
  ]
}