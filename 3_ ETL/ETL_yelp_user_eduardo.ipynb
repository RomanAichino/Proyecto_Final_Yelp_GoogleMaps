{
  "nbformat": 4,
  "nbformat_minor": 0,
  "metadata": {
    "colab": {
      "provenance": []
    },
    "kernelspec": {
      "name": "python3",
      "display_name": "Python 3"
    },
    "language_info": {
      "name": "python"
    }
  },
  "cells": [
    {
      "cell_type": "markdown",
      "source": [
        "## ETL : YELP - User\n",
        "Este archivo solo carga informacion de la tabla user.\n",
        "Como pre requisito es necesario:\n",
        "+ tener la tabla yelp_business_florida, que contiene los establecimientos del estado FLORIDA\n",
        "+ tener la tabla yelp_review que contiene la informacion de reviews de establec. del estado FLORIDA\n",
        "\n",
        "Haciendo un cruce de esas dos tablas sabemos que registros de la tabla User debemos considerar en la carga\n",
        "para el analisis del estado FLORIDA."
      ],
      "metadata": {
        "id": "pxFtdph3dBLv"
      }
    },
    {
      "cell_type": "code",
      "source": [
        "from google.colab import drive\n",
        "drive.mount('/content/drive')"
      ],
      "metadata": {
        "colab": {
          "base_uri": "https://localhost:8080/"
        },
        "id": "K5piEA6o-oJo",
        "outputId": "01f4b249-b00e-496e-eeec-fb1afcc1567e"
      },
      "execution_count": 1,
      "outputs": [
        {
          "output_type": "stream",
          "name": "stdout",
          "text": [
            "Mounted at /content/drive\n"
          ]
        }
      ]
    },
    {
      "cell_type": "code",
      "source": [
        "# Cargamos los reviews de florida\n",
        "import pandas as pd\n",
        "df_yelp_review = pd.read_csv(\"/content/drive/MyDrive/Otros/yelp_review_florida.csv\")"
      ],
      "metadata": {
        "id": "-4hWShHLlUrH"
      },
      "execution_count": null,
      "outputs": []
    },
    {
      "cell_type": "markdown",
      "source": [],
      "metadata": {
        "id": "RDGDOaHh5fOR"
      }
    },
    {
      "cell_type": "code",
      "source": [
        "# YELP : carga de informacion user\n",
        "import pyarrow.parquet as pq\n",
        "import pandas as pd\n",
        "df_yelp_user=pd.DataFrame()\n",
        "parquet_file = pq.ParquetFile(\"/content/drive/MyDrive/yelp/Copia de user.parquet\")\n",
        "for i in parquet_file.iter_batches(batch_size=10000):\n",
        "    df_chunk = i.to_pandas()\n",
        "    df_yelp_user = pd.concat([df_yelp_user, df_chunk], ignore_index=True)"
      ],
      "metadata": {
        "id": "UaE-rQzdJW-R"
      },
      "execution_count": null,
      "outputs": []
    },
    {
      "cell_type": "code",
      "source": [
        "df_yelp_user = df_yelp_user[df_yelp_user['user_id'].isin(df_yelp_review['user_id'])]"
      ],
      "metadata": {
        "id": "LWKliwdeZdBG"
      },
      "execution_count": null,
      "outputs": []
    },
    {
      "cell_type": "code",
      "source": [
        "df_yelp_user['friends_count'] = df_yelp_user['friends'].apply(lambda x: len(x.split(',')))\n",
        "df_yelp_user['elite_count'] = df_yelp_user['elite'].apply(lambda x: len(x.split(',')))\n"
      ],
      "metadata": {
        "id": "kYAgFNcnJ-v6"
      },
      "execution_count": null,
      "outputs": []
    },
    {
      "cell_type": "code",
      "source": [
        "df_yelp_user = df_yelp_user.drop(['elite','friends'], axis=1)"
      ],
      "metadata": {
        "id": "Pl6OTcMSMRJC"
      },
      "execution_count": null,
      "outputs": []
    },
    {
      "cell_type": "code",
      "source": [
        "df_yelp_user.to_csv('/content/drive/MyDrive/Otros/yelp_user.csv', index=False)"
      ],
      "metadata": {
        "id": "GRz_I9VzRjpL"
      },
      "execution_count": null,
      "outputs": []
    }
  ]
}